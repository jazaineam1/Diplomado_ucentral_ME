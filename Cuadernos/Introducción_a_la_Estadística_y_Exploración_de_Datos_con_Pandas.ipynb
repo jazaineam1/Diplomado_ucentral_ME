{
  "cells": [
    {
      "cell_type": "markdown",
      "metadata": {
        "id": "RxGRNRno-6pq"
      },
      "source": [
        "| ![Isaac Zainea](https://raw.githubusercontent.com/Izainea/Izainea.github.io/master/logo.png) | Curso de Introducción a la Analítica de Datos | Isaac Zainea |\n",
        "|:---:|:---:|:---:|"
      ]
    },
    {
      "cell_type": "markdown",
      "metadata": {
        "id": "OfhHe9Tq-6pu"
      },
      "source": [
        "# Introducción a la Estadística y Exploración de Datos con Pandas"
      ]
    },
    {
      "cell_type": "markdown",
      "metadata": {
        "id": "freGQhIa-6pu"
      },
      "source": [
        "## Tabla de Contenidos\n",
        "\n",
        "1. [Introducción y Motivación](#introducción-y-motivación)\n",
        "2. [Objetivos](#objetivos)\n",
        "3. [Sección 1: Conceptos fundamentales de estadística](#sección-1-conceptos-fundamentales-de-estadística)\n",
        "4. [Sección 2: Tipos de datos](#sección-2-tipos-de-datos)\n",
        "5. [Sección 3: Medidas de tendencia central](#sección-3-medidas-de-tendencia-central)\n",
        "6. [Sección 4: Medidas de dispersión](#sección-4-medidas-de-dispersión)\n",
        "8. [Sección 5: Exploración de datos con Pandas](#sección-5-exploración-de-datos-con-pandas)\n"
      ]
    },
    {
      "cell_type": "markdown",
      "metadata": {
        "id": "C3DhJVzC-6pu"
      },
      "source": [
        "## Introducción y Motivación\n",
        "\n",
        "La estadística y la exploración de datos desempeñan un papel fundamental en el análisis de datos y en la toma de decisiones basadas en evidencias. En la era de la información en la que vivimos, la cantidad de datos generados cada día es abrumadora. Estos datos contienen valiosa información que puede ayudarnos a comprender fenómenos, identificar patrones y tomar decisiones informadas.\n",
        "\n",
        "La capacidad de manipular y analizar datos de manera efectiva se ha vuelto esencial en diversos campos, desde la investigación científica hasta el mundo empresarial y gubernamental. Aquí es donde entra en juego la librería Pandas. Pandas es una poderosa herramienta de análisis y manipulación de datos en Python que nos permite realizar tareas como limpieza, transformación y exploración de datos de manera eficiente.\n",
        "\n",
        "En este cuaderno, exploraremos los conceptos fundamentales de la estadística y cómo aplicarlos utilizando la librería Pandas. Aprenderemos sobre las medidas de tendencia central, las medidas de dispersión y las distribuciones de probabilidad. Además, descubriremos cómo Pandas nos permite realizar tareas como la carga y selección de datos, el filtrado y la agregación, y la visualización de datos. Al final de este cuaderno, estarás equipado con los conocimientos necesarios para comenzar a explorar y analizar datos utilizando Pandas."
      ]
    },
    {
      "cell_type": "markdown",
      "metadata": {
        "id": "42wB1uDN-6pv"
      },
      "source": [
        "## Objetivos\n",
        "\n",
        "En este cuaderno, se persiguen los siguientes objetivos:\n",
        "\n",
        "- Comprender los conceptos fundamentales de la estadística y su importancia en el análisis de datos.\n",
        "- Familiarizarse con los diferentes tipos de datos y cómo se manejan en el análisis estadístico.\n",
        "- Conocer las medidas de tendencia central y dispersión utilizadas para describir y resumir los datos.\n",
        "- Aprender a utilizar la librería Pandas para realizar la exploración de datos y manipulación de datos en Python.\n"
      ]
    },
    {
      "cell_type": "markdown",
      "metadata": {
        "id": "Hi48qOCy-6pv"
      },
      "source": [
        "## Sección 1: Conceptos fundamentales de estadística\n",
        "\n",
        "En esta sección, exploraremos los conceptos fundamentales de la estadística y su importancia en el análisis de datos. Comenzaremos por comprender qué es la estadística y cómo se aplica en diferentes campos.\n",
        "\n",
        "### 1.1 ¿Qué es la estadística?\n",
        "\n",
        "La estadística es una disciplina que se encarga de recolectar, organizar, analizar e interpretar datos. Su objetivo es obtener conclusiones y tomar decisiones basadas en evidencias proporcionadas por los datos. La estadística nos permite resumir y describir características de un conjunto de datos, identificar patrones y tendencias, realizar inferencias y estimaciones, y evaluar la incertidumbre asociada a los resultados.\n",
        "\n",
        "### 1.2 Aplicaciones de la estadística\n",
        "\n",
        "La estadística tiene numerosas aplicaciones en diferentes campos, como la investigación científica, la planificación y gestión empresarial, la salud, la economía, la ingeniería, entre otros. En cada uno de estos campos, la estadística ayuda a tomar decisiones informadas y a comprender fenómenos complejos a través del análisis y la interpretación de datos.\n",
        "\n",
        "### 1.3 Métodos estadísticos\n",
        "\n",
        "En el análisis estadístico, se utilizan diversos métodos para recopilar, organizar y analizar los datos. Estos métodos incluyen la recopilación de datos a través de muestreo o experimentación, la aplicación de técnicas de análisis descriptivo y exploratorio, la realización de pruebas de hipótesis y la construcción de modelos estadísticos.\n",
        "\n",
        "### 1.4 Pandas\n",
        "\n",
        "Pandas es una librería popular en Python para el análisis y manipulación de datos. Sus estructuras de datos flexibles, especialmente los DataFrames, son ideales para trabajar con conjuntos de datos tabulares.\n",
        "\n",
        "Razones por las que Pandas es útil en estadística y análisis de datos:\n",
        "\n",
        "1. **Manipulación y limpieza de datos**: Ofrece funciones para limpiar y manipular datos, como eliminar duplicados, manejar valores faltantes y filtrar subconjuntos de datos.\n",
        "\n",
        "2. **Exploración y visualización de datos**: Permite realizar análisis exploratorio y visualizar datos con estadísticas descriptivas, gráficos y análisis de correlación.\n",
        "\n",
        "3. **Análisis estadístico**: Incluye funciones para calcular medidas de tendencia central, dispersión, realizar pruebas de hipótesis y análisis de regresión.\n",
        "\n",
        "4. **Integración con otras librerías**: Se integra fácilmente con NumPy, Matplotlib y librerías especializadas en estadística, como SciPy y StatsModels.\n",
        "\n",
        "A continuación, se muestra una celda de código para importar Pandas y cargar un archivo de datos en un DataFrame:\n",
        "\n",
        "```python\n",
        "import pandas as pd\n",
        "\n",
        "# Cargar archivo de datos en un DataFrame\n",
        "df = pd.read_csv('archivo.csv')\n",
        "\n",
        "# Realizar operaciones y análisis con el DataFrame\n",
        "# ..."
      ]
    },
    {
      "cell_type": "code",
      "execution_count": null,
      "metadata": {
        "id": "NV5TbZyj-6pw"
      },
      "outputs": [],
      "source": [
        "import pandas as pd\n",
        "\n",
        "# Cargamos el dataset de empleados guardado en \"https://raw.githubusercontent.com/Izainea/introduccion-analitica-datos/master/02-estadisticas-basicas-exploracion-datos/datos/datos_empleados.csv\"\n",
        "\n",
        "DF_salarios=pd.read_csv(\"https://raw.githubusercontent.com/Izainea/introduccion-analitica-datos/master/02-estadisticas-basicas-exploracion-datos/datos/datos_empleados.csv\")\n",
        "\n",
        "DF_salarios"
      ]
    },
    {
      "cell_type": "markdown",
      "metadata": {
        "id": "hwEBQcJ8-6px"
      },
      "source": [
        "## Sección 2: Tipos de datos\n",
        "\n",
        "En esta sección, exploraremos los diferentes tipos de datos y cómo se manejan en el análisis estadístico. Comenzaremos por comprender qué es un dato y cómo se clasifican.\n",
        "\n",
        "### 2.1 ¿Qué es un dato?\n",
        "\n",
        "Un dato es una representación simbólica de una cantidad, hecho o concepto. Los datos pueden ser numéricos o categóricos. Los datos numéricos representan cantidades y se pueden expresar en forma de números. Los datos categóricos representan características y se pueden expresar en forma de etiquetas o categorías.\n",
        "\n",
        "### 2.2 Tipos de datos\n",
        "\n",
        "Los datos numéricos se pueden clasificar en dos tipos: datos discretos y datos continuos. Los datos discretos son valores numéricos que se pueden contar, como el número de estudiantes en una clase o el número de autos en un estacionamiento. Los datos continuos son valores numéricos que se pueden medir, como la altura de una persona o la temperatura de un día.\n",
        "\n",
        "Los datos categóricos se pueden clasificar en dos tipos: datos ordinales y datos nominales. Los datos ordinales son valores categóricos que se pueden ordenar o clasificar, como el nivel de educación de una persona o el estado civil. Los datos nominales son valores categóricos que no se pueden ordenar o clasificar, como el género de una persona o el color de un automóvil.\n",
        "\n",
        "\n",
        "### 2.3 Tipos de Variable\n",
        "<img src=\"https://antoninoapp.shinyapps.io/semana2/_w_4c286c0d/www/variable.png\"  width=\"200\" height=\"150\">\n",
        "\n",
        "Existen dos tipos básicos de variables:\n",
        "\n",
        "\n",
        "Cuando la característica que se estudia es de naturaleza no numérica, recibe el nombre de variable **cualitativa** o **atributo**. Algunos ejemplos de variables cualitativas son:\n",
        "\n",
        "1.  Sexo (Masculino, Femenino)<img src=\"https://antoninoapp.shinyapps.io/semana2/_w_4c286c0d/www/hombre.png\"  width=\"40\" height=\"30\"> <img src=\"https://antoninoapp.shinyapps.io/semana2/_w_4c286c0d/www/mujer.png\"  width=\"40\" height=\"30\">\n",
        "2.  Deporte favorito (fútbol, Baloncesto, ...) <img src=\"https://antoninoapp.shinyapps.io/semana2/_w_4c286c0d/www/futbol.png\"  width=\"40\" height=\"30\"><img src=\"https://antoninoapp.shinyapps.io/semana2/_w_4c286c0d/www/baloncesto.png\"  width=\"40\" height=\"30\">\n",
        "\n",
        "Cuando los datos son de naturaleza cualitativa, importa la cantidad o proporción que caen dentro de cada categoría. Por ejemplo, ¿qué porcentaje de mujeres hay?\n",
        "\n",
        "¿Cuántos hinduismos o cuántos islamistas hay en Colombia? ¿Cuántos automóviles deporivos hay en una ciudad?\n",
        "\n",
        "Cuando la variable que se estudia aparece en forma numérica, se le denomina variable **cuantitativa**. Ejemplos de variables cuantitativas son:\n",
        "\n",
        "1.  El saldo en su cuenta de cheques.<img src=\"https://antoninoapp.shinyapps.io/semana2/_w_4c286c0d/www/cheques.png\"  width=\"40\" height=\"30\">\n",
        "2.  Las edades de los presidentes de la compañía.<img src=\"https://antoninoapp.shinyapps.io/semana2/_w_4c286c0d/www/edades.png\"  width=\"40\" height=\"30\">\n",
        "\n",
        "Las variables cuantitativas pueden ser discretas cuanto adoptan sólo ciertos valores y existen vacíos entre ellos. Ejemplos de variables discretas son:\n",
        "\n",
        "1.  El número de camas en una casa (1, 2, 3, 4, $\\dots$).\n",
        "2.  El número de automóviles que en una hora usan la avenida principal.\n",
        "\n",
        "o continuas toman cualquier valor dentro de un intervalo específico. Ejemplos de variables continuas son:\n",
        "\n",
        "1.  La presión del aire en una llanta y el peso de un cargamento de tomates\n",
        "2.  La cantidad de cereal con pasas que contiene una caja y la duración de los vuelos de Orlando a San Diego.\n",
        "\n",
        "Por lo general las variables continuas son el resultado de mediciones.\n",
        "\n",
        "## Escalas de medida\n",
        "\n",
        "<img src=\"https://antoninoapp.shinyapps.io/semana2/_w_4c286c0d/www/escala.png\"  width=\"70\" height=\"40\">\n",
        "\n",
        "Los datos se clasifican por niveles de medición. El nivel de medición de los datos rige los cálculos que se llevan a cabo con el fin de resumir y presentar los datos.\n",
        "\n",
        "Por ejemplo, en una bolsa de M&M hay lunetas de seis diferentes colores. Suponga que asigna el 1 al café, el 2 al amarillo, el 3 al azul, el 4 al naranja, el 5 al verde y el 6 al rojo. Sume la cantidad de lunetas que hay en una bolsa, la divide entre el número de lunetas e informa que el color promedio es 3.56.\n",
        "\n",
        "¿Significa que el color promedio es azul o anaranjado? Desde luego que no. En este caso no se usó de manera adecuada la escala de medida.\n",
        "\n",
        "De hecho, existen cuatro niveles de medición: nominal, ordinal, de intervalo y de razón. La medición más baja, o más primaria, corresponde al nivel nominal. La más alta, o el nivel que proporciona la mayor información relacionada con la observación, es la medición de razón.\n",
        "\n",
        "**Escala Nominal**<img src=\"https://antoninoapp.shinyapps.io/semana2/_w_4c286c0d/www/nombre.png\"  width=\"40\" height=\"30\">\n",
        "\n",
        "En el caso del nivel nominal de medición, las observaciones acerca de una variable cualitativa sólo se clasifican y se cuentan. No existe una forma particular para ordenar las etiquetas.\n",
        "\n",
        "**Escala ordinal** <img src=\"https://antoninoapp.shinyapps.io/semana2/_w_4c286c0d/www/orden.png\"  width=\"40\" height=\"30\">\n",
        "\n",
        "Hay un orden de las posibles categorías de respuesta, aunque no es posiblecuantificar la diferencia exacta entre las opciones de respuesta. Por ejemplo, la diferencia entre respuestas como Muy satisfecho y Satisfecho es relativa, no exacta.\n",
        "\n",
        "**Escala de intervalo** <img src=\"https://antoninoapp.shinyapps.io/semana2/_w_4c286c0d/www/intervalo-de-fechas.png\"  width=\"40\" height=\"30\">\n",
        "\n",
        "Incluye todas las características del nivel ordinal, pero, además, la diferencia entre valores constituye una magnitud constante. Un ejemplo de nivel de intervalo de medición es la temperatura.Es importante destacar que 0 es un punto de referencia. Por ejemplo\n",
        "\n",
        "**Escala de razón** <img src=\"https://antoninoapp.shinyapps.io/semana2/_w_4c286c0d/www/0.png\"  width=\"40\" height=\"30\">\n",
        "\n",
        "Todos los datos cuantitativos son registrados en el nivel de razón de la medición. El nivel de razón es el más alto. Posee todas las características del nivel de intervalo, aunque, además, el punto 0 tiene sentido y la razón entre dos números es significativa. Ejemplos de la escala de razón de medición incluyen salarios, unidades de producción, peso, cambios en los precios de las acciones, la distancia entre sucursales y la altura. El dinero ilustra bien el caso.\n",
        "\n",
        "::: \n",
        "<img src=\"https://raw.githubusercontent.com/jazaineam1/Script-B-sicos/master/Cuadernos%20r/escalas.JPG\" width=\"500\"/>\n",
        ":::\n",
        "\n",
        "\n",
        "\n"
      ]
    },
    {
      "cell_type": "markdown",
      "source": [
        "**¿Cuál de las siguientes variables es cuantitativa y continua?**"
      ],
      "metadata": {
        "id": "jqyFkPYyBVXa"
      }
    },
    {
      "cell_type": "code",
      "source": [
        "tipo = \"Número de hijos\" #@param [\"Número de hijos\", \"Personas que habitan un hogar\", \"Tiempo de espera en una casa\", \"Estrato socioeconómico\"] {allow-input: true}\n"
      ],
      "metadata": {
        "id": "_Uhet3MIBVoQ"
      },
      "execution_count": null,
      "outputs": []
    },
    {
      "cell_type": "markdown",
      "source": [
        "**¿Cuál de las siguientes variableses cualitativa?**"
      ],
      "metadata": {
        "id": "66Klbg7TBV8G"
      }
    },
    {
      "cell_type": "code",
      "source": [
        "tipo = \"Porcentaje de personas con cabello negro\" #@param [\"Porcentaje de personas con cabello negro\", \"Cantidad de habitaciones en una casa\", \"Número de hermanos de una persona\", \"Nivel de estudios (Primaria, Secundaria, entre otras)\"]\n"
      ],
      "metadata": {
        "id": "2Y2j90T1BWEh"
      },
      "execution_count": 1,
      "outputs": []
    },
    {
      "cell_type": "markdown",
      "source": [
        "**¿Qué escala de medida tiene el estrato?**"
      ],
      "metadata": {
        "id": "gmpdpZgHBSob"
      }
    },
    {
      "cell_type": "code",
      "source": [
        "escala = \"Nomimal\" #@param [\"Nomimal\", \"Ordinal\", \"De intervalo\", \"De razón\"]\n"
      ],
      "metadata": {
        "id": "tAmJWxH5BDgb"
      },
      "execution_count": null,
      "outputs": []
    },
    {
      "cell_type": "markdown",
      "source": [
        "**¿Qué escala de medida tiene el tiempo de espera en un fila?**"
      ],
      "metadata": {
        "id": "gtnDCLpzBJLc"
      }
    },
    {
      "cell_type": "code",
      "source": [
        "escala = \"Nomimal\" #@param [\"Nomimal\", \"Ordinal\", \"De intervalo\", \"De razón\"]\n"
      ],
      "metadata": {
        "id": "n6KAifBHBFoD"
      },
      "execution_count": null,
      "outputs": []
    },
    {
      "cell_type": "markdown",
      "source": [
        "\n",
        "### 2.4 Pandas\n",
        "\n",
        "Pandas ofrece diferentes tipos de datos para representar datos numéricos y categóricos. Los tipos de datos numéricos incluyen int64, float64 y bool. Los tipos de datos categóricos incluyen category y object.\n",
        "\n",
        "A continuación, se muestra una celda de código para identificar los tipos de datos de un DataFrame:\n",
        "\n",
        "```python\n",
        "# Identificar tipos de datos\n",
        "df.dtypes\n",
        "```\n",
        "\n",
        "Con el DataFrame del ejemplo anterior tenemos: "
      ],
      "metadata": {
        "id": "etqSg1EiAzKs"
      }
    },
    {
      "cell_type": "code",
      "execution_count": null,
      "metadata": {
        "id": "YI6eIIRs-6px"
      },
      "outputs": [],
      "source": [
        "### Tipos de datos DF_salarios\n",
        "DF_salarios.dtypes"
      ]
    },
    {
      "cell_type": "markdown",
      "metadata": {
        "id": "Ns066JMB-6py"
      },
      "source": [
        "No obstante, tambien podemos usar el siguiente comando para obtener un resumen de los datos:\n",
        "\n",
        "```python\n",
        "# Resumen de los datos\n",
        "df.info()\n",
        "```"
      ]
    },
    {
      "cell_type": "code",
      "execution_count": null,
      "metadata": {
        "id": "7h7F3oBg-6py"
      },
      "outputs": [],
      "source": [
        "DF_salarios.info()"
      ]
    },
    {
      "cell_type": "markdown",
      "metadata": {
        "id": "PGOEAmEk-6py"
      },
      "source": [
        "En la base de datos vamos a introucir la siguiente información:\n",
        "\n",
        "| Variable | Descripción | Tipo de dato |\n",
        "|:---:|:---:|:---:|\n",
        "| `Fecha de entrada` | Fecha de entrada del empleado | `datetime64` |\n"
      ]
    },
    {
      "cell_type": "code",
      "execution_count": null,
      "metadata": {
        "id": "uZHjqYFx-6pz"
      },
      "outputs": [],
      "source": [
        "## Escribimos las 25 fechas de entrada:\n",
        "\n",
        "fechas = [\n",
        "    '2022-09-15', '2021-06-25', '2023-03-10', '2022-11-07', '2023-01-18',\n",
        "    '2021-08-29', '2022-07-02', '2023-04-05', '2021-12-12', '2022-10-23',\n",
        "    '2023-02-04', '2021-07-07', '2022-06-16', '2023-03-21', '2022-11-30',\n",
        "    '2023-01-09', '2021-09-20', '2022-07-22', '2023-04-27', '2021-12-03',\n",
        "    '2022-10-14', '2023-02-24', '2021-07-28', '2022-06-05', '2023-03-16' ]\n",
        "### Creamos la nueva variable \"fecha_entrada\" con las fechas de entrada\n",
        "DF_salarios['fecha_entrada'] = fechas"
      ]
    },
    {
      "cell_type": "markdown",
      "metadata": {
        "id": "5nkPMHd4-6pz"
      },
      "source": [
        "Veamos los tipos de datos de este DataFrame, sera claro que el tipo de dato de la columna `Fecha de entrada` es `object`. Usaremos el siguiente comando para cambiar el tipo de dato de esta columna:\n",
        "\n",
        "```python\n",
        "# Cambiar tipo de dato de la columna 'Fecha de entrada'\n",
        "df['Fecha de entrada'] = pd.to_datetime(df['Fecha de entrada'])\n",
        "```"
      ]
    },
    {
      "cell_type": "code",
      "execution_count": null,
      "metadata": {
        "id": "rXBcUeQk-6pz"
      },
      "outputs": [],
      "source": [
        "DF_salarios.info()"
      ]
    },
    {
      "cell_type": "code",
      "execution_count": null,
      "metadata": {
        "id": "vqdzxBE8-6pz"
      },
      "outputs": [],
      "source": [
        "DF_salarios['fecha_entrada'] = pd.to_datetime(DF_salarios['fecha_entrada'])\n",
        "DF_salarios.info()"
      ]
    },
    {
      "cell_type": "markdown",
      "metadata": {
        "id": "Ih8h6yt3-6p0"
      },
      "source": [
        "Finalmente, si quisieramos identificar las columnas que contienen datos categóricos, podemos usar el siguiente comando:\n",
        "\n",
        "```python\n",
        "# Identificar columnas con datos categóricos\n",
        "df.select_dtypes(include=['category', 'object']).columns\n",
        "```"
      ]
    },
    {
      "cell_type": "code",
      "execution_count": null,
      "metadata": {
        "id": "cD-ehgvI-6p0"
      },
      "outputs": [],
      "source": [
        "DF_salarios.select_dtypes(include=['category','object']).columns"
      ]
    },
    {
      "cell_type": "markdown",
      "metadata": {
        "id": "K9EfxIRS-6p0"
      },
      "source": [
        "Otra función, diferente de pd.to_datetime, que nos permite cambiar el tipo de dato de una columna es as_type. Esta función nos permite cambiar el tipo de dato de una columna a un tipo de dato específico. Por ejemplo, si quisieramos cambiar el tipo de dato de la columna `id` a `str`, podemos usar el siguiente comando:\n",
        "\n",
        "```python\n",
        "# Cambiar tipo de dato de la columna 'id' a 'str'\n",
        "df['id'] = df['id'].astype('str')\n",
        "```"
      ]
    },
    {
      "cell_type": "code",
      "execution_count": null,
      "metadata": {
        "id": "pq_DMpyr-6p0"
      },
      "outputs": [],
      "source": [
        "DF_salarios['id']=DF_salarios['id'].astype('str')\n",
        "DF_salarios.dtypes"
      ]
    },
    {
      "cell_type": "markdown",
      "metadata": {
        "id": "Hvx1O0cM-6p0"
      },
      "source": [
        "## Sección 3: Medidas de tendencia central\n",
        "\n",
        "En esta sección, exploraremos las medidas de tendencia central y cómo se utilizan para describir y resumir los datos. Comenzaremos por comprender qué es una medida de tendencia central y cómo se calcula.\n",
        "\n",
        "### 3.1 ¿Qué es una medida de tendencia central?\n",
        "\n",
        "Una medida de tendencia central es un valor que representa el centro de un conjunto de datos. Las medidas de tendencia central se utilizan para describir y resumir los datos. Las medidas de tendencia central más comunes son la media, la mediana y la moda.\n",
        "\n",
        "### 3.2 Media\n",
        "\n",
        "La media es la suma de todos los valores dividida por el número de valores. La media se utiliza para describir la tendencia central de un conjunto de datos. La media se puede calcular utilizando la siguiente fórmula:\n",
        "\n",
        "$$\\bar{x} = \\frac{1}{n} \\sum_{i=1}^{n} x_i$$\n",
        "\n",
        "donde $x_i$ es el valor de la i-ésima observación y $n$ es el número de observaciones.\n",
        "\n",
        "### 3.3 Mediana\n",
        "\n",
        "La mediana es el valor medio de un conjunto de datos ordenados. La mediana se utiliza para describir la tendencia central de un conjunto de datos. La mediana se puede calcular utilizando la siguiente fórmula:\n",
        "\n",
        "$$\\tilde{x} = \\begin{cases} x_{\\frac{n+1}{2}} & \\text{si } n \\text{ es impar} \\\\ \\frac{1}{2} \\left( x_{\\frac{n}{2}} + x_{\\frac{n}{2}+1} \\right) & \\text{si } n \\text{ es par} \\end{cases}$$\n",
        "\n",
        "donde $x_i$ es el valor de la i-ésima observación y $n$ es el número de observaciones.\n",
        "\n",
        "### 3.4 Moda\n",
        "\n",
        "La moda es el valor que ocurre con mayor frecuencia en un conjunto de datos. La moda se utiliza para describir la tendencia central de un conjunto de datos. La moda se puede calcular utilizando la siguiente fórmula:\n",
        "\n",
        "$$\\hat{x} = \\underset{x_i}{\\operatorname{argmax}} \\sum_{i=1}^{n} \\mathbb{1}_{\\{x_i = x\\}}$$\n",
        "\n",
        "donde $x_i$ es el valor de la i-ésima observación y $n$ es el número de observaciones.\n",
        "\n",
        "### 3.5 Pandas\n",
        "\n",
        "Pandas ofrece funciones para calcular la media, la mediana y la moda de un conjunto de datos. Estas funciones se pueden aplicar a un DataFrame o a una columna específica de un DataFrame.\n",
        "\n",
        "A continuación, se muestra una celda de código para calcular la media, la mediana y la moda de un DataFrame:\n",
        "\n",
        "```python\n",
        "# Calcular media, mediana y moda\n",
        "df.mean()\n",
        "df.median()\n",
        "df.mode()\n",
        "```"
      ]
    },
    {
      "cell_type": "code",
      "execution_count": null,
      "metadata": {
        "id": "rfpQmi83-6p1"
      },
      "outputs": [],
      "source": [
        "## Media de salario\n",
        "\n",
        "DF_salarios['salario'].mean()"
      ]
    },
    {
      "cell_type": "code",
      "execution_count": null,
      "metadata": {
        "id": "LZLtuwpa-6p1"
      },
      "outputs": [],
      "source": [
        "DF_salarios['salario'].median()"
      ]
    },
    {
      "cell_type": "code",
      "execution_count": null,
      "metadata": {
        "id": "n4z1WS5N-6p1"
      },
      "outputs": [],
      "source": [
        "DF_salarios['ciudad'].mode()"
      ]
    },
    {
      "cell_type": "markdown",
      "metadata": {
        "id": "xHIiJG8h-6p1"
      },
      "source": [
        "## Sección 4: Medidas de dispersión\n",
        "\n",
        "En esta sección, exploraremos las medidas de dispersión y cómo se utilizan para describir y resumir los datos. Comenzaremos por comprender qué es una medida de dispersión y cómo se calcula.\n",
        "\n",
        "### 4.1 ¿Qué es una medida de dispersión?\n",
        "\n",
        "Una medida de dispersión es un valor que representa la variabilidad de un conjunto de datos. Las medidas de dispersión se utilizan para describir y resumir los datos. Las medidas de dispersión más comunes son el rango, la varianza y la desviación estándar.\n",
        "\n",
        "### 4.2 Rango\n",
        "\n",
        "El rango es la diferencia entre el valor máximo y el valor mínimo de un conjunto de datos. El rango se utiliza para describir la variabilidad de un conjunto de datos. El rango se puede calcular utilizando la siguiente fórmula:\n",
        "\n",
        "$$\\text{rango} = \\max(x_i) - \\min(x_i)$$\n",
        "\n",
        "donde $x_i$ es el valor de la i-ésima observación.\n",
        "\n",
        "### 4.3 Varianza\n",
        "\n",
        "La varianza es la media de las diferencias al cuadrado entre cada valor y la media. La varianza se utiliza para describir la variabilidad de un conjunto de datos. La varianza se puede calcular utilizando la siguiente fórmula:\n",
        "\n",
        "$$\\text{varianza} = \\frac{1}{n} \\sum_{i=1}^{n} (x_i - \\bar{x})^2$$\n",
        "\n",
        "donde $x_i$ es el valor de la i-ésima observación, $\\bar{x}$ es la media y $n$ es el número de observaciones.\n",
        "\n",
        "### 4.4 Desviación estándar\n",
        "\n",
        "La desviación estándar es la raíz cuadrada de la varianza. La desviación estándar se utiliza para describir la variabilidad de un conjunto de datos. La desviación estándar se puede calcular utilizando la siguiente fórmula:\n",
        "\n",
        "$$\\text{desviación estándar} = \\sqrt{\\frac{1}{n} \\sum_{i=1}^{n} (x_i - \\bar{x})^2}$$\n",
        "\n",
        "donde $x_i$ es el valor de la i-ésima observación, $\\bar{x}$ es la media y $n$ es el número de observaciones.\n",
        "\n",
        "### 4.5 Pandas\n",
        "\n",
        "Pandas ofrece funciones para calcular el rango, la varianza y la desviación estándar de un conjunto de datos. Estas funciones se pueden aplicar a un DataFrame o a una columna específica de un DataFrame.\n",
        "\n",
        "A continuación, se muestra una celda de código para calcular el rango, la varianza y la desviación estándar de un DataFrame:\n",
        "\n",
        "```python\n",
        "# Calcular rango, varianza y desviación estándar\n",
        "df.max() - df.min()\n",
        "df.var()\n",
        "df.std()\n",
        "```"
      ]
    },
    {
      "cell_type": "code",
      "execution_count": null,
      "metadata": {
        "id": "WXNUspwm-6p1"
      },
      "outputs": [],
      "source": [
        "DF_salarios['salario'].std()"
      ]
    },
    {
      "cell_type": "markdown",
      "metadata": {
        "id": "YveRvl49-6p2"
      },
      "source": [
        "También esta disponible la función describe, que nos permite obtener un resumen de todas las medidas de un DataFrame:\n",
        "\n",
        "```python\n",
        "# Resumen de medidas de tendencia central\n",
        "df.describe()\n",
        "```"
      ]
    },
    {
      "cell_type": "code",
      "execution_count": null,
      "metadata": {
        "id": "ZRi3KJYU-6p2"
      },
      "outputs": [],
      "source": [
        "### Estadísticas básicas\n",
        "\n",
        "DF_salarios.describe()"
      ]
    },
    {
      "cell_type": "markdown",
      "metadata": {
        "id": "G14K-R-d-6p2"
      },
      "source": [
        "## Seccion 5: Exploración de datos con Pandas\n",
        "\n",
        "En esta sección, exploraremos cómo Pandas nos permite realizar tareas como la carga y selección de datos, el filtrado y la agregación, y la visualización de datos. Comenzaremos por comprender qué es la exploración de datos y cómo se realiza.\n",
        "\n",
        "### 5.1 ¿Qué es la exploración de datos?\n",
        "\n",
        "La exploración de datos es el proceso de analizar y visualizar datos para obtener información y conocimientos. La exploración de datos nos permite comprender mejor los datos, identificar patrones y tendencias, y tomar decisiones informadas.\n",
        "\n",
        "El proceso de exploración de datos es una etapa fundamental en el análisis de datos, que nos permite comprender mejor los datos y obtener información relevante para nuestros objetivos. Consiste en examinar los datos de manera sistemática y visual, utilizando diversas técnicas y herramientas estadísticas.\n",
        "\n",
        "El proceso de exploración de datos generalmente incluye los siguientes pasos:\n",
        "\n",
        "1. **Obtención de datos:** En esta etapa, recopilamos los datos necesarios para nuestro análisis, ya sea de bases de datos, archivos, fuentes externas u otras fuentes relevantes.\n",
        "\n",
        "2. **Limpieza de datos**: Antes de explorar los datos, es esencial realizar una limpieza y preprocesamiento adecuados para garantizar la calidad de los datos. Esto implica detectar y corregir errores, eliminar valores atípicos, manejar datos faltantes y garantizar la consistencia y coherencia de los datos.\n",
        "\n",
        "3. **Descripción estadística:** Comenzamos explorando los datos calculando estadísticas descriptivas básicas, como la media, mediana, moda, desviación estándar, percentiles, entre otros. Estas medidas nos brindan información sobre la tendencia central, la dispersión y la forma de la distribución de los datos.\n",
        "\n",
        "4. **Visualización de datos:** Utilizamos técnicas de visualización, como gráficos, diagramas y tablas, para representar los datos de manera visual y comprensible. Esto nos ayuda a identificar patrones, tendencias, relaciones y valores atípicos en los datos. Algunas herramientas comunes de visualización son gráficos de barras, histogramas, diagramas de dispersión y diagramas de caja y bigotes.\n",
        "\n",
        "5. **Análisis exploratorio adicional:** Además de la descripción estadística y la visualización, podemos realizar análisis más avanzados para profundizar en los datos. Esto puede incluir análisis de correlación, análisis de frecuencia, análisis de clusters o segmentación, y cualquier otro enfoque que nos permita descubrir relaciones y patrones más complejos en los datos.\n",
        "\n",
        "El proceso de exploración de datos es iterativo, lo que significa que podemos repetir los pasos anteriores varias veces a medida que adquirimos más información y conocimientos sobre los datos. Es una fase fundamental para comprender los datos en su totalidad antes de avanzar en etapas posteriores, como modelado o toma de decisiones basadas en los datos.\n",
        "\n",
        "\n",
        "Para la basede datos que previamente hemos cargado, vamos a realizar un proceso de exploración de datos."
      ]
    },
    {
      "cell_type": "code",
      "execution_count": null,
      "metadata": {
        "id": "4EV2dQNm-6p2"
      },
      "outputs": [],
      "source": [
        "import pandas as pd\n",
        "\n",
        "# Cargar el conjunto de datos\n",
        "df = pd.read_csv('https://raw.githubusercontent.com/Izainea/introduccion-analitica-datos/master/02-estadisticas-basicas-exploracion-datos/datos/datos_empleados.csv')\n",
        "\n",
        "# Obtener una descripción general de los datos\n",
        "print('Muestra las columnas',df.columns)  # Muestra los nombres de las columnas\n",
        "\n",
        "print('*************************************')\n",
        "print('Muestra la dimensión',df.shape)  # Muestra el número de filas y columnas\n",
        "print('*************************************')\n",
        "\n",
        "print('Muestra las primeras filas')  # Muestra las primeras filas del DataFrame\n",
        "display(df.head())\n",
        "print('*************************************')\n",
        "\n",
        "print('Proporciona información sobre las columnas y los tipos de datos',)  # Proporciona información sobre las columnas y los tipos de datos\n",
        "display(df.info())\n",
        "print('*************************************')\n",
        "\n",
        "# Calcular medidas estadísticas descriptivas\n",
        "print('Muestra estadísticas como media, desviación estándar, etc.')  # Muestra estadísticas como media, desviación estándar, etc.\n",
        "display(df.describe())\n",
        "print('*************************************')\n",
        "\n",
        "# Visualizar los datos\n",
        "import matplotlib.pyplot as plt\n",
        "\n",
        "\n",
        "print('Muestra un histograma')  # Histograma\n",
        "# Histograma\n",
        "df['salario'].plot(kind='hist', bins=30, figsize=(12, 6), facecolor='grey',edgecolor='black')\n",
        "plt.xlabel('Salario')\n",
        "plt.ylabel('Frecuencia')\n",
        "plt.title('Histograma de salarios')\n",
        "plt.show()\n",
        "\n",
        "print('Muestra un diagrama de caja')  # Diagrama de caja\n",
        "# Diagrama de caja\n",
        "df['salario'].plot(kind='box', figsize=(12, 6))\n",
        "plt.ylabel('Salario')\n",
        "plt.title('Diagrama de caja de salarios')\n",
        "plt.show()\n",
        "\n",
        "print('Muestra un diagrama de barras')  # Diagrama de barras\n",
        "# Distribución de frecuencias ciudades\n",
        "df['ciudad'].value_counts().plot(kind='bar', figsize=(12, 6), facecolor='grey',edgecolor='black')\n",
        "plt.xlabel('Ciudad')\n",
        "plt.ylabel('Frecuencia')\n",
        "plt.title('Distribución de frecuencias ciudades')\n",
        "plt.show()\n",
        "\n",
        "\n",
        "# Analizar correlaciones\n",
        "print('Muestra la matriz de correlación')  # Matriz de correlación\n",
        "corr_matrix = df.corr()  # Calcula la matriz de correlación\n",
        "print(corr_matrix)\n",
        "\n",
        "# Identificar valores atípicos\n",
        "print('Muestra los valores atípicos')  # Valores atípicos\n",
        "Q1 = df.quantile(0.25)\n",
        "Q3 = df.quantile(0.75)\n",
        "IQR = Q3 - Q1\n",
        "outliers = ((df < (Q1 - 1.5 * IQR)) | (df > (Q3 + 1.5 * IQR))).any(axis=1)\n",
        "print(df[outliers])\n",
        "\n",
        "# Manejar datos faltantes\n",
        "print('Evidencia de arreglar a los datos faltantes')  # Datos faltantes\n",
        "df.dropna()  # Elimina filas con valores faltantes\n",
        "df.fillna(0)  # Rellena los valores faltantes con un valor específico\n",
        "\n",
        "# Interpretar resultados y tomar decisiones\n",
        "# Analiza los hallazgos obtenidos, identifica patrones o tendencias, y toma decisiones basadas en ellos.\n"
      ]
    },
    {
      "cell_type": "markdown",
      "metadata": {
        "id": "6061EJos-6p2"
      },
      "source": [
        "## Cierre\n",
        "\n",
        "En este cuaderno, hemos explorado los conceptos fundamentales de la estadística y cómo aplicarlos utilizando la librería Pandas. Se han explicado como calcular las medidas de tendencia central, las medidas de dispersión y las distribuciones de probabilidad. Además, hemos descubierto cómo Pandas nos permite realizar tareas como la carga y selección de datos, el filtrado y la agregación, y la visualización de datos."
      ]
    }
  ],
  "metadata": {
    "kernelspec": {
      "display_name": "base",
      "language": "python",
      "name": "python3"
    },
    "language_info": {
      "codemirror_mode": {
        "name": "ipython",
        "version": 3
      },
      "file_extension": ".py",
      "mimetype": "text/x-python",
      "name": "python",
      "nbconvert_exporter": "python",
      "pygments_lexer": "ipython3",
      "version": "3.10.9"
    },
    "orig_nbformat": 4,
    "colab": {
      "provenance": []
    }
  },
  "nbformat": 4,
  "nbformat_minor": 0
}