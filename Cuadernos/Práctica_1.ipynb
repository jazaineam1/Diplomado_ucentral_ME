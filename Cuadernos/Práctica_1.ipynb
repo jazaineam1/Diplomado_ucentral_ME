{
  "cells": [
    {
      "cell_type": "markdown",
      "metadata": {
        "id": "1n_zRS8jl3mo"
      },
      "source": [
        "## **Fundamentos de programación**\n",
        ">>**Diplomado  en métodos estadísticos**\n",
        "\n",
        ">>**Facultad de Ingeniería y Ciencias Básicas.**\n",
        "\n",
        ">>**Universidad Central  2023**\n",
        "\n",
        "\n",
        "> >*Profesor: Jorge Victorino* y *Darwin Martínez*\n",
        "\n",
        ">**Tema:**\n",
        "\n",
        ">* Operaciones básicas con dataframes\n",
        ">>* Cragar y guardar información con pandas\n",
        ">>* Acceso\n",
        ">>* Ordenamiento \n",
        ">>* Filtrado\n",
        "\n",
        ">---"
      ]
    },
    {
      "cell_type": "markdown",
      "metadata": {
        "id": "R-5MuukkmS5C"
      },
      "source": [
        "## __1 - Cargar información con pandas__\n",
        " \n",
        "Pandas proporciona facilidades para la recuperación fácil de datos de una variedad de fuentes de datos como objetos de pandas. Para este notebook se usará el conjunto de datos de paises. Importe la librería de **Pandas** y **NumPy** y cargue el archivo **base.xlsx - pais.csv**.\n",
        "\n",
        "```python\n",
        "# importando librerías \n",
        "import pandas as pd\n",
        "import numpy as np\n",
        "\n",
        "URL_pais = 'pais.csv'      # URL de acceso al archivo\n",
        "URL_iris = 'iris.csv'\n",
        "```\n",
        "\n",
        "Defina el nombre del DataFrame sobre el cual va a cargar los datos del archivo e invoque la instrucción *read_csv* de lectura de archivos **.csv**.\n",
        "\n",
        "\n",
        "```python\n",
        "# argumentos de la función:\n",
        "    # URL donde se encuentra el archivo\n",
        "    # separardor que utiliza el archivo\n",
        "    # tipo de codificación del archivo (reconodimiento de caracteres especiales en la lectura)\n",
        "    # omisión de errores en la lectura del archivo\n",
        "dfp = pd.read_csv(URL_pais, sep=',', encoding='utf-8', error_bad_lines=False)\n",
        "dfi = pd.read_csv(URL_iris, sep=',', encoding='utf-8', error_bad_lines=False)\n",
        "print('País (filas, columnas):', dfp.shape)\n",
        "print('País (nombre columnas):', dfp.columns)\n",
        "print('País (tipos):', dfp.dtypes)\n",
        "dfp.head()\n",
        "\n",
        "```\n",
        "\n",
        "\n",
        "* Hacer lo mismo para los datos de 'iris' \n"
      ]
    },
    {
      "cell_type": "code",
      "execution_count": null,
      "metadata": {
        "id": "Zh3fmnIZlut9"
      },
      "outputs": [],
      "source": [
        "# celda de código para probar\n"
      ]
    },
    {
      "cell_type": "markdown",
      "metadata": {
        "id": "Axe6NvW5rK49"
      },
      "source": [
        "## Cargando datos en un DataFrame a partir de hoja electrónica\n",
        "\n",
        "> Como recomendación, procure dejar en una celda independiente para la lectura de los datos. Esta lectura tiene un costo de carga en recursos de máquina que puede impactar su trabajo y el entorno de python si se esta ejecutando continuamente.\n",
        "\n",
        "\n",
        "```python\n",
        "URL_datos = 'examen.xlsx'                         # URL local del archivo a leer\n",
        "dfe = pd.read_excel(URL_datos)                     # lectura del archivo \n",
        "dfx = pd.read_excel(URL_datos, 'examen1')          # lectura del archivo especificando la hoja\n",
        "```\n",
        "> No siempre es necesario especificar el nombre de la hoja del archivo. Pandas por defecto tomará la primera, revise los nombres de las hojas en el archivo de excel. Ahora usted en una nueva celda puede llamar los DataFrame creados a partir de la lectura de los archivos.\n",
        "\n",
        "\n",
        "\n",
        "\n"
      ]
    },
    {
      "cell_type": "code",
      "execution_count": null,
      "metadata": {
        "id": "MA4SBdVsz8g1"
      },
      "outputs": [],
      "source": [
        "# celda de código para probar"
      ]
    },
    {
      "cell_type": "markdown",
      "metadata": {
        "id": "tFVj3pgRXqbE"
      },
      "source": [
        "## __2. Acceso al Dataframe__\n",
        "\n",
        "Dentro de las operaciones que se requieren para trabajar un Dataframe se resaltan las siguientes:\n",
        "\n",
        ">* Seleccionar las columnas que se quieren ver\n",
        ">* Seleccionar un subconjunto de las filas utilizando el índice (primeras, últimas, intervalo), \n",
        ">* Obtener índice y cambiar el índice de la tabla\n",
        "\n",
        "---\n",
        "### Seleccionar columnas\n",
        "\n",
        "El método para seleccionar columnas de un dataframe más usado es hacer una lista con los nombres de las columnas en el orden que se quiere, así como se muestra en el siguiente ejemplo:\n",
        "\n",
        "```python\n",
        "print(dfe.columns)\n",
        "sel_columns = ['IDE', 'IDG', 'profesor', 'nota']\n",
        "dfe1 = dfe[sel_columns]\n",
        "display(dfe1)\n",
        "```\n",
        "Se puede usar directamente sin declarar la lista\n",
        "\n",
        "\n",
        "```python\n",
        "dfe1 = dfe[['IDE', 'IDG', 'profesor', 'jornada', 'nota']]\n",
        "```\n",
        "\n",
        "\n",
        "\n",
        "\n"
      ]
    },
    {
      "cell_type": "code",
      "execution_count": 1,
      "metadata": {
        "id": "BAj7wNd0X9n_"
      },
      "outputs": [],
      "source": [
        "# Celda de código para probar"
      ]
    },
    {
      "cell_type": "markdown",
      "metadata": {
        "id": "LMmm9yNpdlIt"
      },
      "source": [
        "### Seleccionar filas\n",
        "La función __iloc__ resulta útil para seleccionar filas y columnas de un DataFrame, como se muestra en el siguiente ejemplo:\n",
        "\n",
        "\n",
        "\n",
        "```python\n",
        "print(dfe1.iloc[0])   # imprime el primer registro\n",
        "print(dfe1.iloc[1])   # imprime el segundo registro\n",
        "print(dfe1.iloc[-1])  # imprime el último registro\n",
        "```\n",
        "\n",
        "__iloc__ funciona como una lista de dos dimensiones, con el primer espacio se accede a las filas y con el segundo a las columnas\n",
        "\n",
        "\n",
        "\n",
        "```python\n",
        "s1 = dfe1.iloc[:,-1]\n",
        "print(type(s1))\n",
        "s1\n",
        "```\n",
        "Pruebe los siguientes ejemplos y verifique el tipo de estructura que devuelve cada operación:\n",
        "\n",
        "```python\n",
        "dfe1.iloc[0:5]            # Primeras cinco filas\n",
        "dfe1.iloc[:, 0:5]         # Primeras cinco columnas\n",
        "dfe1.iloc[[0,2,1]]        # Primera, tercera y segunda filas\n",
        "dfe1.iloc[:, [0,2,1]]     # Primera, tercera y segunda columnas\n",
        "```\n",
        "\n",
        "* Usar las funciones head, tail y sample para ver una muestra de los datos del DataFrame\n"
      ]
    },
    {
      "cell_type": "code",
      "execution_count": null,
      "metadata": {
        "id": "PfG90Mkfd7Mk"
      },
      "outputs": [],
      "source": [
        "# Celda de código para probar\n"
      ]
    },
    {
      "cell_type": "markdown",
      "metadata": {
        "id": "mZLS_ImfgzN2"
      },
      "source": [
        "### Obtener el índice y cambiar índice de la Tabla\n",
        "\n",
        "Es posible generar una lista de valores con los índices del Dataframe\n",
        "\n",
        "```python\n",
        "dfe1 = dfe[['IDE', 'IDG', 'profesor', 'jornada', 'nota']]\n",
        "ind1 = dfe.index.to_list()\n",
        "dfe1.set_index('IDE', drop=False, inplace=True)\n",
        "ind2 = dfe.index.to_list()\n",
        "\n",
        "```\n",
        "\n",
        "\n"
      ]
    },
    {
      "cell_type": "code",
      "execution_count": null,
      "metadata": {
        "id": "KuKVQnlshKQU"
      },
      "outputs": [],
      "source": [
        "# Celda de código para probar\n"
      ]
    },
    {
      "cell_type": "markdown",
      "metadata": {
        "id": "DNY5Nhlurt-R"
      },
      "source": [
        "### Generar una columna calculada\n",
        "\n",
        "Crear un DataFrame a partir de un diccionario\n",
        "\n",
        "```python\n",
        "dic = {'nombre':['jorge', 'Darwin', 'Miguel'], 'peso':[68.5, 78.3, 65.5], 'altura':[1.67, 1.72, 1.52]}\n",
        "dfm = pd.DataFrame(dic)\n",
        "dfm\n",
        "```\n",
        "Usar peso y altura para calcular imc y agregar como nueva columna al Dataframe\n",
        "\n",
        "\n",
        "```python\n",
        "dfm['imc'] = dfm.peso/dfm.altura**2\n",
        "```\n",
        "*Agregue una columna con los valores de 'edad'\n",
        "*Cambie un valor específico del DataFrame\n",
        "\n",
        "\n",
        "\n"
      ]
    },
    {
      "cell_type": "code",
      "execution_count": null,
      "metadata": {
        "id": "P5B0dsyqW3cC"
      },
      "outputs": [],
      "source": [
        "# Celda de código para probar\n"
      ]
    },
    {
      "cell_type": "markdown",
      "metadata": {
        "id": "iOhWB3eotgdM"
      },
      "source": [
        "## __3. Ordenamiento de DataFrames.__\n",
        "\n",
        "Una vez cargado un conjunto de datos en un DataFrame, pandas le permite realizar ordenamientos por una columna, múltiple columna y por índice.\n",
        "\n",
        "Este ordenamiento puede darse de forma ascendente o descendente.\n",
        "\n",
        "#### 2.1 Ordenamiento por una o varias columnas\n",
        "Para realizar ordenamiento por columna(s) usted puede utilizar la función *sort_values*. Esta función recibe argumentos de:\n",
        "\n",
        "*   Nombre de la columna o una lista con el nombre de las columnas.\n",
        "*   ascending = verdadero o falso para cada columna\n",
        "*   inplace = verdadero para hacer el ordenamiento sobre el dataframe original.\n",
        "\n",
        "\n",
        "```python\n",
        "# ordenamiento ascendente por una columna\n",
        "dfp.sort_values(['Pais'], ascending=[True], inplace=True)\n",
        "dfp\n",
        "# ordenamiento descendente por una columna\n",
        "dfp.sort_values(['capital'], ascending=[False], inplace=True)\n",
        "dfp\n",
        "# ordenamiento dos columnas: ascendente col 1 y descendente col 2\n",
        "dfp.sort_values(['C','Pobla' ], ascending=[True, False], inplace=True)\n",
        "dfp\n",
        "# ordenamiento dos columnas: ascendente col 1 y acendente col 2\n",
        "dfp.sort_values(['C','Pobla' ], ascending=[True, True], inplace=True)\n",
        "dfp\n",
        "```\n"
      ]
    },
    {
      "cell_type": "code",
      "execution_count": 2,
      "metadata": {
        "id": "XSQwcsW8te14"
      },
      "outputs": [],
      "source": [
        "#Celda de código para probar\n",
        "# ordenamiento ascendente por una columna"
      ]
    },
    {
      "cell_type": "markdown",
      "metadata": {
        "id": "fQ88GS_Yt-o3"
      },
      "source": [
        "#### Ordenamiento por índices\n",
        "Con pandas usted puede redefinir el índice ordinal original. Para esto debe encontrar una serie dentro de su DataFrame contenga valores únicos. Ejemplo:\n",
        "\n",
        "\n",
        "```python\n",
        "dfp.set_index('Pais', inplace=True)\n",
        "dfp\n",
        "```\n",
        "\n",
        "Ahora ustede puede usar la función sort_index para hacer el ordenamiento ascendente o descendente a partir del índice que se ha definido.\n"
      ]
    },
    {
      "cell_type": "code",
      "execution_count": 3,
      "metadata": {
        "id": "TLGPO-VPt-WP"
      },
      "outputs": [],
      "source": [
        "# Celda de código para probar\n"
      ]
    },
    {
      "cell_type": "markdown",
      "metadata": {
        "id": "p5kGaTbwwMZ5"
      },
      "source": [
        "---\n",
        "Ahora quisieramos generar un índice ordenando por profesor de manera descendente y guardar este índice en el dataframe. \n",
        "\n",
        "\n",
        "\n",
        "```python\n",
        "dfe1.sort_values(by=['profesor'], ascending=False, inplace=True)\n",
        "dfe1.set_index('IDE',  inplace=True)\n",
        "dfe1.reset_index(inplace=True)\n",
        "dfe1.sort_values(by=['IDE'], ascending=False, inplace=True)\n",
        "dfe1.reset_index(inplace=True)\n",
        "dfe1\n",
        "```\n",
        "\n"
      ]
    },
    {
      "cell_type": "code",
      "execution_count": 4,
      "metadata": {
        "id": "Vybf2OE6j4XZ"
      },
      "outputs": [],
      "source": [
        "# celda de código para probar"
      ]
    },
    {
      "cell_type": "markdown",
      "metadata": {
        "id": "BV1hxhNLw42o"
      },
      "source": [
        "## __4. Filtrado en DataFrames__\n",
        "En pandas usted puede aplicar diferentes tipos de filtro sobre un DataFrame. Los filtros pueden ser construidos a partir de la evaluación de expresiones lógicas sobre las columnas o funciones propias de pandas.\n",
        "\n",
        "A continuación se muestran unos ejemplos de filtros construidos con pandas.$$$$\n",
        "\n",
        "\n",
        "Valores máximos o mínimos sobre todo el DataFrame\n",
        "```python\n",
        "dfp.max() # obtiene los valores máximos de cada serie sobre todo el dataframe\n",
        "dfp.min() # obtiene los valores máximos de cada serie sobre todo el dataframe\n",
        "```\n",
        "Valores máximos y mínimos sobre una columna\n",
        "```python\n",
        "dfp['altura'].max() # obtiene el valor máximo de la columna seleccionada\n",
        "dfp['altura'].min() # obtiene el valor máximo de la columna seleccionada\n",
        "```\n",
        "Valores máximos y mínimos de más de una columna\n",
        "```python\n",
        "dfp[['altura', 'Pob-cap']].max() # obtiene el valor máximo de la columnas seleccionadas\n",
        "dfp[['altura', 'Pob-cap']].min() # obtiene el valor máximo de la columna seleccionada\n",
        "```"
      ]
    },
    {
      "cell_type": "code",
      "execution_count": 5,
      "metadata": {
        "id": "11UNcj4Ow4mw"
      },
      "outputs": [],
      "source": [
        "# Celda de código para probar\n"
      ]
    },
    {
      "cell_type": "markdown",
      "metadata": {
        "id": "3vqkmlFKxE8Y"
      },
      "source": [
        "Filtrado de n valores máximos o mínimos en el DataFrame\n",
        "\n",
        "\n",
        "```python\n",
        "# n valores mínimos\n",
        "dfp.sort_values(['altura'], ascending=[False], inplace=True) \n",
        "dfp.head(10)\n",
        "\n",
        "# n valores máximos\n",
        "dfp.sort_values(['Pob-cap'], ascending=[True], inplace=True)\n",
        "dfp.head(10)\n",
        "```\n",
        "Filtrado por múltiples columnas con diferentes criterios\n",
        "```python\n",
        "dfp[(dfp['Pais'].str.startswith('V')) & (dfp['altura'] > 161)]\n",
        "# Filtro donde los paises pertenecen al Contiente sea Asia, la población sea superior a 100 y el Pib PC sea superior a 3.9\n",
        "\n",
        "dfp[(dfp['C'] == 'a') & (dfp['Pobla'] > 100) & (dfp['Pib PC'].str.replace(',','.').astype(float)> 3.9)]\n",
        "\n",
        "# filtrado de los paises donde la edad media sea superior a 25 y menor a 60\n",
        "dfp[(dfp['Eda-Me'] > 25) & (dfp['Eda-Me'] < 60)]\n",
        "\n",
        "# filtrado de los paises que tienen por moneda peso y la superficie es superior a 2000\n",
        "dfp[(dfp['moneda'] == 'Peso') & (dfp['Superf'] > 2000)]\n",
        "\n",
        "#valores únicos por columna\n",
        "dfp['moneda'].unique()\n",
        "\n",
        "```\n",
        "Notese que las expresiones en los filtros se debe usar paréntesis ()\n",
        "\n"
      ]
    },
    {
      "cell_type": "code",
      "execution_count": 6,
      "metadata": {
        "id": "5CJYFyqYxDNg"
      },
      "outputs": [],
      "source": [
        "# Celda de código para probar\n"
      ]
    },
    {
      "cell_type": "markdown",
      "metadata": {
        "id": "MYYVXEGNZrPk"
      },
      "source": [
        "### Filtrar por valores de una columna\n",
        "\n",
        "* Filtrar por una lista de profesores\n",
        "\n",
        "```python\n",
        "dfe1 = dfe[sel_columns]\n",
        "lstp = ['Apolo', 'Eneas']\n",
        "df1 = dfe1[dfe1.profesor.isin(lstp)]\n",
        "df1\n",
        "```\n",
        "\n",
        "* Reemplazo de valores numéricos por categorías\n",
        "\n",
        "```python\n",
        "\n",
        "dicn = {3.0:'Tres', 2.0:'dos', 1.5:'uno y medio', 1.0:'uno', \n",
        "        0.5:'medio', 0:'cero', 3.5:'tres y medio', 4:'cuatro', \n",
        "        2.5:'dos y medio', 5:'Cinco', 4.5:'cuatro y medio'}\n",
        "dfe1.nota = dfe1.nota.map(dicn)\n",
        "\n",
        "```\n",
        "\n",
        "* Filtrado de datos por lista de índices\n",
        "\n",
        "\n",
        "```pyhton\n",
        "lst = dfe1.profesor[dfe1.profesor=='Eneas'].index[:].to_list()\n",
        "print(lst)\n",
        "dfe1[dfe1.IDE.isin(lst)]\n",
        "```\n",
        "\n",
        "\n",
        "\n"
      ]
    },
    {
      "cell_type": "code",
      "execution_count": 7,
      "metadata": {
        "id": "1NL4705YZqs9"
      },
      "outputs": [],
      "source": [
        "# Celda de código para probar\n"
      ]
    },
    {
      "cell_type": "markdown",
      "metadata": {
        "id": "38pZIIllz9En"
      },
      "source": [
        "## __5. Guardar un DataFrame en un archivo .csv__\n",
        "\n",
        "Usted puede generar un nuevo archivo .csv a partir de un DataFrame. Para este caso se generará un nuevo archivo que contenga solo los paises que tienen por moneda el dólar con todas las columnas que este tiene definidas.\n",
        "\n",
        "Usted puede especificar la codificación y el separador con el cual la función *to_csv(...)* va a construir el nuevo archivo.\n",
        "\n",
        "```python\n",
        "# filtro de DataFrame por moneda\n",
        "dfp_ca = dfp[dfp['moneda']== 'Dólar']\n",
        "dfp_ca\n",
        "# escribiendo archivo\n",
        "dfp_ca.to_csv('paises_continte_americano.csv', sep=';',encoding='utf-8')\n",
        "```\n",
        "La función *to_csv* reemplazará el archivo y todo el contenido original en caso de que usted deje el mísmo nombre de archivo. \n"
      ]
    },
    {
      "cell_type": "code",
      "execution_count": null,
      "metadata": {
        "id": "XmrWn-Rs0Sxi"
      },
      "outputs": [],
      "source": [
        "# Celda de código para probar"
      ]
    },
    {
      "cell_type": "markdown",
      "metadata": {
        "id": "Df0i5cSY0V3e"
      },
      "source": [
        "#### 1.4 Guardar un DataFrame en un archivo .xlsx\n",
        "\n",
        "Para guardar un DataFrame en un arhivo de Excel usted debería utilizar la función *to_excel*. Esta permite crear un nuevo archivo el cual contendrá los datos del DataFrame con sus respectivas columnas. Dentro de la función se puede especificar el nombre de hoja.\n",
        "\n",
        "Ahora se quiere guardar el archivo **.csv** ('pais.csv') en un solo archivo **.xlsx** con dos hojas separadas para los países de América y Europa.\n",
        "\n",
        "```python\n",
        "dfp[(dfp['c']=='m')].to_excel(\"DataFramePaises.xlsx\", sheet_name='america')\n",
        "dfp[(dfp['c']=='e')].to_excel(\"DataFramePaises.xlsx\", sheet_name='europa')\n",
        "```\n",
        "Valide el resultado. Usted se podrá dar cuenta que el archivo no contiene las dos hojas. Esto indica que la función *to_excel* no añade la otra hoja, sino que sobreescribe completamente el archivo.\n"
      ]
    },
    {
      "cell_type": "code",
      "execution_count": null,
      "metadata": {
        "id": "xXsCaWaG0U4Z"
      },
      "outputs": [],
      "source": [
        "# Celda de código para probar"
      ]
    },
    {
      "cell_type": "markdown",
      "metadata": {
        "id": "pQaFeb1o0vTL"
      },
      "source": [
        "En caso de que usted necesite en un solo archivo de Excel añadir más de una hoja y no perder el contenido, usted deberá utilizar la función *ExcelWriter* de pandas. Esta función recibe por argumentos la ruta con el nombre del archivo, y si lo requiere, el modo de uso del archivo.\n",
        "```python\n",
        "# extracción de los primeros 100 registros del DataFrame del archivo base.xlsx - Religion.csv\n",
        "dfp1 = dfp.iloc[:101]\n",
        "dfp1\n",
        "dfp2 = dfp.iloc[101:]\n",
        "dfp2\n",
        "with pd.ExcelWriter('PaisesTrozos.xlsx') as writer:\n",
        "    # añadiendo todo el dataframe\n",
        "    dfp.to_excel(writer, sheet_name='t1')\n",
        "    # añadiendo los primeros 100 registros.\n",
        "    dfrp.to_excel(writer, sheet_name='t2')\n",
        "```\n",
        "Notese que se guarda una porción del dataframe."
      ]
    },
    {
      "cell_type": "code",
      "execution_count": null,
      "metadata": {
        "collapsed": true,
        "id": "9P6uEfo9j4Xc",
        "outputId": "31b8b1ce-a360-4b0b-8266-154f4ed8219b"
      },
      "outputs": [
        {
          "ename": "NameError",
          "evalue": "name 'dfp' is not defined",
          "output_type": "error",
          "traceback": [
            "\u001b[1;31m---------------------------------------------------------------------------\u001b[0m",
            "\u001b[1;31mNameError\u001b[0m                                 Traceback (most recent call last)",
            "\u001b[1;32m<ipython-input-82-69f09184ffb2>\u001b[0m in \u001b[0;36m<module>\u001b[1;34m\u001b[0m\n\u001b[1;32m----> 1\u001b[1;33m \u001b[0mdfp1\u001b[0m \u001b[1;33m=\u001b[0m \u001b[0mdfp\u001b[0m\u001b[1;33m.\u001b[0m\u001b[0miloc\u001b[0m\u001b[1;33m[\u001b[0m\u001b[1;33m:\u001b[0m\u001b[1;36m101\u001b[0m\u001b[1;33m]\u001b[0m\u001b[1;33m\u001b[0m\u001b[1;33m\u001b[0m\u001b[0m\n\u001b[0m\u001b[0;32m      2\u001b[0m \u001b[0mdfp1\u001b[0m\u001b[1;33m\u001b[0m\u001b[1;33m\u001b[0m\u001b[0m\n\u001b[0;32m      3\u001b[0m \u001b[0mdfp2\u001b[0m \u001b[1;33m=\u001b[0m \u001b[0mdfp\u001b[0m\u001b[1;33m.\u001b[0m\u001b[0miloc\u001b[0m\u001b[1;33m[\u001b[0m\u001b[1;36m101\u001b[0m\u001b[1;33m:\u001b[0m\u001b[1;33m]\u001b[0m\u001b[1;33m\u001b[0m\u001b[1;33m\u001b[0m\u001b[0m\n\u001b[0;32m      4\u001b[0m \u001b[0mdfp2\u001b[0m\u001b[1;33m\u001b[0m\u001b[1;33m\u001b[0m\u001b[0m\n\u001b[0;32m      5\u001b[0m \u001b[1;32mwith\u001b[0m \u001b[0mpd\u001b[0m\u001b[1;33m.\u001b[0m\u001b[0mExcelWriter\u001b[0m\u001b[1;33m(\u001b[0m\u001b[1;34m'PaisesTrozos.xlsx'\u001b[0m\u001b[1;33m)\u001b[0m \u001b[1;32mas\u001b[0m \u001b[0mwriter\u001b[0m\u001b[1;33m:\u001b[0m\u001b[1;33m\u001b[0m\u001b[1;33m\u001b[0m\u001b[0m\n",
            "\u001b[1;31mNameError\u001b[0m: name 'dfp' is not defined"
          ]
        }
      ],
      "source": [
        "# Celda de código para probar"
      ]
    }
  ],
  "metadata": {
    "colab": {
      "provenance": []
    },
    "kernelspec": {
      "display_name": "Python 3",
      "language": "python",
      "name": "python3"
    },
    "language_info": {
      "codemirror_mode": {
        "name": "ipython",
        "version": 3
      },
      "file_extension": ".py",
      "mimetype": "text/x-python",
      "name": "python",
      "nbconvert_exporter": "python",
      "pygments_lexer": "ipython3",
      "version": "3.7.7"
    },
    "latex_envs": {
      "LaTeX_envs_menu_present": true,
      "autoclose": false,
      "autocomplete": true,
      "bibliofile": "biblio.bib",
      "cite_by": "apalike",
      "current_citInitial": 1,
      "eqLabelWithNumbers": true,
      "eqNumInitial": 1,
      "hotkeys": {
        "equation": "Ctrl-E",
        "itemize": "Ctrl-I"
      },
      "labels_anchors": false,
      "latex_user_defs": false,
      "report_style_numbering": false,
      "user_envs_cfg": false
    },
    "toc": {
      "base_numbering": 1,
      "nav_menu": {},
      "number_sections": false,
      "sideBar": true,
      "skip_h1_title": false,
      "title_cell": "Table of Contents",
      "title_sidebar": "Contents",
      "toc_cell": false,
      "toc_position": {},
      "toc_section_display": true,
      "toc_window_display": false
    },
    "varInspector": {
      "cols": {
        "lenName": 16,
        "lenType": 16,
        "lenVar": 40
      },
      "kernels_config": {
        "python": {
          "delete_cmd_postfix": "",
          "delete_cmd_prefix": "del ",
          "library": "var_list.py",
          "varRefreshCmd": "print(var_dic_list())"
        },
        "r": {
          "delete_cmd_postfix": ") ",
          "delete_cmd_prefix": "rm(",
          "library": "var_list.r",
          "varRefreshCmd": "cat(var_dic_list()) "
        }
      },
      "types_to_exclude": [
        "module",
        "function",
        "builtin_function_or_method",
        "instance",
        "_Feature"
      ],
      "window_display": false
    }
  },
  "nbformat": 4,
  "nbformat_minor": 0
}