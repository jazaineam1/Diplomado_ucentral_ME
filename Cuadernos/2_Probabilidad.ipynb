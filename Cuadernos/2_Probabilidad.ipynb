{
  "nbformat": 4,
  "nbformat_minor": 0,
  "metadata": {
    "colab": {
      "provenance": []
    },
    "kernelspec": {
      "name": "python3",
      "display_name": "Python 3"
    },
    "language_info": {
      "name": "python"
    }
  },
  "cells": [
    {
      "cell_type": "markdown",
      "source": [
        "| ![Isaac Zainea](https://raw.githubusercontent.com/Izainea/Izainea.github.io/master/logo.png) | Diplomado en Métodos Estadísticos | Julio Zainea |\n",
        "|:---:|:---:|:---:|"
      ],
      "metadata": {
        "id": "ZQ-q-q6GxGaW"
      }
    },
    {
      "cell_type": "markdown",
      "source": [
        "\n",
        "## Técnicas de conteo y  de Reglas de Probabilidad en Python\n",
        "### Reglas de probabilidad\n",
        "\n",
        "Suponga que $\\Omega$ es un espacio muestral asociado con un experimento.\n",
        "A todo evento A en S (A es el subconjunto de $\\Omega$) le asignamos un\n",
        "número, P(A), llamado probabilidad de A, de modo que se cumple:\n",
        "\n",
        "1. $0 ≤ P(A) ≤ 1$\n",
        "2. $P(\\Omega) = 1$\n",
        "\n",
        "3. Si A y B son mutuamente excluyentes entonces $P(A ∪ B) = P(A) + P(B)$\n",
        "4. Si A y B no son mutuamente excluyentes entonces,\n",
        "$P(A ∪ B) = P(A) + P(B) − P(A ∩ B)$\n",
        "5. $P(A^c) = 1 − P(A)$\n",
        "5. Si A y B son independientes entonces\n",
        "$P(A ∩ B) = P(A) × P(B)$\n",
        "\n",
        "\n",
        "### Regla de la Suma\n",
        "\n",
        "La regla de la suma establece que la probabilidad de que ocurra un evento A o un evento B es igual a la suma de las probabilidades individuales de cada evento, siempre y cuando los eventos sean mutuamente excluyentes.\n",
        "\n",
        "#### Ejemplo 1:\n",
        "Supongamos que lanzamos un dado justo de 6 caras. Queremos calcular la probabilidad de obtener un número par o un número impar. Los eventos \"obtener un número par\" y \"obtener un número impar\" son mutuamente excluyentes, ya que un número no puede ser par e impar al mismo tiempo.\n",
        "\n",
        "```python\n",
        "probabilidad_par = 3 / 6  # Probabilidad de obtener un número par\n",
        "probabilidad_impar = 3 / 6  # Probabilidad de obtener un número impar\n",
        "\n",
        "probabilidad_par_o_impar = probabilidad_par + probabilidad_impar\n",
        "print(\"La probabilidad de obtener un número par o un número impar es:\", probabilidad_par_o_impar)\n",
        "```"
      ],
      "metadata": {
        "id": "1v02Zm4Nm4F8"
      }
    },
    {
      "cell_type": "code",
      "source": [],
      "metadata": {
        "id": "uT_fvZ9jnvuK"
      },
      "execution_count": null,
      "outputs": []
    },
    {
      "cell_type": "markdown",
      "source": [
        "\n",
        "#### Ejemplo 2:\n",
        "Consideremos un experimento en el que seleccionamos una carta de una baraja estándar de 52 cartas. Queremos calcular la probabilidad de obtener una carta roja o una carta con un número mayor a 10. Los eventos \"obtener una carta roja\" y \"obtener una carta con un número mayor a 10\" son mutuamente excluyentes.\n",
        "\n",
        "```python\n",
        "probabilidad_carta_roja = 26 / 52  # Probabilidad de obtener una carta roja\n",
        "probabilidad_carta_mayor_10 = 8 / 52  # Probabilidad de obtener una carta con un número mayor a 10\n",
        "\n",
        "probabilidad_carta_roja_o_mayor_10 = probabilidad_carta_roja + probabilidad_carta_mayor_10\n",
        "print(\"La probabilidad de obtener una carta roja o una carta con un número mayor a 10 es:\", probabilidad_carta_roja_o_mayor_10)\n",
        "```"
      ],
      "metadata": {
        "id": "dAp3Wjhunv1h"
      }
    },
    {
      "cell_type": "code",
      "source": [],
      "metadata": {
        "id": "Md5yo8osnxFP"
      },
      "execution_count": null,
      "outputs": []
    },
    {
      "cell_type": "markdown",
      "source": [
        "\n",
        "### Regla de la Multiplicación\n",
        "\n",
        "La regla de la multiplicación establece que la probabilidad de que ocurran dos eventos A y B es igual al producto de las probabilidades individuales de cada evento, siempre y cuando los eventos sean independientes.\n",
        "\n",
        "#### Ejemplo 1:\n",
        "Supongamos que lanzamos una moneda justa dos veces. Queremos calcular la probabilidad de obtener cara en el primer lanzamiento y cruz en el segundo lanzamiento. Los eventos \"obtener cara en el primer lanzamiento\" y \"obtener cruz en el segundo lanzamiento\" son eventos independientes.\n",
        "\n",
        "```python\n",
        "probabilidad_cara = 1 / 2  # Probabilidad de obtener cara en un lanzamiento\n",
        "probabilidad_cruz = 1 / 2  # Probabilidad de obtener cruz en un lanzamiento\n",
        "\n",
        "probabilidad_cara_y_cruz = probabilidad_cara * probabilidad_cruz\n",
        "print(\"La probabilidad de obtener cara en el primer lanzamiento y cruz en el segundo lanzamiento es:\", probabilidad_cara_y_cruz)\n",
        "```\n"
      ],
      "metadata": {
        "id": "Qz6_AURTn1c6"
      }
    },
    {
      "cell_type": "code",
      "source": [],
      "metadata": {
        "id": "2F5aMx5mn6CE"
      },
      "execution_count": null,
      "outputs": []
    },
    {
      "cell_type": "markdown",
      "source": [
        "\n",
        "#### Ejemplo 2:\n",
        "Consideremos un experimento en el que sacamos una carta de una baraja estándar de 52 cartas, sin reemplazo. Queremos calcular la probabilidad de obtener una carta roja en el primer intento y una carta negra en el segundo intento. Los eventos \"obtener una carta roja en el primer intento\" y \"obtener una carta negra en el segundo intento\" son eventos dependientes.\n",
        "\n",
        "```python\n",
        "probabilidad_carta_roja_primer_intent = 26 / 52  # Probabilidad de obtener una carta roja en el primer intento\n",
        "probabilidad_carta_negra_segundo_intent = 26 / 51  # Probabilidad de obtener una carta negra en el segundo intento, dado que ya se sacó una carta roja\n",
        "\n",
        "probabilidad_carta_roja_y_negra = probabilidad_carta_roja_primer_intent * probabilidad_carta_negra_segundo_intent\n",
        "print(\"La probabilidad de obtener una carta roja en el primer intento y una carta negra en el segundo intento es:\", probabilidad_carta_roja_y_negra)\n",
        "```\n"
      ],
      "metadata": {
        "id": "QASvmaBGn6JY"
      }
    },
    {
      "cell_type": "code",
      "source": [],
      "metadata": {
        "id": "VemZ8W0loEGo"
      },
      "execution_count": null,
      "outputs": []
    },
    {
      "cell_type": "markdown",
      "source": [
        "\n",
        "\n",
        "### Regla de la Permutación\n",
        "\n",
        "La regla de la permutación se utiliza para calcular el número de formas en que se pueden organizar objetos sin repetición.\n",
        "\n",
        "$P^n_r=\\frac{n!}{(n-r)!}$\n",
        "con n el númeor total de elementos y r la cantidad tomada a la vez.\n",
        "\n",
        "#### Ejemplo 1:\n",
        "Supongamos que queremos calcular el número de formas en que se pueden organizar las letras \"A\", \"B\" y \"C\" en un orden específico.\n",
        "\n",
        "```python\n",
        "import math\n",
        "\n",
        "objetos = 3  # Número de objetos\n",
        "permutaciones = math.factorial(objetos)\n",
        "print(\"El número de permutaciones posibles es:\", permutaciones)\n",
        "```"
      ],
      "metadata": {
        "id": "rm4s_EBToEV6"
      }
    },
    {
      "cell_type": "code",
      "source": [],
      "metadata": {
        "id": "jonHkHTzoIk0"
      },
      "execution_count": null,
      "outputs": []
    },
    {
      "cell_type": "markdown",
      "source": [
        "\n",
        "\n",
        "#### Ejemplo 2:\n",
        "Consideremos un experimento en el que se desea calcular el número de formas en que se pueden organizar las letras en la palabra \"PYTHON\".\n",
        "\n",
        "```python\n",
        "objetos = len(\"PYTHON\")  # Número de objetos\n",
        "permutaciones = math.factorial(objetos)\n",
        "print(\"El número de permutaciones posibles es:\", permutaciones)\n",
        "```\n"
      ],
      "metadata": {
        "id": "xKKeaeRToJAc"
      }
    },
    {
      "cell_type": "code",
      "source": [],
      "metadata": {
        "id": "LHN6OUfmoLbQ"
      },
      "execution_count": null,
      "outputs": []
    },
    {
      "cell_type": "markdown",
      "source": [
        "\n",
        "### Regla de la Combinatoria\n",
        "\n",
        "La regla de la combinatoria se utiliza para calcular el número de formas en que se pueden seleccionar objetos sin importar el orden.\n",
        "\n",
        "$$nCr=\\frac{n!}{(n-r)!r!}$$\n",
        "\n",
        "con n la cantidad de elementos y r la cantidad tomada al tiempo.\n",
        "#### Ejemplo 1:\n",
        "Supongamos que queremos calcular el número de formas en que se pueden seleccionar 2 cartas de un mazo de 52 cartas.\n",
        "\n",
        "```python\n",
        "import math\n",
        "\n",
        "total_objetos = 52  # Número total de objetos\n",
        "objetos_seleccionados = 2  # Número de objetos que se seleccionan\n",
        "\n",
        "combinaciones = math.comb(total_objetos, objetos_seleccionados)\n",
        "print(\"El número de combinaciones posibles es:\", combinaciones)\n",
        "```\n"
      ],
      "metadata": {
        "id": "_vNjNUxyoO1E"
      }
    },
    {
      "cell_type": "code",
      "source": [],
      "metadata": {
        "id": "sVg2Gg7ooRRW"
      },
      "execution_count": null,
      "outputs": []
    },
    {
      "cell_type": "markdown",
      "source": [
        "\n",
        "\n",
        "#### Ejemplo 2:\n",
        "Consideremos un experimento en el que queremos calcular el número de formas en que se pueden seleccionar 3 colores de una lista de colores: \"rojo\", \"verde\", \"azul\", \"amarillo\" y \"naranja\".\n",
        "\n",
        "```python\n",
        "total_colores = 5  # Número total de colores\n",
        "colores_seleccionados = 3  # Número de colores que se seleccionan\n",
        "\n",
        "combinaciones = math.comb(total_colores, colores_seleccionados)\n",
        "print(\"El número de combinaciones posibles es:\", combinaciones)\n",
        "```\n"
      ],
      "metadata": {
        "id": "qUSlrid6oRYw"
      }
    },
    {
      "cell_type": "code",
      "source": [],
      "metadata": {
        "id": "ViOdQDiXoT1t"
      },
      "execution_count": null,
      "outputs": []
    },
    {
      "cell_type": "markdown",
      "source": [
        "\n",
        "### Regla de la Permutación con Repetición\n",
        "\n",
        "La regla de la permutación con repetición se utiliza cuando hay objetos repetidos y se desea calcular el número de formas en que se pueden organizar estos objetos.\n",
        "\n",
        "$$P^n_{a,b,c}=\\frac{n!}{a!b!c!}$$\n",
        "donde $n=a+b+c$\n",
        "donde n es el némero de elementos y a es el número de veses que se repite el primer elemento, b el número que se repite el segundo elemento...\n",
        "#### Ejemplo 1:\n",
        "Supongamos que queremos calcular el número de formas en que se pueden organizar las letras en la palabra \"MISSISSIPPI\".\n",
        "\n",
        "```python\n",
        "import math\n",
        "from collections import Counter\n",
        "\n",
        "palabra = \"MISSISSIPPI\"\n",
        "objetos = list(palabra)  # Convertir la palabra en una lista de caracteres\n",
        "frecuencias = Counter(objetos)  # Contar la frecuencia de cada caracter\n",
        "\n",
        "permutaciones_repetidas = math.factorial(len(objetos))\n",
        "for freq in frecuencias.values():\n",
        "    permutaciones_repetidas //= math.factorial(freq)\n",
        "\n",
        "print(\"El número de permutaciones con repetición posibles es:\", permutaciones_repetidas)\n",
        "```"
      ],
      "metadata": {
        "id": "bcFCU0atoUMI"
      }
    },
    {
      "cell_type": "code",
      "source": [
        "import math\n",
        "from collections import Counter\n",
        "\n",
        "palabra = \"MISSISSIPPI\"\n",
        "objetos = list(palabra)  # Convertir la palabra en una lista de caracteres\n",
        "frecuencias = Counter(objetos)  # Contar la frecuencia de cada caracter\n",
        "\n",
        "permutaciones_repetidas = math.factorial(len(objetos))\n",
        "for freq in frecuencias.values():\n",
        "    permutaciones_repetidas //= math.factorial(freq)\n",
        "\n",
        "print(\"El número de permutaciones con repetición posibles es:\", permutaciones_repetidas)"
      ],
      "metadata": {
        "colab": {
          "base_uri": "https://localhost:8080/"
        },
        "id": "OhyxiZfxodKj",
        "outputId": "44d66f69-e94f-4b3d-c734-5a993ba69643"
      },
      "execution_count": 1,
      "outputs": [
        {
          "output_type": "stream",
          "name": "stdout",
          "text": [
            "El número de permutaciones con repetición posibles es: 34650\n"
          ]
        }
      ]
    },
    {
      "cell_type": "markdown",
      "source": [
        "\n",
        "\n",
        "### Regla de la Combinatoria con Repetición\n",
        "\n",
        "La regla de la combinatoria con repetición se utiliza para calcular el número de formas en que se pueden seleccionar objetos sin importar el orden, permitiendo repeticiones.\n",
        "\n",
        "$$\\binom{n+k-1}{k}$$\n",
        "\n",
        "donde n es el número de elementos, k el número de elementos a escoger.\n",
        "\n",
        "#### Ejemplo 1:\n",
        "Supongamos que queremos calcular el número de formas en que se pueden seleccionar 3 sabores de helado de un conjunto de 5 sabores posibles: \"vainilla\", \"chocolate\", \"fresa\", \"caramelo\" y \"menta\".\n",
        "\n",
        "```python\n",
        "total_sabores = 5  # Número total de sabores\n",
        "sabores_seleccionados = 3  # Número de sabores que se seleccionan\n",
        "\n",
        "combinaciones_repetidas = math.comb(total_sabores + sabores_seleccionados - 1, sabores_seleccionados)\n",
        "print(\"El número de combinaciones con repetición posibles es:\", combinaciones_repetidas)\n",
        "```\n"
      ],
      "metadata": {
        "id": "85iG0fxHm0DA"
      }
    },
    {
      "cell_type": "code",
      "source": [],
      "metadata": {
        "id": "14p-92-UplgU"
      },
      "execution_count": null,
      "outputs": []
    },
    {
      "cell_type": "markdown",
      "source": [
        "**Ejemplo**\n",
        "\n",
        "\n",
        "El ejercicio clásico del cumpleaños es un problema de probabilidad que involucra determinar la probabilidad de que al menos dos personas en un grupo compartan el mismo cumpleaños. A continuación, te mostraré cómo calcular esa probabilidad utilizando la regla de la multiplicación y la regla de la suma:\n",
        "\n",
        "En una fiesta, hay 20 personas. ¿Cuál es la probabilidad de que al menos dos personas en la fiesta compartan el mismo cumpleaños? Supongamos que no hay años bisiestos y que todos los cumpleaños son igualmente probables en cualquier día del año.\n",
        "\n",
        "Solución:\n",
        "Para resolver este ejercicio, podemos utilizar la regla de la multiplicación y la regla de la suma.\n",
        "\n",
        "1. Regla de la multiplicación:\n",
        "La probabilidad de que dos personas seleccionadas al azar compartan el mismo cumpleaños es 1/365, ya que hay 365 días posibles en un año y solo un día en el que pueden tener el mismo cumpleaños.\n",
        "\n",
        "2. Regla de la suma:\n",
        "Queremos calcular la probabilidad de que al menos dos personas compartan el mismo cumpleaños. Esto es equivalente a calcular la probabilidad de que todas las personas tengan cumpleaños diferentes y luego restarla de 1.\n",
        "\n",
        "```python\n",
        "personas = 20\n",
        "dias_en_anio = 365\n",
        "\n",
        "probabilidad_distintos = 1  # Probabilidad de que la primera persona tenga un cumpleaños distinto\n",
        "\n",
        "for i in range(1, personas):\n",
        "    probabilidad_distintos *= (dias_en_anio - i) / dias_en_anio\n",
        "\n",
        "probabilidad_al_menos_uno_igual = 1 - probabilidad_distintos\n",
        "\n",
        "print(\"La probabilidad de que al menos dos personas compartan el mismo cumpleaños es:\", probabilidad_al_menos_uno_igual)\n",
        "```\n",
        "\n",
        "El resultado probablemente sea sorprendente: incluso con un grupo relativamente pequeño de personas (20 en este caso), la probabilidad de que al menos dos personas compartan el mismo cumpleaños es alta, aproximadamente 0.411. Esto se debe a la paradoja del cumpleaños, que muestra cómo la probabilidad de coincidencia de cumpleaños aumenta rápidamente con el tamaño del grupo.\n",
        "\n",
        "Recuerda que este ejercicio asume que los cumpleaños son igualmente probables en cualquier día del año y que no hay años bisiestos."
      ],
      "metadata": {
        "id": "2Vorg07dplod"
      }
    },
    {
      "cell_type": "markdown",
      "source": [
        "## Ejercicios\n",
        "\n",
        "**Ejercicio 1:**\n",
        "En un mazo de 52 cartas, si seleccionamos 3 cartas al azar sin reemplazo, ¿cuál es la probabilidad de obtener exactamente 2 cartas rojas y 1 carta negra?\n",
        "\n",
        "Solución:\n",
        "```python\n",
        "import math\n",
        "\n",
        "total_cartas = 52\n",
        "total_rojas = 26\n",
        "total_negras = 26\n",
        "\n",
        "combinaciones_deseadas = math.comb(total_rojas, 2) * math.comb(total_negras, 1)\n",
        "combinaciones_posibles = math.comb(total_cartas, 3)\n",
        "\n",
        "probabilidad = combinaciones_deseadas / combinaciones_posibles\n",
        "print(\"La probabilidad de obtener exactamente 2 cartas rojas y 1 carta negra es:\", probabilidad)\n",
        "```\n",
        "\n",
        "**Ejercicio 2:**\n",
        "En una urna hay 8 bolas rojas, 4 bolas verdes y 3 bolas azules. Si seleccionamos 2 bolas al azar sin reemplazo, ¿cuál es la probabilidad de obtener una bola roja y una bola verde?\n",
        "\n",
        "Solución:\n",
        "```python\n",
        "import math\n",
        "\n",
        "total_bolas = 15\n",
        "total_rojas = 8\n",
        "total_verdes = 4\n",
        "\n",
        "combinaciones_deseadas = math.comb(total_rojas, 1) * math.comb(total_verdes, 1)\n",
        "combinaciones_posibles = math.comb(total_bolas, 2)\n",
        "\n",
        "probabilidad = combinaciones_deseadas / combinaciones_posibles\n",
        "print(\"La probabilidad de obtener una bola roja y una bola verde es:\", probabilidad)\n",
        "```\n",
        "\n",
        "**Ejercicio 3:**\n",
        "Si lanzamos un dado justo de 6 caras tres veces, ¿cuál es la probabilidad de obtener al menos un número par?\n",
        "\n",
        "Solución:\n",
        "```python\n",
        "probabilidad_impar = 3 / 6  # Probabilidad de obtener un número impar en un lanzamiento\n",
        "probabilidad_par = 3 / 6  # Probabilidad de obtener un número par en un lanzamiento\n",
        "\n",
        "probabilidad_tres_impares = probabilidad_impar ** 3\n",
        "probabilidad_al_menos_un_par = 1 - probabilidad_tres_impares\n",
        "print(\"La probabilidad de obtener al menos un número par es:\", probabilidad_al_menos_un_par)\n",
        "```\n",
        "\n",
        "**Ejercicio 4:**\n",
        "En un examen de opción múltiple con 4 opciones por pregunta, si adivinamos todas las respuestas, ¿cuál es la probabilidad de obtener al menos una respuesta correcta en un examen de 10 preguntas?\n",
        "\n",
        "Solución:\n",
        "```python\n",
        "probabilidad_adivinar = 1 / 4  # Probabilidad de adivinar una respuesta correcta en una pregunta\n",
        "probabilidad_todas_incorrectas = (1 - probabilidad_adivinar) ** 10\n",
        "probabilidad_al_menos_una_correcta = 1 - probabilidad_todas_incorrectas\n",
        "print(\"La probabilidad de obtener al menos una respuesta correcta es:\", probabilidad_al_menos_una_correcta)\n",
        "```\n",
        "\n",
        "**Ejercicio 5:**\n",
        "En una caja hay 12 bombillas defectuosas y 8 bombillas no defectuosas. Si seleccionamos 3 bombillas al azar sin reemplazo, ¿cuál es la probabilidad de obtener exactamente 2 bombillas no defectuosas y 1 bombilla defectuosa?\n",
        "\n",
        "Solución:\n",
        "```python\n",
        "import math\n",
        "\n",
        "total_bombillas\n",
        "\n",
        " = 20\n",
        "total_no_defectuosas = 8\n",
        "total_defectuosas = 12\n",
        "\n",
        "combinaciones_deseadas = math.comb(total_no_defectuosas, 2) * math.comb(total_defectuosas, 1)\n",
        "combinaciones_posibles = math.comb(total_bombillas, 3)\n",
        "\n",
        "probabilidad = combinaciones_deseadas / combinaciones_posibles\n",
        "print(\"La probabilidad de obtener exactamente 2 bombillas no defectuosas y 1 bombilla defectuosa es:\", probabilidad)\n",
        "```\n"
      ],
      "metadata": {
        "id": "0R5M8gPaj-oV"
      }
    },
    {
      "cell_type": "code",
      "source": [],
      "metadata": {
        "id": "BDQ_g_hVpM6v"
      },
      "execution_count": null,
      "outputs": []
    },
    {
      "cell_type": "markdown",
      "source": [
        "### Parte 2\n",
        "\n",
        "**Ejercicio 1:**\n",
        "En un grupo de estudiantes, se les preguntó si preferían Matemáticas o Ciencias. Se encontró que 30 estudiantes preferían Matemáticas, 25 estudiantes preferían Ciencias, y 10 estudiantes preferían tanto Matemáticas como Ciencias. Si hay un total de 50 estudiantes en el grupo, ¿cuántos estudiantes no prefieren ni Matemáticas ni Ciencias?\n",
        "\n",
        "Solución:\n",
        "Para resolver este ejercicio, podemos utilizar el concepto de la unión, la intersección y el complemento.\n",
        "\n",
        "- La unión de los eventos \"preferir Matemáticas\" y \"preferir Ciencias\" representa a los estudiantes que prefieren al menos una de las dos materias.\n",
        "- La intersección de los eventos representa a los estudiantes que prefieren tanto Matemáticas como Ciencias.\n",
        "- El complemento del evento \"preferir Matemáticas o Ciencias\" representa a los estudiantes que no prefieren ni Matemáticas ni Ciencias.\n",
        "\n",
        "```python\n",
        "estudiantes_matematicas = 30\n",
        "estudiantes_ciencias = 25\n",
        "estudiantes_ambas = 10\n",
        "total_estudiantes = 50\n",
        "\n",
        "# Unión de los eventos \"preferir Matemáticas\" y \"preferir Ciencias\"\n",
        "estudiantes_union = estudiantes_matematicas + estudiantes_ciencias - estudiantes_ambas\n",
        "\n",
        "# Complemento del evento \"preferir Matemáticas o Ciencias\"\n",
        "estudiantes_no_prefieren = total_estudiantes - estudiantes_union\n",
        "\n",
        "print(\"El número de estudiantes que no prefieren ni Matemáticas ni Ciencias es:\", estudiantes_no_prefieren)\n",
        "```\n",
        "\n",
        "**Ejercicio 2:**\n",
        "En una encuesta realizada a un grupo de personas, se encontró que 40 personas prefieren fútbol, 30 personas prefieren baloncesto y 15 personas prefieren béisbol. Si 10 personas prefieren tanto fútbol como baloncesto, 5 personas prefieren tanto fútbol como béisbol, y 3 personas prefieren los tres deportes, ¿cuántas personas en total fueron encuestadas?\n",
        "\n",
        "Solución:\n",
        "En este ejercicio, podemos utilizar el concepto de la intersección y la suma de conjuntos.\n",
        "\n",
        "- La intersección de los eventos \"preferir fútbol y baloncesto\", \"preferir fútbol y béisbol\", y \"preferir los tres deportes\" representa a las personas que prefieren los tres deportes.\n",
        "- Sumando las personas que prefieren cada deporte individualmente y restando las personas que prefieren los tres deportes, podemos obtener el total de personas encuestadas.\n",
        "\n",
        "```python\n",
        "personas_futbol = 40\n",
        "personas_baloncesto = 30\n",
        "personas_beisbol = 15\n",
        "personas_futbol_baloncesto = 10\n",
        "personas_futbol_beisbol = 5\n",
        "personas_los_tres = 3\n",
        "\n",
        "# Suma de las personas que prefieren cada deporte individualmente\n",
        "total_personas = personas_futbol + personas_baloncesto + personas_beisbol\n",
        "\n",
        "# Resta de las personas que prefieren los tres deportes\n",
        "total_personas -= personas_los_tres\n",
        "\n",
        "print(\"El total de personas encuestadas es:\", total_personas)\n",
        "```\n",
        "\n",
        "**Ejercicio 3:**\n",
        "En un grupo de estudiantes, se sabe que 60 estudiantes hablan inglés, 45 estudiantes hablan francés y 30 estudiantes hablan\n",
        "\n",
        " alemán. Si 20 estudiantes hablan tanto inglés como francés, 10 estudiantes hablan tanto inglés como alemán, y 5 estudiantes hablan los tres idiomas, ¿cuántos estudiantes en total están en el grupo?\n",
        "\n",
        "Solución:\n",
        "En este ejercicio, podemos utilizar la intersección y la suma de conjuntos.\n",
        "\n",
        "- La intersección de los eventos \"hablar inglés y francés\", \"hablar inglés y alemán\", y \"hablar los tres idiomas\" representa a los estudiantes que hablan los tres idiomas.\n",
        "- Sumando los estudiantes que hablan cada idioma individualmente y restando los estudiantes que hablan los tres idiomas, podemos obtener el total de estudiantes en el grupo.\n",
        "\n",
        "```python\n",
        "estudiantes_ingles = 60\n",
        "estudiantes_frances = 45\n",
        "estudiantes_aleman = 30\n",
        "estudiantes_ingles_frances = 20\n",
        "estudiantes_ingles_aleman = 10\n",
        "estudiantes_los_tres = 5\n",
        "\n",
        "# Suma de los estudiantes que hablan cada idioma individualmente\n",
        "total_estudiantes = estudiantes_ingles + estudiantes_frances + estudiantes_aleman\n",
        "\n",
        "# Resta de los estudiantes que hablan los tres idiomas\n",
        "total_estudiantes -= estudiantes_los_tres\n",
        "\n",
        "print(\"El total de estudiantes en el grupo es:\", total_estudiantes)\n",
        "```\n",
        "\n",
        "Estos ejercicios demuestran cómo se pueden utilizar los conceptos de unión, intersección y complemento para resolver problemas de probabilidad en diferentes escenarios. Recuerda ajustar los valores de los parámetros según sea necesario en cada ejercicio."
      ],
      "metadata": {
        "id": "6iK9f7qVwucC"
      }
    }
  ]
}