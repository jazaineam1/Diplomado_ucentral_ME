{
  "nbformat": 4,
  "nbformat_minor": 0,
  "metadata": {
    "colab": {
      "provenance": []
    },
    "kernelspec": {
      "name": "python3",
      "display_name": "Python 3"
    },
    "language_info": {
      "name": "python"
    }
  },
  "cells": [
    {
      "cell_type": "markdown",
      "source": [
        "\n",
        "# **Probabilidad Parte 2**\n",
        "\n",
        "## ***Universidad Central***\n",
        ">## **Facultad de Ingeniería y Ciencias Básicas.**\n",
        "![Imágen1](https://www.ucentral.edu.co/themes/ucentral/img/template/Universidad%20Central.png)\n",
        ">## ***Probabilidad Y Estadística Fundamental***\n",
        ">## ***Docente: Antonino Zainea Maya.***\n"
      ],
      "metadata": {
        "id": "ZQ-q-q6GxGaW"
      }
    },
    {
      "cell_type": "markdown",
      "source": [
        "\n",
        "## Técnicas de conteo y  de Reglas de Probabilidad en Python\n",
        "### Reglas de probabilidad\n",
        "\n",
        "Suponga que $\\Omega$ es un espacio muestral asociado con un experimento.\n",
        "A todo evento A en S (A es el subconjunto de $\\Omega$) le asignamos un\n",
        "número, P(A), llamado probabilidad de A, de modo que se cumple:\n",
        "\n",
        "1. $0 ≤ P(A) ≤ 1$\n",
        "2. $P(\\Omega) = 1$\n",
        "\n",
        "3. Si A y B son mutuamente excluyentes entonces $P(A ∪ B) = P(A) + P(B)$\n",
        "4. Si A y B no son mutuamente excluyentes entonces,\n",
        "$P(A ∪ B) = P(A) + P(B) − P(A ∩ B)$\n",
        "5. $P(A^c) = 1 − P(A)$\n",
        "5. Si A y B son independientes entonces\n",
        "$P(A ∩ B) = P(A) × P(B)$\n",
        "\n",
        "\n",
        "### Regla de la Suma\n",
        "\n",
        "La regla de la suma establece que la probabilidad de que ocurra un evento A o un evento B es igual a la suma de las probabilidades individuales de cada evento, siempre y cuando los eventos sean mutuamente excluyentes.\n",
        "\n",
        "#### Ejemplo 1:\n",
        "Supongamos que lanzamos un dado justo de 6 caras. Queremos calcular la probabilidad de obtener un número par o un número impar. Los eventos \"obtener un número par\" y \"obtener un número impar\" son mutuamente excluyentes, ya que un número no puede ser par e impar al mismo tiempo.\n",
        "\n",
        "```python\n",
        "probabilidad_par = 3 / 6  # Probabilidad de obtener un número par\n",
        "probabilidad_impar = 3 / 6  # Probabilidad de obtener un número impar\n",
        "\n",
        "probabilidad_par_o_impar = probabilidad_par + probabilidad_impar\n",
        "print(\"La probabilidad de obtener un número par o un número impar es:\", probabilidad_par_o_impar)\n",
        "```"
      ],
      "metadata": {
        "id": "1v02Zm4Nm4F8"
      }
    },
    {
      "cell_type": "code",
      "source": [],
      "metadata": {
        "id": "uT_fvZ9jnvuK"
      },
      "execution_count": null,
      "outputs": []
    },
    {
      "cell_type": "markdown",
      "source": [
        "\n",
        "#### Ejemplo 2:\n",
        "Consideremos un experimento en el que seleccionamos una carta de una baraja estándar de 52 cartas. Queremos calcular la probabilidad de obtener una carta roja o una carta con un número mayor a 10. Los eventos \"obtener una carta roja\" y \"obtener una carta con un número mayor a 10\" son mutuamente excluyentes.\n",
        "\n",
        "```python\n",
        "probabilidad_carta_roja = 26 / 52  # Probabilidad de obtener una carta roja\n",
        "probabilidad_carta_mayor_10 = 12 / 52  # Probabilidad de obtener una carta con un número mayor a 10\n",
        "\n",
        "probabilidad_carta_mayor_10_y_roja=6/52\n",
        "\n",
        "probabilidad_carta_roja_o_mayor_10 = probabilidad_carta_roja + probabilidad_carta_mayor_10-probabilidad_carta_mayor_10_y_roja\n",
        "print(\"La probabilidad de obtener una carta roja o una carta con un número mayor a 10 es:\", probabilidad_carta_roja_o_mayor_10)\n",
        "```"
      ],
      "metadata": {
        "id": "dAp3Wjhunv1h"
      }
    },
    {
      "cell_type": "code",
      "source": [],
      "metadata": {
        "id": "Md5yo8osnxFP"
      },
      "execution_count": null,
      "outputs": []
    },
    {
      "cell_type": "markdown",
      "source": [
        "\n",
        "### Regla de la Multiplicación\n",
        "\n",
        "La regla de la multiplicación establece que la probabilidad de que ocurran dos eventos A y B es igual al producto de las probabilidades individuales de cada evento, siempre y cuando los eventos sean independientes.\n",
        "\n",
        "#### Ejemplo 1:\n",
        "Supongamos que lanzamos una moneda justa dos veces. Queremos calcular la probabilidad de obtener cara en el primer lanzamiento y cruz en el segundo lanzamiento. Los eventos \"obtener cara en el primer lanzamiento\" y \"obtener cruz en el segundo lanzamiento\" son eventos independientes.\n",
        "\n",
        "```python\n",
        "probabilidad_cara = 1 / 2  # Probabilidad de obtener cara en un lanzamiento\n",
        "probabilidad_cruz = 1 / 2  # Probabilidad de obtener cruz en un lanzamiento\n",
        "\n",
        "probabilidad_cara_y_cruz = probabilidad_cara * probabilidad_cruz\n",
        "print(\"La probabilidad de obtener cara en el primer lanzamiento y cruz en el segundo lanzamiento es:\", probabilidad_cara_y_cruz)\n",
        "```\n"
      ],
      "metadata": {
        "id": "Qz6_AURTn1c6"
      }
    },
    {
      "cell_type": "code",
      "source": [],
      "metadata": {
        "id": "2F5aMx5mn6CE"
      },
      "execution_count": null,
      "outputs": []
    },
    {
      "cell_type": "markdown",
      "source": [
        "\n",
        "#### Ejemplo 2:\n",
        "Consideremos un experimento en el que sacamos una carta de una baraja estándar de 52 cartas, sin reemplazo. Queremos calcular la probabilidad de obtener una carta roja en el primer intento y una carta negra en el segundo intento. Los eventos \"obtener una carta roja en el primer intento\" y \"obtener una carta negra en el segundo intento\" son eventos dependientes.\n",
        "\n",
        "```python\n",
        "probabilidad_carta_roja_primer_intent = 26 / 52  # Probabilidad de obtener una carta roja en el primer intento\n",
        "probabilidad_carta_negra_segundo_intent = 26 / 51  # Probabilidad de obtener una carta negra en el segundo intento, dado que ya se sacó una carta roja\n",
        "\n",
        "probabilidad_carta_roja_y_negra = probabilidad_carta_roja_primer_intent * probabilidad_carta_negra_segundo_intent\n",
        "print(\"La probabilidad de obtener una carta roja en el primer intento y una carta negra en el segundo intento es:\", probabilidad_carta_roja_y_negra)\n",
        "```\n"
      ],
      "metadata": {
        "id": "QASvmaBGn6JY"
      }
    },
    {
      "cell_type": "code",
      "source": [],
      "metadata": {
        "id": "VemZ8W0loEGo"
      },
      "execution_count": null,
      "outputs": []
    },
    {
      "cell_type": "markdown",
      "source": [
        "\n",
        "\n",
        "### Regla de la Permutación\n",
        "\n",
        "La regla de la permutación se utiliza para calcular el número de formas en que se pueden organizar objetos sin repetición.\n",
        "\n",
        "$P^n_r=\\frac{n!}{(n-r)!}$\n",
        "con n el númeor total de elementos y r la cantidad tomada a la vez.\n",
        "\n",
        "#### Ejemplo 1:\n",
        "Supongamos que queremos calcular el número de formas en que se pueden organizar las letras \"A\", \"B\" y \"C\" en un orden específico.\n",
        "\n",
        "```python\n",
        "import math\n",
        "\n",
        "objetos = 3  # Número de objetos\n",
        "permutaciones = math.factorial(objetos)\n",
        "print(\"El número de permutaciones posibles es:\", permutaciones)\n",
        "```"
      ],
      "metadata": {
        "id": "rm4s_EBToEV6"
      }
    },
    {
      "cell_type": "code",
      "source": [],
      "metadata": {
        "id": "jonHkHTzoIk0"
      },
      "execution_count": null,
      "outputs": []
    },
    {
      "cell_type": "markdown",
      "source": [
        "\n",
        "\n",
        "#### Ejemplo 2:\n",
        "Consideremos un experimento en el que se desea calcular el número de formas en que se pueden organizar las letras en la palabra \"PYTHON\".\n",
        "\n",
        "```python\n",
        "objetos = len(\"PYTHON\")  # Número de objetos\n",
        "permutaciones = math.factorial(objetos)\n",
        "print(\"El número de permutaciones posibles es:\", permutaciones)\n",
        "```\n"
      ],
      "metadata": {
        "id": "xKKeaeRToJAc"
      }
    },
    {
      "cell_type": "code",
      "source": [],
      "metadata": {
        "id": "LHN6OUfmoLbQ"
      },
      "execution_count": null,
      "outputs": []
    },
    {
      "cell_type": "markdown",
      "source": [
        "\n",
        "### Regla de la Combinatoria\n",
        "\n",
        "La regla de la combinatoria se utiliza para calcular el número de formas en que se pueden seleccionar objetos sin importar el orden.\n",
        "\n",
        "$$nCr=\\frac{n!}{(n-r)!r!}$$\n",
        "\n",
        "con n la cantidad de elementos y r la cantidad tomada al tiempo.\n",
        "#### Ejemplo 1:\n",
        "Supongamos que queremos calcular el número de formas en que se pueden seleccionar 2 cartas de un mazo de 52 cartas.\n",
        "\n",
        "```python\n",
        "import math\n",
        "\n",
        "total_objetos = 52  # Número total de objetos\n",
        "objetos_seleccionados = 2  # Número de objetos que se seleccionan\n",
        "\n",
        "combinaciones = math.comb(total_objetos, objetos_seleccionados)\n",
        "print(\"El número de combinaciones posibles es:\", combinaciones)\n",
        "```\n"
      ],
      "metadata": {
        "id": "_vNjNUxyoO1E"
      }
    },
    {
      "cell_type": "code",
      "source": [],
      "metadata": {
        "id": "sVg2Gg7ooRRW"
      },
      "execution_count": null,
      "outputs": []
    },
    {
      "cell_type": "markdown",
      "source": [
        "\n",
        "\n",
        "#### Ejemplo 2:\n",
        "Consideremos un experimento en el que queremos calcular el número de formas en que se pueden seleccionar 3 colores de una lista de colores: \"rojo\", \"verde\", \"azul\", \"amarillo\" y \"naranja\".\n",
        "\n",
        "```python\n",
        "total_colores = 5  # Número total de colores\n",
        "colores_seleccionados = 3  # Número de colores que se seleccionan\n",
        "\n",
        "combinaciones = math.comb(total_colores, colores_seleccionados)\n",
        "print(\"El número de combinaciones posibles es:\", combinaciones)\n",
        "```\n"
      ],
      "metadata": {
        "id": "qUSlrid6oRYw"
      }
    },
    {
      "cell_type": "code",
      "source": [],
      "metadata": {
        "id": "ViOdQDiXoT1t"
      },
      "execution_count": null,
      "outputs": []
    },
    {
      "cell_type": "markdown",
      "source": [
        "\n",
        "### Regla de la Permutación con Repetición\n",
        "\n",
        "La regla de la permutación con repetición se utiliza cuando hay objetos repetidos y se desea calcular el número de formas en que se pueden organizar estos objetos.\n",
        "\n",
        "$$P^n_{a,b,c}=\\frac{n!}{a!b!c!}$$\n",
        "donde $n=a+b+c$\n",
        "donde n es el némero de elementos y a es el número de veses que se repite el primer elemento, b el número que se repite el segundo elemento...\n",
        "#### Ejemplo 1:\n",
        "Supongamos que queremos calcular el número de formas en que se pueden organizar las letras en la palabra \"MISSISSIPPI\".\n",
        "\n",
        "```python\n",
        "import math\n",
        "from collections import Counter\n",
        "\n",
        "palabra = \"MISSISSIPPI\"\n",
        "objetos = list(palabra)  # Convertir la palabra en una lista de caracteres\n",
        "frecuencias = Counter(objetos)  # Contar la frecuencia de cada caracter\n",
        "\n",
        "permutaciones_repetidas = math.factorial(len(objetos))\n",
        "for freq in frecuencias.values():\n",
        "    permutaciones_repetidas //= math.factorial(freq)\n",
        "\n",
        "print(\"El número de permutaciones con repetición posibles es:\", permutaciones_repetidas)\n",
        "```"
      ],
      "metadata": {
        "id": "bcFCU0atoUMI"
      }
    },
    {
      "cell_type": "code",
      "source": [
        "import math\n",
        "from collections import Counter\n",
        "\n",
        "palabra = \"MISSISSIPPI\"\n",
        "objetos = list(palabra)  # Convertir la palabra en una lista de caracteres\n",
        "frecuencias = Counter(objetos)  # Contar la frecuencia de cada caracter\n",
        "\n",
        "permutaciones_repetidas = math.factorial(len(objetos))\n",
        "for freq in frecuencias.values():\n",
        "    permutaciones_repetidas //= math.factorial(freq)\n",
        "\n",
        "print(\"El número de permutaciones con repetición posibles es:\", permutaciones_repetidas)"
      ],
      "metadata": {
        "colab": {
          "base_uri": "https://localhost:8080/"
        },
        "id": "OhyxiZfxodKj",
        "outputId": "44d66f69-e94f-4b3d-c734-5a993ba69643"
      },
      "execution_count": null,
      "outputs": [
        {
          "output_type": "stream",
          "name": "stdout",
          "text": [
            "El número de permutaciones con repetición posibles es: 34650\n"
          ]
        }
      ]
    },
    {
      "cell_type": "markdown",
      "source": [
        "\n",
        "\n",
        "### Regla de la Combinatoria con Repetición\n",
        "\n",
        "La regla de la combinatoria con repetición se utiliza para calcular el número de formas en que se pueden seleccionar objetos sin importar el orden, permitiendo repeticiones.\n",
        "\n",
        "$$\\binom{n+k-1}{k}$$\n",
        "\n",
        "donde n es el número de elementos, k el número de elementos a escoger.\n",
        "\n",
        "#### Ejemplo 1:\n",
        "Supongamos que queremos calcular el número de formas en que se pueden seleccionar 3 sabores de helado de un conjunto de 5 sabores posibles: \"vainilla\", \"chocolate\", \"fresa\", \"caramelo\" y \"menta\".\n",
        "\n",
        "```python\n",
        "total_sabores = 5  # Número total de sabores\n",
        "sabores_seleccionados = 3  # Número de sabores que se seleccionan\n",
        "\n",
        "combinaciones_repetidas = math.comb(total_sabores + sabores_seleccionados - 1, sabores_seleccionados)\n",
        "print(\"El número de combinaciones con repetición posibles es:\", combinaciones_repetidas)\n",
        "```\n"
      ],
      "metadata": {
        "id": "85iG0fxHm0DA"
      }
    },
    {
      "cell_type": "code",
      "source": [],
      "metadata": {
        "id": "14p-92-UplgU"
      },
      "execution_count": null,
      "outputs": []
    },
    {
      "cell_type": "markdown",
      "source": [
        "**Ejemplo**\n",
        "\n",
        "\n",
        "El ejercicio clásico del cumpleaños es un problema de probabilidad que involucra determinar la probabilidad de que al menos dos personas en un grupo compartan el mismo cumpleaños. A continuación, te mostraré cómo calcular esa probabilidad utilizando la regla de la multiplicación y la regla de la suma:\n",
        "\n",
        "En una fiesta, hay 20 personas. ¿Cuál es la probabilidad de que al menos dos personas en la fiesta compartan el mismo cumpleaños? Supongamos que no hay años bisiestos y que todos los cumpleaños son igualmente probables en cualquier día del año.\n",
        "\n",
        "Solución:\n",
        "Para resolver este ejercicio, podemos utilizar la regla de la multiplicación y la regla de la suma.\n",
        "\n",
        "Calculemos la probabilidad de que 2 personas no cumplan años el mismo día:\n",
        "\n",
        "$$\\frac{365}{365}\\times\\frac{364}{365}=0.9973$$\n",
        " es decir que la probabilidad que los 2 cumplan años el mismo día será de\n",
        " $$1-0.9973=0.0027$$\n",
        "\n",
        "Calculemos la probabilidad de que 3 personas no cumplan años el mismo día:\n",
        "\n",
        "$$\\frac{365}{365}\\times\\frac{364}{365}\\times \\frac{363}{365}=0.9917$$\n",
        " es decir que la probabilidad que por lo menos  2 cumplan años el mismo día será de\n",
        " $$1-0.9917=0.0082$$\n",
        "\n",
        "Calculemos la probabilidad de que 20 personas no cumplan años el mismo día:\n",
        "\n",
        "$$\\frac{365}{365}\\times\\frac{364}{365}\\times \\frac{363}{365}\\cdots \\frac{347}{365}\\times\\frac{346}{365}=0.5886$$\n",
        "\n",
        "\n",
        "\n",
        " es decir que la probabilidad que por lo menos  2 cumplan años el mismo día será de\n",
        " $$1-0.5886=0.4114$$\n",
        "\n",
        "El resultado probablemente sea sorprendente: incluso con un grupo relativamente pequeño de personas (20 en este caso), la probabilidad de que al menos dos personas compartan el mismo cumpleaños es alta, aproximadamente 0.411. Esto se debe a la paradoja del cumpleaños, que muestra cómo la probabilidad de coincidencia de cumpleaños aumenta rápidamente con el tamaño del grupo.\n",
        "\n",
        "Recuerda que este ejercicio asume que los cumpleaños son igualmente probables en cualquier día del año y que no hay años bisiestos."
      ],
      "metadata": {
        "id": "2Vorg07dplod"
      }
    },
    {
      "cell_type": "code",
      "source": [
        "print('Num. probabilidad')\n",
        "p = 1\n",
        "for i in range(1, 30):\n",
        "    p = p * (366 - i) / 365\n",
        "    print(f'{i}: {(1-p):.4f}')\n"
      ],
      "metadata": {
        "colab": {
          "base_uri": "https://localhost:8080/"
        },
        "id": "tA6YrMn1CDx1",
        "outputId": "b15b9598-3037-48e1-e7d0-f5ca94fcb929"
      },
      "execution_count": null,
      "outputs": [
        {
          "output_type": "stream",
          "name": "stdout",
          "text": [
            "Num. probabilidad\n",
            "1: 0.0000\n",
            "2: 0.0027\n",
            "3: 0.0082\n",
            "4: 0.0164\n",
            "5: 0.0271\n",
            "6: 0.0405\n",
            "7: 0.0562\n",
            "8: 0.0743\n",
            "9: 0.0946\n",
            "10: 0.1169\n",
            "11: 0.1411\n",
            "12: 0.1670\n",
            "13: 0.1944\n",
            "14: 0.2231\n",
            "15: 0.2529\n",
            "16: 0.2836\n",
            "17: 0.3150\n",
            "18: 0.3469\n",
            "19: 0.3791\n",
            "20: 0.4114\n",
            "21: 0.4437\n",
            "22: 0.4757\n",
            "23: 0.5073\n",
            "24: 0.5383\n",
            "25: 0.5687\n",
            "26: 0.5982\n",
            "27: 0.6269\n",
            "28: 0.6545\n",
            "29: 0.6810\n"
          ]
        }
      ]
    },
    {
      "cell_type": "markdown",
      "source": [
        "## Ejercicios\n",
        "\n",
        "**Ejercicio 1:**\n",
        "En un mazo de 52 cartas, si seleccionamos 3 cartas al azar sin reemplazo, ¿cuál es la probabilidad de obtener exactamente 2 cartas rojas y 1 carta negra?\n",
        "\n",
        "Solución:\n",
        "```python\n",
        "import math\n",
        "\n",
        "total_cartas = 52\n",
        "total_rojas = 26\n",
        "total_negras = 26\n",
        "\n",
        "combinaciones_deseadas = math.comb(total_rojas, 2) * math.comb(total_negras, 1)\n",
        "combinaciones_posibles = math.comb(total_cartas, 3)\n",
        "\n",
        "probabilidad = combinaciones_deseadas / combinaciones_posibles\n",
        "print(\"La probabilidad de obtener exactamente 2 cartas rojas y 1 carta negra es:\", probabilidad)\n",
        "```\n",
        "\n",
        "**Ejercicio 2:**\n",
        "En una urna hay 8 bolas rojas, 4 bolas verdes y 3 bolas azules. Si seleccionamos 2 bolas al azar sin reemplazo, ¿cuál es la probabilidad de obtener una bola roja y una bola verde?\n",
        "\n",
        "Solución:\n",
        "```python\n",
        "import math\n",
        "\n",
        "total_bolas = 15\n",
        "total_rojas = 8\n",
        "total_verdes = 4\n",
        "\n",
        "combinaciones_deseadas = math.comb(total_rojas, 1) * math.comb(total_verdes, 1)\n",
        "combinaciones_posibles = math.comb(total_bolas, 2)\n",
        "\n",
        "probabilidad = combinaciones_deseadas / combinaciones_posibles\n",
        "print(\"La probabilidad de obtener una bola roja y una bola verde es:\", probabilidad)\n",
        "```\n",
        "\n",
        "**Ejercicio 3:**\n",
        "Si lanzamos un dado justo de 6 caras tres veces, ¿cuál es la probabilidad de obtener al menos un número par?\n",
        "\n",
        "Solución:\n",
        "```python\n",
        "probabilidad_impar = 3 / 6  # Probabilidad de obtener un número impar en un lanzamiento\n",
        "probabilidad_par = 3 / 6  # Probabilidad de obtener un número par en un lanzamiento\n",
        "\n",
        "probabilidad_tres_impares = probabilidad_impar ** 3\n",
        "probabilidad_al_menos_un_par = 1 - probabilidad_tres_impares\n",
        "print(\"La probabilidad de obtener al menos un número par es:\", probabilidad_al_menos_un_par)\n",
        "```\n",
        "\n",
        "**Ejercicio 4:**\n",
        "En un examen de opción múltiple con 4 opciones por pregunta, si adivinamos todas las respuestas, ¿cuál es la probabilidad de obtener al menos una respuesta correcta en un examen de 10 preguntas?\n",
        "\n",
        "Solución:\n",
        "```python\n",
        "probabilidad_adivinar = 1 / 4  # Probabilidad de adivinar una respuesta correcta en una pregunta\n",
        "probabilidad_todas_incorrectas = (1 - probabilidad_adivinar) ** 10\n",
        "probabilidad_al_menos_una_correcta = 1 - probabilidad_todas_incorrectas\n",
        "print(\"La probabilidad de obtener al menos una respuesta correcta es:\", probabilidad_al_menos_una_correcta)\n",
        "```\n",
        "\n",
        "**Ejercicio 5:**\n",
        "En una caja hay 12 bombillas defectuosas y 8 bombillas no defectuosas. Si seleccionamos 3 bombillas al azar sin reemplazo, ¿cuál es la probabilidad de obtener exactamente 2 bombillas no defectuosas y 1 bombilla defectuosa?\n",
        "\n",
        "Solución:\n",
        "```python\n",
        "import math\n",
        "\n",
        "total_bombillas\n",
        "\n",
        " = 20\n",
        "total_no_defectuosas = 8\n",
        "total_defectuosas = 12\n",
        "\n",
        "combinaciones_deseadas = math.comb(total_no_defectuosas, 2) * math.comb(total_defectuosas, 1)\n",
        "combinaciones_posibles = math.comb(total_bombillas, 3)\n",
        "\n",
        "probabilidad = combinaciones_deseadas / combinaciones_posibles\n",
        "print(\"La probabilidad de obtener exactamente 2 bombillas no defectuosas y 1 bombilla defectuosa es:\", probabilidad)\n",
        "```\n"
      ],
      "metadata": {
        "id": "0R5M8gPaj-oV"
      }
    },
    {
      "cell_type": "code",
      "source": [],
      "metadata": {
        "id": "BDQ_g_hVpM6v"
      },
      "execution_count": null,
      "outputs": []
    }
  ]
}