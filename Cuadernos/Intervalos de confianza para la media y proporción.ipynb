{
 "cells": [
  {
   "attachments": {},
   "cell_type": "markdown",
   "metadata": {},
   "source": [
    "# Estimación de parámetros \n",
    "\n",
    "![](https://www.iconfinder.com/data/icons/education-120/52/Diana_Target_Commerce_Sport_Dart_Center_Nailed_Business-128.png)\n",
    "\n",
    "Para estimar el valor de un parámetro poblacional, se puede usar información de la\n",
    "muestra en la forma de un estimador. Los estimadores se calculan usando información\n",
    "de las observaciones muestrales y, en consecuencia, por definición son también estadísticas.\n",
    "\n",
    "Los estimadores se usan en dos formas diferentes:\n",
    "- **Estimación puntual:** Con base en datos muestrales, se calcula un solo número para estimar el parámetro poblacional. La regla o fórmula que describe este cálculo se denomina estimador puntual y el número resultante recibe el nombre de estimación puntual.\n",
    "\n",
    "- **Estimación de intervalo:** Con base en datos muestrales, dos números se calculan para formar un intervalo dentro del cual se espera esté el parámetro. La regla o fórmula que describe este cálculo se denomina estimador de intervalo y el par de números resultantes se llama estimación de intervalo o intervalo de confianza\n",
    "\n",
    "\n",
    "## Estimación por Intervalo\n",
    "\n",
    "![](https://www.iconfinder.com/data/icons/financial-diagrams-1/100/interval-128.png)\n",
    "\n",
    "Un estimador de intervalo es una regla para calcular dos números, por ejemplo a y b,\n",
    "para crear un intervalo del que usted está completamente seguro que contiene el parámetro de interés. El concepto de “completamente seguro” significa “con gran probabilidad”. Medimos esta probabilidad usando el **coeficiente de confianza**, designado por  $1-\\alpha$\n",
    "\n",
    "### Intervalo de confianza de muestra grande para una media poblacional $\\mu$\n",
    "\n",
    "![](https://www.iconfinder.com/data/icons/internet-marketing-dazzle-vol-1/256/Average_Position_-128.png)\n",
    "\n",
    "Cuando el tamaño muestral $n$ sea grande, la media muestral $\\bar{X}$ es el mejor estimador puntual para la media poblacional $\\mu$. Como su distribución muestral es aproximadamente normal, puede usarse para construir un intervalo de confianza de acuerdo con el método siguiente.\n",
    "\n",
    "***UN INTERVALO DE CONFIANZA DE MUESTRA\n",
    "GRANDE $(1 -\\alpha)100\\%$ PARA UNA MEDIA\n",
    "POBLACIONAL $\\mu$***\n",
    "\n",
    "$$\\bar{X}\\pm Z_{1-\\alpha/2}\\frac{\\sigma}{\\sqrt{n}}$$\n",
    "donde $Z_{1-\\alpha/2}$ es el valor $Z$ correspondiente a un área $\\alpha/2$ en la cola superior de una\n",
    "distribución $Z$ normal estándar y\n",
    "\n",
    "$n=$  tamaño muestral\n",
    "\n",
    "$\\sigma=$  desviación estándar de la población muestreada.\n",
    "\n",
    "Si $\\sigma$ es desconocida, puede ser aproximada por la desviación estándar muestral $s$ cuando el tamaño muestral sea grande $(n \\geq 30)$ y el intervalo aproximado de\n",
    "confianza es\n",
    "\n",
    "$$\\bar{X}\\pm Z_{1-\\alpha/2}\\frac{S}{\\sqrt{n}}$$\n",
    "\n",
    "#### Ejemplo;\n",
    " Un científico interesado en vigilar contaminantes químicos en alimentos y, por lo tanto,la acumulación de contaminantes en la dieta humana, seleccionó una muestra aleatoriade $n =50$ adultos hombres. Se encontró que el promedio de ingesta diaria de productos lácteos fue de $\\bar{X}=756$ gramos por día, con una desviación estándar de $S=  35$ gramos por día. Use esta información muestral para construir un intervalo de confianza de $95\\%$\n",
    "para la ingesta diaria media de productos lácteos para hombres.\n",
    "\n",
    "\n"
   ]
  },
  {
   "cell_type": "code",
   "execution_count": 9,
   "metadata": {},
   "outputs": [
    {
     "data": {
      "text/html": [
       "746.298673229552"
      ],
      "text/latex": [
       "746.298673229552"
      ],
      "text/markdown": [
       "746.298673229552"
      ],
      "text/plain": [
       "[1] 746.2987"
      ]
     },
     "metadata": {},
     "output_type": "display_data"
    },
    {
     "data": {
      "text/html": [
       "765.701326770448"
      ],
      "text/latex": [
       "765.701326770448"
      ],
      "text/markdown": [
       "765.701326770448"
      ],
      "text/plain": [
       "[1] 765.7013"
      ]
     },
     "metadata": {},
     "output_type": "display_data"
    }
   ],
   "source": [
    "LI = 756 - norm.ppf(0.975) * 35 / np.sqrt(50)\n",
    "LS = 756 + norm.ppf(0.975) * 35 / np.sqrt(50)\n",
    "print(LI)\n",
    "print(LS)"
   ]
  },
  {
   "cell_type": "code",
   "execution_count": 13,
   "metadata": {},
   "outputs": [],
   "source": [
    "import numpy as np\n",
    "import scipy.stats as stats\n",
    "\n",
    "def confidence_interval(data, confidence=0.95):\n",
    "    \"\"\"\n",
    "    Crea un intervalo de confianza para una muestra de datos.\n",
    "    \n",
    "    Argumentos:\n",
    "    - data: Un arreglo unidimensional de datos de muestra.\n",
    "    - confidence: Nivel de confianza deseado (por defecto es 0.95 para un 95%).\n",
    "    \n",
    "    Retorna:\n",
    "    - Tuple: Un tuple con los límites inferior y superior del intervalo de confianza.\n",
    "    \"\"\"\n",
    "    n = len(data)\n",
    "    mean = np.mean(data)\n",
    "    std_error = stats.sem(data)\n",
    "    interval = std_error * stats.t.ppf((1 + confidence) / 2, n - 1)\n",
    "    lower_bound = mean - interval\n",
    "    upper_bound = mean + interval\n",
    "    return lower_bound, upper_bound\n"
   ]
  },
  {
   "cell_type": "code",
   "execution_count": 14,
   "metadata": {},
   "outputs": [
    {
     "name": "stdout",
     "output_type": "stream",
     "text": [
      "Intervalo de confianza: [1.502523073207092, 2.0174769267929085]\n"
     ]
    }
   ],
   "source": [
    "# Ejemplo de uso\n",
    "data = np.array([1.5, 2.0, 1.8, 1.6, 1.9])\n",
    "confidence_level = 0.95\n",
    "\n",
    "lower, upper = confidence_interval(data, confidence_level)\n",
    "print(f\"Intervalo de confianza: [{lower}, {upper}]\")\n"
   ]
  },
  {
   "cell_type": "code",
   "execution_count": 12,
   "metadata": {},
   "outputs": [
    {
     "data": {
      "image/png": "[encoded data removed]",
      "text/plain": [
       "<Figure size 432x288 with 1 Axes>"
      ]
     },
     "metadata": {},
     "output_type": "display_data"
    }
   ],
   "source": [
    "import numpy as np\n",
    "import matplotlib.pyplot as plt\n",
    "from scipy.stats import norm\n",
    "\n",
    "# Función para graficar la distribución\n",
    "def plotDist(distrib, mean, sd, groups, type, col):\n",
    "    x = np.linspace(mean - 3*sd, mean + 3*sd, 100)\n",
    "    y = norm.pdf(x, mean, sd)\n",
    "    plt.plot(x, y, color=\"black\")\n",
    "    \n",
    "    lower = groups[0]\n",
    "    upper = groups[1]\n",
    "    \n",
    "    plt.fill_between(x, y, where=(x < lower), color=col[0], alpha=0.5)\n",
    "    plt.fill_between(x, y, where=(x > upper), color=col[1], alpha=0.5)\n",
    "    \n",
    "    plt.xlabel(\"Valores\")\n",
    "    plt.ylabel(\"Densidad de probabilidad\")\n",
    "    plt.title(\"Distribución \" + distrib)\n",
    "    plt.show()\n",
    "\n",
    "plotDist(\"norm\", mean=756, sd=35/np.sqrt(50), groups=[746.29, 765.70], type=\"h\", col=[\"darkblue\", \"red\"])\n"
   ]
  },
  {
   "cell_type": "code",
   "execution_count": 10,
   "metadata": {},
   "outputs": [
    {
     "data": {
      "image/png": "[encoded data removed]",
      "text/plain": [
       "<Figure size 432x288 with 1 Axes>"
      ]
     },
     "metadata": {
      "needs_background": "light"
     },
     "output_type": "display_data"
    }
   ],
   "source": [
    "import numpy as np\n",
    "import matplotlib.pyplot as plt\n",
    "from scipy.stats import norm\n",
    "\n",
    "np.random.seed(1012)\n",
    "\n",
    "mu = 1.5\n",
    "sigma = 1\n",
    "alpha = 0.05\n",
    "\n",
    "Población = np.random.normal(mu, sigma, 10**6)\n",
    "\n",
    "\n",
    "def ICZ(x, sigma, alpha):\n",
    "    n = len(x)\n",
    "    mean_x = np.mean(x)\n",
    "    z_value = norm.ppf(1 - alpha/2)\n",
    "    lower = mean_x - z_value * sigma / np.sqrt(n)\n",
    "    upper = mean_x + z_value * sigma / np.sqrt(n)\n",
    "    return (lower, upper)\n",
    "\n",
    "M = np.empty((2, 100))\n",
    "\n",
    "def ICZ(x, sigma, alpha):\n",
    "    n = len(x)\n",
    "    mean_x = np.mean(x)\n",
    "    z_value = norm.ppf(1 - alpha/2)\n",
    "    lower = mean_x - z_value * sigma / np.sqrt(n)\n",
    "    upper = mean_x + z_value * sigma / np.sqrt(n)\n",
    "    return (lower, upper)\n",
    "\n",
    "for i in range(100):\n",
    "    sample_x = np.random.choice(Población, size=50, replace=True)\n",
    "    M[:, i] = ICZ(sample_x, sigma, alpha)\n",
    "\n",
    "plt.figure()\n",
    "plt.plot([1.2, 1.8], [0, 100], 'w')  # Create an empty plot\n",
    "for i in range(100):\n",
    "    color = \"grey\"\n",
    "    if (mu < M[0, i]) or (mu > M[1, i]):\n",
    "        color = \"red\"\n",
    "    plt.plot(M[:, i], [i, i], color, linewidth=3)\n",
    "plt.axvline(mu, color=\"black\", linewidth=3)\n",
    "plt.xlabel(\"Valores\")\n",
    "plt.ylabel(\"Replicaciones\")\n",
    "plt.ylim(0, 100)\n",
    "plt.xlim(1.2, 1.8)\n",
    "plt.show()"
   ]
  },
  {
   "attachments": {},
   "cell_type": "markdown",
   "metadata": {},
   "source": [
    "De media, un  $\\alpha 100\\%$ de las veces, un intervalo de confianza del  $(1−\\alpha)\\times 100\\%$   no contendrá el valor real del parámetro.\n",
    "\n",
    "Por ejemplo, de media, un  $5\\%$ de las veces un intervalo de confianza del  $95\\%$ no contendrá el valor real del parámetro."
   ]
  },
  {
   "attachments": {},
   "cell_type": "markdown",
   "metadata": {},
   "source": [
    "\n",
    "\n",
    "\n",
    "\n",
    "\n",
    "### Intervalo de confianza de muestra grande para una proporción poblacional $\\pi$\n",
    "\n",
    "\n",
    "\n",
    "\n",
    "Muchos experimentos de investigación o estudios muestrales tienen como objetivo la\n",
    "estimación de la proporción de personas u objetos de un grupo grande, que posean cierta\n",
    "característica. Veamos algunos ejemplos:\n",
    "- La proporción de ventas que se puede esperar en un gran número de contactos de\n",
    "clientes\n",
    "- La proporción de semillas que germinan\n",
    "- La proporción de votantes “probables” que planean votar para un candidato político particular\n",
    "\n",
    "\n",
    "Cada uno es un ejemplo práctico del experimento binomial y el parámetro a estimarse es la proporción binomial $\\pi$.\n",
    "Cuando el tamaño muestral es grande, la proporción muestral,\n",
    "\n",
    "$$p=\\frac{x}{n}=\\frac{\\text{ Número total de éxitos}}{\\text{ Número total de intentos}}$$\n",
    "\n",
    "\n",
    "**UN INTERVALO DE CONFIANZA DE MUESTRA GRANDE $(1-\\alpha)100\\%$ PARA UNA PROPORCIÓN POBLACIONAL $\\pi$**\n",
    "\n",
    "$$p\\pm Z_{1-\\alpha/2}\\sqrt{\\frac{\\pi(1-\\pi)}{n}}$$\n",
    "donde $Z_{1-\\alpha/2}$ es el valor $Z$ correspondiente a un área $\\alpha/2$ en la cola superior de una\n",
    "distribución $Z$ normal estándar y\n",
    "\n",
    "$n=$  tamaño muestral.  Como $\\pi$ es incógnita, se estima con el uso de los estimadores puntuales $p$.  El tamaño muestral se considera grande cuando a aproximación normal a la distribución binomio es adecuada, es decir, cuando $np>5$ o $n(1-p)>5$\n",
    "\n",
    "#### Ejemplo:\n",
    "\n",
    "Una muestra aleatoria de 985 “probables” electores, o sea los que probablemente voten\n",
    "en la próxima elección, fueron encuestados durante un maratón telefónico realizado por\n",
    "el Partido Republicano. De ellos, 592 indicaron que tenían la intención de votar por la\n",
    "candidata republicana. Construya un intervalo de confi anza de $90\\%$ para $\\pi$, la proporción\n",
    "de electores probables de la población que tienen la intención de votar por la candidata\n",
    "republicana. Con base en esta información, ¿se puede concluir que la candidata ganará\n",
    "la elección?\n",
    "\n",
    "\n",
    "### Ejercicios:\n",
    "\n",
    "\n",
    "\n",
    "\n",
    "**1.** Debido a una variación en técnicas de laboratorio, impurezas en materiales y otros factores desconocidos, los resultados\n",
    "de un experimento en un laboratorio de química no siempre darán la misma respuesta numérica. En un experimento de electrólisis, un grupo de estudiantes midió la cantidad de cobre precipitado de una solución saturada de sulfato de cobre en un periodo de 30 minutos.\n",
    "Los $n= 30$ estudiantes calcularon una media muestral y desviación estándar igual a 0.145 y 0.0051 moles, respectivamente. Encuentre un intervalo de confianza de $90\\%$ para la cantidad media de cobre precipitado de la solución en un periodo de 30 minutos.\n",
    "\n",
    "\n",
    "**2.** ¿Tiene usted un iPod Nano o un Walkman Bean Sony? Éstas y otras marcas de reproductores MP3 están haciéndose cada vez más populares entre los jóvenes estadounidenses. Un estudio acerca de los iPod indicó que $54\\%$ de los jóvenes entre 12 y 17 años de edad, $30\\%$ de entre 18 y 34 años y $13\\%$ de entre 35 y 54 años tienen reproductores MP3.  Suponga que estas tres estimaciones están basadas en muestras aleatorias de tamaños 400, 350 y 362, respectivamente.\n",
    "\n",
    "> - Construya una estimación de intervalo de confianza de\n",
    "$95\\%$ para la proporción de personas entre 12 y 17 años\n",
    "que tienen un reproductor MP3.\n",
    "> - Construya una estimación de intervalo de confianza de\n",
    "$95\\%$ para la proporción de personas entre 18 y 34 años\n",
    "que tienen un reproductor MP3.\n",
    "\n",
    "**3.** El departamento de carnes de una cadena local de supermercados empaca\n",
    "carne molida usando charolas de dos tamaños: una\n",
    "diseñada para contener alrededor de 1 libra de carne\n",
    "y otra que contiene aproximadamente 3 libras. Una  muestra aleatoria de 35 paquetes en las charolas más\n",
    "pequeñas para carne produjo mediciones de peso con\n",
    "un promedio de 1.01 libras y una desviación estándar\n",
    "de 0.18 libras.\n",
    "\n",
    "> -  Construya un intervalo de confianza de $99\\%$ para el\n",
    "peso promedio de todos los paquetes vendidos por esta\n",
    "cadena de supermercados en las charolas de carne más\n",
    "pequeñas.\n",
    "> - ¿Qué significa la frase “99% de confianza”?\n",
    "> - Suponga que el departamento de control de calidad\n",
    "de esta cadena de supermercados tiene la intención de  que la cantidad de carne molida en las charolas\n",
    "más pequeñas debe ser 1 libra en promedio. ¿El intervalo de confianza del inciso a debe ser del interés del departamento de control de calidad? Explique.\n",
    "\n",
    "**4.** Los resultados de una encuesta\n",
    "del Newsweek respecto a puntos de vista sobre el aborto\n",
    "dados en el ejercicio 7.66 mostró que de n  1002\n",
    "adultos, $39\\%$ favorecieron la postura del “derecho a\n",
    "la vida”, en tanto que $53\\%$ estuvieron “a favor de la\n",
    "elección libre”. La encuesta reportó un margen de error de más o menos $3\\%$.\n",
    " > - Construya un intervalo de confianza de $90\\%$ para la\n",
    "proporción de adultos que están a favor de la postura\n",
    "del “derecho a la vida”.\n",
    "> - Construya un intervalo de confianza de $90\\%$ para la\n",
    "proporción de adultos que están “a favor de la elección\n",
    "libre”."
   ]
  },
  {
   "attachments": {},
   "cell_type": "markdown",
   "metadata": {},
   "source": []
  }
 ],
 "metadata": {
  "kernelspec": {
   "display_name": "base",
   "language": "python",
   "name": "python3"
  },
  "language_info": {
   "codemirror_mode": {
    "name": "ipython",
    "version": 3
   },
   "file_extension": ".py",
   "mimetype": "text/x-python",
   "name": "python",
   "nbconvert_exporter": "python",
   "pygments_lexer": "ipython3",
   "version": "3.9.12"
  },
  "latex_envs": {
   "LaTeX_envs_menu_present": true,
   "autoclose": false,
   "autocomplete": true,
   "bibliofile": "biblio.bib",
   "cite_by": "apalike",
   "current_citInitial": 1,
   "eqLabelWithNumbers": true,
   "eqNumInitial": 1,
   "hotkeys": {
    "equation": "Ctrl-E",
    "itemize": "Ctrl-I"
   },
   "labels_anchors": false,
   "latex_user_defs": false,
   "report_style_numbering": false,
   "user_envs_cfg": false
  },
  "toc": {
   "base_numbering": 1,
   "nav_menu": {},
   "number_sections": false,
   "sideBar": true,
   "skip_h1_title": false,
   "title_cell": "Table of Contents",
   "title_sidebar": "Contents",
   "toc_cell": false,
   "toc_position": {
    "height": "calc(100% - 180px)",
    "left": "10px",
    "top": "150px",
    "width": "273.188px"
   },
   "toc_section_display": true,
   "toc_window_display": false
  }
 },
 "nbformat": 4,
 "nbformat_minor": 4
}
