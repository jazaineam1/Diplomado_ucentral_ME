{
 "cells": [
  {
   "cell_type": "markdown",
   "id": "b4d48379",
   "metadata": {},
   "source": [
    "| ![Julio Zainea](https://raw.githubusercontent.com/Izainea/Izainea.github.io/master/logo.png) | Curso de Introducción a la Analítica de Datos | Julio Zainea |\n",
    "|:---:|:---:|:---:|\n",
    "\n",
    "\n",
    "\n",
    "#  Probabilidad\n",
    "<img src=\"https://github.com/jazaineam1/Script-B-sicos/blob/master/Logo/computadora-portatil.png?raw=true\" width=\"200\" height=\"150\">\n",
    "\n",
    "## Introducción\n",
    "\n",
    "La probabilidad es una rama fundamental de las matemáticas y una herramienta esencial en diversas disciplinas científicas. En este cuaderno de Jupyter, exploraremos los conceptos iniciales de la teoría de la probabilidad y su utilidad en la resolución de problemas del mundo real.\n",
    "\n",
    "La probabilidad se ocupa del estudio de los fenómenos aleatorios, aquellos que presentan incertidumbre y cuyos resultados no se pueden predecir con certeza absoluta. A través de la probabilidad, podemos cuantificar y analizar la incertidumbre asociada a estos fenómenos, permitiéndonos tomar decisiones informadas y comprender mejor el mundo que nos rodea.\n",
    "\n",
    "## Breve historia de la probabilidad\n",
    "\n",
    "La teoría de la probabilidad tiene sus raíces en los juegos de azar y las apuestas, que han existido desde tiempos ancestrales. Sin embargo, el desarrollo formal de la probabilidad como una disciplina matemática comenzó en el siglo XVII con los trabajos pioneros de matemáticos como Blaise Pascal y Pierre de Fermat.\n",
    "\n",
    "En 1654, Pascal y Fermat intercambiaron correspondencia sobre un problema relacionado con el cálculo de probabilidades en un juego de dados. Estos intercambios dieron lugar a los fundamentos de la teoría de la probabilidad y sentaron las bases para el desarrollo posterior de esta disciplina.\n",
    "\n",
    "Posteriormente, en el siglo XVIII, el matemático suizo Leonhard Euler y el francés Pierre-Simon Laplace contribuyeron significativamente al avance de la teoría de la probabilidad. Euler desarrolló métodos para calcular probabilidades en juegos de cartas, mientras que Laplace propuso un enfoque más formal basado en la ley de los grandes números y el principio de la equiprobabilidad.\n",
    "\n",
    "A lo largo de los siglos XIX y XX, la teoría de la probabilidad se fue consolidando y ampliando sus aplicaciones. Con el advenimiento de la estadística como disciplina científica, la probabilidad encontró un campo fértil para su desarrollo y aplicaciones prácticas en diversas áreas, como la física, la biología, la economía, la ingeniería y muchas otras.\n",
    "\n",
    "## Utilidad de la probabilidad\n",
    "\n",
    "La probabilidad tiene numerosas aplicaciones en la vida cotidiana y en el ámbito científico. Algunos ejemplos de su utilidad incluyen:\n",
    "\n",
    "1. **Predicción del clima**: La meteorología utiliza modelos probabilísticos para predecir el clima, teniendo en cuenta la incertidumbre asociada a los fenómenos atmosféricos.\n",
    "\n",
    "2. **Análisis de riesgos**: La probabilidad se utiliza para evaluar y cuantificar los riesgos en diversas áreas, como la industria, la medicina y las finanzas. Permite tomar decisiones informadas y gestionar adecuadamente los posibles escenarios adversos.\n",
    "\n",
    "3. **Investigación científica**: La probabilidad es fundamental en la investigación científica, especialmente en la física cuántica y la teoría de la información, donde se estudian fenómenos aleatorios y se desarrollan algoritmos de cálculo probabilístico.\n",
    "\n",
    "4. **Juegos de azar**: La probabilidad es central en los juegos de azar, como los casinos y las loterías. Permite entender las posibilidades de ganar o perder en diferentes juegos y calcular las probabilidades de éxito.\n",
    "\n",
    "5. **Aprendizaje automático**: En el campo del aprendizaje automático y la inteligencia artificial, la probabilidad se utiliza para modelar y predecir eventos futuros, así como para tomar decisiones óptimas en función de la incertidumbre presente.\n",
    "\n",
    "## Datos curiosos sobre probabilidad\n",
    "\n",
    "A continuación, presentamos algunos datos curiosos relacionados con la teoría de la probabilidad:\n",
    "\n",
    "1. El término \"probabilidad\" proviene del latín \"probabilitas\" y significa \"calidad de ser probable\" o \"verosimilitud\".\n",
    "\n",
    "2. La teoría de la probabilidad se basa en la suposición de que todos los eventos posibles tienen una probabilidad asignada, que es un número entre 0 y 1, donde 0 significa que el evento es imposible y 1 significa que el evento es seguro.\n",
    "\n",
    "3. El estudio de la probabilidad está estrechamente relacionado con la teoría de conjuntos y la combinatoria, ya que utiliza conceptos como la cardinalidad de conjuntos y el conteo de posibilidades.\n",
    "\n",
    "4. La paradoja del cumpleaños es un problema clásico en probabilidad que plantea la pregunta de cuántas personas se necesitan en una habitación para que haya al menos dos personas que cumplan años el mismo día. Sorprendentemente, con solo 23 personas, hay más del 50% de probabilidad de que dos de ellas compartan el mismo cumpleaños.\n",
    "\n",
    "5. La teoría de la probabilidad se aplica en el diseño de algoritmos de compresión de datos, como el conocido algoritmo de compresión de archivos ZIP.\n",
    "\n"
   ]
  },
  {
   "cell_type": "markdown",
   "id": "06f06df8",
   "metadata": {},
   "source": [
    "\n",
    "\n",
    "## Experimento aleatorio y espacio muestral\n",
    "\n",
    "Un experimento aleatorio es aquel que puede producir diferentes resultados, y no podemos predecir con certeza cuál será el resultado específico. Por ejemplo, lanzar un dado es un experimento aleatorio, ya que no sabemos con certeza qué número saldrá.\n",
    "\n",
    "El **espacio muestral** es el conjunto de todos los posibles resultados de un experimento aleatorio. Por ejemplo, en el caso del lanzamiento de un dado, el espacio muestral sería $\\Omega=$ {1, 2, 3, 4, 5, 6}.\n",
    "\n",
    "Utilicemos Python para generar el espacio muestral del lanzamiento de un dado:\n",
    "\n",
    "```python\n",
    "espacio_muestral_dado = {1, 2, 3, 4, 5, 6}\n",
    "```\n"
   ]
  },
  {
   "cell_type": "code",
   "execution_count": null,
   "id": "6db49e8d",
   "metadata": {},
   "outputs": [],
   "source": []
  },
  {
   "cell_type": "markdown",
   "id": "d602f4e4",
   "metadata": {},
   "source": [
    "\n",
    "En este caso, hemos utilizado un conjunto (set) para representar el espacio muestral. Cada número representa una cara del dado.\n",
    "\n",
    "Ahora que hemos definido el espacio muestral, vamos a hablar sobre eventos y la probabilidad de ocurrencia de un evento.\n",
    "\n",
    "## Eventos y probabilidad\n",
    "\n",
    "Un **evento** es un subconjunto del espacio muestral. Representa un conjunto de resultados posibles del experimento aleatorio. Por ejemplo, en el lanzamiento de un dado, el evento \"obtener un número par\" sería el conjunto $A=${2, 4, 6}.\n",
    "\n",
    "La probabilidad de ocurrencia de un evento se define como la proporción entre el número de resultados favorables al evento y el número total de resultados posibles.\n",
    "\n",
    "Vamos a calcular la probabilidad de obtener un número par al lanzar un dado:\n",
    "\n",
    "$$P(A)=\\frac{|A|}{|\\Omega|}$$\n",
    "\n",
    "```python\n",
    "espacio_muestral_dado = {1, 2, 3, 4, 5, 6}\n",
    "evento_numero_par = {2, 4, 6}\n",
    "probabilidad_numero_par = len(evento_numero_par) / len(espacio_muestral_dado)\n",
    "print(\"La probabilidad de obtener un número par es:\", probabilidad_numero_par)\n",
    "```\n"
   ]
  },
  {
   "cell_type": "code",
   "execution_count": null,
   "id": "2dc1f563",
   "metadata": {},
   "outputs": [],
   "source": []
  },
  {
   "cell_type": "markdown",
   "id": "f06dd30d",
   "metadata": {},
   "source": [
    "\n",
    "En este caso, hemos calculado la probabilidad dividiendo el número de resultados favorables (3 números pares) entre el número total de resultados posibles (6 números en el espacio muestral). El resultado es 0.5, lo que significa que hay un 50% de probabilidad de obtener un número par al lanzar un dado.\n",
    "\n",
    "Esto es solo una introducción básica a la probabilidad. A medida que avancemos en el curso, exploraremos conceptos más avanzados y aplicaciones prácticas de la teoría de la probabilidad."
   ]
  },
  {
   "cell_type": "markdown",
   "id": "c4871665",
   "metadata": {},
   "source": [
    "\n",
    "\n",
    "## Conjuntos\n",
    "\n",
    "Un conjunto es una colección bien definida de objetos, que se llaman elementos del conjunto. En el contexto de la probabilidad, los conjuntos se utilizan para representar el espacio muestral y los eventos.\n",
    "\n",
    "Los conjuntos se pueden describir de varias formas:\n",
    "\n",
    "- Enumeración: Los elementos se enumeran entre llaves {}. Por ejemplo, el conjunto de los primeros tres números naturales se puede representar como {1, 2, 3}.\n",
    "\n",
    "- Propiedades: Se pueden establecer ciertas propiedades para determinar si un elemento pertenece o no al conjunto. Por ejemplo, el conjunto de los números pares se puede definir como {x | x es un número entero y x es divisible por 2}.\n",
    "\n",
    "- Notación de intervalo: En algunos casos, se pueden utilizar intervalos para representar conjuntos de números. Por ejemplo, el conjunto de números reales entre 0 y 1 (excluyendo los límites) se puede escribir como (0, 1).\n",
    "\n",
    "Es importante tener en cuenta que los conjuntos no contienen elementos duplicados y el orden de los elementos no importa.\n",
    "\n",
    "## Operaciones de conjuntos\n",
    "\n",
    "En la teoría de la probabilidad, se utilizan varias operaciones comunes de conjuntos para combinar conjuntos y realizar cálculos. Las principales operaciones son:\n",
    "\n",
    "- Unión: La unión de dos conjuntos A y B, denotada por A ∪ B, es el conjunto que contiene todos los elementos que pertenecen a A o a B (o ambos). Por ejemplo, si A = {1, 2, 3} y B = {3, 4, 5}, entonces A ∪ B = {1, 2, 3, 4, 5}.\n",
    "Primero, definamos dos conjuntos A y B:"
   ]
  },
  {
   "cell_type": "markdown",
   "id": "1d9c4fb3",
   "metadata": {},
   "source": [
    "\n",
    "\n",
    "Para realizar la unión de dos conjuntos, utilizamos el operador `|` o la función `union()`:\n",
    "\n",
    "```python\n",
    "union = A | B\n",
    "# O también:\n",
    "# union = A.union(B)\n",
    "print(\"Unión de conjuntos:\", union)\n",
    "```\n",
    "\n"
   ]
  },
  {
   "cell_type": "code",
   "execution_count": null,
   "id": "46290698",
   "metadata": {},
   "outputs": [],
   "source": []
  },
  {
   "cell_type": "markdown",
   "id": "0987592a",
   "metadata": {},
   "source": [
    "\n",
    "- Intersección: La intersección de dos conjuntos A y B, denotada por A ∩ B, es el conjunto que contiene todos los elementos que pertenecen tanto a A como a B. Por ejemplo, si A = {1, 2, 3} y B = {3, 4, 5}, entonces A ∩ B = {3}.\n",
    "\n",
    "\n",
    "\n",
    "\n",
    "Para realizar la intersección de dos conjuntos, utilizamos el operador `&` o la función `intersection()`:\n",
    "\n",
    "```python\n",
    "interseccion = A & B\n",
    "# O también:\n",
    "# interseccion = A.intersection(B)\n",
    "print(\"Intersección de conjuntos:\", interseccion)\n",
    "```\n",
    "\n"
   ]
  },
  {
   "cell_type": "code",
   "execution_count": null,
   "id": "29a22243",
   "metadata": {},
   "outputs": [],
   "source": []
  },
  {
   "cell_type": "markdown",
   "id": "39d9c08d",
   "metadata": {},
   "source": [
    "- Diferencia: La diferencia entre dos conjuntos A y B, denotada por A - B, es el conjunto que contiene todos los elementos que pertenecen a A pero no a B. Por ejemplo, si A = {1, 2, 3} y B = {3, 4, 5}, entonces A - B = {1, 2}.\n",
    "\n",
    "Para realizar la diferencia entre dos conjuntos, utilizamos el operador `-` o la función `difference()`:\n",
    "\n",
    "```python\n",
    "diferencia = A - B\n",
    "# O también:\n",
    "# diferencia = A.difference(B)\n",
    "print(\"Diferencia de conjuntos:\", diferencia)\n",
    "```\n",
    "\n",
    "El resultado será:\n",
    "\n",
    "```\n",
    "Diferencia de conjuntos: {1, 2}\n",
    "```\n"
   ]
  },
  {
   "cell_type": "code",
   "execution_count": null,
   "id": "460a7237",
   "metadata": {},
   "outputs": [],
   "source": []
  },
  {
   "cell_type": "markdown",
   "id": "a1e5a898",
   "metadata": {},
   "source": [
    "\n",
    "\n",
    "- Complemento: El complemento de un conjunto A con respecto a un conjunto universal U, denotado por A', es el conjunto que contiene todos los elementos de U que no pertenecen a A. En el contexto de la probabilidad, el conjunto universal representa todos los posibles resultados del experimento. Por ejemplo, si U es el conjunto de todos los números naturales y A es el conjunto de los números pares, entonces A' sería el conjunto de los números impares.\n",
    "\n",
    "\n",
    "Para calcular el complemento de un conjunto A con respecto a un conjunto universal U, podemos utilizar la operación de diferencia. En este ejemplo, asumiremos que el conjunto universal U es el conjunto de los números naturales hasta el 6 (inclusive):\n",
    "\n",
    "```python\n",
    "U = {0, 1, 2, 3, 4, 5, 6}\n",
    "complemento = U - A\n",
    "# O también:\n",
    "# complemento = U.difference(A)\n",
    "print(\"Complemento del conjunto A:\", complemento)\n",
    "```\n"
   ]
  },
  {
   "cell_type": "code",
   "execution_count": null,
   "id": "3bc25bd2",
   "metadata": {},
   "outputs": [],
   "source": []
  },
  {
   "cell_type": "markdown",
   "id": "a4c2b111",
   "metadata": {},
   "source": [
    "### Ejercicios de práctica\n",
    "1. Dado el conjunto A = {1, 2, 3, 4, 5} y B = {3, 4, 5, 6, 7}, encuentra la unión, la intersección y la diferencia entre A y B.\n",
    "\n",
    "2. Dado el conjunto U = {1, 2, 3, 4, 5, 6, 7, 8, 9, 10}, encuentra el complemento del conjunto A = {2, 4, 6, 8} con respecto a U.\n",
    "\n",
    "3. Dado el conjunto A = {1, 2, 3, 4, 5} y B = {4, 5, 6, 7, 8}, determina si A y B son conjuntos disjuntos (no tienen elementos en común).\n",
    "\n",
    "4. Puedes resolver estos ejercicios utilizando las operaciones de conjuntos en Python. ¡Anímate a intentarlo y verifica tus respuestas!\n",
    "\n",
    "5. Si tienes alguna pregunta adicional o necesitas más ejercicios, estaré encantado de ayudarte."
   ]
  },
  {
   "cell_type": "code",
   "execution_count": null,
   "id": "275c872b",
   "metadata": {},
   "outputs": [],
   "source": []
  }
 ],
 "metadata": {
  "kernelspec": {
   "display_name": "Python 3 (ipykernel)",
   "language": "python",
   "name": "python3"
  },
  "language_info": {
   "codemirror_mode": {
    "name": "ipython",
    "version": 3
   },
   "file_extension": ".py",
   "mimetype": "text/x-python",
   "name": "python",
   "nbconvert_exporter": "python",
   "pygments_lexer": "ipython3",
   "version": "3.9.12"
  }
 },
 "nbformat": 4,
 "nbformat_minor": 5
}
