{
 "cells": [
  {
   "attachments": {},
   "cell_type": "markdown",
   "metadata": {},
   "source": [
    "# Distribuciones Muestrales\n",
    "\n",
    "\n",
    "Cuando se selecciona una muestra aleatoria de una población, las medidas numéricas\n",
    "descriptivas que se calculen de la muestra se denominan estadísticas. Las estadísticas varían o cambian para cada muestra aleatoria diferente que se escoja; esto es, son\n",
    "variables aleatorias. Las distribuciones de probabilidad para estadísticas se llaman distribuciones muestrales porque, en muestreos repetidos, dan esta información:\n",
    "\n",
    "- Qué valores de la estadística pueden presentarse\n",
    "- Con qué frecuencia se presenta cada valor\n",
    "\n",
    "La **distribución muestral de una estadística** es la distribución de probabilidad para los posibles valores de la estadística, que resulta cuando muestras aleatorias de tamaño *n* se sacan repetidamente de la población.\n",
    "\n",
    "\n"
   ]
  },
  {
   "attachments": {},
   "cell_type": "markdown",
   "metadata": {},
   "source": [
    "## Ejemplo \n",
    "\n",
    "Deduciremos la distribución  de probabilidad del lanzamiento de un dado.\n",
    "sea $x$ la variable aleatoria: valor obtenido al lanzar un dado.\n",
    "\n",
    "| $x$    | 1   | 2   | 3   | 4   | 5   | 6   |\n",
    "|--------|-----|-----|-----|-----|-----|-----|\n",
    "| $P(x)$ | 1/6 | 1/6 | 1/6 | 1/6 | 1/6 | 1/6 |\n",
    "\n",
    "el gráfico de la distribución de probabilidad será:"
   ]
  },
  {
   "cell_type": "code",
   "execution_count": 1,
   "metadata": {
    "scrolled": true
   },
   "outputs": [
    {
     "data": {
      "image/png": "[encoded data removed]",
      "text/plain": [
       "<Figure size 432x288 with 1 Axes>"
      ]
     },
     "metadata": {
      "needs_background": "light"
     },
     "output_type": "display_data"
    }
   ],
   "source": [
    "import seaborn as sns\n",
    "import matplotlib.pyplot as plt\n",
    "import pandas as pd\n",
    "\n",
    "x = [1, 2, 3, 4, 5, 6]\n",
    "px = [1/6, 1/6, 1/6, 1/6, 1/6, 1/6]\n",
    "\n",
    "data = pd.DataFrame({'x': x, 'px': px})\n",
    "sns.barplot(x='x', y='px', data=data, color='red')\n",
    "\n",
    "plt.ylim(0, 0.5)\n",
    "plt.title('Gráfico de probabilidad de lanzamiento de un dado')\n",
    "\n",
    "plt.show()"
   ]
  },
  {
   "attachments": {},
   "cell_type": "markdown",
   "metadata": {},
   "source": [
    "Realicemos el lanzaiento de 2 dados y encontremos su valor promedio"
   ]
  },
  {
   "cell_type": "code",
   "execution_count": 2,
   "metadata": {
    "scrolled": true
   },
   "outputs": [
    {
     "name": "stdout",
     "output_type": "stream",
     "text": [
      "[2, 6]\n"
     ]
    },
    {
     "data": {
      "text/plain": [
       "4.0"
      ]
     },
     "execution_count": 2,
     "metadata": {},
     "output_type": "execute_result"
    }
   ],
   "source": [
    "import random\n",
    "import numpy as np\n",
    "\n",
    "x = [1, 2, 3, 4, 5, 6]\n",
    "dados2 = random.choices(x, k=2)\n",
    "print(dados2)  # lanzamiento de 2 dados, los dados pueden tomar el mismo valor\n",
    "\n",
    "media = np.mean(dados2)\n",
    "media  # cálculo del promedio del lanzamiento de los 2 dados"
   ]
  },
  {
   "attachments": {},
   "cell_type": "markdown",
   "metadata": {},
   "source": [
    "¿que sucede si se realiza el lanzamiento de los dados en muchas ocaciones, digamos 100?\n"
   ]
  },
  {
   "attachments": {},
   "cell_type": "markdown",
   "metadata": {},
   "source": [
    "para esto identificaremos la función ```for ``` en python"
   ]
  },
  {
   "cell_type": "code",
   "execution_count": 4,
   "metadata": {},
   "outputs": [
    {
     "name": "stdout",
     "output_type": "stream",
     "text": [
      "1\n",
      "2\n",
      "3\n",
      "4\n",
      "5\n"
     ]
    }
   ],
   "source": [
    "for i in range(1, 6):\n",
    "    print(i)"
   ]
  },
  {
   "attachments": {},
   "cell_type": "markdown",
   "metadata": {},
   "source": [
    "los valores son:\n",
    "- función ```for() ``` la cual es la identificación de un ciclo\n",
    "- valor ```i in range(1,6)``` indica desde donde inicia hasta donde termina el ciclo y cual es el valor de indexación\n",
    "- ```{ f(i) }``` función que será aplicada de manera ciclica"
   ]
  },
  {
   "cell_type": "code",
   "execution_count": 10,
   "metadata": {},
   "outputs": [
    {
     "data": {
      "text/html": [
       "<div>\n",
       "<style scoped>\n",
       "    .dataframe tbody tr th:only-of-type {\n",
       "        vertical-align: middle;\n",
       "    }\n",
       "\n",
       "    .dataframe tbody tr th {\n",
       "        vertical-align: top;\n",
       "    }\n",
       "\n",
       "    .dataframe thead th {\n",
       "        text-align: right;\n",
       "    }\n",
       "</style>\n",
       "<table border=\"1\" class=\"dataframe\">\n",
       "  <thead>\n",
       "    <tr style=\"text-align: right;\">\n",
       "      <th></th>\n",
       "      <th>0</th>\n",
       "      <th>1</th>\n",
       "      <th>Media</th>\n",
       "    </tr>\n",
       "  </thead>\n",
       "  <tbody>\n",
       "    <tr>\n",
       "      <th>0</th>\n",
       "      <td>6.0</td>\n",
       "      <td>4.0</td>\n",
       "      <td>5.0</td>\n",
       "    </tr>\n",
       "    <tr>\n",
       "      <th>1</th>\n",
       "      <td>5.0</td>\n",
       "      <td>2.0</td>\n",
       "      <td>3.5</td>\n",
       "    </tr>\n",
       "    <tr>\n",
       "      <th>2</th>\n",
       "      <td>3.0</td>\n",
       "      <td>4.0</td>\n",
       "      <td>3.5</td>\n",
       "    </tr>\n",
       "    <tr>\n",
       "      <th>3</th>\n",
       "      <td>2.0</td>\n",
       "      <td>1.0</td>\n",
       "      <td>1.5</td>\n",
       "    </tr>\n",
       "    <tr>\n",
       "      <th>4</th>\n",
       "      <td>3.0</td>\n",
       "      <td>1.0</td>\n",
       "      <td>2.0</td>\n",
       "    </tr>\n",
       "    <tr>\n",
       "      <th>5</th>\n",
       "      <td>2.0</td>\n",
       "      <td>4.0</td>\n",
       "      <td>3.0</td>\n",
       "    </tr>\n",
       "    <tr>\n",
       "      <th>6</th>\n",
       "      <td>2.0</td>\n",
       "      <td>6.0</td>\n",
       "      <td>4.0</td>\n",
       "    </tr>\n",
       "    <tr>\n",
       "      <th>7</th>\n",
       "      <td>3.0</td>\n",
       "      <td>3.0</td>\n",
       "      <td>3.0</td>\n",
       "    </tr>\n",
       "    <tr>\n",
       "      <th>8</th>\n",
       "      <td>1.0</td>\n",
       "      <td>1.0</td>\n",
       "      <td>1.0</td>\n",
       "    </tr>\n",
       "    <tr>\n",
       "      <th>9</th>\n",
       "      <td>2.0</td>\n",
       "      <td>5.0</td>\n",
       "      <td>3.5</td>\n",
       "    </tr>\n",
       "  </tbody>\n",
       "</table>\n",
       "</div>"
      ],
      "text/plain": [
       "     0    1  Media\n",
       "0  6.0  4.0    5.0\n",
       "1  5.0  2.0    3.5\n",
       "2  3.0  4.0    3.5\n",
       "3  2.0  1.0    1.5\n",
       "4  3.0  1.0    2.0\n",
       "5  2.0  4.0    3.0\n",
       "6  2.0  6.0    4.0\n",
       "7  3.0  3.0    3.0\n",
       "8  1.0  1.0    1.0\n",
       "9  2.0  5.0    3.5"
      ]
     },
     "execution_count": 10,
     "metadata": {},
     "output_type": "execute_result"
    }
   ],
   "source": [
    "\n",
    "dados = np.empty((10, 2))\n",
    "media = []\n",
    "\n",
    "for i in range(10):\n",
    "    dados[i, :] = np.random.choice(x, size=2, replace=True)\n",
    "    media.append(np.mean(dados[i, :]))\n",
    "\n",
    "dados=pd.DataFrame(dados)\n",
    "dados['Media']=dados.mean(axis=1)\n",
    "dados"
   ]
  },
  {
   "attachments": {},
   "cell_type": "markdown",
   "metadata": {},
   "source": [
    "###  Ejercicio: realice la edición del código para realizar 100 simulaciones del lanzamiento de  3 dados."
   ]
  },
  {
   "cell_type": "code",
   "execution_count": 14,
   "metadata": {},
   "outputs": [
    {
     "data": {
      "text/html": [
       "<div>\n",
       "<style scoped>\n",
       "    .dataframe tbody tr th:only-of-type {\n",
       "        vertical-align: middle;\n",
       "    }\n",
       "\n",
       "    .dataframe tbody tr th {\n",
       "        vertical-align: top;\n",
       "    }\n",
       "\n",
       "    .dataframe thead th {\n",
       "        text-align: right;\n",
       "    }\n",
       "</style>\n",
       "<table border=\"1\" class=\"dataframe\">\n",
       "  <thead>\n",
       "    <tr style=\"text-align: right;\">\n",
       "      <th></th>\n",
       "      <th>0</th>\n",
       "      <th>1</th>\n",
       "      <th>2</th>\n",
       "      <th>Media</th>\n",
       "    </tr>\n",
       "  </thead>\n",
       "  <tbody>\n",
       "    <tr>\n",
       "      <th>0</th>\n",
       "      <td>4.0</td>\n",
       "      <td>3.0</td>\n",
       "      <td>2.0</td>\n",
       "      <td>3.000000</td>\n",
       "    </tr>\n",
       "    <tr>\n",
       "      <th>1</th>\n",
       "      <td>5.0</td>\n",
       "      <td>5.0</td>\n",
       "      <td>1.0</td>\n",
       "      <td>3.666667</td>\n",
       "    </tr>\n",
       "    <tr>\n",
       "      <th>2</th>\n",
       "      <td>6.0</td>\n",
       "      <td>2.0</td>\n",
       "      <td>1.0</td>\n",
       "      <td>3.000000</td>\n",
       "    </tr>\n",
       "    <tr>\n",
       "      <th>3</th>\n",
       "      <td>5.0</td>\n",
       "      <td>1.0</td>\n",
       "      <td>5.0</td>\n",
       "      <td>3.666667</td>\n",
       "    </tr>\n",
       "    <tr>\n",
       "      <th>4</th>\n",
       "      <td>3.0</td>\n",
       "      <td>5.0</td>\n",
       "      <td>1.0</td>\n",
       "      <td>3.000000</td>\n",
       "    </tr>\n",
       "    <tr>\n",
       "      <th>...</th>\n",
       "      <td>...</td>\n",
       "      <td>...</td>\n",
       "      <td>...</td>\n",
       "      <td>...</td>\n",
       "    </tr>\n",
       "    <tr>\n",
       "      <th>95</th>\n",
       "      <td>6.0</td>\n",
       "      <td>4.0</td>\n",
       "      <td>5.0</td>\n",
       "      <td>5.000000</td>\n",
       "    </tr>\n",
       "    <tr>\n",
       "      <th>96</th>\n",
       "      <td>1.0</td>\n",
       "      <td>4.0</td>\n",
       "      <td>6.0</td>\n",
       "      <td>3.666667</td>\n",
       "    </tr>\n",
       "    <tr>\n",
       "      <th>97</th>\n",
       "      <td>4.0</td>\n",
       "      <td>3.0</td>\n",
       "      <td>2.0</td>\n",
       "      <td>3.000000</td>\n",
       "    </tr>\n",
       "    <tr>\n",
       "      <th>98</th>\n",
       "      <td>4.0</td>\n",
       "      <td>1.0</td>\n",
       "      <td>6.0</td>\n",
       "      <td>3.666667</td>\n",
       "    </tr>\n",
       "    <tr>\n",
       "      <th>99</th>\n",
       "      <td>4.0</td>\n",
       "      <td>3.0</td>\n",
       "      <td>6.0</td>\n",
       "      <td>4.333333</td>\n",
       "    </tr>\n",
       "  </tbody>\n",
       "</table>\n",
       "<p>100 rows × 4 columns</p>\n",
       "</div>"
      ],
      "text/plain": [
       "      0    1    2     Media\n",
       "0   4.0  3.0  2.0  3.000000\n",
       "1   5.0  5.0  1.0  3.666667\n",
       "2   6.0  2.0  1.0  3.000000\n",
       "3   5.0  1.0  5.0  3.666667\n",
       "4   3.0  5.0  1.0  3.000000\n",
       "..  ...  ...  ...       ...\n",
       "95  6.0  4.0  5.0  5.000000\n",
       "96  1.0  4.0  6.0  3.666667\n",
       "97  4.0  3.0  2.0  3.000000\n",
       "98  4.0  1.0  6.0  3.666667\n",
       "99  4.0  3.0  6.0  4.333333\n",
       "\n",
       "[100 rows x 4 columns]"
      ]
     },
     "execution_count": 14,
     "metadata": {},
     "output_type": "execute_result"
    }
   ],
   "source": [
    "\n",
    "dados = np.empty((100, 3))\n",
    "media = []\n",
    "\n",
    "for i in range(100):\n",
    "    dados[i, :] = np.random.choice(x, size=3, replace=True)\n",
    "    media.append(np.mean(dados[i, :]))\n",
    "\n",
    "dados=pd.DataFrame(dados)\n",
    "dados['Media']=dados.mean(axis=1)\n",
    "dados"
   ]
  },
  {
   "cell_type": "code",
   "execution_count": 16,
   "metadata": {},
   "outputs": [
    {
     "data": {
      "image/png": "[encoded data removed]",
      "text/plain": [
       "<Figure size 432x288 with 1 Axes>"
      ]
     },
     "metadata": {
      "needs_background": "light"
     },
     "output_type": "display_data"
    }
   ],
   "source": [
    "\n",
    "sns.histplot(media, bins=10, color='darkblue', kde=True)\n",
    "plt.title(\"Histograma de promedio\")\n",
    "plt.xlabel(\"Promedio\")\n",
    "plt.ylabel(\"Densidad\")\n",
    "plt.show()"
   ]
  },
  {
   "attachments": {},
   "cell_type": "markdown",
   "metadata": {},
   "source": [
    "## Teorema del Límite Central\n",
    "\n",
    "Si muestras aleatorias de *n* observaciones se sacan de una población no normal con\n",
    "media finita $\\mu$ y desviación estándar $\\sigma$, entonces, cuando *n* es grande, la distribución de\n",
    "muestreo de la media muestral $\\bar{x}$  está distribuida normalmente en forma aproximada, con media $\\mu$ y desviación estándar $\\frac{\\sigma}{\\sqrt{n}}$.\n",
    "\n",
    " La aproximación se hace más precisa cuando n se hace grande."
   ]
  },
  {
   "attachments": {},
   "cell_type": "markdown",
   "metadata": {},
   "source": [
    "### ¿CÓMO DETERMINO CUÁNDO EL TAMAÑO MUESTRAL ES LO SUFICIENTE GRANDE?\n",
    "- Si la población muestreada es normal, entonces la distribución muestral de x  también será normal, sin importar cuál sea el tamaño de la muestra que se escoja. Este resultado se puede demostrar en forma teórica, pero no debe ser demasiado \n",
    "difícil aceptarla sin prueba.\n",
    "-  Cuando la población muestreada es aproximadamente simétrica, la distribución muestral de x  se hace también aproximadamente normal para valores relativamente pequeños de *n*. Recuerde la rapidez con la que la distribución “plana” del ejemplo de los dados tomó la forma de montículo *(n=3)*.\n",
    "- Cuando la población muestreada está sesgada, el tamaño muestral *n* debe ser más grande, con *n* al menos 30 antes que la distribución muestral de *x*  se haga aproximadamente normal"
   ]
  },
  {
   "attachments": {},
   "cell_type": "markdown",
   "metadata": {},
   "source": [
    "##  LA DISTRIBUCIÓN MUESTRAL DE LA MEDIA MUESTRAL $(\\bar{x})$.\n",
    "\n",
    "Si una muestra aleatoria de *n* mediciones se selecciona de una población con media $\\mu$ y desviación estándar $\\sigma$, la distribución muestral de la media muestral $\\bar{x}$  tendrá media $\\mu$ y desviación estándar $\\frac{\\sigma}{\\sqrt{n}}$.\n",
    "\n",
    "Si la población tiene una distribución normal, la distribución muestral de $\\bar{x}$  estará\n",
    "exactamente distribuida en forma normal, cualquiera que sea el tamaño muestral\n",
    "*n*.\n",
    "\n",
    "Si la distribución poblacional es no normal, la distribución muestral de $\\bar{x}  estará distribuida normalmente en forma aproximada para muestras grandes (por el teorema del límite central).\n",
    "\n",
    "### Error estándar\n",
    "\n",
    "La desviación estándar de una estadística empleada como estimador de un parámetro poblacional también se denomina error estándar del estimador (abreviado SE) porque se refiere a la precisión denomina. Por tanto, la desviación estándar de $\\bar{x}$\n",
    ", dada por $\\frac{\\sigma}{\\sqrt{n}}$ , se conoce como error estándar de la media (abreviada $SE(\\bar{x})$ o\n",
    "sólo $SE$)."
   ]
  },
  {
   "attachments": {},
   "cell_type": "markdown",
   "metadata": {},
   "source": [
    "### Ejemplo \n",
    "\n",
    "La duración de la enfermedad de Alzheimer desde el principio de síntomas hasta el fallecimiento varía de 3 a 20 años; el promedio es $8$ años con una desviación estándar de 4\n",
    "años. El administrador de un gran centro médico al azar selecciona los registros médicos\n",
    "de 30 pacientes de Alzheimer ya fallecidos, de la base de datos del centro médico y anota\n",
    "la duración promedio. Encuentre las probabilidades aproximadas para estos eventos:\n",
    "\n",
    "1. La duración promedio es menor a $7$ años.\n",
    "2. La duración promedio excede de $7$ años.\n",
    "3. La duración promedio está a no más de 1 año de la media poblacional $\\mu= 8$\n",
    "\n",
    "\n",
    "##  Ejercicio \n",
    "De acuerdo con un estudio del Internal Revenue Service, los contribuyentes tardan $330$ minutos\n",
    "en promedio en preparar, copiar y archivar en un medio electrónico la forma fiscal $1040$. Esta distribución de tiempos se rige por una distribución normal, y la desviación estándar es de 80 minutos. Un organismo de control selecciona una muestra aleatoria de 40 consumidores.\n",
    "1. ¿Cuál es el error estándar de la media de este ejemplo?\n",
    "2. ¿Cuál es la probabilidad de que la media de la muestra sea mayor que $320$ minutos?\n",
    "3. ¿Cuál es la probabilidad de que la media de la muestra se encuentre entre $320$ y $350$ minutos?\n",
    "4. ¿Cuál es la probabilidad de que la media de la muestra sea superior que $350$ minutos?"
   ]
  },
  {
   "attachments": {},
   "cell_type": "markdown",
   "metadata": {},
   "source": [
    "## DISTRIBUCIÓN MUESTRAL DE LA PROPORCIÓN MUESTRAL (p)\n",
    "\n",
    "Si una muestra aleatoria de $n$ observaciones se selecciona de una población binomial con parámetro $\\pi$, entonces la distribución muestral de la proporción muestral\n",
    "\n",
    "$$p=\\frac{x}{n}$$\n",
    "tendrá una media $\\pi$ y una desviación estándar $SE(p)=\\sqrt{\\frac{\\pi(1-\\pi)}{n}}$\n",
    "Cuando el tamaño muestral $n$ es grande, la distribución muestral de $p$ puede ser\n",
    "aproximada por una distribución normal. La aproximación será adecuada si $n\\pi >\n",
    "5$ y $n(1-\\pi)> 5$."
   ]
  },
  {
   "attachments": {},
   "cell_type": "markdown",
   "metadata": {},
   "source": [
    "### Ejemplo \n",
    "En una encuesta, a 500 madres y padres se les preguntó sobre la importancia del deporte\n",
    "para hijos e hijas. De los padres entrevistados, 60% estuvieron de acuerdo que los géneros son iguales y deben tener iguales oportunidades de participar en deportes. Describa la distribución muestral de la proporción muestral $p$ de padres que están de acuerdo en que los géneros son iguales y deben tener iguales oportunidades.\n",
    "\n",
    "### Ejercicio \n",
    "\n",
    "¿Es usted un “puritano” del\n",
    "chocolate, o le gustan otros ingredientes en su chocolate?\n",
    "American Demographics informa que casi $75\\%$ de\n",
    "los consumidores gustan de ingredientes tradicionales\n",
    "como nueces o caramelos en su chocolate. Son menos \n",
    "entusiastas hacia el gusto de la menta o el café, que dan\n",
    "sabores más distintivos. Una muestra aleatoria de $200$\n",
    "consumidores se selecciona y se registra el número de\n",
    "quienes gustan de las nueces o caramelo en su chocolate.\n",
    "\n",
    "1. ¿Cuál es la distribución muestral aproximada para la proporción muestral $p$? ¿Cuáles son la media y\n",
    "distribución estándar para esta distribución?\n",
    "2.  ¿Cuál es la probabilidad de que el porcentaje muestral sea mayor a $80\\%$?\n",
    "3.  ¿Dentro de qué límites se esperaría que la proporción muestral se encuentre alrededor de $95\\%$ del tiempo? "
   ]
  }
 ],
 "metadata": {
  "kernelspec": {
   "display_name": "base",
   "language": "python",
   "name": "python3"
  },
  "language_info": {
   "codemirror_mode": {
    "name": "ipython",
    "version": 3
   },
   "file_extension": ".py",
   "mimetype": "text/x-python",
   "name": "python",
   "nbconvert_exporter": "python",
   "pygments_lexer": "ipython3",
   "version": "3.9.12"
  },
  "latex_envs": {
   "LaTeX_envs_menu_present": true,
   "autoclose": false,
   "autocomplete": true,
   "bibliofile": "biblio.bib",
   "cite_by": "apalike",
   "current_citInitial": 1,
   "eqLabelWithNumbers": true,
   "eqNumInitial": 1,
   "hotkeys": {
    "equation": "Ctrl-E",
    "itemize": "Ctrl-I"
   },
   "labels_anchors": false,
   "latex_user_defs": false,
   "report_style_numbering": false,
   "user_envs_cfg": false
  },
  "varInspector": {
   "cols": {
    "lenName": 16,
    "lenType": 16,
    "lenVar": 40
   },
   "kernels_config": {
    "python": {
     "delete_cmd_postfix": "",
     "delete_cmd_prefix": "del ",
     "library": "var_list.py",
     "varRefreshCmd": "print(var_dic_list())"
    },
    "r": {
     "delete_cmd_postfix": ") ",
     "delete_cmd_prefix": "rm(",
     "library": "var_list.r",
     "varRefreshCmd": "cat(var_dic_list()) "
    }
   },
   "types_to_exclude": [
    "module",
    "function",
    "builtin_function_or_method",
    "instance",
    "_Feature"
   ],
   "window_display": false
  }
 },
 "nbformat": 4,
 "nbformat_minor": 4
}
