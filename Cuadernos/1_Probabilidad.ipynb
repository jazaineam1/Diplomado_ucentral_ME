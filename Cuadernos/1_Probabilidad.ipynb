{
  "cells": [
    {
      "cell_type": "markdown",
      "metadata": {
        "id": "view-in-github",
        "colab_type": "text"
      },
      "source": [
        "<a href=\"https://colab.research.google.com/github/jazaineam1/Diplomado_ucentral_ME/blob/main/Cuadernos/1_Probabilidad.ipynb\" target=\"_parent\"><img src=\"https://colab.research.google.com/assets/colab-badge.svg\" alt=\"Open In Colab\"/></a>"
      ]
    },
    {
      "cell_type": "markdown",
      "id": "b4d48379",
      "metadata": {
        "id": "b4d48379"
      },
      "source": [
        "\n",
        "## ***Universidad Central***\n",
        ">## **Dirección de Educación Continua.**\n",
        "\n",
        "\n",
        "\n",
        "![Imágen1](https://www.ucentral.edu.co/sites/default/files/logo_1.png)\n",
        "### Clase 7 -  Introducción a Probabilidad\n",
        "\n",
        "\n",
        "\n",
        "<img src=\"https://github.com/jazaineam1/Script-B-sicos/blob/master/Logo/computadora-portatil.png?raw=true\" width=\"200\" height=\"150\">\n",
        "\n",
        "## Introducción\n",
        "\n",
        "La probabilidad es una rama fundamental de las matemáticas y una herramienta esencial en diversas disciplinas científicas. En este cuaderno de Jupyter, exploraremos los conceptos iniciales de la teoría de la probabilidad y su utilidad en la resolución de problemas del mundo real.\n",
        "\n",
        "La probabilidad se ocupa del estudio de los fenómenos aleatorios, aquellos que presentan incertidumbre y cuyos resultados no se pueden predecir con certeza absoluta. A través de la probabilidad, podemos cuantificar y analizar la incertidumbre asociada a estos fenómenos, permitiéndonos tomar decisiones informadas y comprender mejor el mundo que nos rodea.\n",
        "\n",
        "## Breve historia de la probabilidad\n",
        "\n",
        "La teoría de la probabilidad tiene sus raíces en los juegos de azar y las apuestas, que han existido desde tiempos ancestrales. Sin embargo, el desarrollo formal de la probabilidad como una disciplina matemática comenzó en el siglo XVII con los trabajos pioneros de matemáticos como Blaise Pascal y Pierre de Fermat.\n",
        "\n",
        "En 1654, Pascal y Fermat intercambiaron correspondencia sobre un problema relacionado con el cálculo de probabilidades en un juego de dados. Estos intercambios dieron lugar a los fundamentos de la teoría de la probabilidad y sentaron las bases para el desarrollo posterior de esta disciplina.\n",
        "\n",
        "Posteriormente, en el siglo XVIII, el matemático suizo Leonhard Euler y el francés Pierre-Simon Laplace contribuyeron significativamente al avance de la teoría de la probabilidad. Euler desarrolló métodos para calcular probabilidades en juegos de cartas, mientras que Laplace propuso un enfoque más formal basado en la ley de los grandes números y el principio de la equiprobabilidad.\n",
        "\n",
        "A lo largo de los siglos XIX y XX, la teoría de la probabilidad se fue consolidando y ampliando sus aplicaciones. Con el advenimiento de la estadística como disciplina científica, la probabilidad encontró un campo fértil para su desarrollo y aplicaciones prácticas en diversas áreas, como la física, la biología, la economía, la ingeniería y muchas otras.\n",
        "\n",
        "## Utilidad de la probabilidad\n",
        "\n",
        "La probabilidad tiene numerosas aplicaciones en la vida cotidiana y en el ámbito científico. Algunos ejemplos de su utilidad incluyen:\n",
        "\n",
        "1. **Predicción del clima**: La meteorología utiliza modelos probabilísticos para predecir el clima, teniendo en cuenta la incertidumbre asociada a los fenómenos atmosféricos.\n",
        "\n",
        "2. **Análisis de riesgos**: La probabilidad se utiliza para evaluar y cuantificar los riesgos en diversas áreas, como la industria, la medicina y las finanzas. Permite tomar decisiones informadas y gestionar adecuadamente los posibles escenarios adversos.\n",
        "\n",
        "3. **Investigación científica**: La probabilidad es fundamental en la investigación científica, especialmente en la física cuántica y la teoría de la información, donde se estudian fenómenos aleatorios y se desarrollan algoritmos de cálculo probabilístico.\n",
        "\n",
        "4. **Juegos de azar**: La probabilidad es central en los juegos de azar, como los casinos y las loterías. Permite entender las posibilidades de ganar o perder en diferentes juegos y calcular las probabilidades de éxito.\n",
        "\n",
        "5. **Aprendizaje automático**: En el campo del aprendizaje automático y la inteligencia artificial, la probabilidad se utiliza para modelar y predecir eventos futuros, así como para tomar decisiones óptimas en función de la incertidumbre presente.\n",
        "\n",
        "## Datos curiosos sobre probabilidad\n",
        "\n",
        "A continuación, presentamos algunos datos curiosos relacionados con la teoría de la probabilidad:\n",
        "\n",
        "1. El término \"probabilidad\" proviene del latín \"probabilitas\" y significa \"calidad de ser probable\" o \"verosimilitud\".\n",
        "\n",
        "2. La teoría de la probabilidad se basa en la suposición de que todos los eventos posibles tienen una probabilidad asignada, que es un número entre 0 y 1, donde 0 significa que el evento es imposible y 1 significa que el evento es seguro.\n",
        "\n",
        "3. El estudio de la probabilidad está estrechamente relacionado con la teoría de conjuntos y la combinatoria, ya que utiliza conceptos como la cardinalidad de conjuntos y el conteo de posibilidades.\n",
        "\n",
        "4. La paradoja del cumpleaños es un problema clásico en probabilidad que plantea la pregunta de cuántas personas se necesitan en una habitación para que haya al menos dos personas que cumplan años el mismo día. Sorprendentemente, con solo 23 personas, hay más del 50% de probabilidad de que dos de ellas compartan el mismo cumpleaños.\n",
        "\n",
        "5. La teoría de la probabilidad se aplica en el diseño de algoritmos de compresión de datos, como el conocido algoritmo de compresión de archivos ZIP.\n",
        "\n"
      ]
    },
    {
      "cell_type": "markdown",
      "id": "06f06df8",
      "metadata": {
        "id": "06f06df8"
      },
      "source": [
        "\n",
        "\n",
        "## Experimento aleatorio y espacio muestral\n",
        "\n",
        "Un experimento aleatorio es aquel que puede producir diferentes resultados, y no podemos predecir con certeza cuál será el resultado específico. Por ejemplo, lanzar un dado es un experimento aleatorio, ya que no sabemos con certeza qué número saldrá.\n",
        "\n",
        "El **espacio muestral** es el conjunto de todos los posibles resultados de un experimento aleatorio. Por ejemplo, en el caso del lanzamiento de un dado, el espacio muestral sería $\\Omega=$ {1, 2, 3, 4, 5, 6}.\n",
        "\n",
        "Utilicemos Python para generar el espacio muestral del lanzamiento de un dado:\n",
        "\n",
        "```python\n",
        "espacio_muestral_dado = {1, 2, 3, 4, 5, 6}\n",
        "```\n"
      ]
    },
    {
      "cell_type": "code",
      "execution_count": null,
      "id": "6db49e8d",
      "metadata": {
        "id": "6db49e8d"
      },
      "outputs": [],
      "source": []
    },
    {
      "cell_type": "markdown",
      "id": "d602f4e4",
      "metadata": {
        "id": "d602f4e4"
      },
      "source": [
        "\n",
        "En este caso, hemos utilizado un conjunto (set) para representar el espacio muestral. Cada número representa una cara del dado.\n",
        "\n",
        "Ahora que hemos definido el espacio muestral, vamos a hablar sobre eventos y la probabilidad de ocurrencia de un evento.\n",
        "\n",
        "## Eventos y probabilidad\n",
        "\n",
        "Un **evento** es un subconjunto del espacio muestral. Representa un conjunto de resultados posibles del experimento aleatorio. Por ejemplo, en el lanzamiento de un dado, el evento \"obtener un número par\" sería el conjunto $A=${2, 4, 6}.\n",
        "\n",
        "La probabilidad de ocurrencia de un evento se define como la proporción entre el número de resultados favorables al evento y el número total de resultados posibles.\n",
        "\n",
        "Vamos a calcular la probabilidad de obtener un número par al lanzar un dado:\n",
        "\n",
        "$$P(A)=\\frac{|A|}{|\\Omega|}$$\n",
        "\n",
        "```python\n",
        "espacio_muestral_dado = {1, 2, 3, 4, 5, 6}\n",
        "evento_numero_par = {2, 4, 6}\n",
        "probabilidad_numero_par = len(evento_numero_par) / len(espacio_muestral_dado)\n",
        "print(\"La probabilidad de obtener un número par es:\", probabilidad_numero_par)\n",
        "```\n"
      ]
    },
    {
      "cell_type": "code",
      "execution_count": null,
      "id": "2dc1f563",
      "metadata": {
        "id": "2dc1f563"
      },
      "outputs": [],
      "source": []
    },
    {
      "cell_type": "markdown",
      "id": "f06dd30d",
      "metadata": {
        "id": "f06dd30d"
      },
      "source": [
        "\n",
        "En este caso, hemos calculado la probabilidad dividiendo el número de resultados favorables (3 números pares) entre el número total de resultados posibles (6 números en el espacio muestral). El resultado es 0.5, lo que significa que hay un 50% de probabilidad de obtener un número par al lanzar un dado.\n",
        "\n",
        "Esto es solo una introducción básica a la probabilidad. A medida que avancemos en el curso, exploraremos conceptos más avanzados y aplicaciones prácticas de la teoría de la probabilidad."
      ]
    },
    {
      "cell_type": "markdown",
      "id": "c4871665",
      "metadata": {
        "id": "c4871665"
      },
      "source": [
        "\n",
        "\n",
        "## Conjuntos\n",
        "\n",
        "Un conjunto es una colección bien definida de objetos, que se llaman elementos del conjunto. En el contexto de la probabilidad, los conjuntos se utilizan para representar el espacio muestral y los eventos.\n",
        "\n",
        "Los conjuntos se pueden describir de varias formas:\n",
        "\n",
        "- Enumeración: Los elementos se enumeran entre llaves {}. Por ejemplo, el conjunto de los primeros tres números naturales se puede representar como {1, 2, 3}.\n",
        "\n",
        "- Propiedades: Se pueden establecer ciertas propiedades para determinar si un elemento pertenece o no al conjunto. Por ejemplo, el conjunto de los números pares se puede definir como {x | x es un número entero y x es divisible por 2}.\n",
        "\n",
        "- Notación de intervalo: En algunos casos, se pueden utilizar intervalos para representar conjuntos de números. Por ejemplo, el conjunto de números reales entre 0 y 1 (excluyendo los límites) se puede escribir como (0, 1).\n",
        "\n",
        "Es importante tener en cuenta que los conjuntos no contienen elementos duplicados y el orden de los elementos no importa.\n",
        "\n",
        "## Operaciones de conjuntos\n",
        "\n",
        "En la teoría de la probabilidad, se utilizan varias operaciones comunes de conjuntos para combinar conjuntos y realizar cálculos. Las principales operaciones son:\n",
        "\n",
        "- Unión: La unión de dos conjuntos A y B, denotada por A ∪ B, es el conjunto que contiene todos los elementos que pertenecen a A o a B (o ambos). Por ejemplo, si A = {1, 2, 3} y B = {3, 4, 5}, entonces A ∪ B = {1, 2, 3, 4, 5}.\n",
        "Primero, definamos dos conjuntos A y B:"
      ]
    },
    {
      "cell_type": "markdown",
      "id": "1d9c4fb3",
      "metadata": {
        "id": "1d9c4fb3"
      },
      "source": [
        "\n",
        "\n",
        "Para realizar la unión de dos conjuntos, utilizamos el operador `|` o la función `union()`:\n",
        "\n",
        "```python\n",
        "union = A | B\n",
        "# O también:\n",
        "# union = A.union(B)\n",
        "print(\"Unión de conjuntos:\", union)\n",
        "```\n",
        "\n"
      ]
    },
    {
      "cell_type": "code",
      "execution_count": null,
      "id": "46290698",
      "metadata": {
        "id": "46290698"
      },
      "outputs": [],
      "source": []
    },
    {
      "cell_type": "markdown",
      "id": "0987592a",
      "metadata": {
        "id": "0987592a"
      },
      "source": [
        "\n",
        "- Intersección: La intersección de dos conjuntos A y B, denotada por A ∩ B, es el conjunto que contiene todos los elementos que pertenecen tanto a A como a B. Por ejemplo, si A = {1, 2, 3} y B = {3, 4, 5}, entonces A ∩ B = {3}.\n",
        "\n",
        "\n",
        "\n",
        "\n",
        "Para realizar la intersección de dos conjuntos, utilizamos el operador `&` o la función `intersection()`:\n",
        "\n",
        "```python\n",
        "interseccion = A & B\n",
        "# O también:\n",
        "# interseccion = A.intersection(B)\n",
        "print(\"Intersección de conjuntos:\", interseccion)\n",
        "```\n",
        "\n"
      ]
    },
    {
      "cell_type": "code",
      "execution_count": null,
      "id": "29a22243",
      "metadata": {
        "id": "29a22243"
      },
      "outputs": [],
      "source": []
    },
    {
      "cell_type": "markdown",
      "id": "39d9c08d",
      "metadata": {
        "id": "39d9c08d"
      },
      "source": [
        "- Diferencia: La diferencia entre dos conjuntos A y B, denotada por A - B, es el conjunto que contiene todos los elementos que pertenecen a A pero no a B. Por ejemplo, si A = {1, 2, 3} y B = {3, 4, 5}, entonces A - B = {1, 2}.\n",
        "\n",
        "Para realizar la diferencia entre dos conjuntos, utilizamos el operador `-` o la función `difference()`:\n",
        "\n",
        "```python\n",
        "diferencia = A - B\n",
        "# O también:\n",
        "# diferencia = A.difference(B)\n",
        "print(\"Diferencia de conjuntos:\", diferencia)\n",
        "```\n",
        "\n",
        "El resultado será:\n",
        "\n",
        "```\n",
        "Diferencia de conjuntos: {1, 2}\n",
        "```\n"
      ]
    },
    {
      "cell_type": "code",
      "execution_count": null,
      "id": "460a7237",
      "metadata": {
        "id": "460a7237"
      },
      "outputs": [],
      "source": []
    },
    {
      "cell_type": "markdown",
      "id": "a1e5a898",
      "metadata": {
        "id": "a1e5a898"
      },
      "source": [
        "\n",
        "\n",
        "- Complemento: El complemento de un conjunto A con respecto a un conjunto universal U, denotado por A', es el conjunto que contiene todos los elementos de U que no pertenecen a A. En el contexto de la probabilidad, el conjunto universal representa todos los posibles resultados del experimento. Por ejemplo, si U es el conjunto de todos los números naturales y A es el conjunto de los números pares, entonces A' sería el conjunto de los números impares.\n",
        "\n",
        "\n",
        "Para calcular el complemento de un conjunto A con respecto a un conjunto universal U, podemos utilizar la operación de diferencia. En este ejemplo, asumiremos que el conjunto universal U es el conjunto de los números naturales hasta el 6 (inclusive):\n",
        "\n",
        "```python\n",
        "U = {0, 1, 2, 3, 4, 5, 6}\n",
        "complemento = U - A\n",
        "# O también:\n",
        "# complemento = U.difference(A)\n",
        "print(\"Complemento del conjunto A:\", complemento)\n",
        "```\n"
      ]
    },
    {
      "cell_type": "code",
      "execution_count": null,
      "id": "3bc25bd2",
      "metadata": {
        "id": "3bc25bd2"
      },
      "outputs": [],
      "source": []
    },
    {
      "cell_type": "markdown",
      "source": [
        "\n",
        "## Técnicas de conteo y  de Reglas de Probabilidad en Python\n",
        "### Reglas de probabilidad\n",
        "\n",
        "Suponga que $\\Omega$ es un espacio muestral asociado con un experimento.\n",
        "A todo evento A en S (A es el subconjunto de $\\Omega$) le asignamos un\n",
        "número, P(A), llamado probabilidad de A, de modo que se cumple:\n",
        "\n",
        "1. $0 ≤ P(A) ≤ 1$\n",
        "2. $P(\\Omega) = 1$\n",
        "\n",
        "3. Si A y B son mutuamente excluyentes entonces $P(A ∪ B) = P(A) + P(B)$\n",
        "4. Si A y B no son mutuamente excluyentes entonces,\n",
        "$P(A ∪ B) = P(A) + P(B) − P(A ∩ B)$\n",
        "5. $P(A^c) = 1 − P(A)$\n",
        "5. Si A y B son independientes entonces\n",
        "$P(A ∩ B) = P(A) × P(B)$\n",
        "\n",
        "\n",
        "### Regla de la Suma\n",
        "\n",
        "La regla de la suma establece que la probabilidad de que ocurra un evento A o un evento B es igual a la suma de las probabilidades individuales de cada evento, siempre y cuando los eventos sean mutuamente excluyentes.\n",
        "\n",
        "#### Ejemplo 1:\n",
        "Supongamos que lanzamos un dado justo de 6 caras. Queremos calcular la probabilidad de obtener un número par o un número impar. Los eventos \"obtener un número par\" y \"obtener un número impar\" son mutuamente excluyentes, ya que un número no puede ser par e impar al mismo tiempo.\n",
        "\n",
        "```python\n",
        "probabilidad_par = 3 / 6  # Probabilidad de obtener un número par\n",
        "probabilidad_impar = 3 / 6  # Probabilidad de obtener un número impar\n",
        "\n",
        "probabilidad_par_o_impar = probabilidad_par + probabilidad_impar\n",
        "print(\"La probabilidad de obtener un número par o un número impar es:\", probabilidad_par_o_impar)\n",
        "```"
      ],
      "metadata": {
        "id": "1v02Zm4Nm4F8"
      },
      "id": "1v02Zm4Nm4F8"
    },
    {
      "cell_type": "code",
      "source": [],
      "metadata": {
        "id": "uT_fvZ9jnvuK"
      },
      "execution_count": null,
      "outputs": [],
      "id": "uT_fvZ9jnvuK"
    },
    {
      "cell_type": "markdown",
      "source": [
        "\n",
        "#### Ejemplo 2:\n",
        "[Simulador de juegos de Poker](https://www.math4all.es/poker/calculadora-de-poker.html)\n",
        "Consideremos un experimento en el que seleccionamos una carta de una baraja estándar de 52 cartas. Queremos calcular la probabilidad de obtener una carta roja o una carta con un número mayor a 10. ¿Los eventos \"obtener una carta roja\" y \"obtener una carta con un número mayor a 10\" son mutuamente excluyentes?\n",
        "![](https://upload.wikimedia.org/wikipedia/commons/thumb/b/b3/Set_of_playing_cards_52.JPG/1200px-Set_of_playing_cards_52.JPG)\n",
        "\n",
        "```python\n",
        "probabilidad_carta_roja = 26 / 52  # Probabilidad de obtener una carta roja\n",
        "probabilidad_carta_mayor_10 = 16 / 52  # Probabilidad de obtener una carta con un número mayor a 10\n",
        "\n",
        "probabilidad_carta_mayor_10_y_roja=8/52\n",
        "\n",
        "probabilidad_carta_roja_o_mayor_10 = probabilidad_carta_roja + probabilidad_carta_mayor_10-probabilidad_carta_mayor_10_y_roja\n",
        "print(\"La probabilidad de obtener una carta roja o una carta con un número mayor a 10 es:\", probabilidad_carta_roja_o_mayor_10)\n",
        "```"
      ],
      "metadata": {
        "id": "dAp3Wjhunv1h"
      },
      "id": "dAp3Wjhunv1h"
    },
    {
      "cell_type": "code",
      "source": [
        "probabilidad_carta_roja = 26 / 52  # Probabilidad de obtener una carta roja\n",
        "probabilidad_carta_mayor_10 = 16 / 52  # Probabilidad de obtener una carta con un número mayor a 10\n",
        "\n",
        "probabilidad_carta_mayor_10_y_roja=8/52\n",
        "\n",
        "probabilidad_carta_roja_o_mayor_10 = probabilidad_carta_roja + probabilidad_carta_mayor_10-probabilidad_carta_mayor_10_y_roja\n",
        "print(\"La probabilidad de obtener una carta roja o una carta con un número mayor a 10 es:\", probabilidad_carta_roja_o_mayor_10)"
      ],
      "metadata": {
        "id": "Md5yo8osnxFP",
        "outputId": "f964f9df-d698-4482-eb2b-131f14e2e0cf",
        "colab": {
          "base_uri": "https://localhost:8080/"
        }
      },
      "execution_count": null,
      "outputs": [
        {
          "output_type": "stream",
          "name": "stdout",
          "text": [
            "La probabilidad de obtener una carta roja o una carta con un número mayor a 10 es: 0.6538461538461539\n"
          ]
        }
      ],
      "id": "Md5yo8osnxFP"
    },
    {
      "cell_type": "markdown",
      "source": [
        "\n",
        "### Regla de la Multiplicación\n",
        "\n",
        "La regla de la multiplicación establece que la probabilidad de que ocurran dos eventos A y B es igual al producto de las probabilidades individuales de cada evento, siempre y cuando los eventos sean independientes.\n",
        "\n",
        "#### Ejemplo 1:\n",
        "Supongamos que lanzamos una moneda justa dos veces. Queremos calcular la probabilidad de obtener cara en el primer lanzamiento y cruz en el segundo lanzamiento. Los eventos \"obtener cara en el primer lanzamiento\" y \"obtener cruz en el segundo lanzamiento\" son eventos independientes.\n",
        "\n",
        "```python\n",
        "probabilidad_cara = 1 / 2  # Probabilidad de obtener cara en un lanzamiento\n",
        "probabilidad_cruz = 1 / 2  # Probabilidad de obtener cruz en un lanzamiento\n",
        "\n",
        "probabilidad_cara_y_cruz = probabilidad_cara * probabilidad_cruz\n",
        "print(\"La probabilidad de obtener cara en el primer lanzamiento y cruz en el segundo lanzamiento es:\", probabilidad_cara_y_cruz)\n",
        "```\n"
      ],
      "metadata": {
        "id": "Qz6_AURTn1c6"
      },
      "id": "Qz6_AURTn1c6"
    },
    {
      "cell_type": "code",
      "source": [],
      "metadata": {
        "id": "2F5aMx5mn6CE"
      },
      "execution_count": null,
      "outputs": [],
      "id": "2F5aMx5mn6CE"
    },
    {
      "cell_type": "markdown",
      "source": [
        "\n",
        "#### Ejemplo 2:\n",
        "Consideremos un experimento en el que sacamos una carta de una baraja estándar de 52 cartas, sin reemplazo. Queremos calcular la probabilidad de obtener una carta roja en el primer intento y una carta negra en el segundo intento. Los eventos \"obtener una carta roja en el primer intento\" y \"obtener una carta negra en el segundo intento\" son eventos dependientes.\n",
        "\n",
        "```python\n",
        "probabilidad_carta_roja_primer_intent = 26 / 52  # Probabilidad de obtener una carta roja en el primer intento\n",
        "probabilidad_carta_negra_segundo_intent = 26 / 51  # Probabilidad de obtener una carta negra en el segundo intento, dado que ya se sacó una carta roja\n",
        "\n",
        "probabilidad_carta_roja_y_negra = probabilidad_carta_roja_primer_intent * probabilidad_carta_negra_segundo_intent\n",
        "print(\"La probabilidad de obtener una carta roja en el primer intento y una carta negra en el segundo intento es:\", probabilidad_carta_roja_y_negra)\n",
        "```\n"
      ],
      "metadata": {
        "id": "QASvmaBGn6JY"
      },
      "id": "QASvmaBGn6JY"
    },
    {
      "cell_type": "code",
      "source": [],
      "metadata": {
        "id": "VemZ8W0loEGo"
      },
      "execution_count": null,
      "outputs": [],
      "id": "VemZ8W0loEGo"
    },
    {
      "cell_type": "markdown",
      "source": [
        "\n",
        "\n",
        "### Regla de la Permutación\n",
        "\n",
        "La regla de la permutación se utiliza para calcular el número de formas en que se pueden organizar objetos sin repetición.\n",
        "\n",
        "$P^n_r=\\frac{n!}{(n-r)!}$\n",
        "con n el númeor total de elementos y r la cantidad tomada a la vez.\n",
        "\n",
        "#### Ejemplo 1:\n",
        "Supongamos que queremos calcular el número de formas en que se pueden organizar las letras \"A\", \"B\" y \"C\" en un orden específico.\n",
        "\n",
        "```python\n",
        "import math\n",
        "\n",
        "objetos = 3  # Número de objetos\n",
        "permutaciones = math.factorial(objetos)\n",
        "print(\"El número de permutaciones posibles es:\", permutaciones)\n",
        "```"
      ],
      "metadata": {
        "id": "rm4s_EBToEV6"
      },
      "id": "rm4s_EBToEV6"
    },
    {
      "cell_type": "code",
      "source": [],
      "metadata": {
        "id": "jonHkHTzoIk0"
      },
      "execution_count": null,
      "outputs": [],
      "id": "jonHkHTzoIk0"
    },
    {
      "cell_type": "markdown",
      "source": [
        "\n",
        "\n",
        "#### Ejemplo 2:\n",
        "Consideremos un experimento en el que se desea calcular el número de formas en que se pueden organizar las letras en la palabra \"PYTHON\".\n",
        "\n",
        "```python\n",
        "objetos = len(\"PYTHON\")  # Número de objetos\n",
        "permutaciones = math.factorial(objetos)\n",
        "print(\"El número de permutaciones posibles es:\", permutaciones)\n",
        "```\n"
      ],
      "metadata": {
        "id": "xKKeaeRToJAc"
      },
      "id": "xKKeaeRToJAc"
    },
    {
      "cell_type": "code",
      "source": [],
      "metadata": {
        "id": "LHN6OUfmoLbQ"
      },
      "execution_count": null,
      "outputs": [],
      "id": "LHN6OUfmoLbQ"
    },
    {
      "cell_type": "markdown",
      "source": [
        "\n",
        "### Regla de la Combinatoria\n",
        "\n",
        "La regla de la combinatoria se utiliza para calcular el número de formas en que se pueden seleccionar objetos sin importar el orden.\n",
        "\n",
        "$$nCr=\\frac{n!}{(n-r)!r!}$$\n",
        "\n",
        "con n la cantidad de elementos y r la cantidad tomada al tiempo.\n",
        "#### Ejemplo 1:\n",
        "Supongamos que queremos calcular el número de formas en que se pueden seleccionar 2 cartas de un mazo de 52 cartas.\n",
        "\n",
        "```python\n",
        "import math\n",
        "\n",
        "total_objetos = 52  # Número total de objetos\n",
        "objetos_seleccionados = 2  # Número de objetos que se seleccionan\n",
        "\n",
        "combinaciones = math.comb(total_objetos, objetos_seleccionados)\n",
        "print(\"El número de combinaciones posibles es:\", combinaciones)\n",
        "```\n"
      ],
      "metadata": {
        "id": "_vNjNUxyoO1E"
      },
      "id": "_vNjNUxyoO1E"
    },
    {
      "cell_type": "code",
      "source": [],
      "metadata": {
        "id": "sVg2Gg7ooRRW"
      },
      "execution_count": null,
      "outputs": [],
      "id": "sVg2Gg7ooRRW"
    },
    {
      "cell_type": "markdown",
      "source": [
        "\n",
        "\n",
        "#### Ejemplo 2:\n",
        "Consideremos un experimento en el que queremos calcular el número de formas en que se pueden seleccionar 3 colores de una lista de colores: \"rojo\", \"verde\", \"azul\", \"amarillo\" y \"naranja\".\n",
        "\n",
        "```python\n",
        "total_colores = 5  # Número total de colores\n",
        "colores_seleccionados = 3  # Número de colores que se seleccionan\n",
        "\n",
        "combinaciones = math.comb(total_colores, colores_seleccionados)\n",
        "print(\"El número de combinaciones posibles es:\", combinaciones)\n",
        "```\n"
      ],
      "metadata": {
        "id": "qUSlrid6oRYw"
      },
      "id": "qUSlrid6oRYw"
    },
    {
      "cell_type": "code",
      "source": [],
      "metadata": {
        "id": "ViOdQDiXoT1t"
      },
      "execution_count": null,
      "outputs": [],
      "id": "ViOdQDiXoT1t"
    },
    {
      "cell_type": "markdown",
      "source": [
        "\n",
        "### Regla de la Permutación con Repetición\n",
        "\n",
        "La regla de la permutación con repetición se utiliza cuando hay objetos repetidos y se desea calcular el número de formas en que se pueden organizar estos objetos.\n",
        "\n",
        "$$P^n_{a,b,c}=\\frac{n!}{a!b!c!}$$\n",
        "donde $n=a+b+c$\n",
        "donde n es el número de elementos y a es el número de veces que se repite el primer elemento, b el número que se repite el segundo elemento...\n",
        "#### Ejemplo 1:\n",
        "Supongamos que queremos calcular el número de formas en que se pueden organizar las letras en la palabra \"MISSISSIPPI\".\n",
        "\n",
        "```python\n",
        "import math\n",
        "from collections import Counter\n",
        "\n",
        "palabra = \"MISSISSIPPI\"\n",
        "objetos = list(palabra)  # Convertir la palabra en una lista de caracteres\n",
        "frecuencias = Counter(objetos)  # Contar la frecuencia de cada caracter\n",
        "\n",
        "permutaciones_repetidas = math.factorial(len(objetos))\n",
        "for freq in frecuencias.values():\n",
        "    permutaciones_repetidas //= math.factorial(freq)\n",
        "\n",
        "print(\"El número de permutaciones con repetición posibles es:\", permutaciones_repetidas)\n",
        "```"
      ],
      "metadata": {
        "id": "bcFCU0atoUMI"
      },
      "id": "bcFCU0atoUMI"
    },
    {
      "cell_type": "code",
      "source": [
        "import math\n",
        "numerador=math.factorial(11);numerador"
      ],
      "metadata": {
        "id": "KRWOlrpCisB5",
        "outputId": "97d4715d-ff5b-4aa4-b9bb-183e8149aefc",
        "colab": {
          "base_uri": "https://localhost:8080/"
        }
      },
      "execution_count": null,
      "outputs": [
        {
          "output_type": "execute_result",
          "data": {
            "text/plain": [
              "39916800"
            ]
          },
          "metadata": {},
          "execution_count": 1
        }
      ],
      "id": "KRWOlrpCisB5"
    },
    {
      "cell_type": "code",
      "source": [
        "denominador=math.factorial(1)*math.factorial(4)*math.factorial(4)*math.factorial(2);denominadorb"
      ],
      "metadata": {
        "id": "dtcB3x41i4qV",
        "outputId": "c00a5199-0f7f-4c0c-d12f-9ef2314af9fc",
        "colab": {
          "base_uri": "https://localhost:8080/"
        }
      },
      "execution_count": null,
      "outputs": [
        {
          "output_type": "execute_result",
          "data": {
            "text/plain": [
              "1152"
            ]
          },
          "metadata": {},
          "execution_count": 2
        }
      ],
      "id": "dtcB3x41i4qV"
    },
    {
      "cell_type": "code",
      "source": [
        "numerador/denominador"
      ],
      "metadata": {
        "id": "ljkEWYG6jBJQ",
        "outputId": "74acbecc-f77e-4bee-8f71-5fa096b7771c",
        "colab": {
          "base_uri": "https://localhost:8080/"
        }
      },
      "execution_count": null,
      "outputs": [
        {
          "output_type": "execute_result",
          "data": {
            "text/plain": [
              "34650.0"
            ]
          },
          "metadata": {},
          "execution_count": 3
        }
      ],
      "id": "ljkEWYG6jBJQ"
    },
    {
      "cell_type": "code",
      "source": [
        "import math\n",
        "from collections import Counter\n",
        "\n",
        "palabra = \"MISSISSIPPI\"\n",
        "objetos = list(palabra)  # Convertir la palabra en una lista de caracteres\n",
        "frecuencias = Counter(objetos)  # Contar la frecuencia de cada caracter\n",
        "\n",
        "permutaciones_repetidas = math.factorial(len(objetos))\n",
        "for freq in frecuencias.values():\n",
        "    permutaciones_repetidas //= math.factorial(freq)\n",
        "\n",
        "print(\"El número de permutaciones con repetición posibles es:\", permutaciones_repetidas)"
      ],
      "metadata": {
        "colab": {
          "base_uri": "https://localhost:8080/"
        },
        "id": "OhyxiZfxodKj",
        "outputId": "44d66f69-e94f-4b3d-c734-5a993ba69643"
      },
      "execution_count": null,
      "outputs": [
        {
          "output_type": "stream",
          "name": "stdout",
          "text": [
            "El número de permutaciones con repetición posibles es: 34650\n"
          ]
        }
      ],
      "id": "OhyxiZfxodKj"
    },
    {
      "cell_type": "markdown",
      "source": [
        "\n",
        "\n",
        "### Regla de la Combinatoria con Repetición\n",
        "\n",
        "La regla de la combinatoria con repetición se utiliza para calcular el número de formas en que se pueden seleccionar objetos sin importar el orden, permitiendo repeticiones.\n",
        "\n",
        "$$\\binom{n+k-1}{k}$$\n",
        "\n",
        "donde n es el número de elementos, k el número de elementos a escoger.\n",
        "\n",
        "#### Ejemplo 1:\n",
        "Imaginemos que estamos en una pastelería con una selección de 10 pasteles distintos. Queremos realizar una selección de 6 pasteles, ¿Cuántas combinaciones con repetición distintas podríamos formar?\n",
        "\n",
        "\n",
        "En primer lugar identificamos los elementos totales que en este caso son 10 pasteles. Por tanto ya tenemos nuestra n (n = 10). Como queremos seleccionar 6 pasteles de los 10 posibles, nuestra x va a ser 6 (x =6). Sabiendo esto, no tenemos más que aplicar la formula.\n",
        "\n",
        "```python\n",
        "total_sabores = 10  # Número total de pasteles\n",
        "sabores_seleccionados = 6  # Número de pasteles que se seleccionan\n",
        "\n",
        "combinaciones_repetidas = math.comb(total_sabores + sabores_seleccionados - 1, sabores_seleccionados)\n",
        "print(\"El número de combinaciones con repetición posibles es:\", combinaciones_repetidas)\n",
        "```\n"
      ],
      "metadata": {
        "id": "85iG0fxHm0DA"
      },
      "id": "85iG0fxHm0DA"
    },
    {
      "cell_type": "code",
      "source": [
        "total_sabores = 10  # Número total de pasteles\n",
        "sabores_seleccionados = 6  # Número de pasteles que se seleccionan\n",
        "\n",
        "combinaciones_repetidas = math.comb(total_sabores + sabores_seleccionados - 1, sabores_seleccionados)\n",
        "print(\"El número de combinaciones con repetición posibles es:\", combinaciones_repetidas)"
      ],
      "metadata": {
        "id": "14p-92-UplgU",
        "outputId": "c5182f91-b82e-4848-8e3f-fbd7e036a0a5",
        "colab": {
          "base_uri": "https://localhost:8080/"
        }
      },
      "execution_count": null,
      "outputs": [
        {
          "output_type": "stream",
          "name": "stdout",
          "text": [
            "El número de combinaciones con repetición posibles es: 5005\n"
          ]
        }
      ],
      "id": "14p-92-UplgU"
    },
    {
      "cell_type": "code",
      "source": [
        "total_sabores = 10  # Número total de pasteles\n",
        "sabores_seleccionados = 6  # Número de pasteles que se seleccionan\n",
        "\n",
        "combinaciones_repetidas = math.comb(total_sabores + sabores_seleccionados - 1, sabores_seleccionados)\n",
        "print(\"El número de combinaciones con repetición posibles es:\", combinaciones_repetidas)"
      ],
      "metadata": {
        "id": "BLnbTQbEZV13"
      },
      "execution_count": null,
      "outputs": [],
      "id": "BLnbTQbEZV13"
    },
    {
      "cell_type": "markdown",
      "source": [
        "## **Ejemplo clasico de cumpleaños**\n",
        "\n",
        "\n",
        "El ejercicio clásico del cumpleaños es un problema de probabilidad que involucra determinar la probabilidad de que al menos dos personas en un grupo compartan el mismo cumpleaños. A continuación, te mostraré cómo calcular esa probabilidad utilizando la regla de la multiplicación y la regla de la suma:\n",
        "\n",
        "En una fiesta, hay 20 personas. ¿Cuál es la probabilidad de que al menos dos personas en la fiesta compartan el mismo cumpleaños? Supongamos que no hay años bisiestos y que todos los cumpleaños son igualmente probables en cualquier día del año.\n",
        "\n",
        "Solución:\n",
        "Para resolver este ejercicio, podemos utilizar la regla de la multiplicación y la regla de la suma.\n",
        "\n",
        "Calculemos la probabilidad de que 2 personas no cumplan años el mismo día:\n",
        "\n",
        "$$\\frac{365}{365}\\times\\frac{364}{365}=0.9973$$\n",
        " es decir que la probabilidad que los 2 cumplan años el mismo día será de\n",
        " $$1-0.9973=0.0027$$\n",
        "\n",
        "Calculemos la probabilidad de que 3 personas no cumplan años el mismo día:\n",
        "\n",
        "$$\\frac{365}{365}\\times\\frac{364}{365}\\times \\frac{363}{365}=0.9917$$\n",
        " es decir que la probabilidad que por lo menos  2 cumplan años el mismo día será de\n",
        " $$1-0.9917=0.0082$$\n",
        "\n",
        "Calculemos la probabilidad de que 20 personas no cumplan años el mismo día:\n",
        "\n",
        "$$\\frac{365}{365}\\times\\frac{364}{365}\\times \\frac{363}{365}\\cdots \\frac{347}{365}\\times\\frac{346}{365}=0.5886$$\n",
        "\n",
        "\n",
        "\n",
        " es decir que la probabilidad que por lo menos  2 cumplan años el mismo día será de\n",
        " $$1-0.5886=0.4114$$\n",
        "\n",
        "El resultado probablemente sea sorprendente: incluso con un grupo relativamente pequeño de personas (20 en este caso), la probabilidad de que al menos dos personas compartan el mismo cumpleaños es alta, aproximadamente 0.411. Esto se debe a la paradoja del cumpleaños, que muestra cómo la probabilidad de coincidencia de cumpleaños aumenta rápidamente con el tamaño del grupo.\n",
        "\n",
        "Recuerda que este ejercicio asume que los cumpleaños son igualmente probables en cualquier día del año y que no hay años bisiestos."
      ],
      "metadata": {
        "id": "2Vorg07dplod"
      },
      "id": "2Vorg07dplod"
    },
    {
      "cell_type": "code",
      "source": [
        "print('Num. probabilidad')\n",
        "p = 1\n",
        "for i in range(1, 85):\n",
        "    p = p * (366 - i) / 365\n",
        "    print(f'{i}: {(1-p):.14f}')\n"
      ],
      "metadata": {
        "colab": {
          "base_uri": "https://localhost:8080/"
        },
        "id": "tA6YrMn1CDx1",
        "outputId": "d3be8805-6346-47f1-e0d0-04e288ce7082"
      },
      "execution_count": null,
      "outputs": [
        {
          "output_type": "stream",
          "name": "stdout",
          "text": [
            "Num. probabilidad\n",
            "1: 0.00000000000000\n",
            "2: 0.00273972602740\n",
            "3: 0.00820416588478\n",
            "4: 0.01635591246655\n",
            "5: 0.02713557369979\n",
            "6: 0.04046248364911\n",
            "7: 0.05623570309598\n",
            "8: 0.07433529235167\n",
            "9: 0.09462383388917\n",
            "10: 0.11694817771108\n",
            "11: 0.14114137832173\n",
            "12: 0.16702478883806\n",
            "13: 0.19441027523243\n",
            "14: 0.22310251200497\n",
            "15: 0.25290131976369\n",
            "16: 0.28360400525285\n",
            "17: 0.31500766529656\n",
            "18: 0.34691141787179\n",
            "19: 0.37911852603154\n",
            "20: 0.41143838358058\n",
            "21: 0.44368833516521\n",
            "22: 0.47569530766255\n",
            "23: 0.50729723432399\n",
            "24: 0.53834425791453\n",
            "25: 0.56869970396946\n",
            "26: 0.59824082013594\n",
            "27: 0.62685928226324\n",
            "28: 0.65446147234240\n",
            "29: 0.68096853747778\n",
            "30: 0.70631624271927\n",
            "31: 0.73045463372864\n",
            "32: 0.75334752785032\n",
            "33: 0.77497185417577\n",
            "34: 0.79531686462015\n",
            "35: 0.81438323887472\n",
            "36: 0.83218210637988\n",
            "37: 0.84873400821638\n",
            "38: 0.86406782108212\n",
            "39: 0.87821966436672\n",
            "40: 0.89123180981795\n",
            "41: 0.90315161148174\n",
            "42: 0.91403047156187\n",
            "43: 0.92392285565612\n",
            "44: 0.93288536855143\n",
            "45: 0.94097589946577\n",
            "46: 0.94825284336725\n",
            "47: 0.95477440283330\n",
            "48: 0.96059797287942\n",
            "49: 0.96577960932268\n",
            "50: 0.97037357957799\n",
            "51: 0.97443199333443\n",
            "52: 0.97800450933428\n",
            "53: 0.98113811348391\n",
            "54: 0.98387696275885\n",
            "55: 0.98626228881645\n",
            "56: 0.98833235488520\n",
            "57: 0.99012245934117\n",
            "58: 0.99166497938926\n",
            "59: 0.99298944841782\n",
            "60: 0.99412266086535\n",
            "61: 0.99508879880529\n",
            "62: 0.99590957489537\n",
            "63: 0.99660438683095\n",
            "64: 0.99719047896698\n",
            "65: 0.99768310731249\n",
            "66: 0.99809570464040\n",
            "67: 0.99844004297940\n",
            "68: 0.99872639125441\n",
            "69: 0.99896366630839\n",
            "70: 0.99915957596516\n",
            "71: 0.99932075317732\n",
            "72: 0.99945288064146\n",
            "73: 0.99956080555602\n",
            "74: 0.99964864444481\n",
            "75: 0.99971987817381\n",
            "76: 0.99977743745317\n",
            "77: 0.99982377924374\n",
            "78: 0.99986095458136\n",
            "79: 0.99989066839685\n",
            "80: 0.99991433194931\n",
            "81: 0.99993310850837\n",
            "82: 0.99994795292158\n",
            "83: 0.99995964568988\n",
            "84: 0.99996882214944\n"
          ]
        }
      ],
      "id": "tA6YrMn1CDx1"
    },
    {
      "cell_type": "markdown",
      "source": [
        "## Ejercicios\n",
        "\n",
        "**Ejercicio 1:**\n",
        "En un mazo de 52 cartas, si seleccionamos 3 cartas al azar sin reemplazo, ¿cuál es la probabilidad de obtener exactamente 2 cartas rojas y 1 carta negra?\n",
        "\n",
        "Solución:\n",
        "```python\n",
        "import math\n",
        "\n",
        "total_cartas = 52\n",
        "total_rojas = 26\n",
        "total_negras = 26\n",
        "\n",
        "combinaciones_deseadas = math.comb(total_rojas, 2) * math.comb(total_negras, 1)\n",
        "combinaciones_posibles = math.comb(total_cartas, 3)\n",
        "\n",
        "probabilidad = combinaciones_deseadas / combinaciones_posibles\n",
        "print(\"La probabilidad de obtener exactamente 2 cartas rojas y 1 carta negra es:\", probabilidad)\n",
        "```\n",
        "\n",
        "**Ejercicio 2:**\n",
        "En una urna hay 8 bolas rojas, 4 bolas verdes y 3 bolas azules. Si seleccionamos 2 bolas al azar sin reemplazo, ¿cuál es la probabilidad de obtener una bola roja y una bola verde?\n",
        "\n",
        "Solución:\n",
        "```python\n",
        "import math\n",
        "\n",
        "total_bolas = 15\n",
        "total_rojas = 8\n",
        "total_verdes = 4\n",
        "\n",
        "combinaciones_deseadas = math.comb(total_rojas, 1) * math.comb(total_verdes, 1)\n",
        "combinaciones_posibles = math.comb(total_bolas, 2)\n",
        "\n",
        "probabilidad = combinaciones_deseadas / combinaciones_posibles\n",
        "print(\"La probabilidad de obtener una bola roja y una bola verde es:\", probabilidad)\n",
        "```\n",
        "\n",
        "**Ejercicio 3:**\n",
        "Si lanzamos un dado justo de 6 caras tres veces, ¿cuál es la probabilidad de obtener al menos un número par?\n",
        "\n",
        "Solución:\n",
        "```python\n",
        "probabilidad_impar = 3 / 6  # Probabilidad de obtener un número impar en un lanzamiento\n",
        "probabilidad_par = 3 / 6  # Probabilidad de obtener un número par en un lanzamiento\n",
        "\n",
        "probabilidad_tres_impares = probabilidad_impar ** 3\n",
        "probabilidad_al_menos_un_par = 1 - probabilidad_tres_impares\n",
        "print(\"La probabilidad de obtener al menos un número par es:\", probabilidad_al_menos_un_par)\n",
        "```\n",
        "\n",
        "**Ejercicio 4:**\n",
        "En un examen de opción múltiple con 4 opciones por pregunta, si adivinamos todas las respuestas, ¿cuál es la probabilidad de obtener al menos una respuesta correcta en un examen de 10 preguntas?\n",
        "\n",
        "Solución:\n",
        "```python\n",
        "probabilidad_adivinar = 1 / 4  # Probabilidad de adivinar una respuesta correcta en una pregunta\n",
        "probabilidad_todas_incorrectas = (1 - probabilidad_adivinar) ** 10\n",
        "probabilidad_al_menos_una_correcta = 1 - probabilidad_todas_incorrectas\n",
        "print(\"La probabilidad de obtener al menos una respuesta correcta es:\", probabilidad_al_menos_una_correcta)\n",
        "```\n",
        "\n",
        "**Ejercicio 5:**\n",
        "En una caja hay 12 bombillas defectuosas y 8 bombillas no defectuosas. Si seleccionamos 3 bombillas al azar sin reemplazo, ¿cuál es la probabilidad de obtener exactamente 2 bombillas no defectuosas y 1 bombilla defectuosa?\n",
        "\n",
        "Solución:\n",
        "```python\n",
        "import math\n",
        "\n",
        "total_bombillas\n",
        "\n",
        " = 20\n",
        "total_no_defectuosas = 8\n",
        "total_defectuosas = 12\n",
        "\n",
        "combinaciones_deseadas = math.comb(total_no_defectuosas, 2) * math.comb(total_defectuosas, 1)\n",
        "combinaciones_posibles = math.comb(total_bombillas, 3)\n",
        "\n",
        "probabilidad = combinaciones_deseadas / combinaciones_posibles\n",
        "print(\"La probabilidad de obtener exactamente 2 bombillas no defectuosas y 1 bombilla defectuosa es:\", probabilidad)\n",
        "```\n"
      ],
      "metadata": {
        "id": "0R5M8gPaj-oV"
      },
      "id": "0R5M8gPaj-oV"
    },
    {
      "cell_type": "code",
      "source": [],
      "metadata": {
        "id": "BDQ_g_hVpM6v"
      },
      "execution_count": null,
      "outputs": [],
      "id": "BDQ_g_hVpM6v"
    }
  ],
  "metadata": {
    "kernelspec": {
      "display_name": "Python 3 (ipykernel)",
      "language": "python",
      "name": "python3"
    },
    "language_info": {
      "codemirror_mode": {
        "name": "ipython",
        "version": 3
      },
      "file_extension": ".py",
      "mimetype": "text/x-python",
      "name": "python",
      "nbconvert_exporter": "python",
      "pygments_lexer": "ipython3",
      "version": "3.9.12"
    },
    "colab": {
      "provenance": [],
      "include_colab_link": true
    }
  },
  "nbformat": 4,
  "nbformat_minor": 5
}