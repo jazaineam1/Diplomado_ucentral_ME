{
  "cells": [
    {
      "cell_type": "markdown",
      "metadata": {
        "colab_type": "text",
        "id": "view-in-github"
      },
      "source": [
        "<a href=\"https://colab.research.google.com/github/jazaineam1/Andes_ADDBD/blob/main/Sesion3/M1_Clase_3_Colab_Estructuras_de_algoritmos.ipynb\" target=\"_parent\"><img src=\"https://colab.research.google.com/assets/colab-badge.svg\" alt=\"Open In Colab\"/></a>"
      ]
    },
    {
      "cell_type": "markdown",
      "id": "75035b08",
      "metadata": {},
      "source": [
        "# ***Análisis de Datos y Big data***\n",
        "\n",
        "## ***Universidad Central***\n",
        ">## **Dirección de Educación Continua.**\n",
        "\n",
        "\n",
        "\n",
        "![Imágen1](https://www.ucentral.edu.co/sites/default/files/logo_1.png)\n",
        "\n",
        "Para ver antes: [Instalación de python](https://code.visualstudio.com/docs/python/python-tutorial)\n",
        "\n",
        "\n",
        "**Operadores, estructuras de datos y condicionales**"
      ]
    },
    {
      "cell_type": "markdown",
      "id": "vl6mcagXgyNB",
      "metadata": {
        "id": "vl6mcagXgyNB"
      },
      "source": [
        "\n",
        "## Operadores en Python\n",
        "\n",
        "Python soporta varios tipos de operadores, que son símbolos especiales o palabras clave que llevan a cabo una operación entre uno o más operandos. Vamos a explorar los más comunes:\n",
        "\n",
        "#### 1. Operadores Aritméticos\n",
        "- **Suma (`+`)**: Suma dos operandos.\n",
        "- **Resta (`-`)**: Resta el segundo operando del primero.\n",
        "- **Multiplicación (`*`)**: Multiplica dos operandos.\n",
        "- **División (`/`)**: Divide el primer operando entre el segundo.\n",
        "- **Modulo (`%`)**: Devuelve el residuo de la división del primer operando por el segundo.\n",
        "- **Potencia ($\\text{**}$)**: Eleva el primer operando a la potencia del segundo.\n",
        "- **División Entera (`//`)**: Realiza la división y retorna el cociente, descartando la parte fraccional."
      ]
    },
    {
      "cell_type": "code",
      "execution_count": 8,
      "id": "jj3m-5gmgvVi",
      "metadata": {
        "id": "jj3m-5gmgvVi"
      },
      "outputs": [],
      "source": [
        "## haz la prueba de algunas operaciones en este campo e indica para que sirve la división entera\n"
      ]
    },
    {
      "cell_type": "markdown",
      "id": "5EZusgYzh6TD",
      "metadata": {
        "id": "5EZusgYzh6TD"
      },
      "source": [
        "\n",
        "#### 2. Operadores de Comparación\n",
        "- **Igual (`==`)**: Comprueba si dos operandos son iguales.\n",
        "- **No igual (`!=`)**: Comprueba si dos operandos no son iguales.\n",
        "- **Mayor que (`>`)**: Comprueba si el operando izquierdo es mayor que el derecho.\n",
        "- **Menor que (`<`)**: Comprueba si el operando izquierdo es menor que el derecho.\n",
        "- **Mayor o igual que (`>=`)**: Comprueba si el operando izquierdo es mayor o igual al derecho.\n",
        "- **Menor o igual que (`<=`)**: Comprueba si el operando izquierdo es menor o igual al derecho."
      ]
    },
    {
      "cell_type": "code",
      "execution_count": 10,
      "id": "R9abQrl2h3f5",
      "metadata": {
        "colab": {
          "base_uri": "https://localhost:8080/"
        },
        "id": "R9abQrl2h3f5",
        "outputId": "cc8c8d4e-a5a7-468d-8a78-a1705440961b"
      },
      "outputs": [
        {
          "data": {
            "text/plain": [
              "False"
            ]
          },
          "execution_count": 10,
          "metadata": {},
          "output_type": "execute_result"
        }
      ],
      "source": [
        "a = 10\n",
        "b = 101\n",
        "a==b\n"
      ]
    },
    {
      "cell_type": "code",
      "execution_count": 11,
      "id": "1W0gmbywiMmf",
      "metadata": {
        "colab": {
          "base_uri": "https://localhost:8080/"
        },
        "id": "1W0gmbywiMmf",
        "outputId": "3276c5ce-00a2-4f74-870f-a99316105680"
      },
      "outputs": [
        {
          "data": {
            "text/plain": [
              "True"
            ]
          },
          "execution_count": 11,
          "metadata": {},
          "output_type": "execute_result"
        }
      ],
      "source": [
        "a = 10\n",
        "b = 5\n",
        "a != b"
      ]
    },
    {
      "cell_type": "code",
      "execution_count": 12,
      "id": "OO5LXEtEiRr-",
      "metadata": {
        "colab": {
          "base_uri": "https://localhost:8080/"
        },
        "id": "OO5LXEtEiRr-",
        "outputId": "2ad5d78b-4ac8-4605-cded-2e647165c41b"
      },
      "outputs": [
        {
          "data": {
            "text/plain": [
              "True"
            ]
          },
          "execution_count": 12,
          "metadata": {},
          "output_type": "execute_result"
        }
      ],
      "source": [
        "a = 10\n",
        "b = 5\n",
        "a>b\n"
      ]
    },
    {
      "cell_type": "code",
      "execution_count": 15,
      "id": "PrNAxXVCiX0e",
      "metadata": {
        "colab": {
          "base_uri": "https://localhost:8080/"
        },
        "id": "PrNAxXVCiX0e",
        "outputId": "938fcbd2-ae93-45a6-b482-6ddbda464bd3"
      },
      "outputs": [
        {
          "data": {
            "text/plain": [
              "False"
            ]
          },
          "execution_count": 15,
          "metadata": {},
          "output_type": "execute_result"
        }
      ],
      "source": [
        "a = 'cosa'\n",
        "b = 'cOsa'\n",
        "a <= b\n"
      ]
    },
    {
      "cell_type": "code",
      "execution_count": 19,
      "id": "TPFciN3micfr",
      "metadata": {
        "colab": {
          "base_uri": "https://localhost:8080/"
        },
        "id": "TPFciN3micfr",
        "outputId": "dd379a00-c19b-49d4-995b-fd2c9446882e"
      },
      "outputs": [
        {
          "name": "stdout",
          "output_type": "stream",
          "text": [
            "True\n",
            "False\n"
          ]
        }
      ],
      "source": [
        "a = 10\n",
        "b = 10\n",
        "print(a >= b)  # Salida: True\n",
        "\n",
        "c = 15\n",
        "print(a >= c)  # Salida: False\n"
      ]
    },
    {
      "cell_type": "code",
      "execution_count": null,
      "id": "0LnPp-dlieT4",
      "metadata": {
        "colab": {
          "base_uri": "https://localhost:8080/"
        },
        "id": "0LnPp-dlieT4",
        "outputId": "41addef2-dc18-4713-a89a-1e983da072b8"
      },
      "outputs": [
        {
          "name": "stdout",
          "output_type": "stream",
          "text": [
            "True\n",
            "False\n"
          ]
        }
      ],
      "source": [
        "a = 10\n",
        "b = 10\n",
        "print(a <= b)  # Salida: True\n",
        "\n",
        "c = 5\n",
        "print(a <= c)  # Salida: False\n"
      ]
    },
    {
      "cell_type": "markdown",
      "id": "bJH3K7owcPdf",
      "metadata": {
        "id": "bJH3K7owcPdf"
      },
      "source": [
        "\n",
        "\n",
        "\n",
        "#### 3. Operadores Lógicos\n",
        "- **And (`and`)**: Retorna True si ambos operandos son verdaderos.\n",
        "- **Or (`or`)**: Retorna True si al menos uno de los operandos es verdadero.\n",
        "- **Not (`not`)**: Niega el valor del operando.\n"
      ]
    },
    {
      "cell_type": "code",
      "execution_count": 20,
      "id": "RQWPmYowcOvG",
      "metadata": {
        "colab": {
          "base_uri": "https://localhost:8080/"
        },
        "id": "RQWPmYowcOvG",
        "outputId": "fd112503-f7b6-46ac-94fa-cbe1da7822a4"
      },
      "outputs": [
        {
          "name": "stdout",
          "output_type": "stream",
          "text": [
            "And: False\n",
            "Or: True\n",
            "Not: False\n"
          ]
        }
      ],
      "source": [
        "c = True\n",
        "d = False\n",
        "print('And:', c and d)  # False\n",
        "print('Or:', c or d)  # True\n",
        "print('Not:', not c)  # False"
      ]
    },
    {
      "cell_type": "code",
      "execution_count": 23,
      "id": "eP740F644DJb",
      "metadata": {
        "colab": {
          "base_uri": "https://localhost:8080/"
        },
        "id": "eP740F644DJb",
        "outputId": "6846ef3e-4767-43b7-a00c-889e5c3bf327"
      },
      "outputs": [
        {
          "data": {
            "text/plain": [
              "False"
            ]
          },
          "execution_count": 23,
          "metadata": {},
          "output_type": "execute_result"
        }
      ],
      "source": [
        "True & False"
      ]
    },
    {
      "cell_type": "code",
      "execution_count": 26,
      "id": "S3sHrk9c4Hg9",
      "metadata": {
        "colab": {
          "base_uri": "https://localhost:8080/"
        },
        "id": "S3sHrk9c4Hg9",
        "outputId": "15936b56-37ac-480e-d6ce-c6c0024c7d93"
      },
      "outputs": [
        {
          "data": {
            "text/plain": [
              "False"
            ]
          },
          "execution_count": 26,
          "metadata": {},
          "output_type": "execute_result"
        }
      ],
      "source": [
        "False | False"
      ]
    },
    {
      "cell_type": "code",
      "execution_count": 40,
      "id": "YDM1nLo7GEgy",
      "metadata": {
        "id": "YDM1nLo7GEgy"
      },
      "outputs": [],
      "source": [
        "genero=\"M\"\n",
        "Edad=24\n",
        "hijos=1"
      ]
    },
    {
      "cell_type": "markdown",
      "id": "e19e7ab9",
      "metadata": {},
      "source": [
        "## Introducción a Estructuras de Datos en Python\n",
        "\n",
        "Las estructuras de datos son herramientas que nos permiten organizar y almacenar información de manera eficiente, de modo que podamos acceder y manipular los datos de forma sencilla. En Python, las estructuras de datos más comunes son las listas, las tuplas, los conjuntos y los diccionarios. Vamos a explorar cada una de estas estructuras, entender sus diferencias y aprender a aplicarlas con ejemplos.\n",
        "### 0. Fundamentales\n",
        "En Python, existen varios tipos de datos fundamentales que se utilizan para almacenar y manipular información. Aquí te explico los más comunes, incluyendo algunos adicionales que también son importantes:\n",
        "\n",
        "### 0.1. **`int` (Entero)**\n",
        "   - Representa números enteros, positivos o negativos, sin parte decimal.\n",
        "   - Ejemplo: `5`, `-3`, `0`\n",
        "\n",
        "```python\n",
        "x = 5\n",
        "y = -3\n",
        "```\n",
        "\n",
        "### 0.2. **`float` (Flotante)**\n",
        "   - Representa números de punto flotante, es decir, aquellos que tienen una parte decimal.\n",
        "   - Ejemplo: `3.14`, `-0.001`\n",
        "\n",
        "```python\n",
        "pi = 3.1416\n",
        "temperature = -5.5\n",
        "```\n",
        "\n",
        "### 0.3. **`str` (Cadena de caracteres)**\n",
        "   - Representa una secuencia de caracteres, que puede ser cualquier tipo de texto.\n",
        "   - Las cadenas se delimitan con comillas simples (`'`) o dobles (`\"`).\n",
        "   - Ejemplo: `\"Hola\"`, `'Python es genial'`\n",
        "\n",
        "```python\n",
        "greeting = \"Hola\"\n",
        "```\n",
        "\n",
        "### 0.4. **`bool` (Booleano)**\n",
        "   - Representa valores de verdad, que pueden ser `True` (Verdadero) o `False` (Falso).\n",
        "   - Ejemplo: `True`, `False`\n",
        "\n",
        "```python\n",
        "is_raining = True\n",
        "has_sun = False\n",
        "```\n",
        "\n",
        "### 1. Listas\n",
        "\n",
        "Una lista en Python es una colección ordenada y mutable de elementos. Las listas pueden contener cualquier tipo de dato: números, cadenas de texto, e incluso otras listas. Al ser mutables, podemos modificar su contenido después de haberlas creado, lo cual es útil cuando necesitamos agregar o eliminar datos.\n",
        "\n",
        "Sintaxis de una lista:"
      ]
    },
    {
      "cell_type": "code",
      "execution_count": null,
      "id": "85954d06",
      "metadata": {},
      "outputs": [],
      "source": [
        "mi_lista = [1, 2, 3, 'Python', True]"
      ]
    },
    {
      "cell_type": "markdown",
      "id": "30a89d61",
      "metadata": {},
      "source": [
        "En este ejemplo, la lista mi_lista contiene distintos tipos de datos: enteros, una cadena de texto y un valor booleano.\n",
        "\n",
        "Operaciones comunes con listas:\n",
        "\n",
        "- Acceder a elementos: Utilizamos índices que comienzan desde cero."
      ]
    },
    {
      "cell_type": "code",
      "execution_count": null,
      "id": "7c519eca",
      "metadata": {},
      "outputs": [
        {
          "data": {
            "text/plain": [
              "1"
            ]
          },
          "metadata": {},
          "output_type": "display_data"
        }
      ],
      "source": [
        "mi_lista[0]"
      ]
    },
    {
      "cell_type": "markdown",
      "id": "e86d5208",
      "metadata": {},
      "source": [
        "- **Agregar elementos**: Podemos agregar un nuevo elemento con el método append()."
      ]
    },
    {
      "cell_type": "code",
      "execution_count": null,
      "id": "eaba510a",
      "metadata": {},
      "outputs": [],
      "source": [
        "mi_lista.append(4)"
      ]
    },
    {
      "cell_type": "markdown",
      "id": "ee805c61",
      "metadata": {},
      "source": [
        "-  **Eliminar elementos:** Podemos eliminar elementos con `remove()` o `pop()`."
      ]
    },
    {
      "cell_type": "code",
      "execution_count": null,
      "id": "d0f84391",
      "metadata": {},
      "outputs": [],
      "source": [
        "mi_lista.remove('Python')"
      ]
    },
    {
      "cell_type": "markdown",
      "id": "4151dab1",
      "metadata": {},
      "source": [
        "Los índices negativos en listas nos permiten acceder a los elementos comenzando desde el final."
      ]
    },
    {
      "cell_type": "code",
      "execution_count": null,
      "id": "938c3f1d",
      "metadata": {},
      "outputs": [
        {
          "name": "stdout",
          "output_type": "stream",
          "text": [
            "4\n"
          ]
        }
      ],
      "source": [
        "print(mi_lista[-1])"
      ]
    },
    {
      "cell_type": "markdown",
      "id": "b93d6459",
      "metadata": {},
      "source": [
        "\n",
        "### 2. Tuplas\n",
        "\n",
        "Una **tupla** es similar a una lista, pero con una gran diferencia: **las tuplas son inmutables**. Una vez creada, no podemos cambiar el contenido de una tupla, lo cual las hace útiles para datos que no deben modificarse.\n",
        "\n",
        "**Sintaxis de una tupla:**\n"
      ]
    },
    {
      "cell_type": "code",
      "execution_count": null,
      "id": "ef30f31d",
      "metadata": {},
      "outputs": [],
      "source": [
        "mi_tupla = (1, 2, 3, 'Python', False)"
      ]
    },
    {
      "cell_type": "markdown",
      "id": "5240aa44",
      "metadata": {},
      "source": [
        "\n",
        "En este ejemplo, la tupla `mi_tupla` contiene varios tipos de datos, igual que la lista.\n",
        "\n",
        "**Ventajas de las tuplas:**\n",
        "\n",
        "- Son más rápidas que las listas debido a que no permiten modificaciones.\n",
        "- Se suelen usar para representar datos que tienen un significado fijo, como coordenadas (x, y) o fechas (año, mes, día).\n",
        "\n",
        "**Acceder a elementos de una tupla:**\n",
        "Al igual que en las listas, podemos usar índices para acceder a los elementos.\n"
      ]
    },
    {
      "cell_type": "code",
      "execution_count": null,
      "id": "21698623",
      "metadata": {},
      "outputs": [
        {
          "name": "stdout",
          "output_type": "stream",
          "text": [
            "2\n"
          ]
        }
      ],
      "source": [
        "print(mi_tupla[1])"
      ]
    },
    {
      "cell_type": "markdown",
      "id": "a0b82636",
      "metadata": {},
      "source": [
        "Si una tupla tiene un solo elemento, es necesario poner una coma para que Python la reconozca como tupla:"
      ]
    },
    {
      "cell_type": "code",
      "execution_count": null,
      "id": "bdac5a09",
      "metadata": {},
      "outputs": [],
      "source": [
        "mi_tupla_uno = (42,)"
      ]
    },
    {
      "cell_type": "markdown",
      "id": "92127c64",
      "metadata": {},
      "source": [
        "### 3. Conjuntos\n",
        "\n",
        "Un **conjunto** es una colección desordenada de elementos únicos. Los conjuntos son útiles cuando queremos almacenar elementos sin duplicados y realizar operaciones matemáticas como la unión, intersección y diferencia.\n",
        "\n",
        "**Sintaxis de un conjunto:**\n"
      ]
    },
    {
      "cell_type": "code",
      "execution_count": null,
      "id": "02a3672e",
      "metadata": {},
      "outputs": [],
      "source": [
        "mi_conjunto = {1, 2, 3, 'Python'}"
      ]
    },
    {
      "cell_type": "markdown",
      "id": "65430263",
      "metadata": {},
      "source": [
        "\n",
        "\n",
        "En este ejemplo, el conjunto `mi_conjunto` contiene varios tipos de datos. Si intentamos agregar un elemento que ya está presente, no se añadirá de nuevo.\n",
        "\n",
        "**Operaciones comunes con conjuntos:**\n",
        "\n",
        "- **Agregar elementos:** Podemos agregar un nuevo elemento con el método `add()`."
      ]
    },
    {
      "cell_type": "code",
      "execution_count": null,
      "id": "63190315",
      "metadata": {},
      "outputs": [],
      "source": [
        "mi_conjunto.add(4)"
      ]
    },
    {
      "cell_type": "markdown",
      "id": "4bd122c8",
      "metadata": {},
      "source": [
        "\n",
        "- **Eliminar elementos:** Podemos eliminar elementos con `remove()` o `discard()`."
      ]
    },
    {
      "cell_type": "code",
      "execution_count": null,
      "id": "86e1cb6c",
      "metadata": {},
      "outputs": [],
      "source": [
        "mi_conjunto.remove(1)"
      ]
    },
    {
      "cell_type": "markdown",
      "id": "e02acae3",
      "metadata": {},
      "source": [
        "- **Operaciones de conjuntos:**\n",
        "  - **Unión:**\n",
        "    ```python\n",
        "    otro_conjunto = {3, 4, 5}\n",
        "    union = mi_conjunto.union(otro_conjunto)  # {1, 2, 3, 4, 'Python', 5}\n",
        "    ```\n",
        "  - **Intersección:**\n",
        "    ```python\n",
        "    interseccion = mi_conjunto.intersection(otro_conjunto)  # {3}\n",
        "    ```\n",
        "\n",
        "Los conjuntos no permiten elementos duplicados, por lo que son muy útiles para eliminar duplicados de una lista.\n"
      ]
    },
    {
      "cell_type": "code",
      "execution_count": null,
      "id": "afe8801d",
      "metadata": {},
      "outputs": [
        {
          "name": "stdout",
          "output_type": "stream",
          "text": [
            "{1, 2, 3}\n"
          ]
        }
      ],
      "source": [
        "mi_lista = [1, 2, 2, 3, 3, 3]\n",
        "mi_conjunto = set(mi_lista)\n",
        "print(mi_conjunto)"
      ]
    },
    {
      "cell_type": "markdown",
      "id": "2d785dfc",
      "metadata": {},
      "source": [
        "\n",
        "### 4. Diccionarios\n",
        "\n",
        "Un **diccionario** es una colección de pares clave-valor. Cada elemento del diccionario tiene una **clave** (única) que está asociada con un **valor**. Los diccionarios son útiles cuando necesitamos acceder a datos mediante una clave, en lugar de un índice numérico.\n",
        "\n",
        "**Sintaxis de un diccionario:**\n"
      ]
    },
    {
      "cell_type": "code",
      "execution_count": null,
      "id": "14586aba",
      "metadata": {},
      "outputs": [],
      "source": [
        "mi_diccionario = {\n",
        "    'nombre': 'Ana',\n",
        "    'edad': 25,\n",
        "    'profesión': 'Analista de datos'\n",
        "}"
      ]
    },
    {
      "cell_type": "markdown",
      "id": "7cdf2901",
      "metadata": {},
      "source": [
        "\n",
        "\n",
        "En este ejemplo, `mi_diccionario` tiene tres claves: `'nombre'`, `'edad'` y `'profesión'`, cada una con un valor asociado.\n",
        "\n",
        "**Operaciones comunes con diccionarios:**\n",
        "\n",
        "- **Acceder a un valor:** Utilizamos la clave correspondiente.\n",
        "  ```python\n",
        "  print(mi_diccionario['nombre'])  # Imprime 'Ana'\n",
        "  ```\n",
        "- **Agregar o actualizar un par clave-valor:**\n",
        "  ```python\n",
        "  mi_diccionario['ciudad'] = 'Bogotá'\n",
        "  ```\n",
        "- **Eliminar un par clave-valor:** Podemos eliminar un elemento con `del` o `pop()`.\n",
        "  ```python\n",
        "  del mi_diccionario['edad']\n",
        "  ```\n"
      ]
    },
    {
      "cell_type": "markdown",
      "id": "2d19f029",
      "metadata": {},
      "source": [
        "\n",
        "\n",
        "- **Listas**: Colecciones ordenadas y mutables, útiles para almacenar datos que cambian.\n",
        "- **Tuplas**: Colecciones ordenadas e inmutables, ideales para datos fijos.\n",
        "- **Conjuntos**: Colecciones desordenadas de elementos únicos, útiles para operaciones matemáticas y eliminar duplicados.\n",
        "- **Diccionarios**: Colecciones desordenadas de pares clave-valor, perfectas para buscar datos mediante una clave.\n",
        "\n",
        "\n",
        "\n"
      ]
    },
    {
      "cell_type": "markdown",
      "id": "d6d5b480",
      "metadata": {
        "id": "d6d5b480"
      },
      "source": [
        "# Condicionales\n",
        "## If"
      ]
    },
    {
      "cell_type": "markdown",
      "id": "5cffd29f",
      "metadata": {
        "id": "5cffd29f"
      },
      "source": [
        "Vamos a usar un if sencillo"
      ]
    },
    {
      "cell_type": "code",
      "execution_count": null,
      "id": "0a108c9c",
      "metadata": {
        "id": "0a108c9c"
      },
      "outputs": [],
      "source": [
        "a = 3"
      ]
    },
    {
      "cell_type": "code",
      "execution_count": null,
      "id": "97aa0925",
      "metadata": {
        "id": "97aa0925"
      },
      "outputs": [],
      "source": [
        "if a == 3:\n",
        "    print (\"Hola!\")"
      ]
    },
    {
      "cell_type": "markdown",
      "id": "ee1d2cfb",
      "metadata": {
        "id": "ee1d2cfb"
      },
      "source": [
        "Ahora intentemos hacer un código donde se genere un valor aleatorio y con un condicional miramos si es menor o igual a 3 imprime \"Hola\", si es 4 o 5 imprime \"Chao\" y de lo contrario imprime \"Adios\".\\\n",
        "Usemos un valor aleatorio entre 1 y 10."
      ]
    },
    {
      "cell_type": "markdown",
      "id": "QO2TkMVgCAnu",
      "metadata": {
        "id": "QO2TkMVgCAnu"
      },
      "source": [
        "## else para Otras Condiciones\n",
        "```python\n",
        "x = 3\n",
        "if x > 5:\n",
        "    print(\"x es mayor que 5\")\n",
        "else:\n",
        "    print(\"x no es mayor que 5\")\n",
        "\n",
        "```"
      ]
    },
    {
      "cell_type": "code",
      "execution_count": null,
      "id": "KiEKTw9yCKbK",
      "metadata": {
        "id": "KiEKTw9yCKbK"
      },
      "outputs": [],
      "source": [
        "x = 3\n",
        "if x > 5:\n",
        "    print(\"x es mayor que 5\")\n",
        "else:\n",
        "    print(\"x no es mayor que 5\")"
      ]
    },
    {
      "cell_type": "markdown",
      "id": "zn9CVh85CQoG",
      "metadata": {
        "id": "zn9CVh85CQoG"
      },
      "source": [
        "Si la condición es falsa, se ejecuta el bloque de código en el else.\n",
        "Aquí, como x no es mayor que 5, se imprimirá \"x no es mayor que 5\"."
      ]
    },
    {
      "cell_type": "markdown",
      "id": "6uE5hfnqCUWX",
      "metadata": {
        "id": "6uE5hfnqCUWX"
      },
      "source": [
        " ## elif para Múltiples Condiciones\n",
        " ```python\n",
        "if condición1:\n",
        "    # código si condición1 es verdadera\n",
        "elif condición2:\n",
        "    # código si condición2 es verdadera\n",
        "else:\n",
        "#    # código si ninguna condición es verdadera\n",
        "\n",
        " ```"
      ]
    },
    {
      "cell_type": "code",
      "execution_count": 99,
      "id": "ed0ZTt0CCde0",
      "metadata": {
        "colab": {
          "base_uri": "https://localhost:8080/"
        },
        "id": "ed0ZTt0CCde0",
        "outputId": "88792cb7-74f5-46b0-f63e-35c1401a5a30"
      },
      "outputs": [
        {
          "name": "stdout",
          "output_type": "stream",
          "text": [
            "x es mayor que 5\n"
          ]
        }
      ],
      "source": [
        "x = 10\n",
        "if x > 5:\n",
        "    print(\"x es mayor que 5\")\n",
        "elif x == 5:\n",
        "    print(\"x es igual a 5\")\n",
        "else:\n",
        "    print(\"x es menor que 5\")\n"
      ]
    },
    {
      "cell_type": "markdown",
      "id": "zFQkNAN3ChPx",
      "metadata": {
        "id": "zFQkNAN3ChPx"
      },
      "source": [
        "elif permite comprobar múltiples condiciones en secuencia.\n",
        "Solo se ejecutará el bloque de la primera condición que sea verdadera."
      ]
    }
  ],
  "metadata": {
    "colab": {
      "include_colab_link": true,
      "provenance": []
    },
    "kernelspec": {
      "display_name": "Python 3 (ipykernel)",
      "language": "python",
      "name": "python3"
    },
    "language_info": {
      "codemirror_mode": {
        "name": "ipython",
        "version": 3
      },
      "file_extension": ".py",
      "mimetype": "text/x-python",
      "name": "python",
      "nbconvert_exporter": "python",
      "pygments_lexer": "ipython3",
      "version": "3.9.12"
    }
  },
  "nbformat": 4,
  "nbformat_minor": 5
}
