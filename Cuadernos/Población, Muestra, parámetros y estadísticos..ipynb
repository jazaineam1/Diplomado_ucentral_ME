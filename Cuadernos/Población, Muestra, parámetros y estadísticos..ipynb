{
 "cells": [
  {
   "cell_type": "markdown",
   "metadata": {},
   "source": [
    "# Población, Muestra, parámetros y estadísticos.\n",
    "\n",
    "Caracterizar el comportamiento de una población, utilizando medidas resumen obtenidas en una muestra representativa y probabilística de la misma población.\n",
    "\n",
    "![](c1.JPG)\n",
    "\n",
    "\"Entendemos genéricamente por población el conjunto sobre el cual recaen las observaciones o los datos que analizamos. Si tomamos un subconjunto de elementos de la población decimos que hemos tomado una muestra. Cada uno de los elementos de la población reciben el nombre de unidades estadísticas o individuos.\" \n",
    "\n",
    "*Estadística Edulcorada Básica\tAlejandro Quintela, (2019)*\n",
    "\n",
    "**Parámetro**: medida númerica resumen de una variable asociada a la población.\n",
    "\n",
    "**Estadístico**: medida númerica resumen de una variable asociada a la muestra.\n"
   ]
  },
  {
   "cell_type": "markdown",
   "metadata": {},
   "source": [
    "| Medida              | Parámetro  | Estadístico                                                       |\n",
    "|---------------------|----------------------------------------------------|------------------------------------------------------|\n",
    "| Media               | $\\mu=\\frac{1}{N}\\sum_{i=1}^Nx_i$                   | $\\bar{x}=\\frac{1}{n}\\sum_{i=1}^nx_i$                 |\n",
    "| Proporción          | $\\pi=\\frac{C}{N}$                                 | $p=\\frac{c}{n}$                                   |\n",
    "| Varianza            | $\\sigma^2=\\frac{1}{N}\\sum_{i=1}^N(x_i-\\mu)^2$      | $S^2=\\frac{1}{n-1}\\sum_{i=1}^n(x_i-\\bar{x})^2$       |\n",
    "| Desviación estándar | $\\sigma=\\sqrt{\\frac{1}{N}\\sum_{i=1}^N(x_i-\\mu)^2}$ | $S=\\sqrt{\\frac{1}{n-1}\\sum_{i=1}^n(x_i-\\bar{x})^2}$  |"
   ]
  },
  {
   "cell_type": "markdown",
   "metadata": {},
   "source": [
    "donde, \n",
    "\n",
    "$N:$  Tamaño de la población.\\\n",
    "$n:$ Tamaño de muestra.\\\n",
    "$C:$ Individuos con la característica de interés en la población.\\\n",
    "$c:$ Individuos con la característica de interés en la muestra.\\"
   ]
  },
  {
   "cell_type": "markdown",
   "metadata": {},
   "source": [
    "Si fuera posible tener un listado de TODAS las muestras, y los valores de la variable en cada una de ellas, se observaría que con los datos de cada muestra se obtiene un valor diferente para el estimador.\n",
    "\n",
    "El estimador es una variable aleatoria. Se podría calcular el valor de la media y la desviación estándar para el estimador.\n",
    "![](c2.JPG)"
   ]
  },
  {
   "cell_type": "markdown",
   "metadata": {},
   "source": [
    "### Ejemplo \n",
    "\n",
    "Suponga que se quiere estimar la edad promedio del curso.\n",
    "\n",
    "1. Definir la población objetivo.\n",
    "2. Determinar el tamaño de la población (N).\n",
    "3. Seleccionar el tamaño de la muestra.\n",
    "4. Indicar el parámetro de interés.\n",
    "5. Seleccionar el estimador adecuado.\n",
    "6. Obtener la variable de interés en la muestra.\n",
    "\n",
    "antes de continuar con nuestro ejercicio, complete el formulario.\n",
    "\n",
    "[Ingresar  aquí](https://forms.gle/1tgroFkheM7FMApa9)\n",
    "\n",
    "7. Usando la información del formulario encuentre:\n",
    " - $\\mu$ la media poblacional de la edad.\n",
    " - $\\bar{X}$ la media de la muestra seleccionada.\n",
    "\n"
   ]
  }
 ],
 "metadata": {
  "author": "mes",
  "kernelspec": {
   "display_name": "R",
   "language": "R",
   "name": "ir"
  },
  "language_info": {
   "codemirror_mode": "r",
   "file_extension": ".r",
   "mimetype": "text/x-r-source",
   "name": "R",
   "pygments_lexer": "r",
   "version": "4.0.2"
  },
  "latex_envs": {
   "LaTeX_envs_menu_present": true,
   "autoclose": false,
   "autocomplete": true,
   "bibliofile": "biblio.bib",
   "cite_by": "apalike",
   "current_citInitial": 1,
   "eqLabelWithNumbers": true,
   "eqNumInitial": 1,
   "hotkeys": {
    "equation": "Ctrl-E",
    "itemize": "Ctrl-I"
   },
   "labels_anchors": false,
   "latex_user_defs": false,
   "report_style_numbering": false,
   "user_envs_cfg": false
  },
  "toc": {
   "base_numbering": 1,
   "nav_menu": {},
   "number_sections": false,
   "sideBar": true,
   "skip_h1_title": false,
   "title_cell": "Table of Contents",
   "title_sidebar": "Contents",
   "toc_cell": false,
   "toc_position": {
    "height": "calc(100% - 180px)",
    "left": "10px",
    "top": "150px",
    "width": "165px"
   },
   "toc_section_display": true,
   "toc_window_display": false
  },
  "varInspector": {
   "cols": {
    "lenName": 16,
    "lenType": 16,
    "lenVar": 40
   },
   "kernels_config": {
    "python": {
     "delete_cmd_postfix": "",
     "delete_cmd_prefix": "del ",
     "library": "var_list.py",
     "varRefreshCmd": "print(var_dic_list())"
    },
    "r": {
     "delete_cmd_postfix": ") ",
     "delete_cmd_prefix": "rm(",
     "library": "var_list.r",
     "varRefreshCmd": "cat(var_dic_list()) "
    }
   },
   "types_to_exclude": [
    "module",
    "function",
    "builtin_function_or_method",
    "instance",
    "_Feature"
   ],
   "window_display": false
  }
 },
 "nbformat": 4,
 "nbformat_minor": 4
}
