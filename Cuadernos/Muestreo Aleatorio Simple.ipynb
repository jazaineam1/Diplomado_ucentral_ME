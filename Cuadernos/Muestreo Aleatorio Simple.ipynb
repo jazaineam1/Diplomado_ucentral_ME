{
 "cells": [
  {
   "attachments": {},
   "cell_type": "markdown",
   "metadata": {},
   "source": [
    "| ![Julio Zainea](https://raw.githubusercontent.com/Izainea/Izainea.github.io/master/logo.png) | Diplomado en Métodos Estadísticos | Julio Zainea |\n",
    "|:---:|:---:|:---:|"
   ]
  },
  {
   "attachments": {},
   "cell_type": "markdown",
   "metadata": {},
   "source": [
    "# Técnicas de muestreo\n",
    "\n",
    "En muchos casos, el muestreo resulta más accesible que el estudio de toda la población. En esta sección se explican las razones principales para muestrear\n",
    "y, en seguida, diversos métodos para elegir una muestra.\n",
    "\n",
    "**Razones para muestrear**\n",
    "\n",
    "Cuando se estudian las características de una población, existen diversas razones prácticas\n",
    "para preferir algunas partes o muestras de ella para observar y medir. He aquí algunas razones para muestrear:\n",
    "\n",
    "1. Establecer contacto con toda la población requeriría mucho tiempo. \n",
    "2. El costo de estudiar todos los elementos de una población resultaría prohibitivo. \n",
    "3. Algunas pruebas son de naturaleza destructiva. \n",
    "4. Los resultados de la muestra son adecuados. \n",
    "\n",
    "\n",
    "\n",
    "\n",
    "## Muestreo Aleatorio Simple\n",
    "\n",
    "El tipo de muestreo más común es el muestreo aleatorio simple.\n",
    "\n",
    "Se obtiene una muestra  seleccionada de manera que cada elemento o individuo de la población tenga las mismas posibilidades de que se le incluya.\n",
    "\n",
    "Pasos:\n",
    "\n",
    "1. Determinar el tamaño de la muestra \n",
    "\n",
    "| Parámetro  | Tamaño de la población conocida                                                                   | Tamaño de la población no conocida               |\n",
    "|------------|---------------------------------------------------------------------------------------------------|--------------------------------------------------|\n",
    "| $\\mu$      | $n\\geq \\frac{N\\times Z_{1-\\frac{\\alpha}{2}}^2\\times \\sigma^2}{e^2\\times(N-1)+Z_{1-\\frac{\\alpha}{2}}^2\\times\\sigma^2}  $  |$n\\geq \\frac{Z_{1-\\frac{\\alpha}{2}}^2\\times\\sigma^2}{e^2} $  |\n",
    "| $\\pi$      | $n\\geq \\frac{N\\times Z_{1-\\frac{\\alpha}{2}}^2\\times\\pi(1-\\pi)}{e^2\\times(N-1)+Z_{1-\\frac{\\alpha}{2}}^2\\times\\pi(1-\\pi)} $| $n\\geq \\frac{Z_{1-\\frac{\\alpha}{2}}^2\\times\\pi(1-\\pi)}{e^2}$ |\n",
    "\n",
    "donde, \n",
    "\n",
    "$\\alpha:$ significancia.\\\n",
    "$1-\\alpha:$ confianza.\\\n",
    "$Z_{1-\\alpha/2}:$ Cuantil de la normal.\\\n",
    "$e:$ error máximo permitido.\\\n",
    "\n",
    "\n"
   ]
  },
  {
   "attachments": {},
   "cell_type": "markdown",
   "metadata": {},
   "source": [
    "2. Numerar los individuos de 1 a N (Identificar el marco muestral)\n",
    "3. Generar unidades al azar con probabilidad igual (selección por números aleatorios)\n",
    "4. Seleccionar la muestra y obtener la información de la muestra."
   ]
  },
  {
   "attachments": {},
   "cell_type": "markdown",
   "metadata": {},
   "source": [
    "### Ejemplo \n",
    "\n",
    "La siguiente lista incluye las tiendas de Marco’s Pizza en el condado de Lucas\n",
    "\n",
    "| identificación| Dirección                       |\n",
    "|-------------------------------------------------------------|---|\n",
    "| 2607                  | Starr Av   |   \n",
    "| 309                |W Alexis Rd    |   \n",
    "| 2652                   | W Central Av      |   \n",
    "| 630                        |Dixie Hwy    |   \n",
    "|3510                     | Dorr St    |   \n",
    "| 5055                 |Glendale Av     |   \n",
    "| 3382                        | Lagrange St   |   \n",
    "| 2525                  | W Laskey Rd    |   \n",
    "| 303                    | Louisiana Av    |   \n",
    "| 149                             |Main    |   \n",
    "| 835 S                  | McCord Rd     |   \n",
    "| 3501                    |  Monroe St   |   \n",
    "| 2040| Ottawa River Rd  |\n",
    "| 2116 |N Reynolds Rd   |\n",
    "| 3678| Rugby Dr|\n",
    "| 1419| South Av   |\n",
    "| 1234| W Sylvania Av  |\n",
    "| 4624| Woodville Rd  |\n",
    "| 5155| S Main |\n",
    "| 106| E Airport Hwy |\n",
    "| 6725 |W Central  |\n",
    "| 4252| Monroe  |\n",
    "| 2036| Woodville Rd |\n",
    "| 1316| Michigan Av  |\n",
    "\n",
    "\n",
    "- Cree un documento en excel y guarde el archivo.\n",
    "- Cargue el archivo en Python con el nombre datos.\n",
    "- Calcule el tamaño de muestra con la formula de arriba, asuma que $\\sigma^2=10$ y $e=2.1$ y use una confianza del $90\\%$.\n",
    "- Seleccione la muestra usando la función.\n",
    "\n",
    "```python\n",
    "import random\n",
    "#indique acá el valor de n adecuado en la siguiente linea y descomentela\n",
    "#n=\n",
    "muestra = random.sample(range(1, 25), n)\n",
    "print(muestra)\n",
    "\n",
    "datos_muestra = datos.loc[muestra]\n",
    "print(datos_muestra)\n",
    "```\n"
   ]
  },
  {
   "cell_type": "code",
   "execution_count": 1,
   "metadata": {},
   "outputs": [
    {
     "name": "stdout",
     "output_type": "stream",
     "text": [
      "2.365\n"
     ]
    }
   ],
   "source": [
    "\n"
   ]
  },
  {
   "attachments": {},
   "cell_type": "markdown",
   "metadata": {},
   "source": [
    "### Ejercicio \n",
    "\n",
    "1. Escriba en python el siguiente comando, el cual genera un salario aleatorio para cada uno de los estudiantes.\n",
    "```python\n",
    "import random\n",
    "salario = round(random.uniform(2.2, 6.5), 3)\n",
    "print(salario)\n",
    "```\n",
    "cada estudiante deberá guardar el resultado de esta ejecución, pues será su salario simulado.\n",
    "\n",
    "2. encuentre el valor de $S^2$ por medio de una prueba piloto de mínimo 5 estudiantes.\n",
    "\n",
    "3. Calcule el tamaño de muestra adecuado con el valor de $S^2$ calculado en el paso anterior, usando  una confianza del $95\\%$ y el error que usted defina.\n",
    "\n",
    "4. Seleccioné la muestra y obtenga el valor de $\\bar{X}$.\n",
    "\n",
    "ingrese la información en el  [formulario](https://forms.gle/orPFVv1XQVTWwnUYA)\n",
    "\n"
   ]
  },
  {
   "attachments": {},
   "cell_type": "markdown",
   "metadata": {},
   "source": [
    "## Muestreo estratificado \n",
    "\n",
    "El muestreo estratificado es un diseño de muestreo probabilístico en el que\n",
    "dividimos a la población en subgrupos o estratos. La estratificación puede basarse en una amplia variedad de atributos o características de la población como\n",
    "edad, género, nivel socioeconómico, ocupación, etc.\n",
    "\n",
    "![](https://navarrof.orgfree.com/Docencia/QuimicaAnalitica/Muestreo/muestr3.jpg)\n"
   ]
  },
  {
   "attachments": {},
   "cell_type": "markdown",
   "metadata": {},
   "source": [
    "Suponemos que hay k estratos de tamaños $N_1, N_2,…, N_k$, de forma que:\n",
    "$$N=N_1+N:2+\\cdots+N_k$$\n",
    "En cada estrato se toman $n_1, n_2,…, n_k$ elementos para la muestra, de manera que se toman en total n individuos, es decir:\n",
    "\n",
    "$$n=n_1 +n_2+\\cdots+n_k$$\n",
    "\n",
    "\n",
    "**Elección proporcional al tamaño del estrato:** El tamaño de la muestra en cada grupo es proporcional a los elementos de dicho grupo. En cada estrato se tomarán 𝒏_𝒊 elementos, calculados mediante la formula:\n",
    "\n",
    "$$n_i=n\\frac{N_i}{N}$$\n",
    "\n",
    "el tamaño de muestra $n$ se calcula como:\n"
   ]
  },
  {
   "attachments": {},
   "cell_type": "markdown",
   "metadata": {},
   "source": [
    "| Parámetro | Tamaño de la población conocida                                                                     | Tamaño de la población no conocida                              |\n",
    "|-----------|-----------------------------------------------------------------------------------------------------|-----------------------------------------------------------------|\n",
    "| $\\mu$     | $n\\geq \\frac{\\sum_{i=1}^k W_i\\sigma_i^2}{(e/Z_{1-\\alpha/2})^2+\\frac{\\sum_{i=1}^k W_i\\sigma_i^2}{N}}  $ | $n\\geq \\frac{Z_{1-\\alpha/2}^2 \\sum_{i=1}^kW_i\\sigma^2_i}{e^2} $ |\n",
    "| $\\pi$     | $n\\geq \\frac{1}{N(e/Z_{1-\\alpha/2})^2}\\sum_{i=1}^k N_i\\pi_i(1-\\pi_i)$                               | $n\\geq \\frac{Z_{1-\\alpha/2}^2\\sum_{i=1}^k\\pi_i(1-\\pi_i)}{e^2}$  |\n",
    "\n",
    "\n",
    "Por el procedimiento de muestreo elegido obtenemos una muestra de 750 sujetos. Para asignar el número de componentes a los tres estratos de edad, aplicaremos la fórmula anterior:\n"
   ]
  },
  {
   "attachments": {},
   "cell_type": "markdown",
   "metadata": {},
   "source": [
    "### Ejemplo \n",
    "\n",
    "suponemos que se está haciendo un estudio sobre la toma de pastillas para dormir en una ciudad de 50.000 habitantes. La variable edad se considera adecuada para obtener resultados en esta investigación. Se incluyen solamente los mayores de 40 años en el estudio. Se distribuyen en tres grupos o estratos, resultando una agrupación, según el censo:\n",
    "\n",
    "|     Estrato    |     Rango de Edad      |     Censo (Población)    |     Muestra    |\n",
    "|----------------|------------------------|--------------------------|----------------|\n",
    "|     1          |     De 40 a 55 años    |     25.000               |     375        |\n",
    "|     2          |     De 56 a 70 Años    |     18.000               |     270        |\n",
    "|     3          |     Mayor a 70 Años    |     7.000                |     105        |\n",
    "|      Total     |                        |     50.000               |     750        |\n",
    "\n",
    "Por el procedimiento de muestreo elegido obtenemos una muestra de 750 sujetos. Para asignar el número de componentes a los tres estratos de edad, aplicaremos la fórmula anterior:\n",
    "\n",
    "![](https://raw.githubusercontent.com/jazaineam1/UCE1/master/Cuadernos/Images/i1.png)"
   ]
  }
 ],
 "metadata": {
  "@webio": {
   "lastCommId": null,
   "lastKernelId": null
  },
  "kernelspec": {
   "display_name": "base",
   "language": "python",
   "name": "python3"
  },
  "language_info": {
   "codemirror_mode": {
    "name": "ipython",
    "version": 3
   },
   "file_extension": ".py",
   "mimetype": "text/x-python",
   "name": "python",
   "nbconvert_exporter": "python",
   "pygments_lexer": "ipython3",
   "version": "3.9.12"
  },
  "latex_envs": {
   "LaTeX_envs_menu_present": true,
   "autoclose": false,
   "autocomplete": true,
   "bibliofile": "biblio.bib",
   "cite_by": "apalike",
   "current_citInitial": 1,
   "eqLabelWithNumbers": true,
   "eqNumInitial": 1,
   "hotkeys": {
    "equation": "Ctrl-E",
    "itemize": "Ctrl-I"
   },
   "labels_anchors": false,
   "latex_user_defs": false,
   "report_style_numbering": false,
   "user_envs_cfg": false
  },
  "toc": {
   "base_numbering": 1,
   "nav_menu": {},
   "number_sections": false,
   "sideBar": true,
   "skip_h1_title": false,
   "title_cell": "Table of Contents",
   "title_sidebar": "Contents",
   "toc_cell": false,
   "toc_position": {
    "height": "calc(100% - 180px)",
    "left": "10px",
    "top": "150px",
    "width": "165px"
   },
   "toc_section_display": true,
   "toc_window_display": false
  },
  "varInspector": {
   "cols": {
    "lenName": 16,
    "lenType": 16,
    "lenVar": 40
   },
   "kernels_config": {
    "python": {
     "delete_cmd_postfix": "",
     "delete_cmd_prefix": "del ",
     "library": "var_list.py",
     "varRefreshCmd": "print(var_dic_list())"
    },
    "r": {
     "delete_cmd_postfix": ") ",
     "delete_cmd_prefix": "rm(",
     "library": "var_list.r",
     "varRefreshCmd": "cat(var_dic_list()) "
    }
   },
   "types_to_exclude": [
    "module",
    "function",
    "builtin_function_or_method",
    "instance",
    "_Feature"
   ],
   "window_display": false
  }
 },
 "nbformat": 4,
 "nbformat_minor": 4
}
