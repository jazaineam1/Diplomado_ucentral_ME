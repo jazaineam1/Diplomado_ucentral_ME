{
  "cells": [
    {
      "cell_type": "markdown",
      "metadata": {
        "id": "view-in-github",
        "colab_type": "text"
      },
      "source": [
        "<a href=\"https://colab.research.google.com/github/jazaineam1/Diplomado_ucentral_ME/blob/main/Cuadernos/5_Introducci%C3%B3n_a_la_Estad%C3%ADstica_y_Exploraci%C3%B3n_de_Datos_con_Pandas.ipynb\" target=\"_parent\"><img src=\"https://colab.research.google.com/assets/colab-badge.svg\" alt=\"Open In Colab\"/></a>"
      ]
    },
    {
      "cell_type": "markdown",
      "metadata": {
        "id": "RxGRNRno-6pq"
      },
      "source": [
        "\n",
        "## ***Universidad Central***\n",
        ">## **Dirección de Educación Continua.**\n",
        "\n",
        "\n",
        "\n",
        "![Imágen1](https://www.ucentral.edu.co/sites/default/files/logo_1.png)\n",
        "\n"
      ]
    },
    {
      "cell_type": "markdown",
      "metadata": {
        "id": "OfhHe9Tq-6pu"
      },
      "source": [
        "# Introducción a la Estadística y Exploración de Datos con Pandas"
      ]
    },
    {
      "cell_type": "markdown",
      "metadata": {
        "id": "freGQhIa-6pu"
      },
      "source": [
        "## Tabla de Contenidos\n",
        "\n",
        "1. [Introducción y Motivación](#introducción-y-motivación)\n",
        "2. [Objetivos](#objetivos)\n",
        "3. [Sección 1: Conceptos fundamentales de estadística](#sección-1-conceptos-fundamentales-de-estadística)\n",
        "4. [Sección 2: Tipos de datos](#sección-2-tipos-de-datos)\n",
        "5. [Sección 3: Medidas de tendencia central](#sección-3-medidas-de-tendencia-central)\n",
        "6. [Sección 4: Medidas de dispersión](#sección-4-medidas-de-dispersión)\n",
        "8. [Sección 5: Exploración de datos con Pandas](#sección-5-exploración-de-datos-con-pandas)\n"
      ]
    },
    {
      "cell_type": "markdown",
      "metadata": {
        "id": "C3DhJVzC-6pu"
      },
      "source": [
        "## Introducción y Motivación\n",
        "\n",
        "La estadística y la exploración de datos desempeñan un papel fundamental en el análisis de datos y en la toma de decisiones basadas en evidencias. En la era de la información en la que vivimos, la cantidad de datos generados cada día es abrumadora. Estos datos contienen valiosa información que puede ayudarnos a comprender fenómenos, identificar patrones y tomar decisiones informadas.\n",
        "\n",
        "La capacidad de manipular y analizar datos de manera efectiva se ha vuelto esencial en diversos campos, desde la investigación científica hasta el mundo empresarial y gubernamental. Aquí es donde entra en juego la librería Pandas. Pandas es una poderosa herramienta de análisis y manipulación de datos en Python que nos permite realizar tareas como limpieza, transformación y exploración de datos de manera eficiente.\n",
        "\n",
        "En este cuaderno, exploraremos los conceptos fundamentales de la estadística y cómo aplicarlos utilizando la librería Pandas. Aprenderemos sobre las medidas de tendencia central, las medidas de dispersión y las distribuciones de probabilidad. Además, descubriremos cómo Pandas nos permite realizar tareas como la carga y selección de datos, el filtrado y la agregación, y la visualización de datos. Al final de este cuaderno, estarás equipado con los conocimientos necesarios para comenzar a explorar y analizar datos utilizando Pandas."
      ]
    },
    {
      "cell_type": "markdown",
      "metadata": {
        "id": "42wB1uDN-6pv"
      },
      "source": [
        "## Objetivos\n",
        "\n",
        "En este cuaderno, se persiguen los siguientes objetivos:\n",
        "\n",
        "- Comprender los conceptos fundamentales de la estadística y su importancia en el análisis de datos.\n",
        "- Familiarizarse con los diferentes tipos de datos y cómo se manejan en el análisis estadístico.\n",
        "- Conocer las medidas de tendencia central y dispersión utilizadas para describir y resumir los datos.\n",
        "- Aprender a utilizar la librería Pandas para realizar la exploración de datos y manipulación de datos en Python.\n"
      ]
    },
    {
      "cell_type": "markdown",
      "metadata": {
        "id": "Hi48qOCy-6pv"
      },
      "source": [
        "## Sección 1: Conceptos fundamentales de estadística\n",
        "\n",
        "En esta sección, exploraremos los conceptos fundamentales de la estadística y su importancia en el análisis de datos. Comenzaremos por comprender qué es la estadística y cómo se aplica en diferentes campos.\n",
        "\n",
        "### 1.1 ¿Qué es la estadística?\n",
        "\n",
        "La estadística es una disciplina que se encarga de recolectar, organizar, analizar e interpretar datos. Su objetivo es obtener conclusiones y tomar decisiones basadas en evidencias proporcionadas por los datos. La estadística nos permite resumir y describir características de un conjunto de datos, identificar patrones y tendencias, realizar inferencias y estimaciones, y evaluar la incertidumbre asociada a los resultados.\n",
        "\n",
        "### 1.2 Aplicaciones de la estadística\n",
        "\n",
        "La estadística tiene numerosas aplicaciones en diferentes campos, como la investigación científica, la planificación y gestión empresarial, la salud, la economía, la ingeniería, entre otros. En cada uno de estos campos, la estadística ayuda a tomar decisiones informadas y a comprender fenómenos complejos a través del análisis y la interpretación de datos.\n",
        "\n",
        "### 1.3 Métodos estadísticos\n",
        "\n",
        "En el análisis estadístico, se utilizan diversos métodos para recopilar, organizar y analizar los datos. Estos métodos incluyen la recopilación de datos a través de muestreo o experimentación, la aplicación de técnicas de análisis descriptivo y exploratorio, la realización de pruebas de hipótesis y la construcción de modelos estadísticos.\n",
        "\n",
        "### 1.4 Pandas\n",
        "\n",
        "Pandas es una librería popular en Python para el análisis y manipulación de datos. Sus estructuras de datos flexibles, especialmente los DataFrames, son ideales para trabajar con conjuntos de datos tabulares.\n",
        "\n",
        "Razones por las que Pandas es útil en estadística y análisis de datos:\n",
        "\n",
        "1. **Manipulación y limpieza de datos**: Ofrece funciones para limpiar y manipular datos, como eliminar duplicados, manejar valores faltantes y filtrar subconjuntos de datos.\n",
        "\n",
        "2. **Exploración y visualización de datos**: Permite realizar análisis exploratorio y visualizar datos con estadísticas descriptivas, gráficos y análisis de correlación.\n",
        "\n",
        "3. **Análisis estadístico**: Incluye funciones para calcular medidas de tendencia central, dispersión, realizar pruebas de hipótesis y análisis de regresión.\n",
        "\n",
        "4. **Integración con otras librerías**: Se integra fácilmente con NumPy, Matplotlib y librerías especializadas en estadística, como SciPy y StatsModels.\n",
        "\n",
        "A continuación, se muestra una celda de código para importar Pandas y cargar un archivo de datos en un DataFrame:\n",
        "\n",
        "```python\n",
        "import pandas as pd\n",
        "\n",
        "# Cargar archivo de datos en un DataFrame\n",
        "df = pd.read_csv('archivo.csv')\n",
        "\n",
        "# Realizar operaciones y análisis con el DataFrame\n",
        "# ..."
      ]
    },
    {
      "cell_type": "code",
      "execution_count": 12,
      "metadata": {
        "id": "NV5TbZyj-6pw",
        "colab": {
          "base_uri": "https://localhost:8080/",
          "height": 423
        },
        "outputId": "aa54cbd5-f5a2-4b04-b6db-441edf35024e"
      },
      "outputs": [
        {
          "output_type": "execute_result",
          "data": {
            "text/plain": [
              "         cedula  salario        ciudad  edad fecha_nacimiento genero\n",
              "0    1618637542  3146109  Barranquilla    46       18/10/1979      M\n",
              "1    1283642419  5199205        Bogotá    21       13/01/2004      M\n",
              "2    1945803228  3097038        Bogotá    26       19/10/1999      M\n",
              "3     797846414  3854794        Bogotá    30       01/11/1995      M\n",
              "4    1006406378  1173186     Cartagena    43       21/02/1982      F\n",
              "..          ...      ...           ...   ...              ...    ...\n",
              "495   236860070  3894913  Barranquilla    45       07/09/1980      M\n",
              "496  1270967388  5964995      Medellín    55       22/03/1970      M\n",
              "497  1283501353  3979824        Bogotá    19       08/08/2006      F\n",
              "498  1338696054  1964052      Medellín    18       12/02/2007      F\n",
              "499  1812945049  3581541        Bogotá    53       12/09/1972      M\n",
              "\n",
              "[500 rows x 6 columns]"
            ],
            "text/html": [
              "\n",
              "  <div id=\"df-45a41ba1-25a1-4ceb-b0f1-d1dcdf328b10\" class=\"colab-df-container\">\n",
              "    <div>\n",
              "<style scoped>\n",
              "    .dataframe tbody tr th:only-of-type {\n",
              "        vertical-align: middle;\n",
              "    }\n",
              "\n",
              "    .dataframe tbody tr th {\n",
              "        vertical-align: top;\n",
              "    }\n",
              "\n",
              "    .dataframe thead th {\n",
              "        text-align: right;\n",
              "    }\n",
              "</style>\n",
              "<table border=\"1\" class=\"dataframe\">\n",
              "  <thead>\n",
              "    <tr style=\"text-align: right;\">\n",
              "      <th></th>\n",
              "      <th>cedula</th>\n",
              "      <th>salario</th>\n",
              "      <th>ciudad</th>\n",
              "      <th>edad</th>\n",
              "      <th>fecha_nacimiento</th>\n",
              "      <th>genero</th>\n",
              "    </tr>\n",
              "  </thead>\n",
              "  <tbody>\n",
              "    <tr>\n",
              "      <th>0</th>\n",
              "      <td>1618637542</td>\n",
              "      <td>3146109</td>\n",
              "      <td>Barranquilla</td>\n",
              "      <td>46</td>\n",
              "      <td>18/10/1979</td>\n",
              "      <td>M</td>\n",
              "    </tr>\n",
              "    <tr>\n",
              "      <th>1</th>\n",
              "      <td>1283642419</td>\n",
              "      <td>5199205</td>\n",
              "      <td>Bogotá</td>\n",
              "      <td>21</td>\n",
              "      <td>13/01/2004</td>\n",
              "      <td>M</td>\n",
              "    </tr>\n",
              "    <tr>\n",
              "      <th>2</th>\n",
              "      <td>1945803228</td>\n",
              "      <td>3097038</td>\n",
              "      <td>Bogotá</td>\n",
              "      <td>26</td>\n",
              "      <td>19/10/1999</td>\n",
              "      <td>M</td>\n",
              "    </tr>\n",
              "    <tr>\n",
              "      <th>3</th>\n",
              "      <td>797846414</td>\n",
              "      <td>3854794</td>\n",
              "      <td>Bogotá</td>\n",
              "      <td>30</td>\n",
              "      <td>01/11/1995</td>\n",
              "      <td>M</td>\n",
              "    </tr>\n",
              "    <tr>\n",
              "      <th>4</th>\n",
              "      <td>1006406378</td>\n",
              "      <td>1173186</td>\n",
              "      <td>Cartagena</td>\n",
              "      <td>43</td>\n",
              "      <td>21/02/1982</td>\n",
              "      <td>F</td>\n",
              "    </tr>\n",
              "    <tr>\n",
              "      <th>...</th>\n",
              "      <td>...</td>\n",
              "      <td>...</td>\n",
              "      <td>...</td>\n",
              "      <td>...</td>\n",
              "      <td>...</td>\n",
              "      <td>...</td>\n",
              "    </tr>\n",
              "    <tr>\n",
              "      <th>495</th>\n",
              "      <td>236860070</td>\n",
              "      <td>3894913</td>\n",
              "      <td>Barranquilla</td>\n",
              "      <td>45</td>\n",
              "      <td>07/09/1980</td>\n",
              "      <td>M</td>\n",
              "    </tr>\n",
              "    <tr>\n",
              "      <th>496</th>\n",
              "      <td>1270967388</td>\n",
              "      <td>5964995</td>\n",
              "      <td>Medellín</td>\n",
              "      <td>55</td>\n",
              "      <td>22/03/1970</td>\n",
              "      <td>M</td>\n",
              "    </tr>\n",
              "    <tr>\n",
              "      <th>497</th>\n",
              "      <td>1283501353</td>\n",
              "      <td>3979824</td>\n",
              "      <td>Bogotá</td>\n",
              "      <td>19</td>\n",
              "      <td>08/08/2006</td>\n",
              "      <td>F</td>\n",
              "    </tr>\n",
              "    <tr>\n",
              "      <th>498</th>\n",
              "      <td>1338696054</td>\n",
              "      <td>1964052</td>\n",
              "      <td>Medellín</td>\n",
              "      <td>18</td>\n",
              "      <td>12/02/2007</td>\n",
              "      <td>F</td>\n",
              "    </tr>\n",
              "    <tr>\n",
              "      <th>499</th>\n",
              "      <td>1812945049</td>\n",
              "      <td>3581541</td>\n",
              "      <td>Bogotá</td>\n",
              "      <td>53</td>\n",
              "      <td>12/09/1972</td>\n",
              "      <td>M</td>\n",
              "    </tr>\n",
              "  </tbody>\n",
              "</table>\n",
              "<p>500 rows × 6 columns</p>\n",
              "</div>\n",
              "    <div class=\"colab-df-buttons\">\n",
              "\n",
              "  <div class=\"colab-df-container\">\n",
              "    <button class=\"colab-df-convert\" onclick=\"convertToInteractive('df-45a41ba1-25a1-4ceb-b0f1-d1dcdf328b10')\"\n",
              "            title=\"Convert this dataframe to an interactive table.\"\n",
              "            style=\"display:none;\">\n",
              "\n",
              "  <svg xmlns=\"http://www.w3.org/2000/svg\" height=\"24px\" viewBox=\"0 -960 960 960\">\n",
              "    <path d=\"M120-120v-720h720v720H120Zm60-500h600v-160H180v160Zm220 220h160v-160H400v160Zm0 220h160v-160H400v160ZM180-400h160v-160H180v160Zm440 0h160v-160H620v160ZM180-180h160v-160H180v160Zm440 0h160v-160H620v160Z\"/>\n",
              "  </svg>\n",
              "    </button>\n",
              "\n",
              "  <style>\n",
              "    .colab-df-container {\n",
              "      display:flex;\n",
              "      gap: 12px;\n",
              "    }\n",
              "\n",
              "    .colab-df-convert {\n",
              "      background-color: #E8F0FE;\n",
              "      border: none;\n",
              "      border-radius: 50%;\n",
              "      cursor: pointer;\n",
              "      display: none;\n",
              "      fill: #1967D2;\n",
              "      height: 32px;\n",
              "      padding: 0 0 0 0;\n",
              "      width: 32px;\n",
              "    }\n",
              "\n",
              "    .colab-df-convert:hover {\n",
              "      background-color: #E2EBFA;\n",
              "      box-shadow: 0px 1px 2px rgba(60, 64, 67, 0.3), 0px 1px 3px 1px rgba(60, 64, 67, 0.15);\n",
              "      fill: #174EA6;\n",
              "    }\n",
              "\n",
              "    .colab-df-buttons div {\n",
              "      margin-bottom: 4px;\n",
              "    }\n",
              "\n",
              "    [theme=dark] .colab-df-convert {\n",
              "      background-color: #3B4455;\n",
              "      fill: #D2E3FC;\n",
              "    }\n",
              "\n",
              "    [theme=dark] .colab-df-convert:hover {\n",
              "      background-color: #434B5C;\n",
              "      box-shadow: 0px 1px 3px 1px rgba(0, 0, 0, 0.15);\n",
              "      filter: drop-shadow(0px 1px 2px rgba(0, 0, 0, 0.3));\n",
              "      fill: #FFFFFF;\n",
              "    }\n",
              "  </style>\n",
              "\n",
              "    <script>\n",
              "      const buttonEl =\n",
              "        document.querySelector('#df-45a41ba1-25a1-4ceb-b0f1-d1dcdf328b10 button.colab-df-convert');\n",
              "      buttonEl.style.display =\n",
              "        google.colab.kernel.accessAllowed ? 'block' : 'none';\n",
              "\n",
              "      async function convertToInteractive(key) {\n",
              "        const element = document.querySelector('#df-45a41ba1-25a1-4ceb-b0f1-d1dcdf328b10');\n",
              "        const dataTable =\n",
              "          await google.colab.kernel.invokeFunction('convertToInteractive',\n",
              "                                                    [key], {});\n",
              "        if (!dataTable) return;\n",
              "\n",
              "        const docLinkHtml = 'Like what you see? Visit the ' +\n",
              "          '<a target=\"_blank\" href=https://colab.research.google.com/notebooks/data_table.ipynb>data table notebook</a>'\n",
              "          + ' to learn more about interactive tables.';\n",
              "        element.innerHTML = '';\n",
              "        dataTable['output_type'] = 'display_data';\n",
              "        await google.colab.output.renderOutput(dataTable, element);\n",
              "        const docLink = document.createElement('div');\n",
              "        docLink.innerHTML = docLinkHtml;\n",
              "        element.appendChild(docLink);\n",
              "      }\n",
              "    </script>\n",
              "  </div>\n",
              "\n",
              "\n",
              "<div id=\"df-fad3322f-830e-4fed-bc99-47e1b52263a1\">\n",
              "  <button class=\"colab-df-quickchart\" onclick=\"quickchart('df-fad3322f-830e-4fed-bc99-47e1b52263a1')\"\n",
              "            title=\"Suggest charts\"\n",
              "            style=\"display:none;\">\n",
              "\n",
              "<svg xmlns=\"http://www.w3.org/2000/svg\" height=\"24px\"viewBox=\"0 0 24 24\"\n",
              "     width=\"24px\">\n",
              "    <g>\n",
              "        <path d=\"M19 3H5c-1.1 0-2 .9-2 2v14c0 1.1.9 2 2 2h14c1.1 0 2-.9 2-2V5c0-1.1-.9-2-2-2zM9 17H7v-7h2v7zm4 0h-2V7h2v10zm4 0h-2v-4h2v4z\"/>\n",
              "    </g>\n",
              "</svg>\n",
              "  </button>\n",
              "\n",
              "<style>\n",
              "  .colab-df-quickchart {\n",
              "      --bg-color: #E8F0FE;\n",
              "      --fill-color: #1967D2;\n",
              "      --hover-bg-color: #E2EBFA;\n",
              "      --hover-fill-color: #174EA6;\n",
              "      --disabled-fill-color: #AAA;\n",
              "      --disabled-bg-color: #DDD;\n",
              "  }\n",
              "\n",
              "  [theme=dark] .colab-df-quickchart {\n",
              "      --bg-color: #3B4455;\n",
              "      --fill-color: #D2E3FC;\n",
              "      --hover-bg-color: #434B5C;\n",
              "      --hover-fill-color: #FFFFFF;\n",
              "      --disabled-bg-color: #3B4455;\n",
              "      --disabled-fill-color: #666;\n",
              "  }\n",
              "\n",
              "  .colab-df-quickchart {\n",
              "    background-color: var(--bg-color);\n",
              "    border: none;\n",
              "    border-radius: 50%;\n",
              "    cursor: pointer;\n",
              "    display: none;\n",
              "    fill: var(--fill-color);\n",
              "    height: 32px;\n",
              "    padding: 0;\n",
              "    width: 32px;\n",
              "  }\n",
              "\n",
              "  .colab-df-quickchart:hover {\n",
              "    background-color: var(--hover-bg-color);\n",
              "    box-shadow: 0 1px 2px rgba(60, 64, 67, 0.3), 0 1px 3px 1px rgba(60, 64, 67, 0.15);\n",
              "    fill: var(--button-hover-fill-color);\n",
              "  }\n",
              "\n",
              "  .colab-df-quickchart-complete:disabled,\n",
              "  .colab-df-quickchart-complete:disabled:hover {\n",
              "    background-color: var(--disabled-bg-color);\n",
              "    fill: var(--disabled-fill-color);\n",
              "    box-shadow: none;\n",
              "  }\n",
              "\n",
              "  .colab-df-spinner {\n",
              "    border: 2px solid var(--fill-color);\n",
              "    border-color: transparent;\n",
              "    border-bottom-color: var(--fill-color);\n",
              "    animation:\n",
              "      spin 1s steps(1) infinite;\n",
              "  }\n",
              "\n",
              "  @keyframes spin {\n",
              "    0% {\n",
              "      border-color: transparent;\n",
              "      border-bottom-color: var(--fill-color);\n",
              "      border-left-color: var(--fill-color);\n",
              "    }\n",
              "    20% {\n",
              "      border-color: transparent;\n",
              "      border-left-color: var(--fill-color);\n",
              "      border-top-color: var(--fill-color);\n",
              "    }\n",
              "    30% {\n",
              "      border-color: transparent;\n",
              "      border-left-color: var(--fill-color);\n",
              "      border-top-color: var(--fill-color);\n",
              "      border-right-color: var(--fill-color);\n",
              "    }\n",
              "    40% {\n",
              "      border-color: transparent;\n",
              "      border-right-color: var(--fill-color);\n",
              "      border-top-color: var(--fill-color);\n",
              "    }\n",
              "    60% {\n",
              "      border-color: transparent;\n",
              "      border-right-color: var(--fill-color);\n",
              "    }\n",
              "    80% {\n",
              "      border-color: transparent;\n",
              "      border-right-color: var(--fill-color);\n",
              "      border-bottom-color: var(--fill-color);\n",
              "    }\n",
              "    90% {\n",
              "      border-color: transparent;\n",
              "      border-bottom-color: var(--fill-color);\n",
              "    }\n",
              "  }\n",
              "</style>\n",
              "\n",
              "  <script>\n",
              "    async function quickchart(key) {\n",
              "      const quickchartButtonEl =\n",
              "        document.querySelector('#' + key + ' button');\n",
              "      quickchartButtonEl.disabled = true;  // To prevent multiple clicks.\n",
              "      quickchartButtonEl.classList.add('colab-df-spinner');\n",
              "      try {\n",
              "        const charts = await google.colab.kernel.invokeFunction(\n",
              "            'suggestCharts', [key], {});\n",
              "      } catch (error) {\n",
              "        console.error('Error during call to suggestCharts:', error);\n",
              "      }\n",
              "      quickchartButtonEl.classList.remove('colab-df-spinner');\n",
              "      quickchartButtonEl.classList.add('colab-df-quickchart-complete');\n",
              "    }\n",
              "    (() => {\n",
              "      let quickchartButtonEl =\n",
              "        document.querySelector('#df-fad3322f-830e-4fed-bc99-47e1b52263a1 button');\n",
              "      quickchartButtonEl.style.display =\n",
              "        google.colab.kernel.accessAllowed ? 'block' : 'none';\n",
              "    })();\n",
              "  </script>\n",
              "</div>\n",
              "\n",
              "  <div id=\"id_1f7bf58e-db01-4957-8586-1192b5f9b066\">\n",
              "    <style>\n",
              "      .colab-df-generate {\n",
              "        background-color: #E8F0FE;\n",
              "        border: none;\n",
              "        border-radius: 50%;\n",
              "        cursor: pointer;\n",
              "        display: none;\n",
              "        fill: #1967D2;\n",
              "        height: 32px;\n",
              "        padding: 0 0 0 0;\n",
              "        width: 32px;\n",
              "      }\n",
              "\n",
              "      .colab-df-generate:hover {\n",
              "        background-color: #E2EBFA;\n",
              "        box-shadow: 0px 1px 2px rgba(60, 64, 67, 0.3), 0px 1px 3px 1px rgba(60, 64, 67, 0.15);\n",
              "        fill: #174EA6;\n",
              "      }\n",
              "\n",
              "      [theme=dark] .colab-df-generate {\n",
              "        background-color: #3B4455;\n",
              "        fill: #D2E3FC;\n",
              "      }\n",
              "\n",
              "      [theme=dark] .colab-df-generate:hover {\n",
              "        background-color: #434B5C;\n",
              "        box-shadow: 0px 1px 3px 1px rgba(0, 0, 0, 0.15);\n",
              "        filter: drop-shadow(0px 1px 2px rgba(0, 0, 0, 0.3));\n",
              "        fill: #FFFFFF;\n",
              "      }\n",
              "    </style>\n",
              "    <button class=\"colab-df-generate\" onclick=\"generateWithVariable('df')\"\n",
              "            title=\"Generate code using this dataframe.\"\n",
              "            style=\"display:none;\">\n",
              "\n",
              "  <svg xmlns=\"http://www.w3.org/2000/svg\" height=\"24px\"viewBox=\"0 0 24 24\"\n",
              "       width=\"24px\">\n",
              "    <path d=\"M7,19H8.4L18.45,9,17,7.55,7,17.6ZM5,21V16.75L18.45,3.32a2,2,0,0,1,2.83,0l1.4,1.43a1.91,1.91,0,0,1,.58,1.4,1.91,1.91,0,0,1-.58,1.4L9.25,21ZM18.45,9,17,7.55Zm-12,3A5.31,5.31,0,0,0,4.9,8.1,5.31,5.31,0,0,0,1,6.5,5.31,5.31,0,0,0,4.9,4.9,5.31,5.31,0,0,0,6.5,1,5.31,5.31,0,0,0,8.1,4.9,5.31,5.31,0,0,0,12,6.5,5.46,5.46,0,0,0,6.5,12Z\"/>\n",
              "  </svg>\n",
              "    </button>\n",
              "    <script>\n",
              "      (() => {\n",
              "      const buttonEl =\n",
              "        document.querySelector('#id_1f7bf58e-db01-4957-8586-1192b5f9b066 button.colab-df-generate');\n",
              "      buttonEl.style.display =\n",
              "        google.colab.kernel.accessAllowed ? 'block' : 'none';\n",
              "\n",
              "      buttonEl.onclick = () => {\n",
              "        google.colab.notebook.generateWithVariable('df');\n",
              "      }\n",
              "      })();\n",
              "    </script>\n",
              "  </div>\n",
              "\n",
              "    </div>\n",
              "  </div>\n"
            ],
            "application/vnd.google.colaboratory.intrinsic+json": {
              "type": "dataframe",
              "variable_name": "df",
              "summary": "{\n  \"name\": \"df\",\n  \"rows\": 500,\n  \"fields\": [\n    {\n      \"column\": \"cedula\",\n      \"properties\": {\n        \"dtype\": \"number\",\n        \"std\": 568097059,\n        \"min\": 12235000,\n        \"max\": 1996196019,\n        \"num_unique_values\": 500,\n        \"samples\": [\n          820490870,\n          797110843,\n          620021271\n        ],\n        \"semantic_type\": \"\",\n        \"description\": \"\"\n      }\n    },\n    {\n      \"column\": \"salario\",\n      \"properties\": {\n        \"dtype\": \"number\",\n        \"std\": 1521600,\n        \"min\": 1004919,\n        \"max\": 8538185,\n        \"num_unique_values\": 500,\n        \"samples\": [\n          1897001,\n          5325150,\n          2772210\n        ],\n        \"semantic_type\": \"\",\n        \"description\": \"\"\n      }\n    },\n    {\n      \"column\": \"ciudad\",\n      \"properties\": {\n        \"dtype\": \"category\",\n        \"num_unique_values\": 10,\n        \"samples\": [\n          \"Pereira\",\n          \"Bogot\\u00e1\",\n          \"Cali\"\n        ],\n        \"semantic_type\": \"\",\n        \"description\": \"\"\n      }\n    },\n    {\n      \"column\": \"edad\",\n      \"properties\": {\n        \"dtype\": \"number\",\n        \"std\": 9,\n        \"min\": 18,\n        \"max\": 65,\n        \"num_unique_values\": 42,\n        \"samples\": [\n          25,\n          47,\n          38\n        ],\n        \"semantic_type\": \"\",\n        \"description\": \"\"\n      }\n    },\n    {\n      \"column\": \"fecha_nacimiento\",\n      \"properties\": {\n        \"dtype\": \"object\",\n        \"num_unique_values\": 489,\n        \"samples\": [\n          \"23/09/1985\",\n          \"23/04/1975\",\n          \"17/06/2003\"\n        ],\n        \"semantic_type\": \"\",\n        \"description\": \"\"\n      }\n    },\n    {\n      \"column\": \"genero\",\n      \"properties\": {\n        \"dtype\": \"category\",\n        \"num_unique_values\": 2,\n        \"samples\": [\n          \"F\",\n          \"M\"\n        ],\n        \"semantic_type\": \"\",\n        \"description\": \"\"\n      }\n    }\n  ]\n}"
            }
          },
          "metadata": {},
          "execution_count": 12
        }
      ],
      "source": [
        "import pandas as pd\n",
        "\n",
        "# Cargamos el dataset de empleados guardado en \"https://raw.githubusercontent.com/jazaineam1/Diplomado_ucentral_ME/refs/heads/main/Datos/datos_empleados.csv\"\n",
        "\n",
        "df=pd.read_csv(\"https://raw.githubusercontent.com/jazaineam1/Diplomado_ucentral_ME/refs/heads/main/Datos/datos_empleados.csv\")\n",
        "\n",
        "df"
      ]
    },
    {
      "cell_type": "markdown",
      "metadata": {
        "id": "hwEBQcJ8-6px"
      },
      "source": [
        "## Sección 2: Tipos de datos\n",
        "\n",
        "En esta sección, exploraremos los diferentes tipos de datos y cómo se manejan en el análisis estadístico. Comenzaremos por comprender qué es un dato y cómo se clasifican.\n",
        "\n",
        "### 2.1 ¿Qué es un dato?\n",
        "\n",
        "Un dato es una representación simbólica de una cantidad, hecho o concepto. Los datos pueden ser numéricos o categóricos. Los datos numéricos representan cantidades y se pueden expresar en forma de números. Los datos categóricos representan características y se pueden expresar en forma de etiquetas o categorías.\n",
        "\n",
        "### 2.2 Tipos de datos\n",
        "\n",
        "Los datos numéricos se pueden clasificar en dos tipos: datos discretos y datos continuos. Los datos discretos son valores numéricos que se pueden contar, como el número de estudiantes en una clase o el número de autos en un estacionamiento. Los datos continuos son valores numéricos que se pueden medir, como la altura de una persona o la temperatura de un día.\n",
        "\n",
        "Los datos categóricos se pueden clasificar en dos tipos: datos ordinales y datos nominales. Los datos ordinales son valores categóricos que se pueden ordenar o clasificar, como el nivel de educación de una persona o el estado civil. Los datos nominales son valores categóricos que no se pueden ordenar o clasificar, como el género de una persona o el color de un automóvil.\n",
        "\n",
        "\n",
        "### 2.3 Tipos de Variable\n",
        "<img src=\"https://antoninoapp.shinyapps.io/semana2/_w_4c286c0d/www/variable.png\"  width=\"200\" height=\"150\">\n",
        "\n",
        "Existen dos tipos básicos de variables:\n",
        "\n",
        "\n",
        "Cuando la característica que se estudia es de naturaleza no numérica, recibe el nombre de variable **cualitativa** o **atributo**. Algunos ejemplos de variables cualitativas son:\n",
        "\n",
        "1.  Sexo (Masculino, Femenino)<img src=\"https://antoninoapp.shinyapps.io/semana2/_w_4c286c0d/www/hombre.png\"  width=\"40\" height=\"30\"> <img src=\"https://antoninoapp.shinyapps.io/semana2/_w_4c286c0d/www/mujer.png\"  width=\"40\" height=\"30\">\n",
        "2.  Deporte favorito (fútbol, Baloncesto, ...) <img src=\"https://antoninoapp.shinyapps.io/semana2/_w_4c286c0d/www/futbol.png\"  width=\"40\" height=\"30\"><img src=\"https://antoninoapp.shinyapps.io/semana2/_w_4c286c0d/www/baloncesto.png\"  width=\"40\" height=\"30\">\n",
        "\n",
        "Cuando los datos son de naturaleza cualitativa, importa la cantidad o proporción que caen dentro de cada categoría. Por ejemplo, ¿qué porcentaje de mujeres hay?\n",
        "\n",
        "¿Cuántos hinduismos o cuántos islamistas hay en Colombia? ¿Cuántos automóviles deporivos hay en una ciudad?\n",
        "\n",
        "Cuando la variable que se estudia aparece en forma numérica, se le denomina variable **cuantitativa**. Ejemplos de variables cuantitativas son:\n",
        "\n",
        "1.  El saldo en su cuenta de cheques.<img src=\"https://antoninoapp.shinyapps.io/semana2/_w_4c286c0d/www/cheques.png\"  width=\"40\" height=\"30\">\n",
        "2.  Las edades de los presidentes de la compañía.<img src=\"https://antoninoapp.shinyapps.io/semana2/_w_4c286c0d/www/edades.png\"  width=\"40\" height=\"30\">\n",
        "\n",
        "Las variables cuantitativas pueden ser discretas cuanto adoptan sólo ciertos valores y existen vacíos entre ellos. Ejemplos de variables discretas son:\n",
        "\n",
        "1.  El número de camas en una casa (1, 2, 3, 4, $\\dots$).\n",
        "2.  El número de automóviles que en una hora usan la avenida principal.\n",
        "\n",
        "o continuas toman cualquier valor dentro de un intervalo específico. Ejemplos de variables continuas son:\n",
        "\n",
        "1.  La presión del aire en una llanta y el peso de un cargamento de tomates\n",
        "2.  La cantidad de cereal con pasas que contiene una caja y la duración de los vuelos de Orlando a San Diego.\n",
        "\n",
        "Por lo general las variables continuas son el resultado de mediciones.\n",
        "\n",
        "## Escalas de medida\n",
        "\n",
        "<img src=\"https://antoninoapp.shinyapps.io/semana2/_w_4c286c0d/www/escala.png\"  width=\"70\" height=\"40\">\n",
        "\n",
        "Los datos se clasifican por niveles de medición. El nivel de medición de los datos rige los cálculos que se llevan a cabo con el fin de resumir y presentar los datos.\n",
        "\n",
        "Por ejemplo, en una bolsa de M&M hay lunetas de seis diferentes colores. Suponga que asigna el 1 al café, el 2 al amarillo, el 3 al azul, el 4 al naranja, el 5 al verde y el 6 al rojo. Sume la cantidad de lunetas que hay en una bolsa, la divide entre el número de lunetas e informa que el color promedio es 3.56.\n",
        "\n",
        "¿Significa que el color promedio es azul o anaranjado? Desde luego que no. En este caso no se usó de manera adecuada la escala de medida.\n",
        "\n",
        "De hecho, existen cuatro niveles de medición: nominal, ordinal, de intervalo y de razón. La medición más baja, o más primaria, corresponde al nivel nominal. La más alta, o el nivel que proporciona la mayor información relacionada con la observación, es la medición de razón.\n",
        "\n",
        "**Escala Nominal**<img src=\"https://antoninoapp.shinyapps.io/semana2/_w_4c286c0d/www/nombre.png\"  width=\"40\" height=\"30\">\n",
        "\n",
        "En el caso del nivel nominal de medición, las observaciones acerca de una variable cualitativa sólo se clasifican y se cuentan. No existe una forma particular para ordenar las etiquetas.\n",
        "\n",
        "**Escala ordinal** <img src=\"https://antoninoapp.shinyapps.io/semana2/_w_4c286c0d/www/orden.png\"  width=\"40\" height=\"30\">\n",
        "\n",
        "Hay un orden de las posibles categorías de respuesta, aunque no es posiblecuantificar la diferencia exacta entre las opciones de respuesta. Por ejemplo, la diferencia entre respuestas como Muy satisfecho y Satisfecho es relativa, no exacta.\n",
        "\n",
        "**Escala de intervalo** <img src=\"https://antoninoapp.shinyapps.io/semana2/_w_4c286c0d/www/intervalo-de-fechas.png\"  width=\"40\" height=\"30\">\n",
        "\n",
        "Incluye todas las características del nivel ordinal, pero, además, la diferencia entre valores constituye una magnitud constante. Un ejemplo de nivel de intervalo de medición es la temperatura.Es importante destacar que 0 es un punto de referencia. Por ejemplo\n",
        "\n",
        "**Escala de razón** <img src=\"https://antoninoapp.shinyapps.io/semana2/_w_4c286c0d/www/0.png\"  width=\"40\" height=\"30\">\n",
        "\n",
        "Todos los datos cuantitativos son registrados en el nivel de razón de la medición. El nivel de razón es el más alto. Posee todas las características del nivel de intervalo, aunque, además, el punto 0 tiene sentido y la razón entre dos números es significativa. Ejemplos de la escala de razón de medición incluyen salarios, unidades de producción, peso, cambios en los precios de las acciones, la distancia entre sucursales y la altura. El dinero ilustra bien el caso.\n",
        "\n",
        ":::\n",
        "<img src=\"https://raw.githubusercontent.com/jazaineam1/Script-B-sicos/master/Cuadernos%20r/escalas.JPG\" width=\"500\"/>\n",
        ":::\n",
        "\n",
        "\n",
        "\n"
      ]
    },
    {
      "cell_type": "markdown",
      "source": [
        "**¿Cuál de las siguientes variables es cuantitativa y continua?**"
      ],
      "metadata": {
        "id": "jqyFkPYyBVXa"
      }
    },
    {
      "cell_type": "code",
      "source": [
        "tipo = \"Número de hijos\" #@param [\"Número de hijos\", \"Personas que habitan un hogar\", \"Tiempo de espera en una casa\", \"Estrato socioeconómico\"] {allow-input: true}\n"
      ],
      "metadata": {
        "id": "_Uhet3MIBVoQ"
      },
      "execution_count": null,
      "outputs": []
    },
    {
      "cell_type": "markdown",
      "source": [
        "**¿Cuál de las siguientes variableses cualitativa?**"
      ],
      "metadata": {
        "id": "66Klbg7TBV8G"
      }
    },
    {
      "cell_type": "code",
      "source": [
        "tipo = \"Porcentaje de personas con cabello negro\" #@param [\"Porcentaje de personas con cabello negro\", \"Cantidad de habitaciones en una casa\", \"Número de hermanos de una persona\", \"Nivel de estudios (Primaria, Secundaria, entre otras)\"]\n"
      ],
      "metadata": {
        "id": "2Y2j90T1BWEh"
      },
      "execution_count": null,
      "outputs": []
    },
    {
      "cell_type": "markdown",
      "source": [
        "**¿Qué escala de medida tiene el estrato?**"
      ],
      "metadata": {
        "id": "gmpdpZgHBSob"
      }
    },
    {
      "cell_type": "code",
      "source": [
        "escala = \"Nomimal\" #@param [\"Nomimal\", \"Ordinal\", \"De intervalo\", \"De razón\"]\n"
      ],
      "metadata": {
        "id": "tAmJWxH5BDgb"
      },
      "execution_count": null,
      "outputs": []
    },
    {
      "cell_type": "markdown",
      "source": [
        "**¿Qué escala de medida tiene el tiempo de espera en un fila?**"
      ],
      "metadata": {
        "id": "gtnDCLpzBJLc"
      }
    },
    {
      "cell_type": "code",
      "source": [
        "escala = \"Nomimal\" #@param [\"Nomimal\", \"Ordinal\", \"De intervalo\", \"De razón\"]\n"
      ],
      "metadata": {
        "id": "n6KAifBHBFoD"
      },
      "execution_count": null,
      "outputs": []
    },
    {
      "cell_type": "markdown",
      "metadata": {
        "id": "Hvx1O0cM-6p0"
      },
      "source": [
        "## Sección 2: Medidas de tendencia central\n",
        "\n",
        "En esta sección, exploraremos las medidas de tendencia central y cómo se utilizan para describir y resumir los datos. Comenzaremos por comprender qué es una medida de tendencia central y cómo se calcula.\n",
        "\n",
        "### 2.1 ¿Qué es una medida de tendencia central?\n",
        "\n",
        "Una medida de tendencia central es un valor que representa el centro de un conjunto de datos. Las medidas de tendencia central se utilizan para describir y resumir los datos. Las medidas de tendencia central más comunes son la media, la mediana y la moda.\n",
        "\n",
        "### 2.2 Media\n",
        "\n",
        "La media es la suma de todos los valores dividida por el número de valores. La media se utiliza para describir la tendencia central de un conjunto de datos. La media se puede calcular utilizando la siguiente fórmula:\n",
        "\n",
        "$$\\bar{x} = \\frac{1}{n} \\sum_{i=1}^{n} x_i$$\n",
        "\n",
        "donde $x_i$ es el valor de la i-ésima observación y $n$ es el número de observaciones.\n",
        "\n",
        "### 2.3 Mediana\n",
        "\n",
        "La mediana es el valor medio de un conjunto de datos ordenados. La mediana se utiliza para describir la tendencia central de un conjunto de datos. La mediana se puede calcular utilizando la siguiente fórmula:\n",
        "\n",
        "$$\\tilde{x} = \\begin{cases} x_{\\frac{n+1}{2}} & \\text{si } n \\text{ es impar} \\\\ \\frac{1}{2} \\left( x_{\\frac{n}{2}} + x_{\\frac{n}{2}+1} \\right) & \\text{si } n \\text{ es par} \\end{cases}$$\n",
        "\n",
        "donde $x_i$ es el valor de la i-ésima observación y $n$ es el número de observaciones.\n",
        "\n",
        "### 2.4 Moda\n",
        "\n",
        "La moda es el valor que ocurre con mayor frecuencia en un conjunto de datos. La moda se utiliza para describir la tendencia central de un conjunto de datos. La moda se puede calcular utilizando la siguiente fórmula:\n",
        "\n",
        "$$\\hat{x} = \\underset{x_i}{\\operatorname{argmax}} \\sum_{i=1}^{n} \\mathbb{1}_{\\{x_i = x\\}}$$\n",
        "\n",
        "donde $x_i$ es el valor de la i-ésima observación y $n$ es el número de observaciones.\n",
        "\n",
        "### 2.5 Pandas\n",
        "\n",
        "Pandas ofrece funciones para calcular la media, la mediana y la moda de un conjunto de datos. Estas funciones se pueden aplicar a un DataFrame o a una columna específica de un DataFrame.\n",
        "\n",
        "A continuación, se muestra una celda de código para calcular la media, la mediana y la moda de un DataFrame:\n",
        "\n",
        "```python\n",
        "# Calcular media, mediana y moda\n",
        "df.mean()\n",
        "df.median()\n",
        "df.mode()\n",
        "```"
      ]
    },
    {
      "cell_type": "code",
      "execution_count": 3,
      "metadata": {
        "id": "rfpQmi83-6p1",
        "colab": {
          "base_uri": "https://localhost:8080/"
        },
        "outputId": "f1b17ee4-c551-4881-95ec-4d47d33d91d6"
      },
      "outputs": [
        {
          "output_type": "execute_result",
          "data": {
            "text/plain": [
              "np.float64(3177266.47)"
            ]
          },
          "metadata": {},
          "execution_count": 3
        }
      ],
      "source": [
        "## Media de salario\n",
        "\n",
        "df['salario'].mean()"
      ]
    },
    {
      "cell_type": "code",
      "execution_count": 4,
      "metadata": {
        "id": "LZLtuwpa-6p1",
        "colab": {
          "base_uri": "https://localhost:8080/"
        },
        "outputId": "6b32e8e1-2dee-47df-f213-d88c615c712a"
      },
      "outputs": [
        {
          "output_type": "execute_result",
          "data": {
            "text/plain": [
              "2830390.5"
            ]
          },
          "metadata": {},
          "execution_count": 4
        }
      ],
      "source": [
        "df['salario'].median()"
      ]
    },
    {
      "cell_type": "code",
      "execution_count": 5,
      "metadata": {
        "id": "n4z1WS5N-6p1",
        "colab": {
          "base_uri": "https://localhost:8080/",
          "height": 115
        },
        "outputId": "646ec686-6b0e-4b06-80eb-f149e1c5474a"
      },
      "outputs": [
        {
          "output_type": "execute_result",
          "data": {
            "text/plain": [
              "0    Bogotá\n",
              "Name: ciudad, dtype: object"
            ],
            "text/html": [
              "<div>\n",
              "<style scoped>\n",
              "    .dataframe tbody tr th:only-of-type {\n",
              "        vertical-align: middle;\n",
              "    }\n",
              "\n",
              "    .dataframe tbody tr th {\n",
              "        vertical-align: top;\n",
              "    }\n",
              "\n",
              "    .dataframe thead th {\n",
              "        text-align: right;\n",
              "    }\n",
              "</style>\n",
              "<table border=\"1\" class=\"dataframe\">\n",
              "  <thead>\n",
              "    <tr style=\"text-align: right;\">\n",
              "      <th></th>\n",
              "      <th>ciudad</th>\n",
              "    </tr>\n",
              "  </thead>\n",
              "  <tbody>\n",
              "    <tr>\n",
              "      <th>0</th>\n",
              "      <td>Bogotá</td>\n",
              "    </tr>\n",
              "  </tbody>\n",
              "</table>\n",
              "</div><br><label><b>dtype:</b> object</label>"
            ]
          },
          "metadata": {},
          "execution_count": 5
        }
      ],
      "source": [
        "df['ciudad'].mode()"
      ]
    },
    {
      "cell_type": "code",
      "source": [
        "df['ciudad'].value_counts()"
      ],
      "metadata": {
        "colab": {
          "base_uri": "https://localhost:8080/",
          "height": 429
        },
        "id": "Csb3HaGUjeq7",
        "outputId": "896df93d-6e2f-4c09-e8c6-9ff1c6c82f68"
      },
      "execution_count": 8,
      "outputs": [
        {
          "output_type": "execute_result",
          "data": {
            "text/plain": [
              "ciudad\n",
              "Bogotá          184\n",
              "Medellín         64\n",
              "Cali             61\n",
              "Barranquilla     40\n",
              "Pereira          33\n",
              "Cartagena        32\n",
              "Bucaramanga      24\n",
              "Cúcuta           22\n",
              "Manizales        21\n",
              "Santa Marta      19\n",
              "Name: count, dtype: int64"
            ],
            "text/html": [
              "<div>\n",
              "<style scoped>\n",
              "    .dataframe tbody tr th:only-of-type {\n",
              "        vertical-align: middle;\n",
              "    }\n",
              "\n",
              "    .dataframe tbody tr th {\n",
              "        vertical-align: top;\n",
              "    }\n",
              "\n",
              "    .dataframe thead th {\n",
              "        text-align: right;\n",
              "    }\n",
              "</style>\n",
              "<table border=\"1\" class=\"dataframe\">\n",
              "  <thead>\n",
              "    <tr style=\"text-align: right;\">\n",
              "      <th></th>\n",
              "      <th>count</th>\n",
              "    </tr>\n",
              "    <tr>\n",
              "      <th>ciudad</th>\n",
              "      <th></th>\n",
              "    </tr>\n",
              "  </thead>\n",
              "  <tbody>\n",
              "    <tr>\n",
              "      <th>Bogotá</th>\n",
              "      <td>184</td>\n",
              "    </tr>\n",
              "    <tr>\n",
              "      <th>Medellín</th>\n",
              "      <td>64</td>\n",
              "    </tr>\n",
              "    <tr>\n",
              "      <th>Cali</th>\n",
              "      <td>61</td>\n",
              "    </tr>\n",
              "    <tr>\n",
              "      <th>Barranquilla</th>\n",
              "      <td>40</td>\n",
              "    </tr>\n",
              "    <tr>\n",
              "      <th>Pereira</th>\n",
              "      <td>33</td>\n",
              "    </tr>\n",
              "    <tr>\n",
              "      <th>Cartagena</th>\n",
              "      <td>32</td>\n",
              "    </tr>\n",
              "    <tr>\n",
              "      <th>Bucaramanga</th>\n",
              "      <td>24</td>\n",
              "    </tr>\n",
              "    <tr>\n",
              "      <th>Cúcuta</th>\n",
              "      <td>22</td>\n",
              "    </tr>\n",
              "    <tr>\n",
              "      <th>Manizales</th>\n",
              "      <td>21</td>\n",
              "    </tr>\n",
              "    <tr>\n",
              "      <th>Santa Marta</th>\n",
              "      <td>19</td>\n",
              "    </tr>\n",
              "  </tbody>\n",
              "</table>\n",
              "</div><br><label><b>dtype:</b> int64</label>"
            ]
          },
          "metadata": {},
          "execution_count": 8
        }
      ]
    },
    {
      "cell_type": "markdown",
      "metadata": {
        "id": "xHIiJG8h-6p1"
      },
      "source": [
        "## Sección 4: Medidas de dispersión\n",
        "\n",
        "En esta sección, exploraremos las medidas de dispersión y cómo se utilizan para describir y resumir los datos. Comenzaremos por comprender qué es una medida de dispersión y cómo se calcula.\n",
        "\n",
        "### 4.1 ¿Qué es una medida de dispersión?\n",
        "\n",
        "Una medida de dispersión es un valor que representa la variabilidad de un conjunto de datos. Las medidas de dispersión se utilizan para describir y resumir los datos. Las medidas de dispersión más comunes son el rango, la varianza y la desviación estándar.\n",
        "\n",
        "### 4.2 Rango\n",
        "\n",
        "El rango es la diferencia entre el valor máximo y el valor mínimo de un conjunto de datos. El rango se utiliza para describir la variabilidad de un conjunto de datos. El rango se puede calcular utilizando la siguiente fórmula:\n",
        "\n",
        "$$\\text{rango} = \\max(x_i) - \\min(x_i)$$\n",
        "\n",
        "donde $x_i$ es el valor de la i-ésima observación.\n",
        "\n",
        "### 4.3 Varianza\n",
        "\n",
        "La varianza es la media de las diferencias al cuadrado entre cada valor y la media. La varianza se utiliza para describir la variabilidad de un conjunto de datos. La varianza se puede calcular utilizando la siguiente fórmula:\n",
        "\n",
        "$$\\text{varianza} = \\frac{1}{n} \\sum_{i=1}^{n} (x_i - \\bar{x})^2$$\n",
        "\n",
        "donde $x_i$ es el valor de la i-ésima observación, $\\bar{x}$ es la media y $n$ es el número de observaciones.\n",
        "\n",
        "### 4.4 Desviación estándar\n",
        "\n",
        "La desviación estándar es la raíz cuadrada de la varianza. La desviación estándar se utiliza para describir la variabilidad de un conjunto de datos. La desviación estándar se puede calcular utilizando la siguiente fórmula:\n",
        "\n",
        "$$\\text{desviación estándar} = \\sqrt{\\frac{1}{n} \\sum_{i=1}^{n} (x_i - \\bar{x})^2}$$\n",
        "\n",
        "donde $x_i$ es el valor de la i-ésima observación, $\\bar{x}$ es la media y $n$ es el número de observaciones.\n",
        "\n",
        "### 4.5 Pandas\n",
        "\n",
        "Pandas ofrece funciones para calcular el rango, la varianza y la desviación estándar de un conjunto de datos. Estas funciones se pueden aplicar a un DataFrame o a una columna específica de un DataFrame.\n",
        "\n",
        "A continuación, se muestra una celda de código para calcular el rango, la varianza y la desviación estándar de un DataFrame:\n",
        "\n",
        "```python\n",
        "# Calcular rango, varianza y desviación estándar\n",
        "df.max() - df.min()\n",
        "df.var()\n",
        "df.std()\n",
        "```"
      ]
    },
    {
      "cell_type": "code",
      "execution_count": 6,
      "metadata": {
        "id": "WXNUspwm-6p1",
        "colab": {
          "base_uri": "https://localhost:8080/"
        },
        "outputId": "9ef935d5-c08c-4c7a-c6e0-7981c853e299"
      },
      "outputs": [
        {
          "output_type": "execute_result",
          "data": {
            "text/plain": [
              "1521600.6626887661"
            ]
          },
          "metadata": {},
          "execution_count": 6
        }
      ],
      "source": [
        "df['salario'].std()"
      ]
    },
    {
      "cell_type": "markdown",
      "metadata": {
        "id": "YveRvl49-6p2"
      },
      "source": [
        "También esta disponible la función describe, que nos permite obtener un resumen de todas las medidas de un DataFrame:\n",
        "\n",
        "```python\n",
        "# Resumen de medidas de tendencia central\n",
        "df.describe()\n",
        "```"
      ]
    },
    {
      "cell_type": "code",
      "execution_count": 7,
      "metadata": {
        "id": "ZRi3KJYU-6p2",
        "colab": {
          "base_uri": "https://localhost:8080/",
          "height": 300
        },
        "outputId": "aa72988f-9972-48ed-c7db-caafa93f5a37"
      },
      "outputs": [
        {
          "output_type": "execute_result",
          "data": {
            "text/plain": [
              "             cedula       salario        edad\n",
              "count  5.000000e+02  5.000000e+02  500.000000\n",
              "mean   9.915763e+08  3.177266e+06   34.772000\n",
              "std    5.680971e+08  1.521601e+06    9.506037\n",
              "min    1.223500e+07  1.004919e+06   18.000000\n",
              "25%    4.956249e+08  1.946574e+06   28.000000\n",
              "50%    9.875499e+08  2.830390e+06   35.000000\n",
              "75%    1.490339e+09  4.129936e+06   41.000000\n",
              "max    1.996196e+09  8.538185e+06   65.000000"
            ],
            "text/html": [
              "\n",
              "  <div id=\"df-d59ea863-be32-4c77-acb1-6813ba7b3e0a\" class=\"colab-df-container\">\n",
              "    <div>\n",
              "<style scoped>\n",
              "    .dataframe tbody tr th:only-of-type {\n",
              "        vertical-align: middle;\n",
              "    }\n",
              "\n",
              "    .dataframe tbody tr th {\n",
              "        vertical-align: top;\n",
              "    }\n",
              "\n",
              "    .dataframe thead th {\n",
              "        text-align: right;\n",
              "    }\n",
              "</style>\n",
              "<table border=\"1\" class=\"dataframe\">\n",
              "  <thead>\n",
              "    <tr style=\"text-align: right;\">\n",
              "      <th></th>\n",
              "      <th>cedula</th>\n",
              "      <th>salario</th>\n",
              "      <th>edad</th>\n",
              "    </tr>\n",
              "  </thead>\n",
              "  <tbody>\n",
              "    <tr>\n",
              "      <th>count</th>\n",
              "      <td>5.000000e+02</td>\n",
              "      <td>5.000000e+02</td>\n",
              "      <td>500.000000</td>\n",
              "    </tr>\n",
              "    <tr>\n",
              "      <th>mean</th>\n",
              "      <td>9.915763e+08</td>\n",
              "      <td>3.177266e+06</td>\n",
              "      <td>34.772000</td>\n",
              "    </tr>\n",
              "    <tr>\n",
              "      <th>std</th>\n",
              "      <td>5.680971e+08</td>\n",
              "      <td>1.521601e+06</td>\n",
              "      <td>9.506037</td>\n",
              "    </tr>\n",
              "    <tr>\n",
              "      <th>min</th>\n",
              "      <td>1.223500e+07</td>\n",
              "      <td>1.004919e+06</td>\n",
              "      <td>18.000000</td>\n",
              "    </tr>\n",
              "    <tr>\n",
              "      <th>25%</th>\n",
              "      <td>4.956249e+08</td>\n",
              "      <td>1.946574e+06</td>\n",
              "      <td>28.000000</td>\n",
              "    </tr>\n",
              "    <tr>\n",
              "      <th>50%</th>\n",
              "      <td>9.875499e+08</td>\n",
              "      <td>2.830390e+06</td>\n",
              "      <td>35.000000</td>\n",
              "    </tr>\n",
              "    <tr>\n",
              "      <th>75%</th>\n",
              "      <td>1.490339e+09</td>\n",
              "      <td>4.129936e+06</td>\n",
              "      <td>41.000000</td>\n",
              "    </tr>\n",
              "    <tr>\n",
              "      <th>max</th>\n",
              "      <td>1.996196e+09</td>\n",
              "      <td>8.538185e+06</td>\n",
              "      <td>65.000000</td>\n",
              "    </tr>\n",
              "  </tbody>\n",
              "</table>\n",
              "</div>\n",
              "    <div class=\"colab-df-buttons\">\n",
              "\n",
              "  <div class=\"colab-df-container\">\n",
              "    <button class=\"colab-df-convert\" onclick=\"convertToInteractive('df-d59ea863-be32-4c77-acb1-6813ba7b3e0a')\"\n",
              "            title=\"Convert this dataframe to an interactive table.\"\n",
              "            style=\"display:none;\">\n",
              "\n",
              "  <svg xmlns=\"http://www.w3.org/2000/svg\" height=\"24px\" viewBox=\"0 -960 960 960\">\n",
              "    <path d=\"M120-120v-720h720v720H120Zm60-500h600v-160H180v160Zm220 220h160v-160H400v160Zm0 220h160v-160H400v160ZM180-400h160v-160H180v160Zm440 0h160v-160H620v160ZM180-180h160v-160H180v160Zm440 0h160v-160H620v160Z\"/>\n",
              "  </svg>\n",
              "    </button>\n",
              "\n",
              "  <style>\n",
              "    .colab-df-container {\n",
              "      display:flex;\n",
              "      gap: 12px;\n",
              "    }\n",
              "\n",
              "    .colab-df-convert {\n",
              "      background-color: #E8F0FE;\n",
              "      border: none;\n",
              "      border-radius: 50%;\n",
              "      cursor: pointer;\n",
              "      display: none;\n",
              "      fill: #1967D2;\n",
              "      height: 32px;\n",
              "      padding: 0 0 0 0;\n",
              "      width: 32px;\n",
              "    }\n",
              "\n",
              "    .colab-df-convert:hover {\n",
              "      background-color: #E2EBFA;\n",
              "      box-shadow: 0px 1px 2px rgba(60, 64, 67, 0.3), 0px 1px 3px 1px rgba(60, 64, 67, 0.15);\n",
              "      fill: #174EA6;\n",
              "    }\n",
              "\n",
              "    .colab-df-buttons div {\n",
              "      margin-bottom: 4px;\n",
              "    }\n",
              "\n",
              "    [theme=dark] .colab-df-convert {\n",
              "      background-color: #3B4455;\n",
              "      fill: #D2E3FC;\n",
              "    }\n",
              "\n",
              "    [theme=dark] .colab-df-convert:hover {\n",
              "      background-color: #434B5C;\n",
              "      box-shadow: 0px 1px 3px 1px rgba(0, 0, 0, 0.15);\n",
              "      filter: drop-shadow(0px 1px 2px rgba(0, 0, 0, 0.3));\n",
              "      fill: #FFFFFF;\n",
              "    }\n",
              "  </style>\n",
              "\n",
              "    <script>\n",
              "      const buttonEl =\n",
              "        document.querySelector('#df-d59ea863-be32-4c77-acb1-6813ba7b3e0a button.colab-df-convert');\n",
              "      buttonEl.style.display =\n",
              "        google.colab.kernel.accessAllowed ? 'block' : 'none';\n",
              "\n",
              "      async function convertToInteractive(key) {\n",
              "        const element = document.querySelector('#df-d59ea863-be32-4c77-acb1-6813ba7b3e0a');\n",
              "        const dataTable =\n",
              "          await google.colab.kernel.invokeFunction('convertToInteractive',\n",
              "                                                    [key], {});\n",
              "        if (!dataTable) return;\n",
              "\n",
              "        const docLinkHtml = 'Like what you see? Visit the ' +\n",
              "          '<a target=\"_blank\" href=https://colab.research.google.com/notebooks/data_table.ipynb>data table notebook</a>'\n",
              "          + ' to learn more about interactive tables.';\n",
              "        element.innerHTML = '';\n",
              "        dataTable['output_type'] = 'display_data';\n",
              "        await google.colab.output.renderOutput(dataTable, element);\n",
              "        const docLink = document.createElement('div');\n",
              "        docLink.innerHTML = docLinkHtml;\n",
              "        element.appendChild(docLink);\n",
              "      }\n",
              "    </script>\n",
              "  </div>\n",
              "\n",
              "\n",
              "<div id=\"df-a7f9ee34-4440-4bf9-aacb-61fe9ab05f81\">\n",
              "  <button class=\"colab-df-quickchart\" onclick=\"quickchart('df-a7f9ee34-4440-4bf9-aacb-61fe9ab05f81')\"\n",
              "            title=\"Suggest charts\"\n",
              "            style=\"display:none;\">\n",
              "\n",
              "<svg xmlns=\"http://www.w3.org/2000/svg\" height=\"24px\"viewBox=\"0 0 24 24\"\n",
              "     width=\"24px\">\n",
              "    <g>\n",
              "        <path d=\"M19 3H5c-1.1 0-2 .9-2 2v14c0 1.1.9 2 2 2h14c1.1 0 2-.9 2-2V5c0-1.1-.9-2-2-2zM9 17H7v-7h2v7zm4 0h-2V7h2v10zm4 0h-2v-4h2v4z\"/>\n",
              "    </g>\n",
              "</svg>\n",
              "  </button>\n",
              "\n",
              "<style>\n",
              "  .colab-df-quickchart {\n",
              "      --bg-color: #E8F0FE;\n",
              "      --fill-color: #1967D2;\n",
              "      --hover-bg-color: #E2EBFA;\n",
              "      --hover-fill-color: #174EA6;\n",
              "      --disabled-fill-color: #AAA;\n",
              "      --disabled-bg-color: #DDD;\n",
              "  }\n",
              "\n",
              "  [theme=dark] .colab-df-quickchart {\n",
              "      --bg-color: #3B4455;\n",
              "      --fill-color: #D2E3FC;\n",
              "      --hover-bg-color: #434B5C;\n",
              "      --hover-fill-color: #FFFFFF;\n",
              "      --disabled-bg-color: #3B4455;\n",
              "      --disabled-fill-color: #666;\n",
              "  }\n",
              "\n",
              "  .colab-df-quickchart {\n",
              "    background-color: var(--bg-color);\n",
              "    border: none;\n",
              "    border-radius: 50%;\n",
              "    cursor: pointer;\n",
              "    display: none;\n",
              "    fill: var(--fill-color);\n",
              "    height: 32px;\n",
              "    padding: 0;\n",
              "    width: 32px;\n",
              "  }\n",
              "\n",
              "  .colab-df-quickchart:hover {\n",
              "    background-color: var(--hover-bg-color);\n",
              "    box-shadow: 0 1px 2px rgba(60, 64, 67, 0.3), 0 1px 3px 1px rgba(60, 64, 67, 0.15);\n",
              "    fill: var(--button-hover-fill-color);\n",
              "  }\n",
              "\n",
              "  .colab-df-quickchart-complete:disabled,\n",
              "  .colab-df-quickchart-complete:disabled:hover {\n",
              "    background-color: var(--disabled-bg-color);\n",
              "    fill: var(--disabled-fill-color);\n",
              "    box-shadow: none;\n",
              "  }\n",
              "\n",
              "  .colab-df-spinner {\n",
              "    border: 2px solid var(--fill-color);\n",
              "    border-color: transparent;\n",
              "    border-bottom-color: var(--fill-color);\n",
              "    animation:\n",
              "      spin 1s steps(1) infinite;\n",
              "  }\n",
              "\n",
              "  @keyframes spin {\n",
              "    0% {\n",
              "      border-color: transparent;\n",
              "      border-bottom-color: var(--fill-color);\n",
              "      border-left-color: var(--fill-color);\n",
              "    }\n",
              "    20% {\n",
              "      border-color: transparent;\n",
              "      border-left-color: var(--fill-color);\n",
              "      border-top-color: var(--fill-color);\n",
              "    }\n",
              "    30% {\n",
              "      border-color: transparent;\n",
              "      border-left-color: var(--fill-color);\n",
              "      border-top-color: var(--fill-color);\n",
              "      border-right-color: var(--fill-color);\n",
              "    }\n",
              "    40% {\n",
              "      border-color: transparent;\n",
              "      border-right-color: var(--fill-color);\n",
              "      border-top-color: var(--fill-color);\n",
              "    }\n",
              "    60% {\n",
              "      border-color: transparent;\n",
              "      border-right-color: var(--fill-color);\n",
              "    }\n",
              "    80% {\n",
              "      border-color: transparent;\n",
              "      border-right-color: var(--fill-color);\n",
              "      border-bottom-color: var(--fill-color);\n",
              "    }\n",
              "    90% {\n",
              "      border-color: transparent;\n",
              "      border-bottom-color: var(--fill-color);\n",
              "    }\n",
              "  }\n",
              "</style>\n",
              "\n",
              "  <script>\n",
              "    async function quickchart(key) {\n",
              "      const quickchartButtonEl =\n",
              "        document.querySelector('#' + key + ' button');\n",
              "      quickchartButtonEl.disabled = true;  // To prevent multiple clicks.\n",
              "      quickchartButtonEl.classList.add('colab-df-spinner');\n",
              "      try {\n",
              "        const charts = await google.colab.kernel.invokeFunction(\n",
              "            'suggestCharts', [key], {});\n",
              "      } catch (error) {\n",
              "        console.error('Error during call to suggestCharts:', error);\n",
              "      }\n",
              "      quickchartButtonEl.classList.remove('colab-df-spinner');\n",
              "      quickchartButtonEl.classList.add('colab-df-quickchart-complete');\n",
              "    }\n",
              "    (() => {\n",
              "      let quickchartButtonEl =\n",
              "        document.querySelector('#df-a7f9ee34-4440-4bf9-aacb-61fe9ab05f81 button');\n",
              "      quickchartButtonEl.style.display =\n",
              "        google.colab.kernel.accessAllowed ? 'block' : 'none';\n",
              "    })();\n",
              "  </script>\n",
              "</div>\n",
              "\n",
              "    </div>\n",
              "  </div>\n"
            ],
            "application/vnd.google.colaboratory.intrinsic+json": {
              "type": "dataframe",
              "summary": "{\n  \"name\": \"DF_salarios\",\n  \"rows\": 8,\n  \"fields\": [\n    {\n      \"column\": \"cedula\",\n      \"properties\": {\n        \"dtype\": \"number\",\n        \"std\": 695271568.6854604,\n        \"min\": 500.0,\n        \"max\": 1996196019.0,\n        \"num_unique_values\": 8,\n        \"samples\": [\n          991576268.888,\n          987549931.0,\n          500.0\n        ],\n        \"semantic_type\": \"\",\n        \"description\": \"\"\n      }\n    },\n    {\n      \"column\": \"salario\",\n      \"properties\": {\n        \"dtype\": \"number\",\n        \"std\": 2623811.67076919,\n        \"min\": 500.0,\n        \"max\": 8538185.0,\n        \"num_unique_values\": 8,\n        \"samples\": [\n          3177266.47,\n          2830390.5,\n          500.0\n        ],\n        \"semantic_type\": \"\",\n        \"description\": \"\"\n      }\n    },\n    {\n      \"column\": \"edad\",\n      \"properties\": {\n        \"dtype\": \"number\",\n        \"std\": 165.91413904552942,\n        \"min\": 9.506037317988072,\n        \"max\": 500.0,\n        \"num_unique_values\": 8,\n        \"samples\": [\n          34.772,\n          35.0,\n          500.0\n        ],\n        \"semantic_type\": \"\",\n        \"description\": \"\"\n      }\n    }\n  ]\n}"
            }
          },
          "metadata": {},
          "execution_count": 7
        }
      ],
      "source": [
        "### Estadísticas básicas\n",
        "\n",
        "df.describe()"
      ]
    },
    {
      "cell_type": "code",
      "source": [
        "df.describe(include=['object'])\n"
      ],
      "metadata": {
        "colab": {
          "base_uri": "https://localhost:8080/",
          "height": 175
        },
        "id": "yeJ5iSkfjllp",
        "outputId": "41e5ec3e-b7f1-4908-c1b5-af72f3579b74"
      },
      "execution_count": 9,
      "outputs": [
        {
          "output_type": "execute_result",
          "data": {
            "text/plain": [
              "        ciudad fecha_nacimiento genero\n",
              "count      500              500    500\n",
              "unique      10              489      2\n",
              "top     Bogotá       20/05/1986      M\n",
              "freq       184                3    255"
            ],
            "text/html": [
              "\n",
              "  <div id=\"df-2dbfa7a6-f6dd-4a8b-8ce8-f4210ebd2214\" class=\"colab-df-container\">\n",
              "    <div>\n",
              "<style scoped>\n",
              "    .dataframe tbody tr th:only-of-type {\n",
              "        vertical-align: middle;\n",
              "    }\n",
              "\n",
              "    .dataframe tbody tr th {\n",
              "        vertical-align: top;\n",
              "    }\n",
              "\n",
              "    .dataframe thead th {\n",
              "        text-align: right;\n",
              "    }\n",
              "</style>\n",
              "<table border=\"1\" class=\"dataframe\">\n",
              "  <thead>\n",
              "    <tr style=\"text-align: right;\">\n",
              "      <th></th>\n",
              "      <th>ciudad</th>\n",
              "      <th>fecha_nacimiento</th>\n",
              "      <th>genero</th>\n",
              "    </tr>\n",
              "  </thead>\n",
              "  <tbody>\n",
              "    <tr>\n",
              "      <th>count</th>\n",
              "      <td>500</td>\n",
              "      <td>500</td>\n",
              "      <td>500</td>\n",
              "    </tr>\n",
              "    <tr>\n",
              "      <th>unique</th>\n",
              "      <td>10</td>\n",
              "      <td>489</td>\n",
              "      <td>2</td>\n",
              "    </tr>\n",
              "    <tr>\n",
              "      <th>top</th>\n",
              "      <td>Bogotá</td>\n",
              "      <td>20/05/1986</td>\n",
              "      <td>M</td>\n",
              "    </tr>\n",
              "    <tr>\n",
              "      <th>freq</th>\n",
              "      <td>184</td>\n",
              "      <td>3</td>\n",
              "      <td>255</td>\n",
              "    </tr>\n",
              "  </tbody>\n",
              "</table>\n",
              "</div>\n",
              "    <div class=\"colab-df-buttons\">\n",
              "\n",
              "  <div class=\"colab-df-container\">\n",
              "    <button class=\"colab-df-convert\" onclick=\"convertToInteractive('df-2dbfa7a6-f6dd-4a8b-8ce8-f4210ebd2214')\"\n",
              "            title=\"Convert this dataframe to an interactive table.\"\n",
              "            style=\"display:none;\">\n",
              "\n",
              "  <svg xmlns=\"http://www.w3.org/2000/svg\" height=\"24px\" viewBox=\"0 -960 960 960\">\n",
              "    <path d=\"M120-120v-720h720v720H120Zm60-500h600v-160H180v160Zm220 220h160v-160H400v160Zm0 220h160v-160H400v160ZM180-400h160v-160H180v160Zm440 0h160v-160H620v160ZM180-180h160v-160H180v160Zm440 0h160v-160H620v160Z\"/>\n",
              "  </svg>\n",
              "    </button>\n",
              "\n",
              "  <style>\n",
              "    .colab-df-container {\n",
              "      display:flex;\n",
              "      gap: 12px;\n",
              "    }\n",
              "\n",
              "    .colab-df-convert {\n",
              "      background-color: #E8F0FE;\n",
              "      border: none;\n",
              "      border-radius: 50%;\n",
              "      cursor: pointer;\n",
              "      display: none;\n",
              "      fill: #1967D2;\n",
              "      height: 32px;\n",
              "      padding: 0 0 0 0;\n",
              "      width: 32px;\n",
              "    }\n",
              "\n",
              "    .colab-df-convert:hover {\n",
              "      background-color: #E2EBFA;\n",
              "      box-shadow: 0px 1px 2px rgba(60, 64, 67, 0.3), 0px 1px 3px 1px rgba(60, 64, 67, 0.15);\n",
              "      fill: #174EA6;\n",
              "    }\n",
              "\n",
              "    .colab-df-buttons div {\n",
              "      margin-bottom: 4px;\n",
              "    }\n",
              "\n",
              "    [theme=dark] .colab-df-convert {\n",
              "      background-color: #3B4455;\n",
              "      fill: #D2E3FC;\n",
              "    }\n",
              "\n",
              "    [theme=dark] .colab-df-convert:hover {\n",
              "      background-color: #434B5C;\n",
              "      box-shadow: 0px 1px 3px 1px rgba(0, 0, 0, 0.15);\n",
              "      filter: drop-shadow(0px 1px 2px rgba(0, 0, 0, 0.3));\n",
              "      fill: #FFFFFF;\n",
              "    }\n",
              "  </style>\n",
              "\n",
              "    <script>\n",
              "      const buttonEl =\n",
              "        document.querySelector('#df-2dbfa7a6-f6dd-4a8b-8ce8-f4210ebd2214 button.colab-df-convert');\n",
              "      buttonEl.style.display =\n",
              "        google.colab.kernel.accessAllowed ? 'block' : 'none';\n",
              "\n",
              "      async function convertToInteractive(key) {\n",
              "        const element = document.querySelector('#df-2dbfa7a6-f6dd-4a8b-8ce8-f4210ebd2214');\n",
              "        const dataTable =\n",
              "          await google.colab.kernel.invokeFunction('convertToInteractive',\n",
              "                                                    [key], {});\n",
              "        if (!dataTable) return;\n",
              "\n",
              "        const docLinkHtml = 'Like what you see? Visit the ' +\n",
              "          '<a target=\"_blank\" href=https://colab.research.google.com/notebooks/data_table.ipynb>data table notebook</a>'\n",
              "          + ' to learn more about interactive tables.';\n",
              "        element.innerHTML = '';\n",
              "        dataTable['output_type'] = 'display_data';\n",
              "        await google.colab.output.renderOutput(dataTable, element);\n",
              "        const docLink = document.createElement('div');\n",
              "        docLink.innerHTML = docLinkHtml;\n",
              "        element.appendChild(docLink);\n",
              "      }\n",
              "    </script>\n",
              "  </div>\n",
              "\n",
              "\n",
              "<div id=\"df-259a179b-3789-445c-8c57-7dfd16bda1bb\">\n",
              "  <button class=\"colab-df-quickchart\" onclick=\"quickchart('df-259a179b-3789-445c-8c57-7dfd16bda1bb')\"\n",
              "            title=\"Suggest charts\"\n",
              "            style=\"display:none;\">\n",
              "\n",
              "<svg xmlns=\"http://www.w3.org/2000/svg\" height=\"24px\"viewBox=\"0 0 24 24\"\n",
              "     width=\"24px\">\n",
              "    <g>\n",
              "        <path d=\"M19 3H5c-1.1 0-2 .9-2 2v14c0 1.1.9 2 2 2h14c1.1 0 2-.9 2-2V5c0-1.1-.9-2-2-2zM9 17H7v-7h2v7zm4 0h-2V7h2v10zm4 0h-2v-4h2v4z\"/>\n",
              "    </g>\n",
              "</svg>\n",
              "  </button>\n",
              "\n",
              "<style>\n",
              "  .colab-df-quickchart {\n",
              "      --bg-color: #E8F0FE;\n",
              "      --fill-color: #1967D2;\n",
              "      --hover-bg-color: #E2EBFA;\n",
              "      --hover-fill-color: #174EA6;\n",
              "      --disabled-fill-color: #AAA;\n",
              "      --disabled-bg-color: #DDD;\n",
              "  }\n",
              "\n",
              "  [theme=dark] .colab-df-quickchart {\n",
              "      --bg-color: #3B4455;\n",
              "      --fill-color: #D2E3FC;\n",
              "      --hover-bg-color: #434B5C;\n",
              "      --hover-fill-color: #FFFFFF;\n",
              "      --disabled-bg-color: #3B4455;\n",
              "      --disabled-fill-color: #666;\n",
              "  }\n",
              "\n",
              "  .colab-df-quickchart {\n",
              "    background-color: var(--bg-color);\n",
              "    border: none;\n",
              "    border-radius: 50%;\n",
              "    cursor: pointer;\n",
              "    display: none;\n",
              "    fill: var(--fill-color);\n",
              "    height: 32px;\n",
              "    padding: 0;\n",
              "    width: 32px;\n",
              "  }\n",
              "\n",
              "  .colab-df-quickchart:hover {\n",
              "    background-color: var(--hover-bg-color);\n",
              "    box-shadow: 0 1px 2px rgba(60, 64, 67, 0.3), 0 1px 3px 1px rgba(60, 64, 67, 0.15);\n",
              "    fill: var(--button-hover-fill-color);\n",
              "  }\n",
              "\n",
              "  .colab-df-quickchart-complete:disabled,\n",
              "  .colab-df-quickchart-complete:disabled:hover {\n",
              "    background-color: var(--disabled-bg-color);\n",
              "    fill: var(--disabled-fill-color);\n",
              "    box-shadow: none;\n",
              "  }\n",
              "\n",
              "  .colab-df-spinner {\n",
              "    border: 2px solid var(--fill-color);\n",
              "    border-color: transparent;\n",
              "    border-bottom-color: var(--fill-color);\n",
              "    animation:\n",
              "      spin 1s steps(1) infinite;\n",
              "  }\n",
              "\n",
              "  @keyframes spin {\n",
              "    0% {\n",
              "      border-color: transparent;\n",
              "      border-bottom-color: var(--fill-color);\n",
              "      border-left-color: var(--fill-color);\n",
              "    }\n",
              "    20% {\n",
              "      border-color: transparent;\n",
              "      border-left-color: var(--fill-color);\n",
              "      border-top-color: var(--fill-color);\n",
              "    }\n",
              "    30% {\n",
              "      border-color: transparent;\n",
              "      border-left-color: var(--fill-color);\n",
              "      border-top-color: var(--fill-color);\n",
              "      border-right-color: var(--fill-color);\n",
              "    }\n",
              "    40% {\n",
              "      border-color: transparent;\n",
              "      border-right-color: var(--fill-color);\n",
              "      border-top-color: var(--fill-color);\n",
              "    }\n",
              "    60% {\n",
              "      border-color: transparent;\n",
              "      border-right-color: var(--fill-color);\n",
              "    }\n",
              "    80% {\n",
              "      border-color: transparent;\n",
              "      border-right-color: var(--fill-color);\n",
              "      border-bottom-color: var(--fill-color);\n",
              "    }\n",
              "    90% {\n",
              "      border-color: transparent;\n",
              "      border-bottom-color: var(--fill-color);\n",
              "    }\n",
              "  }\n",
              "</style>\n",
              "\n",
              "  <script>\n",
              "    async function quickchart(key) {\n",
              "      const quickchartButtonEl =\n",
              "        document.querySelector('#' + key + ' button');\n",
              "      quickchartButtonEl.disabled = true;  // To prevent multiple clicks.\n",
              "      quickchartButtonEl.classList.add('colab-df-spinner');\n",
              "      try {\n",
              "        const charts = await google.colab.kernel.invokeFunction(\n",
              "            'suggestCharts', [key], {});\n",
              "      } catch (error) {\n",
              "        console.error('Error during call to suggestCharts:', error);\n",
              "      }\n",
              "      quickchartButtonEl.classList.remove('colab-df-spinner');\n",
              "      quickchartButtonEl.classList.add('colab-df-quickchart-complete');\n",
              "    }\n",
              "    (() => {\n",
              "      let quickchartButtonEl =\n",
              "        document.querySelector('#df-259a179b-3789-445c-8c57-7dfd16bda1bb button');\n",
              "      quickchartButtonEl.style.display =\n",
              "        google.colab.kernel.accessAllowed ? 'block' : 'none';\n",
              "    })();\n",
              "  </script>\n",
              "</div>\n",
              "\n",
              "    </div>\n",
              "  </div>\n"
            ],
            "application/vnd.google.colaboratory.intrinsic+json": {
              "type": "dataframe",
              "summary": "{\n  \"name\": \"DF_salarios\",\n  \"rows\": 4,\n  \"fields\": [\n    {\n      \"column\": \"ciudad\",\n      \"properties\": {\n        \"dtype\": \"string\",\n        \"num_unique_values\": 4,\n        \"samples\": [\n          10,\n          \"184\",\n          \"500\"\n        ],\n        \"semantic_type\": \"\",\n        \"description\": \"\"\n      }\n    },\n    {\n      \"column\": \"fecha_nacimiento\",\n      \"properties\": {\n        \"dtype\": \"date\",\n        \"min\": \"1970-01-01 00:00:00.000000003\",\n        \"max\": \"1986-05-20 00:00:00\",\n        \"num_unique_values\": 4,\n        \"samples\": [\n          489,\n          \"3\",\n          \"500\"\n        ],\n        \"semantic_type\": \"\",\n        \"description\": \"\"\n      }\n    },\n    {\n      \"column\": \"genero\",\n      \"properties\": {\n        \"dtype\": \"string\",\n        \"num_unique_values\": 4,\n        \"samples\": [\n          2,\n          \"255\",\n          \"500\"\n        ],\n        \"semantic_type\": \"\",\n        \"description\": \"\"\n      }\n    }\n  ]\n}"
            }
          },
          "metadata": {},
          "execution_count": 9
        }
      ]
    },
    {
      "cell_type": "markdown",
      "metadata": {
        "id": "G14K-R-d-6p2"
      },
      "source": [
        "## Seccion 5: Exploración de datos con Pandas\n",
        "\n",
        "En esta sección, exploraremos cómo Pandas nos permite realizar tareas como la carga y selección de datos, el filtrado y la agregación, y la visualización de datos. Comenzaremos por comprender qué es la exploración de datos y cómo se realiza.\n",
        "\n",
        "### 5.1 ¿Qué es la exploración de datos?\n",
        "\n",
        "La exploración de datos es el proceso de analizar y visualizar datos para obtener información y conocimientos. La exploración de datos nos permite comprender mejor los datos, identificar patrones y tendencias, y tomar decisiones informadas.\n",
        "\n",
        "El proceso de exploración de datos es una etapa fundamental en el análisis de datos, que nos permite comprender mejor los datos y obtener información relevante para nuestros objetivos. Consiste en examinar los datos de manera sistemática y visual, utilizando diversas técnicas y herramientas estadísticas.\n",
        "\n",
        "El proceso de exploración de datos generalmente incluye los siguientes pasos:\n",
        "\n",
        "1. **Obtención de datos:** En esta etapa, recopilamos los datos necesarios para nuestro análisis, ya sea de bases de datos, archivos, fuentes externas u otras fuentes relevantes.\n",
        "\n",
        "2. **Limpieza de datos**: Antes de explorar los datos, es esencial realizar una limpieza y preprocesamiento adecuados para garantizar la calidad de los datos. Esto implica detectar y corregir errores, eliminar valores atípicos, manejar datos faltantes y garantizar la consistencia y coherencia de los datos.\n",
        "\n",
        "3. **Descripción estadística:** Comenzamos explorando los datos calculando estadísticas descriptivas básicas, como la media, mediana, moda, desviación estándar, percentiles, entre otros. Estas medidas nos brindan información sobre la tendencia central, la dispersión y la forma de la distribución de los datos.\n",
        "\n",
        "4. **Visualización de datos:** Utilizamos técnicas de visualización, como gráficos, diagramas y tablas, para representar los datos de manera visual y comprensible. Esto nos ayuda a identificar patrones, tendencias, relaciones y valores atípicos en los datos. Algunas herramientas comunes de visualización son gráficos de barras, histogramas, diagramas de dispersión y diagramas de caja y bigotes.\n",
        "\n",
        "5. **Análisis exploratorio adicional:** Además de la descripción estadística y la visualización, podemos realizar análisis más avanzados para profundizar en los datos. Esto puede incluir análisis de correlación, análisis de frecuencia, análisis de clusters o segmentación, y cualquier otro enfoque que nos permita descubrir relaciones y patrones más complejos en los datos.\n",
        "\n",
        "El proceso de exploración de datos es iterativo, lo que significa que podemos repetir los pasos anteriores varias veces a medida que adquirimos más información y conocimientos sobre los datos. Es una fase fundamental para comprender los datos en su totalidad antes de avanzar en etapas posteriores, como modelado o toma de decisiones basadas en los datos.\n",
        "\n",
        "\n",
        "Para la basede datos que previamente hemos cargado, vamos a realizar un proceso de exploración de datos."
      ]
    },
    {
      "cell_type": "markdown",
      "source": [
        "1. **Obtención de datos**\n"
      ],
      "metadata": {
        "id": "zqaYGXWwvFjg"
      }
    },
    {
      "cell_type": "code",
      "source": [
        "df=pd.read_csv(\"https://raw.githubusercontent.com/jazaineam1/Diplomado_ucentral_ME/refs/heads/main/Datos/datos_empleados.csv\")\n",
        "\n",
        "df"
      ],
      "metadata": {
        "colab": {
          "base_uri": "https://localhost:8080/",
          "height": 423
        },
        "id": "gV-GetYrvETC",
        "outputId": "49b2c7e2-6014-4370-b87a-f00b5d08c88c"
      },
      "execution_count": 13,
      "outputs": [
        {
          "output_type": "execute_result",
          "data": {
            "text/plain": [
              "         cedula  salario        ciudad  edad fecha_nacimiento genero\n",
              "0    1618637542  3146109  Barranquilla    46       18/10/1979      M\n",
              "1    1283642419  5199205        Bogotá    21       13/01/2004      M\n",
              "2    1945803228  3097038        Bogotá    26       19/10/1999      M\n",
              "3     797846414  3854794        Bogotá    30       01/11/1995      M\n",
              "4    1006406378  1173186     Cartagena    43       21/02/1982      F\n",
              "..          ...      ...           ...   ...              ...    ...\n",
              "495   236860070  3894913  Barranquilla    45       07/09/1980      M\n",
              "496  1270967388  5964995      Medellín    55       22/03/1970      M\n",
              "497  1283501353  3979824        Bogotá    19       08/08/2006      F\n",
              "498  1338696054  1964052      Medellín    18       12/02/2007      F\n",
              "499  1812945049  3581541        Bogotá    53       12/09/1972      M\n",
              "\n",
              "[500 rows x 6 columns]"
            ],
            "text/html": [
              "\n",
              "  <div id=\"df-71945d30-05ae-4940-8c95-c635bda92ddc\" class=\"colab-df-container\">\n",
              "    <div>\n",
              "<style scoped>\n",
              "    .dataframe tbody tr th:only-of-type {\n",
              "        vertical-align: middle;\n",
              "    }\n",
              "\n",
              "    .dataframe tbody tr th {\n",
              "        vertical-align: top;\n",
              "    }\n",
              "\n",
              "    .dataframe thead th {\n",
              "        text-align: right;\n",
              "    }\n",
              "</style>\n",
              "<table border=\"1\" class=\"dataframe\">\n",
              "  <thead>\n",
              "    <tr style=\"text-align: right;\">\n",
              "      <th></th>\n",
              "      <th>cedula</th>\n",
              "      <th>salario</th>\n",
              "      <th>ciudad</th>\n",
              "      <th>edad</th>\n",
              "      <th>fecha_nacimiento</th>\n",
              "      <th>genero</th>\n",
              "    </tr>\n",
              "  </thead>\n",
              "  <tbody>\n",
              "    <tr>\n",
              "      <th>0</th>\n",
              "      <td>1618637542</td>\n",
              "      <td>3146109</td>\n",
              "      <td>Barranquilla</td>\n",
              "      <td>46</td>\n",
              "      <td>18/10/1979</td>\n",
              "      <td>M</td>\n",
              "    </tr>\n",
              "    <tr>\n",
              "      <th>1</th>\n",
              "      <td>1283642419</td>\n",
              "      <td>5199205</td>\n",
              "      <td>Bogotá</td>\n",
              "      <td>21</td>\n",
              "      <td>13/01/2004</td>\n",
              "      <td>M</td>\n",
              "    </tr>\n",
              "    <tr>\n",
              "      <th>2</th>\n",
              "      <td>1945803228</td>\n",
              "      <td>3097038</td>\n",
              "      <td>Bogotá</td>\n",
              "      <td>26</td>\n",
              "      <td>19/10/1999</td>\n",
              "      <td>M</td>\n",
              "    </tr>\n",
              "    <tr>\n",
              "      <th>3</th>\n",
              "      <td>797846414</td>\n",
              "      <td>3854794</td>\n",
              "      <td>Bogotá</td>\n",
              "      <td>30</td>\n",
              "      <td>01/11/1995</td>\n",
              "      <td>M</td>\n",
              "    </tr>\n",
              "    <tr>\n",
              "      <th>4</th>\n",
              "      <td>1006406378</td>\n",
              "      <td>1173186</td>\n",
              "      <td>Cartagena</td>\n",
              "      <td>43</td>\n",
              "      <td>21/02/1982</td>\n",
              "      <td>F</td>\n",
              "    </tr>\n",
              "    <tr>\n",
              "      <th>...</th>\n",
              "      <td>...</td>\n",
              "      <td>...</td>\n",
              "      <td>...</td>\n",
              "      <td>...</td>\n",
              "      <td>...</td>\n",
              "      <td>...</td>\n",
              "    </tr>\n",
              "    <tr>\n",
              "      <th>495</th>\n",
              "      <td>236860070</td>\n",
              "      <td>3894913</td>\n",
              "      <td>Barranquilla</td>\n",
              "      <td>45</td>\n",
              "      <td>07/09/1980</td>\n",
              "      <td>M</td>\n",
              "    </tr>\n",
              "    <tr>\n",
              "      <th>496</th>\n",
              "      <td>1270967388</td>\n",
              "      <td>5964995</td>\n",
              "      <td>Medellín</td>\n",
              "      <td>55</td>\n",
              "      <td>22/03/1970</td>\n",
              "      <td>M</td>\n",
              "    </tr>\n",
              "    <tr>\n",
              "      <th>497</th>\n",
              "      <td>1283501353</td>\n",
              "      <td>3979824</td>\n",
              "      <td>Bogotá</td>\n",
              "      <td>19</td>\n",
              "      <td>08/08/2006</td>\n",
              "      <td>F</td>\n",
              "    </tr>\n",
              "    <tr>\n",
              "      <th>498</th>\n",
              "      <td>1338696054</td>\n",
              "      <td>1964052</td>\n",
              "      <td>Medellín</td>\n",
              "      <td>18</td>\n",
              "      <td>12/02/2007</td>\n",
              "      <td>F</td>\n",
              "    </tr>\n",
              "    <tr>\n",
              "      <th>499</th>\n",
              "      <td>1812945049</td>\n",
              "      <td>3581541</td>\n",
              "      <td>Bogotá</td>\n",
              "      <td>53</td>\n",
              "      <td>12/09/1972</td>\n",
              "      <td>M</td>\n",
              "    </tr>\n",
              "  </tbody>\n",
              "</table>\n",
              "<p>500 rows × 6 columns</p>\n",
              "</div>\n",
              "    <div class=\"colab-df-buttons\">\n",
              "\n",
              "  <div class=\"colab-df-container\">\n",
              "    <button class=\"colab-df-convert\" onclick=\"convertToInteractive('df-71945d30-05ae-4940-8c95-c635bda92ddc')\"\n",
              "            title=\"Convert this dataframe to an interactive table.\"\n",
              "            style=\"display:none;\">\n",
              "\n",
              "  <svg xmlns=\"http://www.w3.org/2000/svg\" height=\"24px\" viewBox=\"0 -960 960 960\">\n",
              "    <path d=\"M120-120v-720h720v720H120Zm60-500h600v-160H180v160Zm220 220h160v-160H400v160Zm0 220h160v-160H400v160ZM180-400h160v-160H180v160Zm440 0h160v-160H620v160ZM180-180h160v-160H180v160Zm440 0h160v-160H620v160Z\"/>\n",
              "  </svg>\n",
              "    </button>\n",
              "\n",
              "  <style>\n",
              "    .colab-df-container {\n",
              "      display:flex;\n",
              "      gap: 12px;\n",
              "    }\n",
              "\n",
              "    .colab-df-convert {\n",
              "      background-color: #E8F0FE;\n",
              "      border: none;\n",
              "      border-radius: 50%;\n",
              "      cursor: pointer;\n",
              "      display: none;\n",
              "      fill: #1967D2;\n",
              "      height: 32px;\n",
              "      padding: 0 0 0 0;\n",
              "      width: 32px;\n",
              "    }\n",
              "\n",
              "    .colab-df-convert:hover {\n",
              "      background-color: #E2EBFA;\n",
              "      box-shadow: 0px 1px 2px rgba(60, 64, 67, 0.3), 0px 1px 3px 1px rgba(60, 64, 67, 0.15);\n",
              "      fill: #174EA6;\n",
              "    }\n",
              "\n",
              "    .colab-df-buttons div {\n",
              "      margin-bottom: 4px;\n",
              "    }\n",
              "\n",
              "    [theme=dark] .colab-df-convert {\n",
              "      background-color: #3B4455;\n",
              "      fill: #D2E3FC;\n",
              "    }\n",
              "\n",
              "    [theme=dark] .colab-df-convert:hover {\n",
              "      background-color: #434B5C;\n",
              "      box-shadow: 0px 1px 3px 1px rgba(0, 0, 0, 0.15);\n",
              "      filter: drop-shadow(0px 1px 2px rgba(0, 0, 0, 0.3));\n",
              "      fill: #FFFFFF;\n",
              "    }\n",
              "  </style>\n",
              "\n",
              "    <script>\n",
              "      const buttonEl =\n",
              "        document.querySelector('#df-71945d30-05ae-4940-8c95-c635bda92ddc button.colab-df-convert');\n",
              "      buttonEl.style.display =\n",
              "        google.colab.kernel.accessAllowed ? 'block' : 'none';\n",
              "\n",
              "      async function convertToInteractive(key) {\n",
              "        const element = document.querySelector('#df-71945d30-05ae-4940-8c95-c635bda92ddc');\n",
              "        const dataTable =\n",
              "          await google.colab.kernel.invokeFunction('convertToInteractive',\n",
              "                                                    [key], {});\n",
              "        if (!dataTable) return;\n",
              "\n",
              "        const docLinkHtml = 'Like what you see? Visit the ' +\n",
              "          '<a target=\"_blank\" href=https://colab.research.google.com/notebooks/data_table.ipynb>data table notebook</a>'\n",
              "          + ' to learn more about interactive tables.';\n",
              "        element.innerHTML = '';\n",
              "        dataTable['output_type'] = 'display_data';\n",
              "        await google.colab.output.renderOutput(dataTable, element);\n",
              "        const docLink = document.createElement('div');\n",
              "        docLink.innerHTML = docLinkHtml;\n",
              "        element.appendChild(docLink);\n",
              "      }\n",
              "    </script>\n",
              "  </div>\n",
              "\n",
              "\n",
              "<div id=\"df-36e7af6e-03af-4d6e-86cb-7fbf616534a7\">\n",
              "  <button class=\"colab-df-quickchart\" onclick=\"quickchart('df-36e7af6e-03af-4d6e-86cb-7fbf616534a7')\"\n",
              "            title=\"Suggest charts\"\n",
              "            style=\"display:none;\">\n",
              "\n",
              "<svg xmlns=\"http://www.w3.org/2000/svg\" height=\"24px\"viewBox=\"0 0 24 24\"\n",
              "     width=\"24px\">\n",
              "    <g>\n",
              "        <path d=\"M19 3H5c-1.1 0-2 .9-2 2v14c0 1.1.9 2 2 2h14c1.1 0 2-.9 2-2V5c0-1.1-.9-2-2-2zM9 17H7v-7h2v7zm4 0h-2V7h2v10zm4 0h-2v-4h2v4z\"/>\n",
              "    </g>\n",
              "</svg>\n",
              "  </button>\n",
              "\n",
              "<style>\n",
              "  .colab-df-quickchart {\n",
              "      --bg-color: #E8F0FE;\n",
              "      --fill-color: #1967D2;\n",
              "      --hover-bg-color: #E2EBFA;\n",
              "      --hover-fill-color: #174EA6;\n",
              "      --disabled-fill-color: #AAA;\n",
              "      --disabled-bg-color: #DDD;\n",
              "  }\n",
              "\n",
              "  [theme=dark] .colab-df-quickchart {\n",
              "      --bg-color: #3B4455;\n",
              "      --fill-color: #D2E3FC;\n",
              "      --hover-bg-color: #434B5C;\n",
              "      --hover-fill-color: #FFFFFF;\n",
              "      --disabled-bg-color: #3B4455;\n",
              "      --disabled-fill-color: #666;\n",
              "  }\n",
              "\n",
              "  .colab-df-quickchart {\n",
              "    background-color: var(--bg-color);\n",
              "    border: none;\n",
              "    border-radius: 50%;\n",
              "    cursor: pointer;\n",
              "    display: none;\n",
              "    fill: var(--fill-color);\n",
              "    height: 32px;\n",
              "    padding: 0;\n",
              "    width: 32px;\n",
              "  }\n",
              "\n",
              "  .colab-df-quickchart:hover {\n",
              "    background-color: var(--hover-bg-color);\n",
              "    box-shadow: 0 1px 2px rgba(60, 64, 67, 0.3), 0 1px 3px 1px rgba(60, 64, 67, 0.15);\n",
              "    fill: var(--button-hover-fill-color);\n",
              "  }\n",
              "\n",
              "  .colab-df-quickchart-complete:disabled,\n",
              "  .colab-df-quickchart-complete:disabled:hover {\n",
              "    background-color: var(--disabled-bg-color);\n",
              "    fill: var(--disabled-fill-color);\n",
              "    box-shadow: none;\n",
              "  }\n",
              "\n",
              "  .colab-df-spinner {\n",
              "    border: 2px solid var(--fill-color);\n",
              "    border-color: transparent;\n",
              "    border-bottom-color: var(--fill-color);\n",
              "    animation:\n",
              "      spin 1s steps(1) infinite;\n",
              "  }\n",
              "\n",
              "  @keyframes spin {\n",
              "    0% {\n",
              "      border-color: transparent;\n",
              "      border-bottom-color: var(--fill-color);\n",
              "      border-left-color: var(--fill-color);\n",
              "    }\n",
              "    20% {\n",
              "      border-color: transparent;\n",
              "      border-left-color: var(--fill-color);\n",
              "      border-top-color: var(--fill-color);\n",
              "    }\n",
              "    30% {\n",
              "      border-color: transparent;\n",
              "      border-left-color: var(--fill-color);\n",
              "      border-top-color: var(--fill-color);\n",
              "      border-right-color: var(--fill-color);\n",
              "    }\n",
              "    40% {\n",
              "      border-color: transparent;\n",
              "      border-right-color: var(--fill-color);\n",
              "      border-top-color: var(--fill-color);\n",
              "    }\n",
              "    60% {\n",
              "      border-color: transparent;\n",
              "      border-right-color: var(--fill-color);\n",
              "    }\n",
              "    80% {\n",
              "      border-color: transparent;\n",
              "      border-right-color: var(--fill-color);\n",
              "      border-bottom-color: var(--fill-color);\n",
              "    }\n",
              "    90% {\n",
              "      border-color: transparent;\n",
              "      border-bottom-color: var(--fill-color);\n",
              "    }\n",
              "  }\n",
              "</style>\n",
              "\n",
              "  <script>\n",
              "    async function quickchart(key) {\n",
              "      const quickchartButtonEl =\n",
              "        document.querySelector('#' + key + ' button');\n",
              "      quickchartButtonEl.disabled = true;  // To prevent multiple clicks.\n",
              "      quickchartButtonEl.classList.add('colab-df-spinner');\n",
              "      try {\n",
              "        const charts = await google.colab.kernel.invokeFunction(\n",
              "            'suggestCharts', [key], {});\n",
              "      } catch (error) {\n",
              "        console.error('Error during call to suggestCharts:', error);\n",
              "      }\n",
              "      quickchartButtonEl.classList.remove('colab-df-spinner');\n",
              "      quickchartButtonEl.classList.add('colab-df-quickchart-complete');\n",
              "    }\n",
              "    (() => {\n",
              "      let quickchartButtonEl =\n",
              "        document.querySelector('#df-36e7af6e-03af-4d6e-86cb-7fbf616534a7 button');\n",
              "      quickchartButtonEl.style.display =\n",
              "        google.colab.kernel.accessAllowed ? 'block' : 'none';\n",
              "    })();\n",
              "  </script>\n",
              "</div>\n",
              "\n",
              "  <div id=\"id_c4b91f0e-a3a6-4435-9bf7-2f839de112ec\">\n",
              "    <style>\n",
              "      .colab-df-generate {\n",
              "        background-color: #E8F0FE;\n",
              "        border: none;\n",
              "        border-radius: 50%;\n",
              "        cursor: pointer;\n",
              "        display: none;\n",
              "        fill: #1967D2;\n",
              "        height: 32px;\n",
              "        padding: 0 0 0 0;\n",
              "        width: 32px;\n",
              "      }\n",
              "\n",
              "      .colab-df-generate:hover {\n",
              "        background-color: #E2EBFA;\n",
              "        box-shadow: 0px 1px 2px rgba(60, 64, 67, 0.3), 0px 1px 3px 1px rgba(60, 64, 67, 0.15);\n",
              "        fill: #174EA6;\n",
              "      }\n",
              "\n",
              "      [theme=dark] .colab-df-generate {\n",
              "        background-color: #3B4455;\n",
              "        fill: #D2E3FC;\n",
              "      }\n",
              "\n",
              "      [theme=dark] .colab-df-generate:hover {\n",
              "        background-color: #434B5C;\n",
              "        box-shadow: 0px 1px 3px 1px rgba(0, 0, 0, 0.15);\n",
              "        filter: drop-shadow(0px 1px 2px rgba(0, 0, 0, 0.3));\n",
              "        fill: #FFFFFF;\n",
              "      }\n",
              "    </style>\n",
              "    <button class=\"colab-df-generate\" onclick=\"generateWithVariable('df')\"\n",
              "            title=\"Generate code using this dataframe.\"\n",
              "            style=\"display:none;\">\n",
              "\n",
              "  <svg xmlns=\"http://www.w3.org/2000/svg\" height=\"24px\"viewBox=\"0 0 24 24\"\n",
              "       width=\"24px\">\n",
              "    <path d=\"M7,19H8.4L18.45,9,17,7.55,7,17.6ZM5,21V16.75L18.45,3.32a2,2,0,0,1,2.83,0l1.4,1.43a1.91,1.91,0,0,1,.58,1.4,1.91,1.91,0,0,1-.58,1.4L9.25,21ZM18.45,9,17,7.55Zm-12,3A5.31,5.31,0,0,0,4.9,8.1,5.31,5.31,0,0,0,1,6.5,5.31,5.31,0,0,0,4.9,4.9,5.31,5.31,0,0,0,6.5,1,5.31,5.31,0,0,0,8.1,4.9,5.31,5.31,0,0,0,12,6.5,5.46,5.46,0,0,0,6.5,12Z\"/>\n",
              "  </svg>\n",
              "    </button>\n",
              "    <script>\n",
              "      (() => {\n",
              "      const buttonEl =\n",
              "        document.querySelector('#id_c4b91f0e-a3a6-4435-9bf7-2f839de112ec button.colab-df-generate');\n",
              "      buttonEl.style.display =\n",
              "        google.colab.kernel.accessAllowed ? 'block' : 'none';\n",
              "\n",
              "      buttonEl.onclick = () => {\n",
              "        google.colab.notebook.generateWithVariable('df');\n",
              "      }\n",
              "      })();\n",
              "    </script>\n",
              "  </div>\n",
              "\n",
              "    </div>\n",
              "  </div>\n"
            ],
            "application/vnd.google.colaboratory.intrinsic+json": {
              "type": "dataframe",
              "variable_name": "df",
              "summary": "{\n  \"name\": \"df\",\n  \"rows\": 500,\n  \"fields\": [\n    {\n      \"column\": \"cedula\",\n      \"properties\": {\n        \"dtype\": \"number\",\n        \"std\": 568097059,\n        \"min\": 12235000,\n        \"max\": 1996196019,\n        \"num_unique_values\": 500,\n        \"samples\": [\n          820490870,\n          797110843,\n          620021271\n        ],\n        \"semantic_type\": \"\",\n        \"description\": \"\"\n      }\n    },\n    {\n      \"column\": \"salario\",\n      \"properties\": {\n        \"dtype\": \"number\",\n        \"std\": 1521600,\n        \"min\": 1004919,\n        \"max\": 8538185,\n        \"num_unique_values\": 500,\n        \"samples\": [\n          1897001,\n          5325150,\n          2772210\n        ],\n        \"semantic_type\": \"\",\n        \"description\": \"\"\n      }\n    },\n    {\n      \"column\": \"ciudad\",\n      \"properties\": {\n        \"dtype\": \"category\",\n        \"num_unique_values\": 10,\n        \"samples\": [\n          \"Pereira\",\n          \"Bogot\\u00e1\",\n          \"Cali\"\n        ],\n        \"semantic_type\": \"\",\n        \"description\": \"\"\n      }\n    },\n    {\n      \"column\": \"edad\",\n      \"properties\": {\n        \"dtype\": \"number\",\n        \"std\": 9,\n        \"min\": 18,\n        \"max\": 65,\n        \"num_unique_values\": 42,\n        \"samples\": [\n          25,\n          47,\n          38\n        ],\n        \"semantic_type\": \"\",\n        \"description\": \"\"\n      }\n    },\n    {\n      \"column\": \"fecha_nacimiento\",\n      \"properties\": {\n        \"dtype\": \"object\",\n        \"num_unique_values\": 489,\n        \"samples\": [\n          \"23/09/1985\",\n          \"23/04/1975\",\n          \"17/06/2003\"\n        ],\n        \"semantic_type\": \"\",\n        \"description\": \"\"\n      }\n    },\n    {\n      \"column\": \"genero\",\n      \"properties\": {\n        \"dtype\": \"category\",\n        \"num_unique_values\": 2,\n        \"samples\": [\n          \"F\",\n          \"M\"\n        ],\n        \"semantic_type\": \"\",\n        \"description\": \"\"\n      }\n    }\n  ]\n}"
            }
          },
          "metadata": {},
          "execution_count": 13
        }
      ]
    },
    {
      "cell_type": "code",
      "source": [
        "df.info()"
      ],
      "metadata": {
        "colab": {
          "base_uri": "https://localhost:8080/"
        },
        "id": "XsAfP3syvROu",
        "outputId": "1529cc1d-d82d-4869-bf74-58da7d52f436"
      },
      "execution_count": 14,
      "outputs": [
        {
          "output_type": "stream",
          "name": "stdout",
          "text": [
            "<class 'pandas.core.frame.DataFrame'>\n",
            "RangeIndex: 500 entries, 0 to 499\n",
            "Data columns (total 6 columns):\n",
            " #   Column            Non-Null Count  Dtype \n",
            "---  ------            --------------  ----- \n",
            " 0   cedula            500 non-null    int64 \n",
            " 1   salario           500 non-null    int64 \n",
            " 2   ciudad            500 non-null    object\n",
            " 3   edad              500 non-null    int64 \n",
            " 4   fecha_nacimiento  500 non-null    object\n",
            " 5   genero            500 non-null    object\n",
            "dtypes: int64(3), object(3)\n",
            "memory usage: 23.6+ KB\n"
          ]
        }
      ]
    },
    {
      "cell_type": "markdown",
      "source": [
        "**3. Descripción estadística**"
      ],
      "metadata": {
        "id": "oUz3BJkRw2hS"
      }
    },
    {
      "cell_type": "code",
      "source": [
        "media = df['salario'].mean()\n",
        "media"
      ],
      "metadata": {
        "colab": {
          "base_uri": "https://localhost:8080/"
        },
        "id": "fGY04tkYva6Y",
        "outputId": "35c856dc-41dc-4dd1-d694-a62b1cf04eb0"
      },
      "execution_count": 15,
      "outputs": [
        {
          "output_type": "execute_result",
          "data": {
            "text/plain": [
              "np.float64(3177266.47)"
            ]
          },
          "metadata": {},
          "execution_count": 15
        }
      ]
    },
    {
      "cell_type": "markdown",
      "source": [
        "Media: aproximadamente 3.17 millones . La media es el promedio de todos los salarios, y está influenciada por valores extremos​\n"
      ],
      "metadata": {
        "id": "BVeLDiqwwJnW"
      }
    },
    {
      "cell_type": "code",
      "source": [
        "mediana = df['salario'].median()\n",
        "mediana"
      ],
      "metadata": {
        "colab": {
          "base_uri": "https://localhost:8080/"
        },
        "id": "4SyaHJOtvtda",
        "outputId": "79343777-bc85-4a79-99e8-9bdd37992bdb"
      },
      "execution_count": 16,
      "outputs": [
        {
          "output_type": "execute_result",
          "data": {
            "text/plain": [
              "2830390.5"
            ]
          },
          "metadata": {},
          "execution_count": 16
        }
      ]
    },
    {
      "cell_type": "markdown",
      "source": [
        "Mediana: aproximadamente 2.83 millones. Es el valor central que divide a los datos en dos partes iguales (50% por encima y 50% por debajo)​"
      ],
      "metadata": {
        "id": "dpt82SmmwSEo"
      }
    },
    {
      "cell_type": "code",
      "source": [
        "moda = df['salario'].mode()       # puede devolver múltiplos valores si hay más de una moda\n",
        "moda"
      ],
      "metadata": {
        "colab": {
          "base_uri": "https://localhost:8080/",
          "height": 458
        },
        "id": "WqNviyYCvvaW",
        "outputId": "22d60c73-3209-42ab-a132-731093463ddf"
      },
      "execution_count": 21,
      "outputs": [
        {
          "output_type": "execute_result",
          "data": {
            "text/plain": [
              "0      1004919\n",
              "1      1097431\n",
              "2      1103397\n",
              "3      1105229\n",
              "4      1130188\n",
              "        ...   \n",
              "495    7354326\n",
              "496    7629671\n",
              "497    7663557\n",
              "498    8206096\n",
              "499    8538185\n",
              "Name: salario, Length: 500, dtype: int64"
            ],
            "text/html": [
              "<div>\n",
              "<style scoped>\n",
              "    .dataframe tbody tr th:only-of-type {\n",
              "        vertical-align: middle;\n",
              "    }\n",
              "\n",
              "    .dataframe tbody tr th {\n",
              "        vertical-align: top;\n",
              "    }\n",
              "\n",
              "    .dataframe thead th {\n",
              "        text-align: right;\n",
              "    }\n",
              "</style>\n",
              "<table border=\"1\" class=\"dataframe\">\n",
              "  <thead>\n",
              "    <tr style=\"text-align: right;\">\n",
              "      <th></th>\n",
              "      <th>salario</th>\n",
              "    </tr>\n",
              "  </thead>\n",
              "  <tbody>\n",
              "    <tr>\n",
              "      <th>0</th>\n",
              "      <td>1004919</td>\n",
              "    </tr>\n",
              "    <tr>\n",
              "      <th>1</th>\n",
              "      <td>1097431</td>\n",
              "    </tr>\n",
              "    <tr>\n",
              "      <th>2</th>\n",
              "      <td>1103397</td>\n",
              "    </tr>\n",
              "    <tr>\n",
              "      <th>3</th>\n",
              "      <td>1105229</td>\n",
              "    </tr>\n",
              "    <tr>\n",
              "      <th>4</th>\n",
              "      <td>1130188</td>\n",
              "    </tr>\n",
              "    <tr>\n",
              "      <th>...</th>\n",
              "      <td>...</td>\n",
              "    </tr>\n",
              "    <tr>\n",
              "      <th>495</th>\n",
              "      <td>7354326</td>\n",
              "    </tr>\n",
              "    <tr>\n",
              "      <th>496</th>\n",
              "      <td>7629671</td>\n",
              "    </tr>\n",
              "    <tr>\n",
              "      <th>497</th>\n",
              "      <td>7663557</td>\n",
              "    </tr>\n",
              "    <tr>\n",
              "      <th>498</th>\n",
              "      <td>8206096</td>\n",
              "    </tr>\n",
              "    <tr>\n",
              "      <th>499</th>\n",
              "      <td>8538185</td>\n",
              "    </tr>\n",
              "  </tbody>\n",
              "</table>\n",
              "<p>500 rows × 1 columns</p>\n",
              "</div><br><label><b>dtype:</b> int64</label>"
            ]
          },
          "metadata": {},
          "execution_count": 21
        }
      ]
    },
    {
      "cell_type": "markdown",
      "source": [
        "Moda: No existe una moda única, ya que todos los salarios son distintos en el conjunto de datos (ningún valor se repite más de una vez). En estadística, la moda es el valor que aparece con mayor frecuencia, y si ningún valor se repite, entonces no hay moda definida​"
      ],
      "metadata": {
        "id": "hNKt5RpMwmyj"
      }
    },
    {
      "cell_type": "code",
      "source": [
        "desviacion = df['salario'].std()\n",
        "desviacion"
      ],
      "metadata": {
        "colab": {
          "base_uri": "https://localhost:8080/"
        },
        "id": "ewSWt6vAvxea",
        "outputId": "c0746b08-2566-4530-c854-457e07b47b9a"
      },
      "execution_count": 19,
      "outputs": [
        {
          "output_type": "execute_result",
          "data": {
            "text/plain": [
              "1521600.6626887661"
            ]
          },
          "metadata": {},
          "execution_count": 19
        }
      ]
    },
    {
      "cell_type": "markdown",
      "source": [
        "Desviación estándar: aproximadamente 1.52 millones. Esta medida indica la dispersión o variabilidad típica de los salarios respecto a la media."
      ],
      "metadata": {
        "id": "U5bgNbq_wXz3"
      }
    },
    {
      "cell_type": "code",
      "source": [
        "q1 = df['salario'].quantile(0.25) # 25 percentil (1er cuartil)\n",
        "q3 = df['salario'].quantile(0.75) # 75 percentil (3er cuartil)\n",
        "print(\"Percentil 25: \", q1)\n",
        "print(\"Percentil 75: \", q3)"
      ],
      "metadata": {
        "colab": {
          "base_uri": "https://localhost:8080/"
        },
        "id": "bbU7IGk_v1KS",
        "outputId": "c9489ddc-7fbe-4600-8e95-081660cff346"
      },
      "execution_count": 20,
      "outputs": [
        {
          "output_type": "stream",
          "name": "stdout",
          "text": [
            "Percentil 25:  1946574.0\n",
            "Percentil 75:  4129936.5\n"
          ]
        }
      ]
    },
    {
      "cell_type": "markdown",
      "source": [
        "Percentil 25% (Q1): ~1.95 millones; Percentil 75% (Q3): ~4.13 millones. Esto significa que el 50% central de los salarios (rango intercuartílico) está aproximadamente entre 1.95 y 4.13 millones."
      ],
      "metadata": {
        "id": "ItA1i5EJwiJA"
      }
    },
    {
      "cell_type": "code",
      "source": [
        "minimo = df['salario'].min()\n",
        "maximo = df['salario'].max()\n",
        "print(\"Mínimo: \", minimo)\n",
        "print(\"Máximo: \", maximo)"
      ],
      "metadata": {
        "id": "oRgRdgS1wA4c"
      },
      "execution_count": null,
      "outputs": []
    },
    {
      "cell_type": "markdown",
      "source": [
        "Mínimo y Máximo: el salario mínimo es alrededor de 1.00 millón, y el máximo es cerca de 8.54 millones."
      ],
      "metadata": {
        "id": "qRIfc5d2vacw"
      }
    },
    {
      "cell_type": "markdown",
      "source": [
        "Se puede notar que la media (3.17M) es mayor que la mediana (2.83M). Esto suele indicar que la distribución de salarios está sesgada positivamente (asimetría a la derecha), lo cual ocurre cuando hay algunos salarios muy altos que elevan la media por encima del valor central típico​\n",
        "JMP.COM\n",
        ". En otras palabras, unos pocos empleados con sueldos significativamente altos empujan la media hacia arriba, mientras que la mediana refleja mejor el salario \"típico\" de la mayoría. En casos de distribuciones sesgadas o con valores extremos, la mediana suele ser una medida más representativa del centro que la media​"
      ],
      "metadata": {
        "id": "V2rzko-mwuTG"
      }
    },
    {
      "cell_type": "markdown",
      "source": [
        "4. Visualización de datos:\n",
        "\n",
        "    4.1 Visualización y análisis de la variable cuantitativa (Salario)\n",
        "\n",
        "\n"
      ],
      "metadata": {
        "id": "A5k3IhqCwxpg"
      }
    },
    {
      "cell_type": "markdown",
      "source": [
        "Para comprender la distribución de la variable cuantitativa Salario, utilizaremos dos tipos de visualizaciones complementarias: un histograma y un diagrama de caja y bigotes (boxplot). Estas gráficas ayudan a visualizar la forma de la distribución, la dispersión, la presencia de valores atípicos y otros patrones que no son evidentes solo con las estadísticas numéricas.\n",
        "\n",
        "**Histograma de la distribución de Salarios**\n",
        "Un histograma agrupa los datos en rangos (bins) y muestra la frecuencia (conteo) de valores que caen en cada rango. Es útil para observar la forma de la distribución (por ejemplo, si es simétrica, sesgada, unimodal, etc.)."
      ],
      "metadata": {
        "id": "B7uq7ZbsxQfG"
      }
    },
    {
      "cell_type": "code",
      "source": [
        "import seaborn as sns\n",
        "import matplotlib.pyplot as plt\n",
        "\n",
        "plt.figure(figsize=(6,4))\n",
        "sns.histplot(df['salario'], bins=10, kde=True, color='skyblue', edgecolor='black')\n",
        "plt.title('Distribución de Salarios')\n",
        "plt.xlabel('Salario')\n",
        "plt.ylabel('Frecuencia')\n",
        "plt.show()"
      ],
      "metadata": {
        "colab": {
          "base_uri": "https://localhost:8080/",
          "height": 410
        },
        "id": "LNlaSgQSxeut",
        "outputId": "7c919c07-a437-4d77-9227-f1b690b4f236"
      },
      "execution_count": 24,
      "outputs": [
        {
          "output_type": "display_data",
          "data": {
            "text/plain": [
              "<Figure size 600x400 with 1 Axes>"
            ],
            "image/png": "[encoded data removed]"
          },
          "metadata": {}
        }
      ]
    },
    {
      "cell_type": "markdown",
      "source": [
        "En este código:\n",
        "* sns.histplot crea el histograma de la serie df['salario']. Se especifica bins=10 para dividir el rango de salarios en 10 intervalos. (El número de bins se puede ajustar; valores mayores dan barras más estrechas y detalladas, y valores menores dan barras más anchas y generalizadas).\n",
        "* kde=True añade la curva de densidad kernel (Kernel Density Estimate) en color azul suave por encima del histograma. Esta curva es una estimación suavizada de la distribución de frecuencias, útil para ver la forma general de la distribución sin el efecto de la discretización en barras.\n",
        "* color='skyblue' establece un color azul claro para las barras, y edgecolor='black' dibuja bordes negros alrededor de cada barra para distinguirlas mejor.\n",
        "* plt.title, plt.xlabel, plt.ylabel agregan un título y etiquetas a los ejes X (Salario) e Y (Frecuencia) para hacer la gráfica autoexplicativa.\n",
        "* plt.grid(axis='y', ...) dibuja una rejilla punteada horizontal que ayuda a seguir el valor de la frecuencia en el eje Y, mejorando la legibilidad. La rejilla solo en el eje y (axis='y') es común para resaltar las líneas de conteo sin sobrecargar el eje X."
      ],
      "metadata": {
        "id": "ZREev3slxqez"
      }
    },
    {
      "cell_type": "markdown",
      "source": [
        "Histograma de la distribución de salarios de 500 empleados. Se observa una distribución con forma sesgada hacia la derecha: la mayoría de los empleados ganan entre ~1 y 5 millones, con un pico de frecuencia alrededor de 2–3 millones. La cola de la distribución se extiende hacia salarios más altos (hasta ~8 millones), lo que indica la presencia de algunos salarios excepcionalmente elevados (pocos empleados con sueldos muy altos). Esta asimetría confirma que la distribución es no simétrica; en efecto, coincide con el análisis numérico donde la media supera a la mediana. Podemos inferir que la mayoría de los salarios se concentran por debajo de ~4 millones, mientras que unos pocos valores atípicos elevan la cola derecha. La curva de densidad (línea suave) ayuda a visualizar esta forma general, mostrando una única moda (un único pico principal) en torno a ~2.5 millones y una disminución gradual en densidad hacia la derecha conforme aumentan los salarios."
      ],
      "metadata": {
        "id": "pyRqXZ5eyDl-"
      }
    },
    {
      "cell_type": "markdown",
      "source": [
        "**Diagrama de caja y bigotes (Boxplot) de Salario**\n",
        "Un diagrama de caja y bigotes es útil para resumir visualmente la distribución mediante cinco números clave: mínimo, primer cuartil (Q1), mediana, tercer cuartil (Q3) y máximo. La \"caja\" central abarca desde Q1 hasta Q3 (el 50% medio de los datos) y suele marcar la mediana con una línea interna. Los \"bigotes\" (líneas que salen de la caja) generalmente se extienden hasta el valor mínimo y máximo sin considerar los valores atípicos (normalmente hasta 1.5 veces el rango intercuartílico, IQR). Cualquier punto fuera de ese rango se dibuja individualmente como un outlier (valor atípico). Veamos el código para generar el boxplot de salarios:"
      ],
      "metadata": {
        "id": "k0NTsqc1yG0c"
      }
    },
    {
      "cell_type": "code",
      "source": [
        "plt.figure(figsize=(8,3))\n",
        "sns.boxplot(x=df['salario'], color='skyblue')\n",
        "plt.title('Diagrama de caja y bigotes de Salario')\n",
        "plt.xlabel('Salario (en millones)')\n",
        "plt.xticks([1_000_000, 3_000_000, 5_000_000, 7_000_000, 9_000_000],\n",
        "           ['1M','3M','5M','7M','9M'])  # etiquetas en millones para claridad\n",
        "plt.show()"
      ],
      "metadata": {
        "colab": {
          "base_uri": "https://localhost:8080/",
          "height": 333
        },
        "id": "Hf1aXB_xxp_c",
        "outputId": "90e3ca55-b585-4b9b-e442-3ab4223a2a73"
      },
      "execution_count": 25,
      "outputs": [
        {
          "output_type": "display_data",
          "data": {
            "text/plain": [
              "<Figure size 800x300 with 1 Axes>"
            ],
            "image/png": "[encoded data removed]"
          },
          "metadata": {}
        }
      ]
    },
    {
      "cell_type": "markdown",
      "source": [
        "En este código:\n",
        "* sns.boxplot(x=df['salario'], ...) crea un boxplot horizontal de la variable salario. Usamos el parámetro x porque queremos poner el salario en el eje horizontal; alternativamente, podríamos usar y=df['salario'] para un boxplot vertical. La orientación horizontal en este caso ayuda a que la etiqueta de valor (Salario) esté en la base y los valores numéricos se lean de izquierda a derecha.\n",
        "* color='skyblue' colorea la caja en azul claro para mantener consistencia con el histograma anterior. Los bigotes y puntos de outliers aparecen en color gris por defecto.\n",
        "* plt.xticks(..., ['1M','3M',...]) es una personalización para reemplazar las etiquetas numéricas originales del eje X por notaciones en millones (por ejemplo \"1M\" en lugar de 1000000) para facilitar la lectura. Aquí definimos ticks en 1, 3, 5, 7, 9 millones. También se podría usar plt.ticklabel_format con estilo plain, pero formatear \"a mano\" en millones da una presentación más clara.\n",
        "El título y la etiqueta del eje X se ajustan indicando que los valores están en millones de la unidad monetaria (asumiendo pesos, por ejemplo)."
      ],
      "metadata": {
        "id": "Yg4f7xvvyP3k"
      }
    },
    {
      "cell_type": "markdown",
      "source": [
        "Diagrama de caja y bigotes de los salarios. La caja azul representa el rango intercuartílico de los salarios (de 1.95M a 4.13M). La línea negra dentro de la caja marca la mediana, cercana a 2.83M. El extremo izquierdo de la caja (1.95M) es el 1er cuartil (25% de los datos por debajo) y el extremo derecho (4.13M) es el 3er cuartil (75% por debajo). Los “bigotes” se extienden aproximadamente desde 1.00M (mínimo) hasta 7.40M. Los puntos grises a la derecha del bigote superior son valores atípicos: en este caso, hay 4 empleados con salarios notablemente mayores al resto (situados alrededor de 7.6M, 7.66M, 8.21M y 8.54M, fuera del rango esperado). Estos outliers corresponden a los salarios más altos que ya identificamos numéricamente. La longitud de la caja indica que hay una variabilidad sustancial en los salarios del 50% central de los empleados (el IQR es 2.18M). Además, se observa que la mediana está algo más cerca del Q1 que del Q3 dentro de la caja, lo cual puede sugerir una ligera asimetría. En conjunto, este diagrama confirma: la mayoría de los salarios se agrupan en valores bajos a medios, con unos pocos salarios excepcionalmente altos que aparecen aislados como puntos fuera de los bigotes."
      ],
      "metadata": {
        "id": "Tlrd8UFOycFT"
      }
    },
    {
      "cell_type": "markdown",
      "source": [
        "**4.2 Análisis de la variable cualitativa (Ciudad)**\n",
        "\n",
        "Pasamos ahora a la variable cualitativa seleccionada, Ciudad, que indica la ciudad de residencia (u oficina) de cada empleado. Al tratarse de una variable categórica, no tiene sentido calcular media o desviación estándar. En su lugar, se realiza un análisis de frecuencias: es decir, cuántos empleados hay en cada categoría (ciudad). Las medidas descriptivas relevantes para variables cualitativas son el conteo de cada categoría, las proporciones (porcentaje del total) y la moda categórica (la categoría con mayor frecuencia)​\n"
      ],
      "metadata": {
        "id": "hQmPs1IEymNk"
      }
    },
    {
      "cell_type": "code",
      "source": [
        "df['ciudad'].value_counts()"
      ],
      "metadata": {
        "colab": {
          "base_uri": "https://localhost:8080/",
          "height": 429
        },
        "id": "9FMAlnnPyxt0",
        "outputId": "5d03254f-bd85-426c-ee87-d5c08a153a51"
      },
      "execution_count": 26,
      "outputs": [
        {
          "output_type": "execute_result",
          "data": {
            "text/plain": [
              "ciudad\n",
              "Bogotá          184\n",
              "Medellín         64\n",
              "Cali             61\n",
              "Barranquilla     40\n",
              "Pereira          33\n",
              "Cartagena        32\n",
              "Bucaramanga      24\n",
              "Cúcuta           22\n",
              "Manizales        21\n",
              "Santa Marta      19\n",
              "Name: count, dtype: int64"
            ],
            "text/html": [
              "<div>\n",
              "<style scoped>\n",
              "    .dataframe tbody tr th:only-of-type {\n",
              "        vertical-align: middle;\n",
              "    }\n",
              "\n",
              "    .dataframe tbody tr th {\n",
              "        vertical-align: top;\n",
              "    }\n",
              "\n",
              "    .dataframe thead th {\n",
              "        text-align: right;\n",
              "    }\n",
              "</style>\n",
              "<table border=\"1\" class=\"dataframe\">\n",
              "  <thead>\n",
              "    <tr style=\"text-align: right;\">\n",
              "      <th></th>\n",
              "      <th>count</th>\n",
              "    </tr>\n",
              "    <tr>\n",
              "      <th>ciudad</th>\n",
              "      <th></th>\n",
              "    </tr>\n",
              "  </thead>\n",
              "  <tbody>\n",
              "    <tr>\n",
              "      <th>Bogotá</th>\n",
              "      <td>184</td>\n",
              "    </tr>\n",
              "    <tr>\n",
              "      <th>Medellín</th>\n",
              "      <td>64</td>\n",
              "    </tr>\n",
              "    <tr>\n",
              "      <th>Cali</th>\n",
              "      <td>61</td>\n",
              "    </tr>\n",
              "    <tr>\n",
              "      <th>Barranquilla</th>\n",
              "      <td>40</td>\n",
              "    </tr>\n",
              "    <tr>\n",
              "      <th>Pereira</th>\n",
              "      <td>33</td>\n",
              "    </tr>\n",
              "    <tr>\n",
              "      <th>Cartagena</th>\n",
              "      <td>32</td>\n",
              "    </tr>\n",
              "    <tr>\n",
              "      <th>Bucaramanga</th>\n",
              "      <td>24</td>\n",
              "    </tr>\n",
              "    <tr>\n",
              "      <th>Cúcuta</th>\n",
              "      <td>22</td>\n",
              "    </tr>\n",
              "    <tr>\n",
              "      <th>Manizales</th>\n",
              "      <td>21</td>\n",
              "    </tr>\n",
              "    <tr>\n",
              "      <th>Santa Marta</th>\n",
              "      <td>19</td>\n",
              "    </tr>\n",
              "  </tbody>\n",
              "</table>\n",
              "</div><br><label><b>dtype:</b> int64</label>"
            ]
          },
          "metadata": {},
          "execution_count": 26
        }
      ]
    },
    {
      "cell_type": "markdown",
      "source": [
        "Bogotá 184, Medellín 64, Cali 61, Barranquilla 40, Pereira 33, Cartagena 32, Bucaramanga 24, Cúcuta 22, Manizales 21, Santa Marta 19 (estas suman 500 empleados). En este conjunto de datos, hay 10 ciudades diferentes registradas. La moda de la variable Ciudad es \"Bogotá\", ya que es la categoría con más casos (184 empleados, ~36.8% de la muestra)​\n"
      ],
      "metadata": {
        "id": "FkCiNS85y42_"
      }
    },
    {
      "cell_type": "markdown",
      "source": [
        "Para visualizar esta variable cualitativa utilizaremos un **gráfico de barras**, que es la forma habitual de representar variables categóricas​\n"
      ],
      "metadata": {
        "id": "Umwu0IAPy8iZ"
      }
    },
    {
      "cell_type": "code",
      "source": [
        "plt.figure(figsize=(8,4))\n",
        "order = df['ciudad'].value_counts().index  # ordena las ciudades por frecuencia descendente\n",
        "sns.countplot(x='ciudad', data=df, order=order, palette='pastel')\n",
        "plt.title('Distribución de Empleados por Ciudad')\n",
        "plt.xlabel('Ciudad')\n",
        "plt.ylabel('Cantidad de Empleados')\n",
        "plt.xticks(rotation=45)  # rotar etiquetas para que no se encimen\n",
        "plt.tight_layout()\n",
        "plt.show()\n"
      ],
      "metadata": {
        "colab": {
          "base_uri": "https://localhost:8080/",
          "height": 494
        },
        "id": "IyPu03pvzBpI",
        "outputId": "0d76557c-01ca-429c-9cb4-d8d6e5ba7d71"
      },
      "execution_count": 27,
      "outputs": [
        {
          "output_type": "stream",
          "name": "stderr",
          "text": [
            "<ipython-input-27-18fca190ea93>:3: FutureWarning: \n",
            "\n",
            "Passing `palette` without assigning `hue` is deprecated and will be removed in v0.14.0. Assign the `x` variable to `hue` and set `legend=False` for the same effect.\n",
            "\n",
            "  sns.countplot(x='ciudad', data=df, order=order, palette='pastel')\n"
          ]
        },
        {
          "output_type": "display_data",
          "data": {
            "text/plain": [
              "<Figure size 800x400 with 1 Axes>"
            ],
            "image/png": "[encoded data removed]"
          },
          "metadata": {}
        }
      ]
    },
    {
      "cell_type": "markdown",
      "source": [
        "En este código:\n",
        "* sns.countplot crea un gráfico de conteo (barras) para la variable categórica 'ciudad'. El argumento order=... se utiliza para ordenar las categorías según su frecuencia (aquí usamos value_counts().index que devuelve las ciudades ordenadas de mayor a menor conteo). Esto es útil para destacar visualmente cuáles ciudades tienen más empleados sin necesidad de recorrer visualmente barras desordenadas.\n",
        "* palette='pastel' aplica una paleta de colores suaves diferenciando cada barra. Cada ciudad recibirá un color distinto dentro de la gama pastel, lo cual ayuda a distinguir las categorías visualmente (si bien en un gráfico de barras simples el color diferente no es estrictamente necesario, añade atractivo visual).\n",
        "* plt.xticks(rotation=45) rota las etiquetas del eje X (nombres de ciudades) 45 grados para evitar superposición y mejorar la legibilidad, dado que algunos nombres son relativamente largos.\n",
        "* plt.tight_layout() ajusta automáticamente los márgenes de la figura para que todas las etiquetas se vean completas (evita que, por ejemplo, el nombre de la última ciudad quede cortado)."
      ],
      "metadata": {
        "id": "AC6P3UBbzE_o"
      }
    },
    {
      "cell_type": "markdown",
      "source": [
        "**Gráfico de barras de la cantidad de empleados por ciudad**. Cada barra representa el número de empleados en una ciudad. Vemos claramente que Bogotá tiene la barra más alta (184 empleados), seguida por Medellín (64) y Cali (61). Las demás ciudades tienen barras mucho más bajas (entre 20 y 40 aproximadamente), indicando menos personal."
      ],
      "metadata": {
        "id": "jj5811OUzL3E"
      }
    },
    {
      "cell_type": "markdown",
      "source": [],
      "metadata": {
        "id": "Gc5cr5P2zAqK"
      }
    },
    {
      "cell_type": "markdown",
      "metadata": {
        "id": "6061EJos-6p2"
      },
      "source": [
        "## Cierre\n",
        "\n",
        "En este cuaderno, hemos explorado los conceptos fundamentales de la estadística y cómo aplicarlos utilizando la librería Pandas. Se han explicado como calcular las medidas de tendencia central, las medidas de dispersión y las distribuciones de probabilidad. Además, hemos descubierto cómo Pandas nos permite realizar tareas como la carga y selección de datos, el filtrado y la agregación, y la visualización de datos."
      ]
    }
  ],
  "metadata": {
    "kernelspec": {
      "display_name": "base",
      "language": "python",
      "name": "python3"
    },
    "language_info": {
      "codemirror_mode": {
        "name": "ipython",
        "version": 3
      },
      "file_extension": ".py",
      "mimetype": "text/x-python",
      "name": "python",
      "nbconvert_exporter": "python",
      "pygments_lexer": "ipython3",
      "version": "3.10.9"
    },
    "orig_nbformat": 4,
    "colab": {
      "provenance": [],
      "include_colab_link": true
    }
  },
  "nbformat": 4,
  "nbformat_minor": 0
}