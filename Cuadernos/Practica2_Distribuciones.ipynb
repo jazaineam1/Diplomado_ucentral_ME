{
  "nbformat": 4,
  "nbformat_minor": 0,
  "metadata": {
    "colab": {
      "provenance": []
    },
    "kernelspec": {
      "name": "python3",
      "display_name": "Python 3"
    },
    "language_info": {
      "name": "python"
    }
  },
  "cells": [
    {
      "cell_type": "markdown",
      "source": [
        "| ![Julio Zainea](https://raw.githubusercontent.com/Izainea/Izainea.github.io/master/logo.png) | Curso de Introducción a la Analítica de Datos | Julio Zainea |\n",
        "|:---:|:---:|:---:|"
      ],
      "metadata": {
        "id": "2ome5jF__hhr"
      }
    },
    {
      "cell_type": "markdown",
      "source": [
        "# Aplicaciones y ejercicios de distribucion binomial, poisson y normal"
      ],
      "metadata": {
        "id": "wNhlt2p8_xU3"
      }
    },
    {
      "cell_type": "markdown",
      "source": [
        "Antes de iniciar vamos a recordar algunos conseptos necesarios para el desarrollode este cuadernillo.\n",
        "\n",
        "\n",
        "\n"
      ],
      "metadata": {
        "id": "7Vd5o_uB_9Fy"
      }
    },
    {
      "cell_type": "markdown",
      "source": [
        "## Distribución Binomial\n",
        "\n",
        "Si $X$ es variable aleatoria que mide el \"número de éxitos\" y se realizan $n$ ensayos de Bernoulli independientes entre sí, diremos que $X$ se distribuye como una Binomial con parámetros $n$ y $p$\n",
        "\n",
        "$$X\\sim \\text{B}(n,p)$$\n",
        "\n",
        "donde $p$ es la probabilidad de éxito y $q = 1-p$ es la probabilidad de fracaso\n",
        "\n",
        "- El **dominio** de $X$ será $D_X = \\{0,1,2,\\dots,n\\}$\n",
        "- La **función de probabilidad** vendrá dada por $$f(k) = {n\\choose k}p^k(1-p)^{n-k} $$\n",
        "\n",
        "- **Esperanza** $E(X) = np$\n",
        "- **Varianza** $Var(X) = np(1-p)$\n",
        "\n",
        "- En `Python` tenemos las funciones del paquete `scipy.stats.binom`: `pmf(k,n,p), cdf(k,n,p), sdf(k,n,p)` donde `p` es la probabilidad de éxito y `n` el número de ensayos del experimento.\n",
        "\n",
        "asumamos que tenenos un experimento binomial de 10 intentos con probabilidad de éxito 0.5.\n",
        "\n",
        "- $P(X=5)$ se debe calcular con\n",
        "\n",
        "```python\n",
        "from scipy.stats import binom\n",
        "binom.pmf(k=5,n=10,p=0.5)\n",
        "```\n"
      ],
      "metadata": {
        "id": "9BF9dlj1Cqoy"
      }
    },
    {
      "cell_type": "code",
      "source": [
        "from scipy.stats import binom\n",
        "binom.pmf(k=5,n=10,p=0.5)"
      ],
      "metadata": {
        "colab": {
          "base_uri": "https://localhost:8080/"
        },
        "id": "nJ7hiKy7_nk1",
        "outputId": "ff22378f-7d3b-4251-f9e5-489c48ac7b1c"
      },
      "execution_count": 6,
      "outputs": [
        {
          "output_type": "execute_result",
          "data": {
            "text/plain": [
              "0.24609375000000003"
            ]
          },
          "metadata": {},
          "execution_count": 6
        }
      ]
    },
    {
      "cell_type": "markdown",
      "source": [
        "- $P(X\\leq 6)$ se debe calcular con\n",
        "\n",
        "```python\n",
        "from scipy.stats import binom\n",
        "binom.cdf(k=6,n=10,p=0.5)\n",
        "```\n"
      ],
      "metadata": {
        "id": "v_OIvONR_rln"
      }
    },
    {
      "cell_type": "code",
      "source": [
        "from scipy.stats import binom\n",
        "binom.cdf(k=6,n=10,p=0.5)"
      ],
      "metadata": {
        "colab": {
          "base_uri": "https://localhost:8080/"
        },
        "id": "kHydQau0Emtw",
        "outputId": "77a85c25-00b6-4a9c-87ab-7ad58b546ce6"
      },
      "execution_count": 4,
      "outputs": [
        {
          "output_type": "execute_result",
          "data": {
            "text/plain": [
              "0.623046875"
            ]
          },
          "metadata": {},
          "execution_count": 4
        }
      ]
    },
    {
      "cell_type": "markdown",
      "source": [
        "- $P(X\\geq 6)=1-P(X\\leq 5)$ se debe calcular con\n",
        "\n",
        "```python\n",
        "from scipy.stats import binom\n",
        "print(1-binom.cdf(k=5,n=10,p=0.5))\n",
        "print(binom.sf(k=6,n=10,p=0.5))\n",
        "```\n"
      ],
      "metadata": {
        "id": "s5D9-QwCE4gl"
      }
    },
    {
      "cell_type": "code",
      "source": [
        "#P(X>=6)\n",
        "print(1-binom.cdf(k=5,n=10,p=0.5))\n",
        "#1-P(X<=5)\n",
        "print(binom.sf(k=5,n=10,p=0.5))"
      ],
      "metadata": {
        "colab": {
          "base_uri": "https://localhost:8080/"
        },
        "id": "0AvJTW3hEoWX",
        "outputId": "47f15e80-feb2-4a5a-fe6a-15e04d44fd0e"
      },
      "execution_count": 9,
      "outputs": [
        {
          "output_type": "stream",
          "name": "stdout",
          "text": [
            "0.376953125\n",
            "0.376953125\n"
          ]
        }
      ]
    },
    {
      "cell_type": "markdown",
      "source": [
        "- $P(3\\leq X\\leq 6)=P(X\\leq 6)-P(X \\leq 2)$"
      ],
      "metadata": {
        "id": "I41sQ_SWFwrF"
      }
    },
    {
      "cell_type": "code",
      "source": [
        "binom.cdf(k=6,n=10,p=0.5)-binom.cdf(k=2,n=10,p=0.5)"
      ],
      "metadata": {
        "colab": {
          "base_uri": "https://localhost:8080/"
        },
        "id": "dS0OvhE-FfLc",
        "outputId": "c98442eb-6244-4d01-9714-22de333e031a"
      },
      "execution_count": 10,
      "outputs": [
        {
          "output_type": "execute_result",
          "data": {
            "text/plain": [
              "0.7734375"
            ]
          },
          "metadata": {},
          "execution_count": 10
        }
      ]
    },
    {
      "cell_type": "markdown",
      "source": [
        "\n",
        "## Distribución de Poisson\n",
        "\n",
        "Si $X$ es variable aleatoria que mide el \"número de eventos en un cierto intervalo de tiempo\", diremos que $X$ se distribuye como una Poisson con parámetro $\\lambda$\n",
        "\n",
        "$$X\\sim \\text{Po}(\\lambda)$$\n",
        "donde $\\lambda$ representa el número de veces que se espera que ocurra el evento durante un intervalo dado\n",
        "\n",
        "- El **dominio** de $X$ será $D_X = \\{0,1,2,\\dots\\}$\n",
        "\n",
        "- La **función de probabilidad** vendrá dada por $$f(k) = \\frac{e^{-\\lambda}\\lambda^k}{k!}$$\n",
        "\n",
        "- **Esperanza** $E(X) = \\lambda$\n",
        "- **Varianza** $Var(X) = \\lambda$\n",
        "\n",
        "- En `Python` tenemos las funciones del paquete `scipy.stats.poisson`: `pmf(k,mu), cdf(k,mu), sf(q,mu)` donde `mu` es el número esperado de eventos por unidad de tiempo de la distribución.\n",
        "\n",
        "el análisis de los cálculos de probabilidad es eqivalente a el de la distribución binomial.\n"
      ],
      "metadata": {
        "id": "MWXq-gxQGROZ"
      }
    },
    {
      "cell_type": "markdown",
      "source": [
        "## Distribución Normal\n",
        "\n",
        "La distribución normal fue presentada por primera vez por Abraham de Moivre en un artículo del año 1733, en el contexto de cierta aproximación de la distribución binomial para grandes valores de n. Su resultado fue ampliado por Laplace en su libro Teoría analítica de las probabilidades (1812), y en la actualidad se llama Teorema de De Moivre-Laplace.\n",
        "\n",
        "\n",
        "**Johann Carl Friedrich** (Brunswick, 30 de abril de 1777-Gotinga, 23 de febrero de 1855) fue un matemático, astrónomo, geodesta, y físico alemán, afirmaba haber usado el método desde 1794, lo justificó rigurosamente en 1809 asumiendo una distribución normal de los errores.\n",
        "\n",
        "El nombre de Gauss se ha asociado a esta distribución porque la usó con profusión cuando analizaba datos astronómicos y algunos autores le atribuyen un descubrimiento independiente del de De\n",
        "El nombre de \"campana\" viene de Esprit Jouffret que usó el término \"bell surface\" (superficie campana) por primera vez en 1872 para una distribución normal bivariante de componentes independientes. El nombre de \"distribución normal\" fue otorgado independientemente por Charles S. Peirce, Francis Galton y Wilhelm Lexis hacia 1875."
      ],
      "metadata": {
        "id": "jymRc8R1HaOe"
      }
    },
    {
      "cell_type": "markdown",
      "source": [
        "* La gráfica de la función de densidad tiene una forma acampanada, tiene una única moda, que coincide con su media y su mediana (aproximadamente). Lo anterior implica que es una función simétrica respecto a la media como medida de tendencia central.\n",
        "* La curva normal es asintótica al eje de las abscisas. Por ello, cualquier valor entre menos infinito e infinito es teóricamente posible.\n",
        "* La distribución Normal tiene dos parámetros, un parámetro de localización o escala $\\mu$  y otro parámetro de forma $\\sigma^2$.\n",
        "* La desviación estándar determina qué tan plana y ancha es la curva normal. Desviaciones estándar grandes corresponden a curvas más planas y más anchas, lo cual indica mayor variabilidad en los datos. A continuación se muestran dos curvas normales que tienen la misma media pero distintas desviaciones estándar\n",
        "\n",
        "Las distribuciones de probabilidad continua pueden tomar varias formas, pero un gran número de variables aleatorias observadas en la naturaleza poseen una distribución de frecuencia que tiene más o menos la forma de montículo, o bien, como diría un estadístico, es aproximadamente una distribución normal de probabilidad. La fórmula que genera esta distribución se muestra a continuación.\n",
        "$$ f(x)=\\frac{1}{\\sigma\\sqrt{2\\pi}}e^{-\\frac{(x-\\mu)^2}{2\\sigma^2}} \\text{, donde} -\\infty<x<\\infty $$\n",
        "\n",
        "$\\mu=$ media, $\\sigma=$ desviación estándar\n",
        "\n",
        "La notación adecuada para describir está variable aleatoria es:\n",
        "\n",
        "$$X\\sim N(\\mu,\\sigma)$$"
      ],
      "metadata": {
        "id": "cbS9rvg4Hkn2"
      }
    },
    {
      "cell_type": "markdown",
      "source": [
        "En el caso que la distribución normal tenga media 0 y desviación estándar 1 se denomina distribución normal estándar y su notación es:\n",
        "\n",
        "$$Z\\sim N(0,1)$$"
      ],
      "metadata": {
        "id": "f33pDOmvHux6"
      }
    },
    {
      "cell_type": "markdown",
      "source": [
        "### Ejemplo distribución Normal com media $\\mu$ y desviación $\\sigma$\n",
        "\n",
        "Estudios realizados por los estudiantes de la universidad , muestran que en el 2019, el alimento  para cerdos está normalmente distribuido, con una media de 25.5 Kg y una y una desviación estándar de 4.5 kg.\n",
        "\n",
        "1.  Calcular la probabilidad cuando un cerdo consume 30 kilogramos o menos de alimento para cerdo? $ P(X \\leq 30)$\n",
        "\n",
        "$$P(X\\leq 30)=0.8413$$\n",
        "\n",
        "\n",
        "\n",
        "```python\n",
        "from scipy.stats import norm\n",
        "norm.cdf(x=30,  loc=25.5,scale=4.5)\n",
        "```\n",
        "\n"
      ],
      "metadata": {
        "id": "12CDC2l0Hu4H"
      }
    },
    {
      "cell_type": "code",
      "source": [
        "from scipy.stats import norm\n",
        "norm.cdf(x=30,  loc=25.5,scale=4.5)"
      ],
      "metadata": {
        "colab": {
          "base_uri": "https://localhost:8080/"
        },
        "id": "2HtYrSrDGiie",
        "outputId": "275f4f15-a3ac-4423-fd0c-765f80fce130"
      },
      "execution_count": 12,
      "outputs": [
        {
          "output_type": "execute_result",
          "data": {
            "text/plain": [
              "0.8413447460685429"
            ]
          },
          "metadata": {},
          "execution_count": 12
        }
      ]
    },
    {
      "cell_type": "markdown",
      "source": [
        "2. Calcular la probabilidad cuando un cerdo consume 23 kilogramos o más de alimento para cerdo? $P(X\\geq 23)$\n",
        "\n",
        "\n",
        "$$P(X\\geq 23)=1-P(Z\\leq 23)=1-0.2893=0.7107$$"
      ],
      "metadata": {
        "id": "e5UQc2KGIt-S"
      }
    },
    {
      "cell_type": "code",
      "source": [
        "print(1-norm.cdf(x=23,  loc=25.5,scale=4.5))\n",
        "print(norm.sf(x=23,loc=25.5,scale=4.5))"
      ],
      "metadata": {
        "colab": {
          "base_uri": "https://localhost:8080/"
        },
        "id": "AkFb-YSxIjJy",
        "outputId": "929ddd72-b3b7-43de-a91b-f6855e5f6767"
      },
      "execution_count": 14,
      "outputs": [
        {
          "output_type": "stream",
          "name": "stdout",
          "text": [
            "0.7107426392460281\n",
            "0.7107426392460281\n"
          ]
        }
      ]
    },
    {
      "cell_type": "markdown",
      "source": [
        "3.  Calcular la probabilidad cuando un cerdo consume entre 10 y 30 (incluidos)  kilogramos de alimento para cerdo? $ P(10≤X≤30)$\n",
        "\n",
        "\\begin{equation*}\n",
        "\\begin{split}\n",
        "P(10 \\leq X\\leq 30)&= P(X\\leq 30-P(X\\leq 10)\\\\\n",
        "&=0.8413-0.0003=0.841\n",
        "\\end{split}\n",
        "\\end{equation*}"
      ],
      "metadata": {
        "id": "Rk4LZZ7LJQG-"
      }
    },
    {
      "cell_type": "code",
      "source": [
        "norm.cdf(x=30,  loc=25.5,scale=4.5)-norm.cdf(x=10,  loc=25.5,scale=4.5)"
      ],
      "metadata": {
        "colab": {
          "base_uri": "https://localhost:8080/"
        },
        "id": "jjBzCFsYI5TZ",
        "outputId": "78244e44-bc03-44f2-9db8-1eac2012da34"
      },
      "execution_count": 16,
      "outputs": [
        {
          "output_type": "execute_result",
          "data": {
            "text/plain": [
              "0.8410586289586734"
            ]
          },
          "metadata": {},
          "execution_count": 16
        }
      ]
    },
    {
      "cell_type": "markdown",
      "source": [
        "## Ejercicios\n",
        "\n",
        "1. Los archivos demuestran que el 10 % de los pacientes de una clínica no cumple con el pago de sus cuentas. Suponga que se toma una muestra aleatoria de esta población de tamaño 15. Halle la probabilidad de que:\n",
        "\n",
        "a) Todas las cuentas de los pacientes tengan que ser condonadas.\n",
        "\n",
        "b) Al menos tres cuentas tengan que ser condonadas.\n",
        "\n",
        "c) A lo sumo cuatro tengan que ser condonadas.\n",
        "\n",
        "d) ¿Cuántas cuentas se espera que sean condonadas?\n",
        "\n",
        "2. Un estudiante responde al azar un examen que consta de 10 preguntas de selección múltiple, cada una con cinco opciones. Si cada punto tiene el mismo valor y se aprueba con 6 o más respuestas correctas, ¿cuál es la probabilidad de que el estudiante apruebe el examen?\n",
        "\n",
        "\n",
        "3. Una organización de interés público contrata estudiantes para pedir donaciones por teléfono. Tras un breve periodo de formación, los estudiantes llaman a posibles donantes y cobran a comisión. La experiencia indica que al principio los estudiantes tienden a tener poco éxito y que el 70 % deja el trabajo a las dos semanas. La organización contrata seis estudiantes, al azar.\n",
        "\n",
        "a) ¿Cuál es la probabilidad de que al menos dos estudiantes dejen el trabajo en las dos primeras semanas?\n",
        "\n",
        "b) ¿Cuál es la probabilidad de que al menos dos estudiantes no dejen el trabajo en las dos primeras semanas?\n",
        "\n",
        "4. Propenso a accidentes Los padres preocupados porque sus hijos son “propensos a accidentes” pueden estar tranquilos, de acuerdo a un estudio realizado por el Departamento de Pediatría de la Universidad de California, San Francisco. Los niños que se lesionan dos o más veces tienden a sufrir estas lesiones durante un tiempo relativamente limitado, por lo general un año o menos. Si el número promedio de lesiones por año para niños en edad escolar es de dos, ¿cuáles son las probabilidades de estos eventos?\n",
        "\n",
        "a) Un niño sufrirá dos lesiones durante el año.\n",
        "\n",
        "b) Un niño sufrirá dos o más lesiones durante el año.\n",
        "\n",
        "c) Un niño sufrirá a lo sumo una lesión durante el año.\n",
        "\n",
        " 5. Cuidados intensivos El número x de personas ingresadas a una unidad de cuidados intensivos en un hospital particular, en un día, tiene una distribución de probabilidad de Poisson con media igual a cinco personas por día.\n",
        "\n",
        "a) ¿Cuál es la probabilidad de que el número de personas ingresadas a una unidad de cuidados intensivos en un hospital particular, en un día particular, sea dos?\n",
        "\n",
        "b) ¿Menor o igual a dos?\n",
        "\n",
        "c) ¿Es probable que x exceda de 10? Explique\n",
        "\n",
        "6. Un modelo para competencia. de plantas supone que hay una zona de agotamiento de recursos alrededor de la semilla de cada planta. Dependiendo del tamaño de las zonas y la densidad de las plantas, las zonas de agotamiento de recursos pueden traslaparse con las de otras semillas de la cercanía. Cuando las semillas se dispersan al azar en una superficie amplia, el número de vecinas que una semilla pueda tener por lo general sigue una distribución Poisson con una media (λ=12,3) por unidad de área. Suponga que la densidad de semillas es cuatro por metro cuadrado (m2).\n",
        "\n",
        "a) ¿Cuál es la probabilidad de que una semilla determinada no tenga vecinos dentro de 1 metro cuadrado? P(x = 0).\n",
        "\n",
        "b) ¿Cuál es la probabilidad de que una semilla tenga a lo sumo tres vecinas por metro cuadrado? P(x<3)\n",
        "\n",
        "c) ¿Cuál es la probabilidad de que una semilla tenga cinco o más vecinas por metro cuadrado? P(x≤5)\n",
        "\n",
        "7. Supongamos que el número de imperfecciones en un alambre delgado de cobre sigue una distribución Poisson con una media de 2.4 imperfecciones por milímetro.\n",
        "\n",
        "a) Determine la probabilidad de 2 imperfecciones en un milímetro de alambre.\n",
        "\n",
        "b) Determine la probabilidad de 10 imperfecciones en 5 milímetros de alambre.\n",
        "\n",
        "c) Determine la probabilidad de al menos una imperfección en 2 mm de alambre\n",
        "\n",
        "8. Un estudio reciente con respecto a salarios por hora de integrantes de equipos de mantenimiento de las aerolíneas más importantes demostró que el salario medio por hora era de $\\$20.50$, con\n",
        "una desviación estándar de $\\$3.50$. Suponga que la distribución de los salarios por hora es una distribución de probabilidad normal. Si elige un integrante de un equipo al azar, ¿cuál es la probabilidad de que gane:\n",
        "\n",
        "a)  entre $\\$20.50$ y $\\$24.00$ la hora?\n",
        "\n",
        "b)  más de $\\$24.00$ la hora?\n",
        "\n",
        "c)  menos de $\\$19.00$ la hora?\n",
        "\n",
        "9. Una mujer escribió a Dear Abby y afirmó haber dado\n",
        "a luz 308 días después de una visita de su esposo, quien estaba en la Marina.\n",
        "\n",
        "La duración de los embarazos tiene una media de 268 días y una desviación estándar de 15 días. ¿Esta duración esinfrecuente? ¿Qué concluye usted?"
      ],
      "metadata": {
        "id": "e6bHyRSuKGMM"
      }
    },
    {
      "cell_type": "markdown",
      "source": [
        "## Cuantiles\n",
        "\n",
        "Un cuantil de una distribución de probabilidad es el valor de la variable aleatoria que limita cierta probabilidad en esa distribución. Por ejemplo, decimos que $z_{0.975} = 1,96$ es el cuantil 0,975 de la distribución Normal estandarizada, porque\n",
        "\n",
        "$$ P(Z\\leq 1.96)=0.975$$\n",
        "En general, denotamos mediante un subíndice $z_\\alpha$ al cuantil $\\alpha$, es decir, al valor de una variable Normal estandarizada que limita una probabilidad a, de modo que:\n",
        "$P(Z\\leq Z_{\\alpha})=\\alpha$\n",
        "### Ejemplo\n",
        "\n",
        "$Z_{0.99}=2.33$\n",
        "```python\n",
        "from scipy.stats import norm\n",
        "\n",
        "norm.ppf(0.99)\n",
        "```\n",
        "\n",
        "\n",
        "$Z_{0.9}=1.28$\n",
        "```python\n",
        "from scipy.stats import norm\n",
        "\n",
        "norm.ppf(0.9)\n",
        "```\n",
        "$Z_{0.05}=-1.645$\n",
        "```python\n",
        "from scipy.stats import norm\n",
        "\n",
        "norm.ppf(0.5)\n",
        "```\n",
        "### Ejemplo 2 Pesos al nacer.\n",
        "\n",
        "En Estados Unidos, los pesos al nacer se distribuyen normalmente,\n",
        "con una media de 3420 g y una desviación estándar de 495 g. Si un hospital planea establecer condiciones especiales de observación para el 2% de los bebés menos pesados, ¿qué peso se utilizaría para establecer un punto de corte que separe al 2% de los\n",
        "bebés menos pesados de los demás?\n",
        "\n",
        "$P(X\\leq x_{0.02})=0.02$\n",
        "\n",
        "\n",
        "\n",
        "\n",
        "\n",
        "\n",
        "```python\n",
        "from scipy.stats import norm\n",
        "\n",
        "norm.ppf(0.02,3420,495)\n",
        "```\n",
        "\n",
        "\n",
        "\n",
        "## Ejercicios parte 2\n",
        "### Ejercicios Temperaturas corporales.\n",
        "Suponga que las temperaturas corporales humanas se distribuyen normalmente, con una media de 98.20°F y una desviación estándar de 0.62°F.\n",
        "\n",
        "a. El hospital Bellevue en la ciudad de Nueva York establece que la temperatura más\n",
        "\n",
        "baja considerada como fiebre es de 100.6°F. ¿Qué porcentaje de personas normales y saludables se consideraría que tienen fiebre? ¿Sugiere este porcentaje que un punto de corte de 100.6°F es apropiado?\n",
        "\n",
        "b. Los médicos desean seleccionar una temperatura mínima como requisito para solicitar más exámenes médicos. ¿Cuál debe ser esa temperatura, si deseamos que sólo el 5.0% de las personas saludables la excedan? (Un resultado como éste es un falso positivo, lo que significa que el resultado de la prueba es positivo, pero el sujeto no está\n",
        "realmente enfermo).\n",
        "\n",
        "###  Ejercicio parte 2\n",
        "\n",
        "La duración de los embarazos se distribuye normalmente,\n",
        "con una media de 268 días y una desviación estándar de 15 días.\n",
        "\n",
        "1. Si estipulamos que un bebé es prematuro cuando la duración del embarazo se encuentra en el 4% inferior, calcule la duración que separa a los bebés prematuros de aquellos que no lo son. Los bebés prematuros suelen requerir cuidados especiales y este resultado podría ser útil para que los administradores de hospitales planeen esos cuidados"
      ],
      "metadata": {
        "id": "Xdw1JsDvMA17"
      }
    },
    {
      "cell_type": "code",
      "source": [],
      "metadata": {
        "id": "Yn10gRsJLj6H"
      },
      "execution_count": null,
      "outputs": []
    }
  ]
}