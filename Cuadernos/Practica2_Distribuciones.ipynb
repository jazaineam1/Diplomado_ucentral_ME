{
  "nbformat": 4,
  "nbformat_minor": 0,
  "metadata": {
    "colab": {
      "provenance": []
    },
    "kernelspec": {
      "name": "python3",
      "display_name": "Python 3"
    },
    "language_info": {
      "name": "python"
    }
  },
  "cells": [
    {
      "cell_type": "markdown",
      "source": [
        "| ![Julio Zainea](https://raw.githubusercontent.com/Izainea/Izainea.github.io/master/logo.png) | Curso de Introducción a la Analítica de Datos | Julio Zainea |\n",
        "|:---:|:---:|:---:|"
      ],
      "metadata": {
        "id": "2ome5jF__hhr"
      }
    },
    {
      "cell_type": "markdown",
      "source": [
        "# Aplicaciones y ejercicios de distribucion binomial, poisson y normal"
      ],
      "metadata": {
        "id": "wNhlt2p8_xU3"
      }
    },
    {
      "cell_type": "markdown",
      "source": [
        "Antes de iniciar vamos a recordar algunos conseptos necesarios para el desarrollode este cuadernillo.\n",
        "\n",
        "\n",
        "\n"
      ],
      "metadata": {
        "id": "7Vd5o_uB_9Fy"
      }
    },
    {
      "cell_type": "markdown",
      "source": [
        "## Distribución Binomial\n",
        "\n",
        "Si $X$ es variable aleatoria que mide el \"número de éxitos\" y se realizan $n$ ensayos de Bernoulli independientes entre sí, diremos que $X$ se distribuye como una Binomial con parámetros $n$ y $p$\n",
        "\n",
        "$$X\\sim \\text{B}(n,p)$$\n",
        "\n",
        "donde $p$ es la probabilidad de éxito y $q = 1-p$ es la probabilidad de fracaso\n",
        "\n",
        "- El **dominio** de $X$ será $D_X = \\{0,1,2,\\dots,n\\}$\n",
        "- La **función de probabilidad** vendrá dada por $$f(k) = {n\\choose k}p^k(1-p)^{n-k} $$\n",
        "\n",
        "- **Esperanza** $E(X) = np$\n",
        "- **Varianza** $Var(X) = np(1-p)$\n",
        "\n",
        "- En `Python` tenemos las funciones del paquete `scipy.stats.binom`: `pmf(k,n,p), cdf(k,n,p), sdf(k,n,p)` donde `p` es la probabilidad de éxito y `n` el número de ensayos del experimento.\n",
        "\n",
        "asumamos que tenenos un experimento binomial de 10 intentos con probabilidad de éxito 0.5.\n",
        "\n",
        "- $P(X=5)$ se debe calcular con\n",
        "\n",
        "```python\n",
        "from scipy.stats import binom\n",
        "binom.pmf(k=5,n=10,p=0.5)\n",
        "```\n"
      ],
      "metadata": {
        "id": "9BF9dlj1Cqoy"
      }
    },
    {
      "cell_type": "code",
      "source": [
        "from scipy.stats import binom\n",
        "binom.pmf(k=5,n=10,p=0.5)"
      ],
      "metadata": {
        "colab": {
          "base_uri": "https://localhost:8080/"
        },
        "id": "nJ7hiKy7_nk1",
        "outputId": "ff22378f-7d3b-4251-f9e5-489c48ac7b1c"
      },
      "execution_count": 6,
      "outputs": [
        {
          "output_type": "execute_result",
          "data": {
            "text/plain": [
              "0.24609375000000003"
            ]
          },
          "metadata": {},
          "execution_count": 6
        }
      ]
    },
    {
      "cell_type": "markdown",
      "source": [
        "- $P(X\\leq 6)$ se debe calcular con\n",
        "\n",
        "```python\n",
        "from scipy.stats import binom\n",
        "binom.cdf(k=6,n=10,p=0.5)\n",
        "```\n"
      ],
      "metadata": {
        "id": "v_OIvONR_rln"
      }
    },
    {
      "cell_type": "code",
      "source": [
        "from scipy.stats import binom\n",
        "binom.cdf(k=5,n=10,p=0.5)"
      ],
      "metadata": {
        "colab": {
          "base_uri": "https://localhost:8080/"
        },
        "id": "kHydQau0Emtw",
        "outputId": "ee4c3a98-abdd-45f0-950e-fd0bd4074e24"
      },
      "execution_count": 21,
      "outputs": [
        {
          "output_type": "execute_result",
          "data": {
            "text/plain": [
              "0.623046875"
            ]
          },
          "metadata": {},
          "execution_count": 21
        }
      ]
    },
    {
      "cell_type": "markdown",
      "source": [
        "- $P(X\\geq 6)=1-P(X\\leq 5)$ se debe calcular con\n",
        "\n",
        "```python\n",
        "from scipy.stats import binom\n",
        "print(1-binom.cdf(k=5,n=10,p=0.5))\n",
        "print(binom.sf(k=6,n=10,p=0.5))\n",
        "```\n"
      ],
      "metadata": {
        "id": "s5D9-QwCE4gl"
      }
    },
    {
      "cell_type": "code",
      "source": [
        "#1-P(X<=5)\n",
        "print(1-binom.cdf(k=5,n=10,p=0.5))\n",
        "\n",
        "#P(X>=6)\n",
        "print(binom.sf(k=5,n=10,p=0.5))"
      ],
      "metadata": {
        "colab": {
          "base_uri": "https://localhost:8080/"
        },
        "id": "0AvJTW3hEoWX",
        "outputId": "24181c11-1671-4dc7-dad8-3cc7fd72795d"
      },
      "execution_count": 19,
      "outputs": [
        {
          "output_type": "stream",
          "name": "stdout",
          "text": [
            "0.376953125\n",
            "0.376953125\n"
          ]
        }
      ]
    },
    {
      "cell_type": "markdown",
      "source": [
        "- $P(3\\leq X\\leq 6)=P(X\\leq 6)-P(X \\leq 2)$"
      ],
      "metadata": {
        "id": "I41sQ_SWFwrF"
      }
    },
    {
      "cell_type": "code",
      "source": [
        "binom.cdf(k=6,n=10,p=0.5)-binom.cdf(k=2,n=10,p=0.5)"
      ],
      "metadata": {
        "colab": {
          "base_uri": "https://localhost:8080/"
        },
        "id": "dS0OvhE-FfLc",
        "outputId": "c98442eb-6244-4d01-9714-22de333e031a"
      },
      "execution_count": 10,
      "outputs": [
        {
          "output_type": "execute_result",
          "data": {
            "text/plain": [
              "0.7734375"
            ]
          },
          "metadata": {},
          "execution_count": 10
        }
      ]
    },
    {
      "cell_type": "markdown",
      "source": [
        "\n",
        "## Distribución de Poisson\n",
        "\n",
        "Si $X$ es variable aleatoria que mide el \"número de eventos en un cierto intervalo de tiempo\", diremos que $X$ se distribuye como una Poisson con parámetro $\\lambda$\n",
        "\n",
        "$$X\\sim \\text{Po}(\\lambda)$$\n",
        "donde $\\lambda$ representa el número de veces que se espera que ocurra el evento durante un intervalo dado\n",
        "\n",
        "- El **dominio** de $X$ será $D_X = \\{0,1,2,\\dots\\}$\n",
        "\n",
        "- La **función de probabilidad** vendrá dada por $$f(k) = \\frac{e^{-\\lambda}\\lambda^k}{k!}$$\n",
        "\n",
        "- **Esperanza** $E(X) = \\lambda$\n",
        "- **Varianza** $Var(X) = \\lambda$\n",
        "\n",
        "- En `Python` tenemos las funciones del paquete `scipy.stats.poisson`: `pmf(k,mu), cdf(k,mu), sf(q,mu)` donde `mu` es el número esperado de eventos por unidad de tiempo de la distribución.\n",
        "\n",
        "el análisis de los cálculos de probabilidad es eqivalente a el de la distribución binomial.\n"
      ],
      "metadata": {
        "id": "MWXq-gxQGROZ"
      }
    },
    {
      "cell_type": "markdown",
      "source": [
        "Propenso a accidentes Los padres preocupados porque sus hijos son “propensos a accidentes” pueden estar tranquilos, de acuerdo a un estudio realizado por el Departamento de Pediatría de la Universidad de California, San Francisco. Los niños que se lesionan dos o más veces tienden a sufrir estas lesiones durante un tiempo relativamente limitado, por lo general un año o menos. Si el número promedio de lesiones por año para niños en edad escolar es de dos, ¿cuáles son las probabilidades de estos eventos?\n",
        "\n",
        "a) Un niño sufrirá dos lesiones durante el año.\n",
        "\n",
        "b) Un niño sufrirá dos o más lesiones durante el año.\n",
        "\n",
        "c) Un niño sufrirá a lo sumo una lesión durante el año."
      ],
      "metadata": {
        "id": "9mRvtBiuew7M"
      }
    },
    {
      "cell_type": "markdown",
      "source": [
        "$$X\\sim Pois(\\lambda=2 \\text{ por año})$$\n",
        "X:=# de lesiones que sufre un niño al año\n",
        "\n",
        "$P(X=2)$"
      ],
      "metadata": {
        "id": "D88NQzzQfLmr"
      }
    },
    {
      "cell_type": "code",
      "source": [
        "from scipy.stats import poisson\n",
        "poisson.pmf(k=2,mu=2)"
      ],
      "metadata": {
        "colab": {
          "base_uri": "https://localhost:8080/"
        },
        "id": "Ss-0SIE-evhP",
        "outputId": "e093e4b5-6def-4307-d946-2f5f4e08bd1a"
      },
      "execution_count": 22,
      "outputs": [
        {
          "output_type": "execute_result",
          "data": {
            "text/plain": [
              "0.2706705664732254"
            ]
          },
          "metadata": {},
          "execution_count": 22
        }
      ]
    },
    {
      "cell_type": "markdown",
      "source": [
        "$P(X\\geq 2)=1-P(X\\leq 1)$"
      ],
      "metadata": {
        "id": "zkovSjqrhR-W"
      }
    },
    {
      "cell_type": "code",
      "source": [
        "1-poisson.cdf(k=1,mu=2)"
      ],
      "metadata": {
        "colab": {
          "base_uri": "https://localhost:8080/"
        },
        "id": "0g0pNKJBhoWo",
        "outputId": "a7ebb8ec-4ae5-46ec-b85c-3c56e00ec881"
      },
      "execution_count": 23,
      "outputs": [
        {
          "output_type": "execute_result",
          "data": {
            "text/plain": [
              "0.593994150290162"
            ]
          },
          "metadata": {},
          "execution_count": 23
        }
      ]
    },
    {
      "cell_type": "markdown",
      "source": [
        "$P(X\\leq 1)$"
      ],
      "metadata": {
        "id": "9XCQo3tph8Ga"
      }
    },
    {
      "cell_type": "code",
      "source": [
        "poisson.cdf(1,2)"
      ],
      "metadata": {
        "colab": {
          "base_uri": "https://localhost:8080/"
        },
        "id": "RO_xcJDeh67C",
        "outputId": "b99cf35b-8d21-4d33-c33a-82521659fa8d"
      },
      "execution_count": 24,
      "outputs": [
        {
          "output_type": "execute_result",
          "data": {
            "text/plain": [
              "0.40600584970983794"
            ]
          },
          "metadata": {},
          "execution_count": 24
        }
      ]
    },
    {
      "cell_type": "markdown",
      "source": [
        "## Distribución Normal\n",
        "\n",
        "La distribución normal fue presentada por primera vez por Abraham de Moivre en un artículo del año 1733, en el contexto de cierta aproximación de la distribución binomial para grandes valores de n. Su resultado fue ampliado por Laplace en su libro Teoría analítica de las probabilidades (1812), y en la actualidad se llama Teorema de De Moivre-Laplace.\n",
        "\n",
        "\n",
        "**Johann Carl Friedrich** (Brunswick, 30 de abril de 1777-Gotinga, 23 de febrero de 1855) fue un matemático, astrónomo, geodesta, y físico alemán, afirmaba haber usado el método desde 1794, lo justificó rigurosamente en 1809 asumiendo una distribución normal de los errores.\n",
        "\n",
        "El nombre de Gauss se ha asociado a esta distribución porque la usó con profusión cuando analizaba datos astronómicos y algunos autores le atribuyen un descubrimiento independiente del de De\n",
        "El nombre de \"campana\" viene de Esprit Jouffret que usó el término \"bell surface\" (superficie campana) por primera vez en 1872 para una distribución normal bivariante de componentes independientes. El nombre de \"distribución normal\" fue otorgado independientemente por Charles S. Peirce, Francis Galton y Wilhelm Lexis hacia 1875."
      ],
      "metadata": {
        "id": "jymRc8R1HaOe"
      }
    },
    {
      "cell_type": "markdown",
      "source": [
        "* La gráfica de la función de densidad tiene una forma acampanada, tiene una única moda, que coincide con su media y su mediana (aproximadamente). Lo anterior implica que es una función simétrica respecto a la media como medida de tendencia central.\n",
        "* La curva normal es asintótica al eje de las abscisas. Por ello, cualquier valor entre menos infinito e infinito es teóricamente posible.\n",
        "* La distribución Normal tiene dos parámetros, un parámetro de localización o escala $\\mu$  y otro parámetro de forma $\\sigma^2$.\n",
        "* La desviación estándar determina qué tan plana y ancha es la curva normal. Desviaciones estándar grandes corresponden a curvas más planas y más anchas, lo cual indica mayor variabilidad en los datos. A continuación se muestran dos curvas normales que tienen la misma media pero distintas desviaciones estándar\n",
        "\n",
        "Las distribuciones de probabilidad continua pueden tomar varias formas, pero un gran número de variables aleatorias observadas en la naturaleza poseen una distribución de frecuencia que tiene más o menos la forma de montículo, o bien, como diría un estadístico, es aproximadamente una distribución normal de probabilidad. La fórmula que genera esta distribución se muestra a continuación.\n",
        "$$ f(x)=\\frac{1}{\\sigma\\sqrt{2\\pi}}e^{-\\frac{(x-\\mu)^2}{2\\sigma^2}} \\text{, donde} -\\infty<x<\\infty $$\n",
        "\n",
        "$\\mu=$ media, $\\sigma=$ desviación estándar\n",
        "\n",
        "La notación adecuada para describir está variable aleatoria es:\n",
        "\n",
        "$$X\\sim N(\\mu,\\sigma)$$"
      ],
      "metadata": {
        "id": "cbS9rvg4Hkn2"
      }
    },
    {
      "cell_type": "markdown",
      "source": [
        "En el caso que la distribución normal tenga media 0 y desviación estándar 1 se denomina distribución normal estándar y su notación es:\n",
        "\n",
        "$$Z\\sim N(0,1)$$"
      ],
      "metadata": {
        "id": "f33pDOmvHux6"
      }
    },
    {
      "cell_type": "markdown",
      "source": [
        "$P(Z<-3)$"
      ],
      "metadata": {
        "id": "ZuTSXKS1kHgs"
      }
    },
    {
      "cell_type": "code",
      "source": [
        "from scipy.stats import norm\n",
        "norm.cdf(-3)"
      ],
      "metadata": {
        "colab": {
          "base_uri": "https://localhost:8080/"
        },
        "id": "LJUEMRT8jsOI",
        "outputId": "61b47891-b2d7-4c8c-cb7f-13f33d884142"
      },
      "execution_count": 25,
      "outputs": [
        {
          "output_type": "execute_result",
          "data": {
            "text/plain": [
              "0.0013498980316300933"
            ]
          },
          "metadata": {},
          "execution_count": 25
        }
      ]
    },
    {
      "cell_type": "markdown",
      "source": [
        "$P(Z>3)$"
      ],
      "metadata": {
        "id": "EADAlUYykQMH"
      }
    },
    {
      "cell_type": "code",
      "source": [
        "norm.sf(3)"
      ],
      "metadata": {
        "colab": {
          "base_uri": "https://localhost:8080/"
        },
        "id": "mwr6qeMdkW_u",
        "outputId": "837c0d2d-c8c5-41b3-dfee-8292d742c873"
      },
      "execution_count": 26,
      "outputs": [
        {
          "output_type": "execute_result",
          "data": {
            "text/plain": [
              "0.0013498980316300933"
            ]
          },
          "metadata": {},
          "execution_count": 26
        }
      ]
    },
    {
      "cell_type": "markdown",
      "source": [
        "$$Z=\\frac{x_i-\\bar{X}}{S}\\sim N(0,1)$$"
      ],
      "metadata": {
        "id": "uu3ag8OvksnN"
      }
    },
    {
      "cell_type": "code",
      "source": [
        "import numpy as np\n",
        "import pandas as pd\n",
        "\n",
        "np.random.seed(1)\n",
        "\n",
        "edades=np.random.normal(loc=28,scale=2,size=1000)\n",
        "df=pd.DataFrame({\"Edades\":edades})\n",
        "media=df.Edades.mean();print(\"La media es:\",media)\n",
        "desv=df.Edades.std();print(\"La desviación estándar es:\",desv)"
      ],
      "metadata": {
        "colab": {
          "base_uri": "https://localhost:8080/"
        },
        "id": "IFpKxm-rlziz",
        "outputId": "269b610d-8a25-485d-fd8b-8aab61a5f201"
      },
      "execution_count": 50,
      "outputs": [
        {
          "output_type": "stream",
          "name": "stdout",
          "text": [
            "La media es: 28.0776249523192\n",
            "La desviación estándar es: 1.9629900083651204\n"
          ]
        }
      ]
    },
    {
      "cell_type": "code",
      "source": [
        "df[\"Puntaje Z\"]=(df.Edades-media)/desv\n",
        "df.sort_values(by='Puntaje Z')"
      ],
      "metadata": {
        "colab": {
          "base_uri": "https://localhost:8080/",
          "height": 423
        },
        "id": "9Fn8LjU6nzhR",
        "outputId": "bfcdcbfd-dbba-4c80-8f68-02e657c5954b"
      },
      "execution_count": 51,
      "outputs": [
        {
          "output_type": "execute_result",
          "data": {
            "text/plain": [
              "        Edades  Puntaje Z\n",
              "892  21.892471  -3.150884\n",
              "252  22.413830  -2.885290\n",
              "661  22.418007  -2.883162\n",
              "367  22.434931  -2.874540\n",
              "738  22.603277  -2.788781\n",
              "..         ...        ...\n",
              "683  33.011961   2.513684\n",
              "172  33.056651   2.536450\n",
              "314  34.061714   3.048456\n",
              "732  34.642158   3.344150\n",
              "565  35.917205   3.993694\n",
              "\n",
              "[1000 rows x 2 columns]"
            ],
            "text/html": [
              "\n",
              "  <div id=\"df-e041e655-ac10-4d47-973e-e6142373833b\">\n",
              "    <div class=\"colab-df-container\">\n",
              "      <div>\n",
              "<style scoped>\n",
              "    .dataframe tbody tr th:only-of-type {\n",
              "        vertical-align: middle;\n",
              "    }\n",
              "\n",
              "    .dataframe tbody tr th {\n",
              "        vertical-align: top;\n",
              "    }\n",
              "\n",
              "    .dataframe thead th {\n",
              "        text-align: right;\n",
              "    }\n",
              "</style>\n",
              "<table border=\"1\" class=\"dataframe\">\n",
              "  <thead>\n",
              "    <tr style=\"text-align: right;\">\n",
              "      <th></th>\n",
              "      <th>Edades</th>\n",
              "      <th>Puntaje Z</th>\n",
              "    </tr>\n",
              "  </thead>\n",
              "  <tbody>\n",
              "    <tr>\n",
              "      <th>892</th>\n",
              "      <td>21.892471</td>\n",
              "      <td>-3.150884</td>\n",
              "    </tr>\n",
              "    <tr>\n",
              "      <th>252</th>\n",
              "      <td>22.413830</td>\n",
              "      <td>-2.885290</td>\n",
              "    </tr>\n",
              "    <tr>\n",
              "      <th>661</th>\n",
              "      <td>22.418007</td>\n",
              "      <td>-2.883162</td>\n",
              "    </tr>\n",
              "    <tr>\n",
              "      <th>367</th>\n",
              "      <td>22.434931</td>\n",
              "      <td>-2.874540</td>\n",
              "    </tr>\n",
              "    <tr>\n",
              "      <th>738</th>\n",
              "      <td>22.603277</td>\n",
              "      <td>-2.788781</td>\n",
              "    </tr>\n",
              "    <tr>\n",
              "      <th>...</th>\n",
              "      <td>...</td>\n",
              "      <td>...</td>\n",
              "    </tr>\n",
              "    <tr>\n",
              "      <th>683</th>\n",
              "      <td>33.011961</td>\n",
              "      <td>2.513684</td>\n",
              "    </tr>\n",
              "    <tr>\n",
              "      <th>172</th>\n",
              "      <td>33.056651</td>\n",
              "      <td>2.536450</td>\n",
              "    </tr>\n",
              "    <tr>\n",
              "      <th>314</th>\n",
              "      <td>34.061714</td>\n",
              "      <td>3.048456</td>\n",
              "    </tr>\n",
              "    <tr>\n",
              "      <th>732</th>\n",
              "      <td>34.642158</td>\n",
              "      <td>3.344150</td>\n",
              "    </tr>\n",
              "    <tr>\n",
              "      <th>565</th>\n",
              "      <td>35.917205</td>\n",
              "      <td>3.993694</td>\n",
              "    </tr>\n",
              "  </tbody>\n",
              "</table>\n",
              "<p>1000 rows × 2 columns</p>\n",
              "</div>\n",
              "      <button class=\"colab-df-convert\" onclick=\"convertToInteractive('df-e041e655-ac10-4d47-973e-e6142373833b')\"\n",
              "              title=\"Convert this dataframe to an interactive table.\"\n",
              "              style=\"display:none;\">\n",
              "        \n",
              "  <svg xmlns=\"http://www.w3.org/2000/svg\" height=\"24px\"viewBox=\"0 0 24 24\"\n",
              "       width=\"24px\">\n",
              "    <path d=\"M0 0h24v24H0V0z\" fill=\"none\"/>\n",
              "    <path d=\"M18.56 5.44l.94 2.06.94-2.06 2.06-.94-2.06-.94-.94-2.06-.94 2.06-2.06.94zm-11 1L8.5 8.5l.94-2.06 2.06-.94-2.06-.94L8.5 2.5l-.94 2.06-2.06.94zm10 10l.94 2.06.94-2.06 2.06-.94-2.06-.94-.94-2.06-.94 2.06-2.06.94z\"/><path d=\"M17.41 7.96l-1.37-1.37c-.4-.4-.92-.59-1.43-.59-.52 0-1.04.2-1.43.59L10.3 9.45l-7.72 7.72c-.78.78-.78 2.05 0 2.83L4 21.41c.39.39.9.59 1.41.59.51 0 1.02-.2 1.41-.59l7.78-7.78 2.81-2.81c.8-.78.8-2.07 0-2.86zM5.41 20L4 18.59l7.72-7.72 1.47 1.35L5.41 20z\"/>\n",
              "  </svg>\n",
              "      </button>\n",
              "      \n",
              "  <style>\n",
              "    .colab-df-container {\n",
              "      display:flex;\n",
              "      flex-wrap:wrap;\n",
              "      gap: 12px;\n",
              "    }\n",
              "\n",
              "    .colab-df-convert {\n",
              "      background-color: #E8F0FE;\n",
              "      border: none;\n",
              "      border-radius: 50%;\n",
              "      cursor: pointer;\n",
              "      display: none;\n",
              "      fill: #1967D2;\n",
              "      height: 32px;\n",
              "      padding: 0 0 0 0;\n",
              "      width: 32px;\n",
              "    }\n",
              "\n",
              "    .colab-df-convert:hover {\n",
              "      background-color: #E2EBFA;\n",
              "      box-shadow: 0px 1px 2px rgba(60, 64, 67, 0.3), 0px 1px 3px 1px rgba(60, 64, 67, 0.15);\n",
              "      fill: #174EA6;\n",
              "    }\n",
              "\n",
              "    [theme=dark] .colab-df-convert {\n",
              "      background-color: #3B4455;\n",
              "      fill: #D2E3FC;\n",
              "    }\n",
              "\n",
              "    [theme=dark] .colab-df-convert:hover {\n",
              "      background-color: #434B5C;\n",
              "      box-shadow: 0px 1px 3px 1px rgba(0, 0, 0, 0.15);\n",
              "      filter: drop-shadow(0px 1px 2px rgba(0, 0, 0, 0.3));\n",
              "      fill: #FFFFFF;\n",
              "    }\n",
              "  </style>\n",
              "\n",
              "      <script>\n",
              "        const buttonEl =\n",
              "          document.querySelector('#df-e041e655-ac10-4d47-973e-e6142373833b button.colab-df-convert');\n",
              "        buttonEl.style.display =\n",
              "          google.colab.kernel.accessAllowed ? 'block' : 'none';\n",
              "\n",
              "        async function convertToInteractive(key) {\n",
              "          const element = document.querySelector('#df-e041e655-ac10-4d47-973e-e6142373833b');\n",
              "          const dataTable =\n",
              "            await google.colab.kernel.invokeFunction('convertToInteractive',\n",
              "                                                     [key], {});\n",
              "          if (!dataTable) return;\n",
              "\n",
              "          const docLinkHtml = 'Like what you see? Visit the ' +\n",
              "            '<a target=\"_blank\" href=https://colab.research.google.com/notebooks/data_table.ipynb>data table notebook</a>'\n",
              "            + ' to learn more about interactive tables.';\n",
              "          element.innerHTML = '';\n",
              "          dataTable['output_type'] = 'display_data';\n",
              "          await google.colab.output.renderOutput(dataTable, element);\n",
              "          const docLink = document.createElement('div');\n",
              "          docLink.innerHTML = docLinkHtml;\n",
              "          element.appendChild(docLink);\n",
              "        }\n",
              "      </script>\n",
              "    </div>\n",
              "  </div>\n",
              "  "
            ]
          },
          "metadata": {},
          "execution_count": 51
        }
      ]
    },
    {
      "cell_type": "code",
      "source": [
        "import seaborn as sns\n",
        "sns.histplot(data=df,x='Edades')"
      ],
      "metadata": {
        "colab": {
          "base_uri": "https://localhost:8080/",
          "height": 466
        },
        "id": "bYRbk-Xjo415",
        "outputId": "8af2905e-4954-4a1b-c73d-7712218aaca4"
      },
      "execution_count": 52,
      "outputs": [
        {
          "output_type": "execute_result",
          "data": {
            "text/plain": [
              "<Axes: xlabel='Edades', ylabel='Count'>"
            ]
          },
          "metadata": {},
          "execution_count": 52
        },
        {
          "output_type": "display_data",
          "data": {
            "text/plain": [
              "<Figure size 640x480 with 1 Axes>"
            ],
            "image/png": "[encoded data removed]"
          },
          "metadata": {}
        }
      ]
    },
    {
      "cell_type": "code",
      "source": [
        "df.Edades.quantile(0.40)"
      ],
      "metadata": {
        "colab": {
          "base_uri": "https://localhost:8080/"
        },
        "id": "QISFXe9100qx",
        "outputId": "f242886c-0f7d-4590-c714-b8dbeb600738"
      },
      "execution_count": 54,
      "outputs": [
        {
          "output_type": "execute_result",
          "data": {
            "text/plain": [
              "27.616194379861227"
            ]
          },
          "metadata": {},
          "execution_count": 54
        }
      ]
    },
    {
      "cell_type": "code",
      "source": [
        "df.Edades.quantile(0.8)"
      ],
      "metadata": {
        "colab": {
          "base_uri": "https://localhost:8080/"
        },
        "id": "oYDMA8D81VJx",
        "outputId": "93ad069d-8584-42f0-ee8a-71212f18e04f"
      },
      "execution_count": 59,
      "outputs": [
        {
          "output_type": "execute_result",
          "data": {
            "text/plain": [
              "29.70919988603674"
            ]
          },
          "metadata": {},
          "execution_count": 59
        }
      ]
    },
    {
      "cell_type": "code",
      "source": [
        "sns.boxplot(data=df,x='Edades')"
      ],
      "metadata": {
        "colab": {
          "base_uri": "https://localhost:8080/",
          "height": 466
        },
        "id": "MrAgp29spc9o",
        "outputId": "85067a63-0ab2-4393-9dc6-41118946243f"
      },
      "execution_count": 41,
      "outputs": [
        {
          "output_type": "execute_result",
          "data": {
            "text/plain": [
              "<Axes: xlabel='Edades'>"
            ]
          },
          "metadata": {},
          "execution_count": 41
        },
        {
          "output_type": "display_data",
          "data": {
            "text/plain": [
              "<Figure size 640x480 with 1 Axes>"
            ],
            "image/png": "[encoded data removed]"
          },
          "metadata": {}
        }
      ]
    },
    {
      "cell_type": "markdown",
      "source": [
        "### Ejemplo distribución Normal com media $\\mu$ y desviación $\\sigma$\n",
        "\n",
        "Estudios realizados por los estudiantes de la universidad , muestran que en el 2019, el alimento  para cerdos está normalmente distribuido, con una media de 25.5 Kg y una y una desviación estándar de 4.5 kg.\n",
        "\n",
        "1.  Calcular la probabilidad cuando un cerdo consume 30 kilogramos o menos de alimento para cerdo? $ P(X \\leq 30)$\n",
        "\n",
        "$$P(X\\leq 30)=P(X< 30)=0.8413$$\n",
        "\n",
        "\n",
        "\n",
        "```python\n",
        "from scipy.stats import norm\n",
        "norm.cdf(x=30,  loc=25.5,scale=4.5)\n",
        "```\n",
        "\n"
      ],
      "metadata": {
        "id": "12CDC2l0Hu4H"
      }
    },
    {
      "cell_type": "code",
      "source": [
        "from scipy.stats import norm\n",
        "norm.cdf(x=30,  loc=25.5,scale=4.5)"
      ],
      "metadata": {
        "colab": {
          "base_uri": "https://localhost:8080/"
        },
        "id": "2HtYrSrDGiie",
        "outputId": "eb797818-394d-4309-c0c9-bf0396305a5a"
      },
      "execution_count": 44,
      "outputs": [
        {
          "output_type": "execute_result",
          "data": {
            "text/plain": [
              "0.8413447460685429"
            ]
          },
          "metadata": {},
          "execution_count": 44
        }
      ]
    },
    {
      "cell_type": "markdown",
      "source": [
        "2. Calcular la probabilidad cuando un cerdo consume 23 kilogramos o más de alimento para cerdo? $P(X\\geq 23)$\n",
        "\n",
        "\n",
        "$$P(X\\geq 23)=1-P(Z\\leq 23)=1-0.2893=0.7107$$"
      ],
      "metadata": {
        "id": "e5UQc2KGIt-S"
      }
    },
    {
      "cell_type": "code",
      "source": [
        "print(1-norm.cdf(x=23,  loc=25.5,scale=4.5))\n",
        "print(norm.sf(x=23,loc=25.5,scale=4.5))"
      ],
      "metadata": {
        "colab": {
          "base_uri": "https://localhost:8080/"
        },
        "id": "AkFb-YSxIjJy",
        "outputId": "929ddd72-b3b7-43de-a91b-f6855e5f6767"
      },
      "execution_count": 14,
      "outputs": [
        {
          "output_type": "stream",
          "name": "stdout",
          "text": [
            "0.7107426392460281\n",
            "0.7107426392460281\n"
          ]
        }
      ]
    },
    {
      "cell_type": "markdown",
      "source": [
        "3.  Calcular la probabilidad cuando un cerdo consume entre 10 y 30 (incluidos)  kilogramos de alimento para cerdo? $ P(10≤X≤30)$\n",
        "\n",
        "\\begin{equation*}\n",
        "\\begin{split}\n",
        "P(10 \\leq X\\leq 30)&= P(X\\leq 30-P(X\\leq 10)\\\\\n",
        "&=0.8413-0.0003=0.841\n",
        "\\end{split}\n",
        "\\end{equation*}"
      ],
      "metadata": {
        "id": "Rk4LZZ7LJQG-"
      }
    },
    {
      "cell_type": "code",
      "source": [
        "norm.cdf(x=30,  loc=25.5,scale=4.5)-norm.cdf(x=10,  loc=25.5,scale=4.5)"
      ],
      "metadata": {
        "colab": {
          "base_uri": "https://localhost:8080/"
        },
        "id": "jjBzCFsYI5TZ",
        "outputId": "78244e44-bc03-44f2-9db8-1eac2012da34"
      },
      "execution_count": 16,
      "outputs": [
        {
          "output_type": "execute_result",
          "data": {
            "text/plain": [
              "0.8410586289586734"
            ]
          },
          "metadata": {},
          "execution_count": 16
        }
      ]
    },
    {
      "cell_type": "markdown",
      "source": [
        "## Ejercicios\n",
        "\n",
        "1. Los archivos demuestran que el 10 % de los pacientes de una clínica no cumple con el pago de sus cuentas. Suponga que se toma una muestra aleatoria de esta población de tamaño 15. Halle la probabilidad de que:\n",
        "\n",
        "a) Todas las cuentas de los pacientes tengan que ser condonadas.\n",
        "\n",
        "b) Al menos tres cuentas tengan que ser condonadas.\n",
        "\n",
        "c) A lo sumo cuatro tengan que ser condonadas.\n",
        "\n",
        "d) ¿Cuántas cuentas se espera que sean condonadas?\n",
        "\n",
        "2. Un estudiante responde al azar un examen que consta de 10 preguntas de selección múltiple, cada una con cinco opciones. Si cada punto tiene el mismo valor y se aprueba con 6 o más respuestas correctas, ¿cuál es la probabilidad de que el estudiante apruebe el examen?\n",
        "\n",
        "\n",
        "3. Una organización de interés público contrata estudiantes para pedir donaciones por teléfono. Tras un breve periodo de formación, los estudiantes llaman a posibles donantes y cobran a comisión. La experiencia indica que al principio los estudiantes tienden a tener poco éxito y que el 70 % deja el trabajo a las dos semanas. La organización contrata seis estudiantes, al azar.\n",
        "\n",
        "a) ¿Cuál es la probabilidad de que al menos dos estudiantes dejen el trabajo en las dos primeras semanas?\n",
        "\n",
        "b) ¿Cuál es la probabilidad de que al menos dos estudiantes no dejen el trabajo en las dos primeras semanas?\n",
        "\n",
        "4. Propenso a accidentes Los padres preocupados porque sus hijos son “propensos a accidentes” pueden estar tranquilos, de acuerdo a un estudio realizado por el Departamento de Pediatría de la Universidad de California, San Francisco. Los niños que se lesionan dos o más veces tienden a sufrir estas lesiones durante un tiempo relativamente limitado, por lo general un año o menos. Si el número promedio de lesiones por año para niños en edad escolar es de dos, ¿cuáles son las probabilidades de estos eventos?\n",
        "\n",
        "a) Un niño sufrirá dos lesiones durante el año.\n",
        "\n",
        "b) Un niño sufrirá dos o más lesiones durante el año.\n",
        "\n",
        "c) Un niño sufrirá a lo sumo una lesión durante el año.\n",
        "\n",
        " 5. Cuidados intensivos El número x de personas ingresadas a una unidad de cuidados intensivos en un hospital particular, en un día, tiene una distribución de probabilidad de Poisson con media igual a cinco personas por día.\n",
        "\n",
        "a) ¿Cuál es la probabilidad de que el número de personas ingresadas a una unidad de cuidados intensivos en un hospital particular, en un día particular, sea dos?\n",
        "\n",
        "b) ¿Menor o igual a dos?\n",
        "\n",
        "c) ¿Es probable que x exceda de 10? Explique\n",
        "\n",
        "6. Un modelo para competencia. de plantas supone que hay una zona de agotamiento de recursos alrededor de la semilla de cada planta. Dependiendo del tamaño de las zonas y la densidad de las plantas, las zonas de agotamiento de recursos pueden traslaparse con las de otras semillas de la cercanía. Cuando las semillas se dispersan al azar en una superficie amplia, el número de vecinas que una semilla pueda tener por lo general sigue una distribución Poisson con una media (λ=12,3) por unidad de área. Suponga que la densidad de semillas es cuatro por metro cuadrado (m2).\n",
        "\n",
        "a) ¿Cuál es la probabilidad de que una semilla determinada no tenga vecinos dentro de 1 metro cuadrado? P(x = 0).\n",
        "\n",
        "b) ¿Cuál es la probabilidad de que una semilla tenga a lo sumo tres vecinas por metro cuadrado? P(x<3)\n",
        "\n",
        "c) ¿Cuál es la probabilidad de que una semilla tenga cinco o más vecinas por metro cuadrado? P(x≤5)\n",
        "\n",
        "7. Supongamos que el número de imperfecciones en un alambre delgado de cobre sigue una distribución Poisson con una media de 2.4 imperfecciones por milímetro.\n",
        "\n",
        "a) Determine la probabilidad de 2 imperfecciones en un milímetro de alambre.\n",
        "\n",
        "b) Determine la probabilidad de 10 imperfecciones en 5 milímetros de alambre.\n",
        "\n",
        "c) Determine la probabilidad de al menos una imperfección en 2 mm de alambre\n",
        "\n",
        "8. Un estudio reciente con respecto a salarios por hora de integrantes de equipos de mantenimiento de las aerolíneas más importantes demostró que el salario medio por hora era de $\\$20.50$, con\n",
        "una desviación estándar de $\\$3.50$. Suponga que la distribución de los salarios por hora es una distribución de probabilidad normal. Si elige un integrante de un equipo al azar, ¿cuál es la probabilidad de que gane:\n",
        "\n",
        "a)  entre $\\$20.50$ y $\\$24.00$ la hora?\n",
        "\n",
        "b)  más de $\\$24.00$ la hora?\n",
        "\n",
        "c)  menos de $\\$19.00$ la hora?\n",
        "\n",
        "9. Una mujer escribió a Dear Abby y afirmó haber dado\n",
        "a luz 308 días después de una visita de su esposo, quien estaba en la Marina.\n",
        "\n",
        "La duración de los embarazos tiene una media de 268 días y una desviación estándar de 15 días. ¿Esta duración esinfrecuente? ¿Qué concluye usted?"
      ],
      "metadata": {
        "id": "e6bHyRSuKGMM"
      }
    },
    {
      "cell_type": "markdown",
      "source": [
        "## Cuantiles\n",
        "\n",
        "Un cuantil de una distribución de probabilidad es el valor de la variable aleatoria que limita cierta probabilidad en esa distribución. Por ejemplo, decimos que $z_{0.975} = 1,96$ es el cuantil 0,975 de la distribución Normal estandarizada, porque\n",
        "\n",
        "$$ P(Z\\leq 1.96)=0.975$$\n",
        "$$Z_{0.975}=1.96$$\n",
        "En general, denotamos mediante un subíndice $z_\\alpha$ al cuantil $\\alpha$, es decir, al valor de una variable Normal estandarizada que limita una probabilidad a, de modo que:\n",
        "$P(Z\\leq Z_{\\alpha})=\\alpha$\n",
        "### Ejemplo\n",
        "\n",
        "$Z_{0.99}=2.33$\n",
        "```python\n",
        "from scipy.stats import norm\n",
        "\n",
        "norm.ppf(0.99)\n",
        "```\n",
        "\n",
        "\n",
        "$Z_{0.9}=1.28$\n",
        "```python\n",
        "from scipy.stats import norm\n",
        "\n",
        "norm.ppf(0.9)\n",
        "```\n",
        "$Z_{0.05}=-1.645$\n",
        "```python\n",
        "from scipy.stats import norm\n",
        "\n",
        "norm.ppf(0.5)\n",
        "```\n",
        "### Ejemplo 2 Pesos al nacer.\n",
        "\n",
        "En Estados Unidos, los pesos al nacer se distribuyen normalmente,\n",
        "con una media de 3420 g y una desviación estándar de 495 g. Si un hospital planea establecer condiciones especiales de observación para el 2% de los bebés menos pesados, ¿qué peso se utilizaría para establecer un punto de corte que separe al 2% de los\n",
        "bebés menos pesados de los demás?\n",
        "\n",
        "$P(X\\leq x_{0.02})=0.02$\n",
        "\n",
        "\n",
        "\n",
        "\n",
        "\n",
        "\n",
        "```python\n",
        "from scipy.stats import norm\n",
        "\n",
        "norm.ppf(0.02,3420,495)\n",
        "```\n",
        "\n",
        "\n",
        "\n",
        "## Ejercicios parte 2\n",
        "\n",
        "### Ejercicios Temperaturas corporales.\n",
        "Suponga que las temperaturas corporales humanas se distribuyen normalmente, con una media de 98.20°F y una desviación estándar de 0.62°F.\n",
        "\n",
        "a. El hospital Bellevue en la ciudad de Nueva York establece que la temperatura más\n",
        "\n",
        "baja considerada como fiebre es de 100.6°F. ¿Qué porcentaje de personas normales y saludables se consideraría que tienen fiebre? ¿Sugiere este porcentaje que un punto de corte de 100.6°F es apropiado?\n",
        "\n",
        "b. Los médicos desean seleccionar una temperatura mínima como requisito para solicitar más exámenes médicos. ¿Cuál debe ser esa temperatura, si deseamos que sólo el 5.0% de las personas saludables la excedan? (Un resultado como éste es un falso positivo, lo que significa que el resultado de la prueba es positivo, pero el sujeto no está\n",
        "realmente enfermo).\n",
        "\n",
        "###  Ejercicio parte 2\n",
        "\n",
        "La duración de los embarazos se distribuye normalmente,\n",
        "con una media de 268 días y una desviación estándar de 15 días.\n",
        "\n",
        "1. Si estipulamos que un bebé es prematuro cuando la duración del embarazo se encuentra en el 4% inferior, calcule la duración que separa a los bebés prematuros de aquellos que no lo son. Los bebés prematuros suelen requerir cuidados especiales y este resultado podría ser útil para que los administradores de hospitales planeen esos cuidados"
      ],
      "metadata": {
        "id": "Xdw1JsDvMA17"
      }
    },
    {
      "cell_type": "code",
      "source": [
        "norm.ppf(0.975)"
      ],
      "metadata": {
        "colab": {
          "base_uri": "https://localhost:8080/"
        },
        "id": "9yqBN14Wx6Pr",
        "outputId": "b7e2d2b1-b5dc-4559-a22c-91db363701b3"
      },
      "execution_count": 45,
      "outputs": [
        {
          "output_type": "execute_result",
          "data": {
            "text/plain": [
              "1.959963984540054"
            ]
          },
          "metadata": {},
          "execution_count": 45
        }
      ]
    },
    {
      "cell_type": "code",
      "source": [
        "norm.cdf(1.959963984540054)"
      ],
      "metadata": {
        "colab": {
          "base_uri": "https://localhost:8080/"
        },
        "id": "kfhgq1dAlvOm",
        "outputId": "35d23ac7-fdd8-4b9f-d48f-240249eb02e3"
      },
      "execution_count": 46,
      "outputs": [
        {
          "output_type": "execute_result",
          "data": {
            "text/plain": [
              "0.975"
            ]
          },
          "metadata": {},
          "execution_count": 46
        }
      ]
    },
    {
      "cell_type": "code",
      "source": [
        "norm.ppf( q=0.02,loc=3420,scale=495)"
      ],
      "metadata": {
        "colab": {
          "base_uri": "https://localhost:8080/"
        },
        "id": "HrckBMbdx_cj",
        "outputId": "e0a06ae3-d354-4a71-cb41-327edcf55c78"
      },
      "execution_count": 48,
      "outputs": [
        {
          "output_type": "execute_result",
          "data": {
            "text/plain": [
              "2403.394289237248"
            ]
          },
          "metadata": {},
          "execution_count": 48
        }
      ]
    }
  ]
}