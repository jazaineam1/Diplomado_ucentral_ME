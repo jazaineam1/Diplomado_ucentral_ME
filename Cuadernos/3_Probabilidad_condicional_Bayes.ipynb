{
  "nbformat": 4,
  "nbformat_minor": 0,
  "metadata": {
    "colab": {
      "provenance": []
    },
    "kernelspec": {
      "name": "python3",
      "display_name": "Python 3"
    },
    "language_info": {
      "name": "python"
    }
  },
  "cells": [
    {
      "cell_type": "markdown",
      "source": [
        "\n",
        "## Clase de Probabilidad Condicional, Teorema de Bayes \n",
        "\n",
        "### 1. Introducción a la Probabilidad Condicional\n",
        "\n",
        "La probabilidad condicional nos permite calcular la probabilidad de un evento dado que otro evento ya ha ocurrido. Se denota como P(A|B), donde A y B son eventos.\n",
        "\n",
        "Ejemplo 1: Lanzamiento de una moneda y un dado\n",
        "Supongamos que lanzamos una moneda y un dado justo. Queremos calcular la probabilidad de que la moneda sea cara, dado que el número en el dado es impar.\n",
        "\n",
        "Para calcular la probabilidad condicional, utilizamos la fórmula:\n",
        "\n",
        "$P(A|B) = \\frac{P(A ∩ B)}{P(B)}$\n",
        "\n",
        "Donde $P(A ∩ B)$ representa la probabilidad de que ocurran tanto los eventos A como B.\n",
        "\n",
        "En este ejemplo, el evento A es que la moneda sea cara y el evento B es que el número en el dado sea impar.\n",
        "\n",
        "Primero, calculemos $P(B)$, la probabilidad de que el número en el dado sea impar:\n",
        "\n",
        "```python\n",
        "P_B = 3 / 6  # Hay 3 números impares en el dado de 6 caras\n",
        "```"
      ],
      "metadata": {
        "id": "F0lu2v0BxEuv"
      }
    },
    {
      "cell_type": "code",
      "source": [],
      "metadata": {
        "id": "FclBAPSXxRhY"
      },
      "execution_count": null,
      "outputs": []
    },
    {
      "cell_type": "markdown",
      "source": [
        "\n",
        "\n",
        "Ahora, calculemos P(A ∩ B), la probabilidad de que la moneda sea cara y el número en el dado sea impar:\n",
        "\n",
        "```python\n",
        "P_A_and_B = 1 / 6  # Hay 1 caso en el que la moneda es cara y el número en el dado es impar\n",
        "```"
      ],
      "metadata": {
        "id": "IGyuQA2JxPHu"
      }
    },
    {
      "cell_type": "code",
      "source": [],
      "metadata": {
        "id": "_IGYucZ8xZ-A"
      },
      "execution_count": null,
      "outputs": []
    },
    {
      "cell_type": "markdown",
      "source": [
        "\n",
        "Finalmente, podemos calcular $P(A|B)$:\n",
        "\n",
        "```python\n",
        "P_A_given_B = P_A_and_B / P_B\n",
        "```\n"
      ],
      "metadata": {
        "id": "sLgWXB2NxdFi"
      }
    },
    {
      "cell_type": "code",
      "source": [],
      "metadata": {
        "id": "UZRJz4jSxfpb"
      },
      "execution_count": null,
      "outputs": []
    },
    {
      "cell_type": "markdown",
      "source": [
        "Por lo tanto, la probabilidad de que la moneda sea cara, dado que el número en el dado es impar, es de aproximadamente 0.3333 o 33.33%.\n"
      ],
      "metadata": {
        "id": "TisLHUJ8xhj2"
      }
    },
    {
      "cell_type": "markdown",
      "source": [
        "**Ejemplo 2**\n",
        "Tengamos en cuenta la siguiente clasificaci ́on de hombres y mujeresen función de padecer o no artrosis:"
      ],
      "metadata": {
        "id": "gN_pYtLvxxwr"
      }
    },
    {
      "cell_type": "markdown",
      "source": [
        "<img src='https://github.com/jazaineam1/Diplomado_ucentral_ME/blob/main/Imagenes/ejempo.png?raw=true'>\n",
        "\n",
        "Entra en la consulta una mujer. ¿Cuál es la probabilidad de que tenga artrosis? Esto se escribe $P(A|M)$ y se calcula como siempre,como casos favorables entre posibles\n",
        "\n",
        "## Ejercicios\n",
        "\n",
        "1. En un centro de llamadas, el 60% de las llamadas son preguntas generales y el 40% son quejas. De las quejas, el 80% están relacionadas con un retraso en el envío. Si se selecciona una llamada al azar, ¿cuál es la probabilidad de que sea una queja relacionada con un retraso en el envío?\n",
        "\n",
        "2. En una fábrica, el 20% de los productos producidos son defectuosos. De los productos defectuosos, el 60% son del tipo A. Si se selecciona al azar un producto producido en la fábrica, ¿cuál es la probabilidad de que sea del tipo A, dado que es defectuoso?\n",
        "\n",
        "3. En una población, el 30% tiene el cabello rubio y el 70% tiene el cabello oscuro. De las personas con cabello rubio, el 40% tienen ojos verdes. De las personas con cabello oscuro, el 20% tienen ojos verdes. Si se selecciona una persona al azar de la población, ¿cuál es la probabilidad de que tenga ojos verdes, dado que tiene cabello oscuro?\n",
        "\n",
        "\n",
        "Revisar el problema de  Monty Hall y [acá](https://www.elconfidencial.com/alma-corazon-vida/2017-10-02/corregir-mujer-mas-lista-mundo-acertijo_1453729/)\n",
        "Leer la historia de Marylin Von Savant  y [acá](https://www3.nd.edu/~rwilliam/stats1/appendices/Monty-Marilyn.pdf)\n",
        "\n",
        "\n",
        "usar el simulador del problema [acá](https://www.math4all.es/monty-hall/simulador-monty-hall.html)"
      ],
      "metadata": {
        "id": "z0W-V8AEF4Pf"
      }
    },
    {
      "cell_type": "markdown",
      "source": [
        "\n",
        "\n",
        "# Teorema de Bayes\n",
        "\n",
        "El teorema de Bayes es un principio fundamental en la teoría de la probabilidad que describe cómo actualizar la probabilidad de un evento basándose en nueva información o evidencia. El teorema establece que la probabilidad de un evento condicionado a la ocurrencia de otro evento se puede calcular a partir de la probabilidad del evento condicionante y la probabilidad condicional inversa.\n",
        "\n",
        "En términos más simples, el teorema de Bayes nos permite actualizar nuestra creencia sobre la probabilidad de un evento dado, una vez que tenemos información adicional o evidencia sobre el evento. La fórmula del teorema de Bayes es la siguiente:\n",
        "\n",
        "$$ P(A|B) = \\frac{P(B|A) \\times P(A)}{P(B)}$$\n",
        "\n",
        "donde $P(A|B)$ es la probabilidad de que A ocurra dado que B ha ocurrido,$ P(B|A)$ es la probabilidad de que B ocurra dado que A ha ocurrido, $P(A)$ es la probabilidad inicial de que A ocurra, y $P(B)$ es la probabilidad de que B ocurra.\n",
        "\n",
        "En resumen, el teorema de Bayes es una herramienta valiosa para calcular la probabilidad condicional de eventos y es ampliamente utilizado en la estadística, la ciencia de datos y otras disciplinas para la toma de decisiones y la inferencia probabilística.\n",
        "\n",
        "\n",
        "**Ejemplo:**\n",
        "\n",
        "\n",
        "Usando la información del ejemplo 2 encuentre <img src='https://github.com/jazaineam1/Diplomado_ucentral_ME/blob/main/Imagenes/ejempo.png?raw=true'>\n",
        "\n",
        "Entra en la consulta una persona con artrosis. ¿Cuál es la probabilidad de que sea mujer ? Esto se escribe $P(M|A)$, realice el ejemplo usando la identidad de Bayes.\n"
      ],
      "metadata": {
        "id": "2v73jTZExE1v"
      }
    },
    {
      "cell_type": "markdown",
      "source": [
        "## Ejercicios\n",
        "\n",
        "1. Una enfermedad está presente en el 15% de la población. Se tiene una prueba para detectarla que da positivo en el 97% de los enfermos (sensibilidad) y da negativo en el 95% de los sanos (especificidad). Se aplica la prueba a una persona, ¿Cuál es la probabilidad que de positivo?, ¿Cuál es la probabilidad que esté enfermo, dado que la prueba dio positivo?\n",
        "\n",
        "\n",
        "\n",
        "2. Una enfermedad está presente en el 0.59% de la población. Se tiene una prueba para detectarla que da positivo en el 97% de los enfermos (sensibilidad) y da negativo en el 95% de los sanos (especificidad). Se aplica la prueba a una persona, ¿Cuál es la probabilidad que de positivo?, ¿Cuál es la probabilidad que esté enfermo, dado que la prueba dio positivo? [click](https://www.minsalud.gov.co/Paginas/ColombiacumpleconindicadorespositivosenlaluchacontraelVIHSida.aspx#:~:text=En%20el%20pa%C3%ADs%20menos%20de,VIH%2FSida%20(0.59%25).)"
      ],
      "metadata": {
        "id": "Cb1UDC6OG1Ri"
      }
    },
    {
      "cell_type": "code",
      "source": [],
      "metadata": {
        "id": "V82lqyiVG4F-"
      },
      "execution_count": null,
      "outputs": []
    }
  ]
}