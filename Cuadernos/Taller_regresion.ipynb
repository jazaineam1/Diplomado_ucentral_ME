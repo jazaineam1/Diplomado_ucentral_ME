{
  "nbformat": 4,
  "nbformat_minor": 0,
  "metadata": {
    "colab": {
      "provenance": []
    },
    "kernelspec": {
      "name": "python3",
      "display_name": "Python 3"
    },
    "language_info": {
      "name": "python"
    }
  },
  "cells": [
    {
      "cell_type": "markdown",
      "source": [
        "---\n",
        "<font color = \"red\" FONT SIZE = 7><center>***Universidad Central***</center></font>\n",
        "\n",
        "<font color = \"blue\" FONT SIZE = 5><center>***Fundamentos de estadística para analítica de datos***</center></font>\n",
        "\n",
        "\n",
        "\n",
        "<font  FONT SIZE = 5><center>***TALLER ***</center></font>\n",
        "\n",
        "---\n",
        "\n",
        "\n",
        "\n",
        "<font FONT SIZE = 5><center>***“All models are wrong, but some are useful” (George Box, 1979)***</center></font>\n",
        "\n",
        "\n"
      ],
      "metadata": {
        "id": "w6Pb6_TNrDGx"
      }
    },
    {
      "cell_type": "markdown",
      "source": [
        "\n",
        "---\n",
        "\n",
        "<font FONT SIZE = 5>\t***1. (Chapman (1997))***</font>\n",
        "\n",
        "---\n",
        "\n",
        "Con el objetivo de evaluar la calidad de una película utilizada en máquinas fotográficas, el  tiempo  de duración de la película,  en horas,  se relaciona con la densidad máxima de la película bajo tres condiciones experimentales: $72^{o}C$, $82^{o}C$ y $92^{o}C$. El objetivo es explicar las diferencias en el tiempo de duración de la película usando la densidad máxima  y la temperatura."
      ],
      "metadata": {
        "id": "3wvMv3lJsQb7"
      }
    },
    {
      "cell_type": "markdown",
      "source": [
        "| $72^{o}C$| | | $82^{o}C$| | | $92^{o}C$| |\n",
        "| :--: | :--: | | :--: | :--: | | :--: | :--: |\n",
        "|**Tiempo**|**Densidad**| |**Tiempo**|**Densidad**| |**Tiempo**|**Densidad**|\n",
        "|72\t|3.55|    |48|3.52|   |24|3.46|\n",
        "|144|\t3.27|   |96|3.35|   |48|2.91|   \n",
        "|216|\t2.89|   |144|2.50|  |72|2.27|\n",
        "|288|\t2.55|   |192|2.10|  |96|1.49|\n",
        "|360|\t2.34|   |240|1.90|  |120|1.20|\n",
        "|432|\t2.14|   |288|1.47|  |144|1.04|\n",
        "|504|\t1.77|   |336|1.19|  |168|0.65|\n",
        "\n",
        "\n",
        "(A)\tHaga  un  gráfico  de  los  datos que  incluya  las  tres  variables  consideradas.  Comente.\n",
        "\n",
        "(B)\tAjuste a los datos un modelo de regresión lineal múltiple donde la respuesta es el tiempo de duración  de  la  película  y  las  variables  explicativas  son  la  densidad  máxima, la condición experimental  y la interacción entre estas.\n",
        "\n",
        "(C)\tEvalúe, al nivel de significancia de 5 %, si el efecto de la densidad máxima sobre el tiempo de duración de la película depende de la condición experimental.\n",
        "\n",
        "(E)\tInterprete las estimaciones  de los parámetros excepto  el intercepto.\n",
        "\n",
        "(F)\tEstime  la duración esperada de una película con una densidad máxima de 2, y  una  temperatura  de  $82^{o}C$. Use la función `predict()`.\n",
        "\n",
        "---\n",
        "\n",
        "<font FONT SIZE = 5>\t***2.(Crawley  (2007, página  434))***</font>\n",
        "\n",
        "---\n",
        "\n",
        "\n",
        "Estos  datos,  disponibles  en  el  objeto  airquality\n",
        "de  `R` revisar el enlace [airquality](https://raw.githubusercontent.com/jazaineam1/Diplomado_ucentral_ME/main/Datos/airquality.txt),  corresponden  a  un  estudio  sobre  la  contaminación  del  aire  realizado  en  el área metropolitana de New York durante 1973, el cual pretende establecer cómo se relaciona la concentración de ozono (`Ozone`), en partes por millón, con la velocidad del  viento  (`Wind`),  la  temperatura  del  aire  (`Temp`),  y  la  intensidad  de  la  radiación solar (`Solar.R`).\n",
        "\n",
        "(A) Luego de eliminar las filas con datos faltantes,  ajuste a los datos un  modelo de regresión lineal múltiple con la interacción de todas las variables independientes  y  donde la variable respuesta es `log(Ozone)`.\n",
        "\n",
        "(B)\tConstruir  gráficos  de  la  variable  respuesta contra cada una de las variables explicativas. Comente.\n",
        "\n",
        "(C)\tEncuentre el mejor modelo basado en el AIC.\n",
        "\n",
        "(D)\tInterprete las estimaciones  de los parámetros excepto  el intercepto\n",
        "\n",
        "---\n",
        "\n",
        "<font FONT SIZE = 5>\t***Referencias.***</font>\n",
        "\n",
        "---\n",
        "\n",
        "\n",
        "\n",
        "1. **R. E. Chapman, Degradation Study of a Photographic Developer to Determine Shelf Life, Quality Engineering 10 (1997), pp. 137 – 140.**\n",
        "2. **M. J. Crawley, The R book, John Wiley & Sons, Chichester, 2007.**\n"
      ],
      "metadata": {
        "id": "Vhya33uuuves"
      }
    }
  ]
}