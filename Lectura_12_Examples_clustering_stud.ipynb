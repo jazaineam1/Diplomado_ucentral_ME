{
  "cells": [
    {
      "cell_type": "markdown",
      "metadata": {
        "id": "view-in-github",
        "colab_type": "text"
      },
      "source": [
        "<a href=\"https://colab.research.google.com/github/jazaineam1/Diplomado_ucentral_ME/blob/main/Lectura_12_Examples_clustering_stud.ipynb\" target=\"_parent\"><img src=\"https://colab.research.google.com/assets/colab-badge.svg\" alt=\"Open In Colab\"/></a>"
      ]
    },
    {
      "cell_type": "markdown",
      "source": [
        "# ***Ejemplos clustering***\n",
        "\n",
        "## ***Universidad Central***\n",
        "\n"
      ],
      "metadata": {
        "id": "T4TvkTP8e7Xf"
      }
    },
    {
      "cell_type": "code",
      "source": [
        "## Librería utilizadas.\n",
        "import pandas as pd\n",
        "import numpy as np\n",
        "import matplotlib.pyplot as plt\n",
        "import seaborn as sns\n",
        "import plotly.express as px\n",
        "import plotly.graph_objects as go\n",
        "import warnings\n",
        "##\n",
        "from sklearn.preprocessing import StandardScaler, MinMaxScaler\n",
        "from sklearn.decomposition import PCA\n",
        "from sklearn.cluster import KMeans\n",
        "##\n",
        "plt.style.use(\"ggplot\")\n",
        "plt.rcParams[\"figure.figsize\"] = (15,6)\n",
        "warnings.filterwarnings(\"ignore\")\n",
        "url_base = \"https://raw.githubusercontent.com/lacamposm/Metodos_Estadisticos/main/data/\""
      ],
      "metadata": {
        "id": "nBtptMi4fAjS"
      },
      "execution_count": null,
      "outputs": []
    },
    {
      "cell_type": "markdown",
      "source": [
        "\n",
        "## ***¿Podemos detectar patrones entre consumidores específicos para identificar posibles fraudes?***"
      ],
      "metadata": {
        "id": "0NJYHIc8pmyL"
      }
    },
    {
      "cell_type": "markdown",
      "metadata": {
        "tags": [
          "5_min"
        ],
        "id": "i50tNEKje08p"
      },
      "source": [
        "## ***Introducción.***\n",
        "\n",
        "\n",
        "\n",
        "\n",
        "1. Suponga que hace parte del equipo de fraude de una compañía de seguros que tiene a cargo la emisión de polizas de seguro para varios tipos de reclamos tanto para individuos como para empresas. Se realiza un seguimiento de las pólizas que se emiten y se examina y evalúa cualquier reclamo presentado para determinar la legitimidad y la aprobación final para el pago por parte de la compañía de seguros. Sin embargo, muchas personas intentan aprovecharse presentando reclamos bajo falsos pretextos para obtener ingresos adicionales. El papel del equipo de fraude es determinar qué reclamos presentados deben aprobarse y cuáles deben denegarse.\n",
        "\n",
        "2. Se le proporcionará un Dataset que contiene las reclamaciones recientes realizadas por 1000 personas. Los datos están sin etiquetar; es decir, no existe una variable que nos diga cuáles de estas afirmaciones son fraudulentas o no.\n",
        "\n",
        "3. Su labor es responder a la siguiente pregunta: ***¿Existen patrones particulares en los grupos de reclamaciones presentadas que puedan ser indicativos de fraude?***\n",
        "\n"
      ]
    },
    {
      "cell_type": "markdown",
      "source": [
        "Buscaremos dar respuesta a la pregunta anterior mediante la siguiente estructura:\n",
        "\n",
        "1. Realizar un análisis exploratorios de datos ***(EDA)*** para investigar visualmente la estructura de los datos.\n",
        "2. Usar lo hallado en el numeral anterior como una primera guía en busca de establecer la viabilidad intuitiva del clustering.\n",
        "\n",
        "3. Discutir las ventajas y limitaciones de los métodos típicos de agrupamiento; y finalmente.\n",
        "\n",
        "4. Segmentar y generar conclusiones sobre clusters particulares."
      ],
      "metadata": {
        "id": "ynb_dkhJLxep"
      }
    },
    {
      "cell_type": "markdown",
      "metadata": {
        "tags": [
          "15_min"
        ],
        "id": "i3Ej7IOYe08r"
      },
      "source": [
        "## ***Exploración de los datos.***"
      ]
    },
    {
      "cell_type": "code",
      "source": [
        "# Importamos el Dataset.\n",
        "df_data = pd.read_excel(url_base + \"insurance_data_clustering.xlsx\", index_col = 0)\n",
        "df_data.head()"
      ],
      "metadata": {
        "colab": {
          "base_uri": "https://localhost:8080/",
          "height": 237
        },
        "id": "E9wtMcWngcL6",
        "outputId": "7eb14a7d-fe15-45f2-df69-649346a4eed3"
      },
      "execution_count": null,
      "outputs": [
        {
          "output_type": "execute_result",
          "data": {
            "text/plain": [
              "           income  age sex  approval         fraud    claims\n",
              "case_id                                                     \n",
              "59982    35750.95   42   M  Approved  Under Review   9518.95\n",
              "87249    24078.27   19   M    Denied            No  19354.23\n",
              "50406    39241.52   37   M    Denied         Fraud  13056.04\n",
              "59391    33248.31   26   M  Approved            No  19238.37\n",
              "96622    38649.96   54   M  Approved            No  14427.42"
            ],
            "text/html": [
              "\n",
              "  <div id=\"df-728528db-683b-4505-adc4-91699a308829\">\n",
              "    <div class=\"colab-df-container\">\n",
              "      <div>\n",
              "<style scoped>\n",
              "    .dataframe tbody tr th:only-of-type {\n",
              "        vertical-align: middle;\n",
              "    }\n",
              "\n",
              "    .dataframe tbody tr th {\n",
              "        vertical-align: top;\n",
              "    }\n",
              "\n",
              "    .dataframe thead th {\n",
              "        text-align: right;\n",
              "    }\n",
              "</style>\n",
              "<table border=\"1\" class=\"dataframe\">\n",
              "  <thead>\n",
              "    <tr style=\"text-align: right;\">\n",
              "      <th></th>\n",
              "      <th>income</th>\n",
              "      <th>age</th>\n",
              "      <th>sex</th>\n",
              "      <th>approval</th>\n",
              "      <th>fraud</th>\n",
              "      <th>claims</th>\n",
              "    </tr>\n",
              "    <tr>\n",
              "      <th>case_id</th>\n",
              "      <th></th>\n",
              "      <th></th>\n",
              "      <th></th>\n",
              "      <th></th>\n",
              "      <th></th>\n",
              "      <th></th>\n",
              "    </tr>\n",
              "  </thead>\n",
              "  <tbody>\n",
              "    <tr>\n",
              "      <th>59982</th>\n",
              "      <td>35750.95</td>\n",
              "      <td>42</td>\n",
              "      <td>M</td>\n",
              "      <td>Approved</td>\n",
              "      <td>Under Review</td>\n",
              "      <td>9518.95</td>\n",
              "    </tr>\n",
              "    <tr>\n",
              "      <th>87249</th>\n",
              "      <td>24078.27</td>\n",
              "      <td>19</td>\n",
              "      <td>M</td>\n",
              "      <td>Denied</td>\n",
              "      <td>No</td>\n",
              "      <td>19354.23</td>\n",
              "    </tr>\n",
              "    <tr>\n",
              "      <th>50406</th>\n",
              "      <td>39241.52</td>\n",
              "      <td>37</td>\n",
              "      <td>M</td>\n",
              "      <td>Denied</td>\n",
              "      <td>Fraud</td>\n",
              "      <td>13056.04</td>\n",
              "    </tr>\n",
              "    <tr>\n",
              "      <th>59391</th>\n",
              "      <td>33248.31</td>\n",
              "      <td>26</td>\n",
              "      <td>M</td>\n",
              "      <td>Approved</td>\n",
              "      <td>No</td>\n",
              "      <td>19238.37</td>\n",
              "    </tr>\n",
              "    <tr>\n",
              "      <th>96622</th>\n",
              "      <td>38649.96</td>\n",
              "      <td>54</td>\n",
              "      <td>M</td>\n",
              "      <td>Approved</td>\n",
              "      <td>No</td>\n",
              "      <td>14427.42</td>\n",
              "    </tr>\n",
              "  </tbody>\n",
              "</table>\n",
              "</div>\n",
              "      <button class=\"colab-df-convert\" onclick=\"convertToInteractive('df-728528db-683b-4505-adc4-91699a308829')\"\n",
              "              title=\"Convert this dataframe to an interactive table.\"\n",
              "              style=\"display:none;\">\n",
              "        \n",
              "  <svg xmlns=\"http://www.w3.org/2000/svg\" height=\"24px\"viewBox=\"0 0 24 24\"\n",
              "       width=\"24px\">\n",
              "    <path d=\"M0 0h24v24H0V0z\" fill=\"none\"/>\n",
              "    <path d=\"M18.56 5.44l.94 2.06.94-2.06 2.06-.94-2.06-.94-.94-2.06-.94 2.06-2.06.94zm-11 1L8.5 8.5l.94-2.06 2.06-.94-2.06-.94L8.5 2.5l-.94 2.06-2.06.94zm10 10l.94 2.06.94-2.06 2.06-.94-2.06-.94-.94-2.06-.94 2.06-2.06.94z\"/><path d=\"M17.41 7.96l-1.37-1.37c-.4-.4-.92-.59-1.43-.59-.52 0-1.04.2-1.43.59L10.3 9.45l-7.72 7.72c-.78.78-.78 2.05 0 2.83L4 21.41c.39.39.9.59 1.41.59.51 0 1.02-.2 1.41-.59l7.78-7.78 2.81-2.81c.8-.78.8-2.07 0-2.86zM5.41 20L4 18.59l7.72-7.72 1.47 1.35L5.41 20z\"/>\n",
              "  </svg>\n",
              "      </button>\n",
              "      \n",
              "  <style>\n",
              "    .colab-df-container {\n",
              "      display:flex;\n",
              "      flex-wrap:wrap;\n",
              "      gap: 12px;\n",
              "    }\n",
              "\n",
              "    .colab-df-convert {\n",
              "      background-color: #E8F0FE;\n",
              "      border: none;\n",
              "      border-radius: 50%;\n",
              "      cursor: pointer;\n",
              "      display: none;\n",
              "      fill: #1967D2;\n",
              "      height: 32px;\n",
              "      padding: 0 0 0 0;\n",
              "      width: 32px;\n",
              "    }\n",
              "\n",
              "    .colab-df-convert:hover {\n",
              "      background-color: #E2EBFA;\n",
              "      box-shadow: 0px 1px 2px rgba(60, 64, 67, 0.3), 0px 1px 3px 1px rgba(60, 64, 67, 0.15);\n",
              "      fill: #174EA6;\n",
              "    }\n",
              "\n",
              "    [theme=dark] .colab-df-convert {\n",
              "      background-color: #3B4455;\n",
              "      fill: #D2E3FC;\n",
              "    }\n",
              "\n",
              "    [theme=dark] .colab-df-convert:hover {\n",
              "      background-color: #434B5C;\n",
              "      box-shadow: 0px 1px 3px 1px rgba(0, 0, 0, 0.15);\n",
              "      filter: drop-shadow(0px 1px 2px rgba(0, 0, 0, 0.3));\n",
              "      fill: #FFFFFF;\n",
              "    }\n",
              "  </style>\n",
              "\n",
              "      <script>\n",
              "        const buttonEl =\n",
              "          document.querySelector('#df-728528db-683b-4505-adc4-91699a308829 button.colab-df-convert');\n",
              "        buttonEl.style.display =\n",
              "          google.colab.kernel.accessAllowed ? 'block' : 'none';\n",
              "\n",
              "        async function convertToInteractive(key) {\n",
              "          const element = document.querySelector('#df-728528db-683b-4505-adc4-91699a308829');\n",
              "          const dataTable =\n",
              "            await google.colab.kernel.invokeFunction('convertToInteractive',\n",
              "                                                     [key], {});\n",
              "          if (!dataTable) return;\n",
              "\n",
              "          const docLinkHtml = 'Like what you see? Visit the ' +\n",
              "            '<a target=\"_blank\" href=https://colab.research.google.com/notebooks/data_table.ipynb>data table notebook</a>'\n",
              "            + ' to learn more about interactive tables.';\n",
              "          element.innerHTML = '';\n",
              "          dataTable['output_type'] = 'display_data';\n",
              "          await google.colab.output.renderOutput(dataTable, element);\n",
              "          const docLink = document.createElement('div');\n",
              "          docLink.innerHTML = docLinkHtml;\n",
              "          element.appendChild(docLink);\n",
              "        }\n",
              "      </script>\n",
              "    </div>\n",
              "  </div>\n",
              "  "
            ]
          },
          "metadata": {},
          "execution_count": 2
        }
      ]
    },
    {
      "cell_type": "code",
      "source": [
        "df_data.info()"
      ],
      "metadata": {
        "colab": {
          "base_uri": "https://localhost:8080/"
        },
        "id": "Thnm9qQMhS78",
        "outputId": "1da27d6f-bb91-4c01-ec57-07dad3b59ca6"
      },
      "execution_count": null,
      "outputs": [
        {
          "output_type": "stream",
          "name": "stdout",
          "text": [
            "<class 'pandas.core.frame.DataFrame'>\n",
            "Int64Index: 1000 entries, 59982 to 97965\n",
            "Data columns (total 6 columns):\n",
            " #   Column    Non-Null Count  Dtype  \n",
            "---  ------    --------------  -----  \n",
            " 0   income    1000 non-null   float64\n",
            " 1   age       1000 non-null   int64  \n",
            " 2   sex       1000 non-null   object \n",
            " 3   approval  1000 non-null   object \n",
            " 4   fraud     1000 non-null   object \n",
            " 5   claims    1000 non-null   float64\n",
            "dtypes: float64(2), int64(1), object(3)\n",
            "memory usage: 54.7+ KB\n"
          ]
        }
      ]
    },
    {
      "cell_type": "markdown",
      "source": [
        "Contamos con 6 features:\n",
        "\n",
        "- `income`: Ingreso del reclamante.\n",
        "- `age`: Edad del reclamente.\n",
        "- `sex`: Género del reclamente.\n",
        "- `approval`: Decisión frente a la reclamación.\n",
        "- `fraud`: Tres estados de la solicitud.\n",
        "- `claims`: Cantidad reclamada."
      ],
      "metadata": {
        "id": "U_asNNLsqQ5c"
      }
    },
    {
      "cell_type": "code",
      "source": [
        "for column in df_data.select_dtypes(include = [\"O\"]):\n",
        "  print(\"Las categorías para la feature:\",column, \"son\", df_data[column].unique())"
      ],
      "metadata": {
        "colab": {
          "base_uri": "https://localhost:8080/"
        },
        "id": "KQ4QZKd7rG9M",
        "outputId": "463229cd-f975-4bc3-cae6-262e9a0ee1de"
      },
      "execution_count": null,
      "outputs": [
        {
          "output_type": "stream",
          "name": "stdout",
          "text": [
            "Las categorías para la feature: sex son ['M' 'F']\n",
            "Las categorías para la feature: approval son ['Approved' 'Denied']\n",
            "Las categorías para la feature: fraud son ['Under Review' 'No' 'Fraud']\n"
          ]
        }
      ]
    },
    {
      "cell_type": "markdown",
      "source": [
        "Recordemos que una restricción para el algoritmo de clustering es que las features sean numéricas."
      ],
      "metadata": {
        "id": "9QvKXkFssIsr"
      }
    },
    {
      "cell_type": "code",
      "execution_count": null,
      "metadata": {
        "colab": {
          "base_uri": "https://localhost:8080/",
          "height": 237
        },
        "id": "Tl5Q8A6We08v",
        "outputId": "67abbf74-2fe6-4ac5-bc57-07f92e66d3e2"
      },
      "outputs": [
        {
          "output_type": "execute_result",
          "data": {
            "text/plain": [
              "           income  age    claims\n",
              "case_id                         \n",
              "59982    35750.95   42   9518.95\n",
              "87249    24078.27   19  19354.23\n",
              "50406    39241.52   37  13056.04\n",
              "59391    33248.31   26  19238.37\n",
              "96622    38649.96   54  14427.42"
            ],
            "text/html": [
              "\n",
              "  <div id=\"df-894f4758-fec8-4d90-bd73-65ede9ec07d5\">\n",
              "    <div class=\"colab-df-container\">\n",
              "      <div>\n",
              "<style scoped>\n",
              "    .dataframe tbody tr th:only-of-type {\n",
              "        vertical-align: middle;\n",
              "    }\n",
              "\n",
              "    .dataframe tbody tr th {\n",
              "        vertical-align: top;\n",
              "    }\n",
              "\n",
              "    .dataframe thead th {\n",
              "        text-align: right;\n",
              "    }\n",
              "</style>\n",
              "<table border=\"1\" class=\"dataframe\">\n",
              "  <thead>\n",
              "    <tr style=\"text-align: right;\">\n",
              "      <th></th>\n",
              "      <th>income</th>\n",
              "      <th>age</th>\n",
              "      <th>claims</th>\n",
              "    </tr>\n",
              "    <tr>\n",
              "      <th>case_id</th>\n",
              "      <th></th>\n",
              "      <th></th>\n",
              "      <th></th>\n",
              "    </tr>\n",
              "  </thead>\n",
              "  <tbody>\n",
              "    <tr>\n",
              "      <th>59982</th>\n",
              "      <td>35750.95</td>\n",
              "      <td>42</td>\n",
              "      <td>9518.95</td>\n",
              "    </tr>\n",
              "    <tr>\n",
              "      <th>87249</th>\n",
              "      <td>24078.27</td>\n",
              "      <td>19</td>\n",
              "      <td>19354.23</td>\n",
              "    </tr>\n",
              "    <tr>\n",
              "      <th>50406</th>\n",
              "      <td>39241.52</td>\n",
              "      <td>37</td>\n",
              "      <td>13056.04</td>\n",
              "    </tr>\n",
              "    <tr>\n",
              "      <th>59391</th>\n",
              "      <td>33248.31</td>\n",
              "      <td>26</td>\n",
              "      <td>19238.37</td>\n",
              "    </tr>\n",
              "    <tr>\n",
              "      <th>96622</th>\n",
              "      <td>38649.96</td>\n",
              "      <td>54</td>\n",
              "      <td>14427.42</td>\n",
              "    </tr>\n",
              "  </tbody>\n",
              "</table>\n",
              "</div>\n",
              "      <button class=\"colab-df-convert\" onclick=\"convertToInteractive('df-894f4758-fec8-4d90-bd73-65ede9ec07d5')\"\n",
              "              title=\"Convert this dataframe to an interactive table.\"\n",
              "              style=\"display:none;\">\n",
              "        \n",
              "  <svg xmlns=\"http://www.w3.org/2000/svg\" height=\"24px\"viewBox=\"0 0 24 24\"\n",
              "       width=\"24px\">\n",
              "    <path d=\"M0 0h24v24H0V0z\" fill=\"none\"/>\n",
              "    <path d=\"M18.56 5.44l.94 2.06.94-2.06 2.06-.94-2.06-.94-.94-2.06-.94 2.06-2.06.94zm-11 1L8.5 8.5l.94-2.06 2.06-.94-2.06-.94L8.5 2.5l-.94 2.06-2.06.94zm10 10l.94 2.06.94-2.06 2.06-.94-2.06-.94-.94-2.06-.94 2.06-2.06.94z\"/><path d=\"M17.41 7.96l-1.37-1.37c-.4-.4-.92-.59-1.43-.59-.52 0-1.04.2-1.43.59L10.3 9.45l-7.72 7.72c-.78.78-.78 2.05 0 2.83L4 21.41c.39.39.9.59 1.41.59.51 0 1.02-.2 1.41-.59l7.78-7.78 2.81-2.81c.8-.78.8-2.07 0-2.86zM5.41 20L4 18.59l7.72-7.72 1.47 1.35L5.41 20z\"/>\n",
              "  </svg>\n",
              "      </button>\n",
              "      \n",
              "  <style>\n",
              "    .colab-df-container {\n",
              "      display:flex;\n",
              "      flex-wrap:wrap;\n",
              "      gap: 12px;\n",
              "    }\n",
              "\n",
              "    .colab-df-convert {\n",
              "      background-color: #E8F0FE;\n",
              "      border: none;\n",
              "      border-radius: 50%;\n",
              "      cursor: pointer;\n",
              "      display: none;\n",
              "      fill: #1967D2;\n",
              "      height: 32px;\n",
              "      padding: 0 0 0 0;\n",
              "      width: 32px;\n",
              "    }\n",
              "\n",
              "    .colab-df-convert:hover {\n",
              "      background-color: #E2EBFA;\n",
              "      box-shadow: 0px 1px 2px rgba(60, 64, 67, 0.3), 0px 1px 3px 1px rgba(60, 64, 67, 0.15);\n",
              "      fill: #174EA6;\n",
              "    }\n",
              "\n",
              "    [theme=dark] .colab-df-convert {\n",
              "      background-color: #3B4455;\n",
              "      fill: #D2E3FC;\n",
              "    }\n",
              "\n",
              "    [theme=dark] .colab-df-convert:hover {\n",
              "      background-color: #434B5C;\n",
              "      box-shadow: 0px 1px 3px 1px rgba(0, 0, 0, 0.15);\n",
              "      filter: drop-shadow(0px 1px 2px rgba(0, 0, 0, 0.3));\n",
              "      fill: #FFFFFF;\n",
              "    }\n",
              "  </style>\n",
              "\n",
              "      <script>\n",
              "        const buttonEl =\n",
              "          document.querySelector('#df-894f4758-fec8-4d90-bd73-65ede9ec07d5 button.colab-df-convert');\n",
              "        buttonEl.style.display =\n",
              "          google.colab.kernel.accessAllowed ? 'block' : 'none';\n",
              "\n",
              "        async function convertToInteractive(key) {\n",
              "          const element = document.querySelector('#df-894f4758-fec8-4d90-bd73-65ede9ec07d5');\n",
              "          const dataTable =\n",
              "            await google.colab.kernel.invokeFunction('convertToInteractive',\n",
              "                                                     [key], {});\n",
              "          if (!dataTable) return;\n",
              "\n",
              "          const docLinkHtml = 'Like what you see? Visit the ' +\n",
              "            '<a target=\"_blank\" href=https://colab.research.google.com/notebooks/data_table.ipynb>data table notebook</a>'\n",
              "            + ' to learn more about interactive tables.';\n",
              "          element.innerHTML = '';\n",
              "          dataTable['output_type'] = 'display_data';\n",
              "          await google.colab.output.renderOutput(dataTable, element);\n",
              "          const docLink = document.createElement('div');\n",
              "          docLink.innerHTML = docLinkHtml;\n",
              "          element.appendChild(docLink);\n",
              "        }\n",
              "      </script>\n",
              "    </div>\n",
              "  </div>\n",
              "  "
            ]
          },
          "metadata": {},
          "execution_count": 5
        }
      ],
      "source": [
        "# Consideremos solo las variables numéricas.\n",
        "df = df_data[[\"income\", \"age\", \"claims\"]]\n",
        "df.head(5)"
      ]
    },
    {
      "cell_type": "markdown",
      "metadata": {
        "id": "iSm9WxPGe08w"
      },
      "source": [
        "A continuación, veamos la información correspondiente a los reclamos bajo revisión (_under review_) y cómo se distribuyen:"
      ]
    },
    {
      "cell_type": "code",
      "execution_count": null,
      "metadata": {
        "colab": {
          "base_uri": "https://localhost:8080/",
          "height": 405
        },
        "id": "7hzLB7Pse08w",
        "outputId": "13772294-0e81-4c0e-ea63-9abbe05ed7f7"
      },
      "outputs": [
        {
          "output_type": "display_data",
          "data": {
            "text/plain": [
              "<Figure size 1080x432 with 1 Axes>"
            ],
            "image/png": "[encoded data removed]"
          },
          "metadata": {}
        }
      ],
      "source": [
        "## Casos en revisión.\n",
        "df_frauds = df_data[df_data[\"fraud\"] == \"Under Review\"]\n",
        "##\n",
        "sns.histplot(data = df_frauds, bins = 20, x = \"claims\", stat = \"density\")\n",
        "plt.title(\"Distribución de Claims: $Under\\ Review$\", fontsize=16)\n",
        "plt.xlabel(\"Claims [$]\", fontsize=14)\n",
        "plt.xticks(fontsize=12)\n",
        "plt.ylabel(\"Densidad\", fontsize=14)\n",
        "plt.yticks(fontsize=12)\n",
        "plt.show()"
      ]
    },
    {
      "cell_type": "markdown",
      "source": [
        "***Notemos que la distribución es bastante extraña. Parece que tenemos tres grupos en la distribución de la reclamación.***"
      ],
      "metadata": {
        "id": "6U6NkaovNzAs"
      }
    },
    {
      "cell_type": "markdown",
      "metadata": {
        "id": "qICllkv3e08x"
      },
      "source": [
        "\n",
        "\n",
        "Veamos algunos scatterplots buscando obtener más información del comportamiento en el Dataset. Enfrentemos las siguientes features:\n",
        "\n",
        "- `claims` vs. `income`\n",
        "- `income` vs. `age`\n",
        "\n"
      ]
    },
    {
      "cell_type": "markdown",
      "source": [
        "#### ***Ejercicio 1.***\n",
        "\n",
        "Realice los scatterplots solicitados. Además, estratifique los plots que acaba de realizar por género."
      ],
      "metadata": {
        "id": "Ip_D93NwN6nI"
      }
    },
    {
      "cell_type": "code",
      "source": [
        "## Celda de código para probar."
      ],
      "metadata": {
        "id": "bqVeihhfOC03"
      },
      "execution_count": null,
      "outputs": []
    },
    {
      "cell_type": "code",
      "source": [
        "## Celda de código para probar."
      ],
      "metadata": {
        "id": "HQ0gPEwaOXi_"
      },
      "execution_count": null,
      "outputs": []
    },
    {
      "cell_type": "markdown",
      "metadata": {
        "tags": [
          "5_min"
        ],
        "id": "lXheUuu9e08y"
      },
      "source": [
        "#### ***Ejercicio 2.***\n",
        "\n",
        "¿Qué patrones se observan en los plots anteriores? ¿Por qué cree que esto podría estar sucediendo?"
      ]
    },
    {
      "cell_type": "markdown",
      "metadata": {
        "tags": [
          "ans_st"
        ],
        "id": "alr0GU5ye08y"
      },
      "source": [
        "***Respuesta.***\n",
        "\n",
        "Comente acá su respuesta."
      ]
    },
    {
      "cell_type": "markdown",
      "metadata": {
        "tags": [
          "5_min"
        ],
        "id": "xKchLKHie08z"
      },
      "source": [
        "## ***$k$-means clustering.***\n",
        "\n",
        "En los plots anteriores parece que existen distintas poblaciones de individuos en función de las relaciones entre `claims` e `income` e `income` y `age`. Pensemos que podemos tener muchas `features` luego este procedimiento visual sería muy tedioso y podria llevar mucho tiempo.\n",
        "\n",
        "Vamos a hacer uso de $K$-means para buscar reafirmar lo inspeccionado visualmente. Recordemos que este algoritmo separa el Dataset dado en $k$ clusters."
      ]
    },
    {
      "cell_type": "markdown",
      "metadata": {
        "tags": [
          "5_min"
        ],
        "id": "PLAohZcWe080"
      },
      "source": [
        "#### ***Ejercicio 3.***\n",
        "\n",
        "$K$-means se basa en minimizar la distancia euclidiana entre los puntos de datos. ¿Qué tipo de problemas podría plantear esto en términos de los resultados que obtenemos? ¿Cómo podemos arreglar esto?"
      ]
    },
    {
      "cell_type": "markdown",
      "metadata": {
        "tags": [
          "ans_st"
        ],
        "id": "-qZD2NzUe080"
      },
      "source": [
        "***Respuesta.***\n",
        "\n",
        "Acá su respuesta..."
      ]
    },
    {
      "cell_type": "markdown",
      "metadata": {
        "id": "JbgRbK-ze080"
      },
      "source": [
        "Hay muchas formas de escalar, o **normalizar**, las features, una de las cuales hemos mencionado anteriormente. La mejor opción de normalización depende de los detalles particulares del Dataset.\n",
        "\n",
        "De manera similar, la distancia euclidiana es la métrica más utilizada para calcular los clústeres, ya que es bastante fácil de calcular y funciona bien en la mayoría de los conjuntos de datos, pero no es la única. Es posible usar variaciones en la métrica de distancia según el Dataset que se está investigando. Por lo tanto, es un parámetro que debe ser considerado y explorado durante la etapa de EDA para determinar qué es lo mejor para proceder."
      ]
    },
    {
      "cell_type": "markdown",
      "metadata": {
        "tags": [
          "10_min"
        ],
        "id": "rBIFS8Lge080"
      },
      "source": [
        "#### ***Ejercicio 4.***\n",
        "\n",
        "Explore la herramienta [skleanr.preprocessing.MinMaxScaler](https://scikit-learn.org/stable/modules/generated/sklearn.preprocessing.MinMaxScaler.html) y normalice vía esta técnica las fetures `age`, `income` y `claims` de acuerdo con los valores mínimo y máximo de cada feature. Como ilustración, si tenemos la feature `age`, entonces un valor normalizado para una edad $A$ se calcularía como:\n",
        "\n",
        "$$\\displaystyle\\frac {X - min(age)} {max(age) - min(age)}$$\n",
        "\n",
        "Esto se conoce como el ***método min-max scaling.***\n",
        "\n",
        "***Guarde la información escalada en un pd.DataFrame llamado `df_norm`.***"
      ]
    },
    {
      "cell_type": "markdown",
      "metadata": {
        "tags": [
          "ans_st"
        ],
        "id": "l9nDKlr2e081"
      },
      "source": [
        "***Respuesta.***"
      ]
    },
    {
      "cell_type": "code",
      "source": [
        "## Celda de código para probar."
      ],
      "metadata": {
        "id": "NV_yRNIc6eC-"
      },
      "execution_count": null,
      "outputs": []
    },
    {
      "cell_type": "code",
      "source": [
        "## df_norm.describe().T"
      ],
      "metadata": {
        "id": "6U3F0xe16oLK"
      },
      "execution_count": null,
      "outputs": []
    },
    {
      "cell_type": "markdown",
      "source": [
        "#### ***Ejercicio 5.***\n",
        "\n",
        "Realize un scatterplot con la información escalada."
      ],
      "metadata": {
        "id": "C4ck6zkgWp_i"
      }
    },
    {
      "cell_type": "code",
      "source": [
        "## Celda de código para probar."
      ],
      "metadata": {
        "id": "zhKF86CCW0hu"
      },
      "execution_count": null,
      "outputs": []
    },
    {
      "cell_type": "markdown",
      "metadata": {
        "id": "DqosNT03e081"
      },
      "source": [
        "Los métodos que se muestran arriba transformarán los datos de tal manera que la magnitud de todas las características sea aproximadamente similar. Sin embargo, puede haber un método de escalado diferente que permita que la agrupación en clústeres $K$-means funcione mejor. La mejor elección del método de escalado depende de los datos específicos proporcionados."
      ]
    },
    {
      "cell_type": "markdown",
      "metadata": {
        "tags": [
          "5_min"
        ],
        "id": "2m9yUiE4e081"
      },
      "source": [
        "#### ***Ejercicio 6.***\n",
        "\n",
        "Imagine una situación en la que, además de nuestro Dataset original, hubiera algunas personas con altos ingresos que también presentaran reclamos de alto valor. ¿Qué podría salir mal con nuestro método de escalado anterior? ¿Cómo podría solucionar esto?"
      ]
    },
    {
      "cell_type": "markdown",
      "metadata": {
        "tags": [
          "ans_st"
        ],
        "id": "60kAY5x-e081"
      },
      "source": [
        "***Respuesta.***\n",
        "\n",
        "Acá su respuesta...\n"
      ]
    },
    {
      "cell_type": "markdown",
      "metadata": {
        "tags": [
          "25_min"
        ],
        "id": "GM_4XFlDe084"
      },
      "source": [
        "## ***Selecionar el valor óptimo de $k$.***\n",
        "\n",
        "Con base en los datos normalizados, podemos hacer una suposición \"educada\" de que tenemos $x$ grupos:\n",
        "\n",
        "1. altos ingresos y bajos reclamos.\n",
        "2. ingresos moderados y reclamos moderados.\n",
        "3. ingresos moderados y reclamos elevados.\n",
        "4. bajos ingresos y altos reclamos.\n",
        "\n",
        "Aunque el análisis visual sugiere que $k = x$ es el valor óptimo, recuerde que tenemos rutinas para buscar verificar esto de manera cuantitativa, tenga en cuenta que hay múltiples Datasets que no pueden visualizarse fácilmente."
      ]
    },
    {
      "cell_type": "markdown",
      "source": [
        "#### ***Ejercicio 7.***\n",
        "\n",
        "Determine si la cantidad de $k=4$ o $k=3$ tiene alguna \"evidencia\" de ser la cantidad adecuada de clusters para este caso."
      ],
      "metadata": {
        "id": "f3_tFRyk-Vi2"
      }
    },
    {
      "cell_type": "code",
      "source": [
        "## Celda de código para probar."
      ],
      "metadata": {
        "id": "XoYQavKtE0lu"
      },
      "execution_count": null,
      "outputs": []
    },
    {
      "cell_type": "markdown",
      "source": [
        "A partir del gráfico, la disminución de $XXXXX$ no es tan notoría desde $k=x$, por lo que podemos decir que la suposición original fue \"XXXXX\" (es bastante común que nuestra suposición visual y el resultado del método anterior sean ligeramente diferentes). Recuerde, este método funciona en múltiples dimensiones, por lo que, si bien la agrupación puede ser obvia en una dimensión, puede desaparecer cuando se combina con más variables."
      ],
      "metadata": {
        "id": "jieDLJsGEz30"
      }
    },
    {
      "cell_type": "markdown",
      "metadata": {
        "tags": [
          "5_min"
        ],
        "id": "odpbQ2UIe084"
      },
      "source": [
        "## ***Implementando $k$-means.***"
      ]
    },
    {
      "cell_type": "markdown",
      "source": [
        "#### ***Ejercicio 8.***\n",
        "\n",
        "Realice la implementación de $k$-means con $k$ igual al valor que encontró en el ejercicio anterior y sobre el dataframe `df_norm`. Seguido genere un scatterplot de `income` vs. `claims` donde el tono es proporcionado por el cluster que asignó el algoritmo."
      ],
      "metadata": {
        "id": "CNQaDO30-quB"
      }
    },
    {
      "cell_type": "code",
      "source": [
        "## Celda de código para probar."
      ],
      "metadata": {
        "id": "DQqf31cXboU-"
      },
      "execution_count": null,
      "outputs": []
    },
    {
      "cell_type": "code",
      "source": [
        "## Celda de código para probar."
      ],
      "metadata": {
        "id": "8_i2pdgTeQqB"
      },
      "execution_count": null,
      "outputs": []
    },
    {
      "cell_type": "markdown",
      "metadata": {
        "tags": [
          "5_min"
        ],
        "id": "l7jzbDVPe086"
      },
      "source": [
        "#### ***Ejercicio 9.***\n",
        "\n",
        "Dados los $x$ clusters de reclamos que se identificaron basados en `income` vs `claims` y teniendo en cuenta la información de `income` vs `age`, realice una sugerencia sobre lo que el departamento debe hacer con cada grupo."
      ]
    },
    {
      "cell_type": "markdown",
      "metadata": {
        "tags": [
          "ans_st"
        ],
        "id": "lMIRKwFve086"
      },
      "source": [
        "***Respuesta.***\n",
        "\n",
        "_Aca su respuesta...._"
      ]
    },
    {
      "cell_type": "markdown",
      "metadata": {
        "tags": [
          "5_min"
        ],
        "id": "dJzMSUVAe086"
      },
      "source": [
        "#### ***Ejercicio 10.***\n",
        "\n",
        "¿Cuáles son algunos de los posibles inconvenientes cuando se aplica $k$-means a un Dataset?"
      ]
    },
    {
      "cell_type": "markdown",
      "metadata": {
        "tags": [
          "ans_st"
        ],
        "id": "Q2LQRqdMe086"
      },
      "source": [
        "***Respuesta.***\n",
        "\n",
        "Hay algunas deficiencias potenciales (estos son ejemplos, obviamente hay otras respuestas posibles):\n",
        "\n",
        "_Acá su respuesta..._"
      ]
    },
    {
      "cell_type": "markdown",
      "metadata": {
        "tags": [
          "3_min"
        ],
        "id": "Jytb4J4Re086"
      },
      "source": [
        "## ***Conclusiones.***\n",
        "\n",
        "Logramos dividir con presunto éxito el Dataset en $x$ clusters, lo que validó nuestra intuición haciendo uso de $K$-means clustering. Una vez que se han identificado los clusters individuales, la compañía de seguros ahora puede determinar qué reclamos investigar más a fondo o considerar inmediatamente como fraudulentos en función de algunos criterios adicionales."
      ]
    }
  ],
  "metadata": {
    "c1_recart": "7.1.0-57c20131aabc1dc2a8c675852d80a7da",
    "kernelspec": {
      "display_name": "Python 3",
      "language": "python",
      "name": "python3"
    },
    "language_info": {
      "codemirror_mode": {
        "name": "ipython",
        "version": 3
      },
      "file_extension": ".py",
      "mimetype": "text/x-python",
      "name": "python",
      "nbconvert_exporter": "python",
      "pygments_lexer": "ipython3",
      "version": "3.8.8"
    },
    "colab": {
      "provenance": [],
      "include_colab_link": true
    }
  },
  "nbformat": 4,
  "nbformat_minor": 0
}