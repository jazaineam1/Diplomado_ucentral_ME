{
  "cells": [
    {
      "cell_type": "markdown",
      "metadata": {
        "id": "view-in-github",
        "colab_type": "text"
      },
      "source": [
        "<a href=\"https://colab.research.google.com/github/jazaineam1/Diplomado_ucentral_ME/blob/main/CUadernos/Pruebas%20de%20hip%C3%B3tesis.ipynb\" target=\"_parent\"><img src=\"https://colab.research.google.com/assets/colab-badge.svg\" alt=\"Open In Colab\"/></a>"
      ]
    },
    {
      "cell_type": "markdown",
      "source": [
        "---\n",
        "# ***Fundamentos de estadística para analítica de datos.***\n",
        "\n",
        "> ## _Software de apoyo: `Python.`_\n",
        "_\n",
        "---"
      ],
      "metadata": {
        "id": "Ev6Po48U6Gzx"
      }
    },
    {
      "cell_type": "code",
      "source": [
        "%%capture\n",
        "!pip install pingouin ## instalación libreria pingouin"
      ],
      "metadata": {
        "id": "OHAthdKMhMpo"
      },
      "execution_count": null,
      "outputs": []
    },
    {
      "cell_type": "code",
      "source": [
        "import pandas as pd\n",
        "import numpy as np\n",
        "import matplotlib.pyplot as plt\n",
        "import seaborn as sns\n",
        "from scipy.stats import t, nct   ## distribuciones t y t no-central.\n",
        "from pingouin import ttest       ## ttest: prueba-t\n",
        "##\n",
        "sns.set_style(\"darkgrid\")\n",
        "##\n",
        "url_base= \"https://raw.githubusercontent.com/lacamposm/Fundamentos_Analitica/main/data/\""
      ],
      "metadata": {
        "id": "HRBwi-BlPR3f"
      },
      "execution_count": null,
      "outputs": []
    },
    {
      "cell_type": "markdown",
      "metadata": {
        "id": "8XB8xTtnlvLx",
        "tags": [
          "125_min"
        ]
      },
      "source": [
        "---\n",
        "# ***Estudio sobre el crecimiento de los árboles en un bosque de California***\n",
        "---\n"
      ]
    },
    {
      "cell_type": "markdown",
      "metadata": {
        "tags": [
          "3_min"
        ],
        "id": "c7iCXCH-se2E"
      },
      "source": [
        "## ***Objetivos***\n",
        "\n",
        "Problemas claves en el análisis de información es lograr determinar si un patrón que se observa es lo suficientemente significativo como para justificar una mayor investigación. Una herramienta fundamental para abordar este problema es llamada **prueba de hipótesis estadística**.\n",
        "\n",
        "Deseamos dejar interiorizado:\n",
        "\n",
        "* Comprensión de las distribuciones de muestreo y la significación estadística.\n",
        "* Realizar pruebas de hipótesis y hacer inferencias.\n"
      ]
    },
    {
      "cell_type": "markdown",
      "source": [
        "## ***Introducción***\n",
        "\n",
        "**Contexto comercial.** Usted es parte de una organización de la sociedad civil que realiza un seguimiento de las métricas ambientales relacionadas con la deforestación y la calidad de los bosques en los Estados Unidos. El equipo de análisis de datos tiene la tarea de realizar una evaluación de las posibles estrategias de conservación para un bosque protegido en el estado de California. Como parte del proyecto de investigación, necesitan establecer algunas métricas descriptivas de la estratificación vertical del bosque (qué especies de árboles pertenecen al dosel y cuáles al sotobosque), diversidad de especies, biomasa, etc. Esto es importante porque si los árboles en este lugar específico exhibe características físicas diferentes a las de los árboles en el resto de California, es posible que sea necesario ajustar las estrategias para conservarlos para tener en cuenta estas particularidades.\n",
        "\n",
        "**Problema comercial.** Su trabajo es **determinar qué especies de árboles en el bosque protegido tienen alturas que difieren sustancialmente de las alturas promedio de esas especies en todo el estado de California.** A partir de esto, otros miembros del equipo procederán realizar estudios específicos de especies para investigar más a fondo las condiciones ecológicas de los lugares donde se encuentran estos árboles.\n",
        "\n",
        "**Contexto analítico.** Se le proporcionó un conjunto de datos de la encuesta que contiene datos de 18 especies del bosque protegido. La muestra contiene 100 árboles por especie."
      ],
      "metadata": {
        "id": "Mmfqhu1y5DVf"
      }
    },
    {
      "cell_type": "markdown",
      "source": [
        "La tabla con la que estaremos trabajando tiene las siguientes features:\n",
        "\n",
        "1. **CN**: un identificador de árbol único. Cada árbol en la encuesta tiene un número.\n",
        "2. **HT**: Altura del árbol en pies.\n",
        "3. **SITREE**: El [índice del sitio](https://en.wikipedia.org/wiki/Site_index) (altura normalizada por edad del árbol en pies)\n",
        "4. **common_name**: el nombre común de la especie arbórea.\n",
        "5. **scientific_name**: el nombre científico de la especie arbórea."
      ],
      "metadata": {
        "id": "rvcMWoUc5J6w"
      }
    },
    {
      "cell_type": "markdown",
      "metadata": {
        "tags": [
          "2_min"
        ],
        "id": "bkdkk6_cse2I"
      },
      "source": [
        "## ***Distribuciones de muestreo.***\n",
        "\n",
        "En la reserva hay 390.955 árboles de los que disponemos de datos censales. La altura media de todos esos árboles es de 57,35 pies (17,5 metros). Por lo tanto, decimos que la **población** consta de 390.955 árboles, y que la **media poblacional** de la altura de los árboles es de 57,35 pies (es decir, la media de la altura de todos los árboles de la población es de 57,35 pies). Denotaremos la media de la población como la letra griega $\\mu$.\n"
      ]
    },
    {
      "cell_type": "code",
      "source": [
        "censo = pd.read_csv(url_base + \"censo.csv\", names=[\"ID\",\"CN\", \"HT\"], header=0,\n",
        "                    usecols=[\"CN\",\"HT\"])\n",
        "display(censo.head())\n",
        "print(\"\\nTamaño de la población:\", censo.shape[0])"
      ],
      "metadata": {
        "colab": {
          "base_uri": "https://localhost:8080/",
          "height": 241
        },
        "id": "7ALQ29MUFNdO",
        "outputId": "ed98fe1a-8baa-494f-fba4-f537f5651c9c"
      },
      "execution_count": null,
      "outputs": [
        {
          "output_type": "display_data",
          "data": {
            "text/plain": [
              "                CN    HT\n",
              "0  248587121489998  35.0\n",
              "1    8888777010901  37.0\n",
              "2  449560175489998  51.0\n",
              "3  449558216489998  45.0\n",
              "4   23220187010497  39.0"
            ],
            "text/html": [
              "\n",
              "  <div id=\"df-88df0ea0-a2ce-47dd-b92e-ada28d3bd900\">\n",
              "    <div class=\"colab-df-container\">\n",
              "      <div>\n",
              "<style scoped>\n",
              "    .dataframe tbody tr th:only-of-type {\n",
              "        vertical-align: middle;\n",
              "    }\n",
              "\n",
              "    .dataframe tbody tr th {\n",
              "        vertical-align: top;\n",
              "    }\n",
              "\n",
              "    .dataframe thead th {\n",
              "        text-align: right;\n",
              "    }\n",
              "</style>\n",
              "<table border=\"1\" class=\"dataframe\">\n",
              "  <thead>\n",
              "    <tr style=\"text-align: right;\">\n",
              "      <th></th>\n",
              "      <th>CN</th>\n",
              "      <th>HT</th>\n",
              "    </tr>\n",
              "  </thead>\n",
              "  <tbody>\n",
              "    <tr>\n",
              "      <th>0</th>\n",
              "      <td>248587121489998</td>\n",
              "      <td>35.0</td>\n",
              "    </tr>\n",
              "    <tr>\n",
              "      <th>1</th>\n",
              "      <td>8888777010901</td>\n",
              "      <td>37.0</td>\n",
              "    </tr>\n",
              "    <tr>\n",
              "      <th>2</th>\n",
              "      <td>449560175489998</td>\n",
              "      <td>51.0</td>\n",
              "    </tr>\n",
              "    <tr>\n",
              "      <th>3</th>\n",
              "      <td>449558216489998</td>\n",
              "      <td>45.0</td>\n",
              "    </tr>\n",
              "    <tr>\n",
              "      <th>4</th>\n",
              "      <td>23220187010497</td>\n",
              "      <td>39.0</td>\n",
              "    </tr>\n",
              "  </tbody>\n",
              "</table>\n",
              "</div>\n",
              "      <button class=\"colab-df-convert\" onclick=\"convertToInteractive('df-88df0ea0-a2ce-47dd-b92e-ada28d3bd900')\"\n",
              "              title=\"Convert this dataframe to an interactive table.\"\n",
              "              style=\"display:none;\">\n",
              "        \n",
              "  <svg xmlns=\"http://www.w3.org/2000/svg\" height=\"24px\"viewBox=\"0 0 24 24\"\n",
              "       width=\"24px\">\n",
              "    <path d=\"M0 0h24v24H0V0z\" fill=\"none\"/>\n",
              "    <path d=\"M18.56 5.44l.94 2.06.94-2.06 2.06-.94-2.06-.94-.94-2.06-.94 2.06-2.06.94zm-11 1L8.5 8.5l.94-2.06 2.06-.94-2.06-.94L8.5 2.5l-.94 2.06-2.06.94zm10 10l.94 2.06.94-2.06 2.06-.94-2.06-.94-.94-2.06-.94 2.06-2.06.94z\"/><path d=\"M17.41 7.96l-1.37-1.37c-.4-.4-.92-.59-1.43-.59-.52 0-1.04.2-1.43.59L10.3 9.45l-7.72 7.72c-.78.78-.78 2.05 0 2.83L4 21.41c.39.39.9.59 1.41.59.51 0 1.02-.2 1.41-.59l7.78-7.78 2.81-2.81c.8-.78.8-2.07 0-2.86zM5.41 20L4 18.59l7.72-7.72 1.47 1.35L5.41 20z\"/>\n",
              "  </svg>\n",
              "      </button>\n",
              "      \n",
              "  <style>\n",
              "    .colab-df-container {\n",
              "      display:flex;\n",
              "      flex-wrap:wrap;\n",
              "      gap: 12px;\n",
              "    }\n",
              "\n",
              "    .colab-df-convert {\n",
              "      background-color: #E8F0FE;\n",
              "      border: none;\n",
              "      border-radius: 50%;\n",
              "      cursor: pointer;\n",
              "      display: none;\n",
              "      fill: #1967D2;\n",
              "      height: 32px;\n",
              "      padding: 0 0 0 0;\n",
              "      width: 32px;\n",
              "    }\n",
              "\n",
              "    .colab-df-convert:hover {\n",
              "      background-color: #E2EBFA;\n",
              "      box-shadow: 0px 1px 2px rgba(60, 64, 67, 0.3), 0px 1px 3px 1px rgba(60, 64, 67, 0.15);\n",
              "      fill: #174EA6;\n",
              "    }\n",
              "\n",
              "    [theme=dark] .colab-df-convert {\n",
              "      background-color: #3B4455;\n",
              "      fill: #D2E3FC;\n",
              "    }\n",
              "\n",
              "    [theme=dark] .colab-df-convert:hover {\n",
              "      background-color: #434B5C;\n",
              "      box-shadow: 0px 1px 3px 1px rgba(0, 0, 0, 0.15);\n",
              "      filter: drop-shadow(0px 1px 2px rgba(0, 0, 0, 0.3));\n",
              "      fill: #FFFFFF;\n",
              "    }\n",
              "  </style>\n",
              "\n",
              "      <script>\n",
              "        const buttonEl =\n",
              "          document.querySelector('#df-88df0ea0-a2ce-47dd-b92e-ada28d3bd900 button.colab-df-convert');\n",
              "        buttonEl.style.display =\n",
              "          google.colab.kernel.accessAllowed ? 'block' : 'none';\n",
              "\n",
              "        async function convertToInteractive(key) {\n",
              "          const element = document.querySelector('#df-88df0ea0-a2ce-47dd-b92e-ada28d3bd900');\n",
              "          const dataTable =\n",
              "            await google.colab.kernel.invokeFunction('convertToInteractive',\n",
              "                                                     [key], {});\n",
              "          if (!dataTable) return;\n",
              "\n",
              "          const docLinkHtml = 'Like what you see? Visit the ' +\n",
              "            '<a target=\"_blank\" href=https://colab.research.google.com/notebooks/data_table.ipynb>data table notebook</a>'\n",
              "            + ' to learn more about interactive tables.';\n",
              "          element.innerHTML = '';\n",
              "          dataTable['output_type'] = 'display_data';\n",
              "          await google.colab.output.renderOutput(dataTable, element);\n",
              "          const docLink = document.createElement('div');\n",
              "          docLink.innerHTML = docLinkHtml;\n",
              "          element.appendChild(docLink);\n",
              "        }\n",
              "      </script>\n",
              "    </div>\n",
              "  </div>\n",
              "  "
            ]
          },
          "metadata": {}
        },
        {
          "output_type": "stream",
          "name": "stdout",
          "text": [
            "\n",
            "Tamaño de la población: 390955\n"
          ]
        }
      ]
    },
    {
      "cell_type": "code",
      "source": [
        "censo.info()"
      ],
      "metadata": {
        "colab": {
          "base_uri": "https://localhost:8080/"
        },
        "id": "IGbJkYpPnzSq",
        "outputId": "2a7f6ff1-5da7-4b19-b0df-5b50c6e66a03"
      },
      "execution_count": null,
      "outputs": [
        {
          "output_type": "stream",
          "name": "stdout",
          "text": [
            "<class 'pandas.core.frame.DataFrame'>\n",
            "RangeIndex: 390955 entries, 0 to 390954\n",
            "Data columns (total 2 columns):\n",
            " #   Column  Non-Null Count   Dtype  \n",
            "---  ------  --------------   -----  \n",
            " 0   CN      390955 non-null  int64  \n",
            " 1   HT      357186 non-null  float64\n",
            "dtypes: float64(1), int64(1)\n",
            "memory usage: 6.0 MB\n"
          ]
        }
      ]
    },
    {
      "cell_type": "code",
      "source": [
        "media, std = censo['HT'].mean(), censo['HT'].std()\n",
        "string = \"La media y desviación poblacional son respectivamente: {:.2f} pies y {:.2f} pies.\"\n",
        "print(string.format(media,std))"
      ],
      "metadata": {
        "colab": {
          "base_uri": "https://localhost:8080/"
        },
        "id": "V2Ejaw1bnxXv",
        "outputId": "c863aeda-e88b-4179-97af-7bdeaae55333"
      },
      "execution_count": null,
      "outputs": [
        {
          "output_type": "stream",
          "name": "stdout",
          "text": [
            "La media y desviación poblacional son respectivamente: 57.35 pies y 39.62 pies.\n"
          ]
        }
      ]
    },
    {
      "cell_type": "markdown",
      "source": [
        "***Aquí está la distribución de las alturas de los árboles en la población, con $\\mu=57.35$ representado como una línea vertical en rojo:***\n"
      ],
      "metadata": {
        "id": "Vx-lEC4cogZH"
      }
    },
    {
      "cell_type": "code",
      "source": [
        "media = censo['HT'].mean()\n",
        "##\n",
        "plt.figure(figsize = (15,6))\n",
        "sns.histplot(data = censo, x = \"HT\", kde = True, color = \"green\")\n",
        "plt.axvline(x = media, ymin = 0, ymax = 0.97, color = \"red\")\n",
        "plt.text(media+5,10000,\"\\u03BC = {:.2f}\".format(media), fontsize = 15, color = \"red\")\n",
        "plt.title(\"Distribución de la altura de los árboles (en pies).\")\n",
        "plt.show()"
      ],
      "metadata": {
        "colab": {
          "base_uri": "https://localhost:8080/",
          "height": 404
        },
        "id": "ZmOfIW2LOyAA",
        "outputId": "39646f05-7469-42c2-9518-41dba5d74421"
      },
      "execution_count": null,
      "outputs": [
        {
          "output_type": "display_data",
          "data": {
            "text/plain": [
              "<Figure size 1080x432 with 1 Axes>"
            ],
            "image/png": "[encoded data removed]"
          },
          "metadata": {}
        }
      ]
    },
    {
      "cell_type": "markdown",
      "source": [
        "En muchos escenarios del mundo real, no tenemos acceso a toda la población de datos, en cambio, tenemos muestras. Esto crea incertidumbre porque es muy poco probable que la media de una muestra determinada sea exactamente igual a la media de la población de la que se extrae, incluso si la muestra es grande y se tomó al azar.\n",
        "\n",
        "Debido a esto, vamos a analizar las **distribuciones muestrales**. La distribución muestral de la media muestral debe construirse utilizando muchos valores. La distribución muestral de la media muestral es la distribución de las medias de muchas muestras extraídas al azar de la población.\n",
        "\n",
        "Por ejemplo, sabemos que la reserva tiene 390.955 árboles y que $\\mu=57,5$. Podemos tomar muestras de 20 árboles a la vez y calcular sus medias muestrales así:"
      ],
      "metadata": {
        "id": "SGig4wmXG29B"
      }
    },
    {
      "cell_type": "code",
      "source": [
        "censo[\"HT\"].sample(20)"
      ],
      "metadata": {
        "colab": {
          "base_uri": "https://localhost:8080/"
        },
        "id": "M4Ww1dakLtfI",
        "outputId": "8ecf9694-3ccd-4e7c-e8fe-a10a62c30ff2"
      },
      "execution_count": null,
      "outputs": [
        {
          "output_type": "execute_result",
          "data": {
            "text/plain": [
              "136799     80.0\n",
              "240676    161.0\n",
              "194036     60.0\n",
              "169094     32.0\n",
              "41452     100.0\n",
              "380466    101.0\n",
              "217842      NaN\n",
              "127352     32.0\n",
              "321926     88.0\n",
              "375003      NaN\n",
              "36091      23.0\n",
              "134404     31.0\n",
              "110344     58.0\n",
              "65578      28.0\n",
              "196343      8.0\n",
              "336560     30.0\n",
              "67903      88.0\n",
              "233241     39.0\n",
              "101908     99.0\n",
              "277101     28.0\n",
              "Name: HT, dtype: float64"
            ]
          },
          "metadata": {},
          "execution_count": 7
        }
      ]
    },
    {
      "cell_type": "code",
      "source": [
        "np.random.seed(1) ## Semilla para replicar los resultados.\n",
        "a = {\"Muestra {}\".format(i+1):censo[\"HT\"].sample(20).mean() for i in range(10)}\n",
        "pd.DataFrame.from_dict(a,orient='index', columns = [\"Media\"]).T"
      ],
      "metadata": {
        "colab": {
          "base_uri": "https://localhost:8080/",
          "height": 81
        },
        "id": "v502eL5gZWZo",
        "outputId": "b5d26e52-ee74-426f-8d25-82c933850126"
      },
      "execution_count": null,
      "outputs": [
        {
          "output_type": "execute_result",
          "data": {
            "text/plain": [
              "       Muestra 1  Muestra 2  Muestra 3  Muestra 4  Muestra 5  Muestra 6  \\\n",
              "Media  64.411765  49.944444  54.352941  61.666667  49.117647  60.473684   \n",
              "\n",
              "       Muestra 7  Muestra 8  Muestra 9  Muestra 10  \n",
              "Media  79.368421  48.315789  47.052632   50.631579  "
            ],
            "text/html": [
              "\n",
              "  <div id=\"df-a63120e1-18c0-47d7-a537-3a5e2ef92e28\">\n",
              "    <div class=\"colab-df-container\">\n",
              "      <div>\n",
              "<style scoped>\n",
              "    .dataframe tbody tr th:only-of-type {\n",
              "        vertical-align: middle;\n",
              "    }\n",
              "\n",
              "    .dataframe tbody tr th {\n",
              "        vertical-align: top;\n",
              "    }\n",
              "\n",
              "    .dataframe thead th {\n",
              "        text-align: right;\n",
              "    }\n",
              "</style>\n",
              "<table border=\"1\" class=\"dataframe\">\n",
              "  <thead>\n",
              "    <tr style=\"text-align: right;\">\n",
              "      <th></th>\n",
              "      <th>Muestra 1</th>\n",
              "      <th>Muestra 2</th>\n",
              "      <th>Muestra 3</th>\n",
              "      <th>Muestra 4</th>\n",
              "      <th>Muestra 5</th>\n",
              "      <th>Muestra 6</th>\n",
              "      <th>Muestra 7</th>\n",
              "      <th>Muestra 8</th>\n",
              "      <th>Muestra 9</th>\n",
              "      <th>Muestra 10</th>\n",
              "    </tr>\n",
              "  </thead>\n",
              "  <tbody>\n",
              "    <tr>\n",
              "      <th>Media</th>\n",
              "      <td>64.411765</td>\n",
              "      <td>49.944444</td>\n",
              "      <td>54.352941</td>\n",
              "      <td>61.666667</td>\n",
              "      <td>49.117647</td>\n",
              "      <td>60.473684</td>\n",
              "      <td>79.368421</td>\n",
              "      <td>48.315789</td>\n",
              "      <td>47.052632</td>\n",
              "      <td>50.631579</td>\n",
              "    </tr>\n",
              "  </tbody>\n",
              "</table>\n",
              "</div>\n",
              "      <button class=\"colab-df-convert\" onclick=\"convertToInteractive('df-a63120e1-18c0-47d7-a537-3a5e2ef92e28')\"\n",
              "              title=\"Convert this dataframe to an interactive table.\"\n",
              "              style=\"display:none;\">\n",
              "        \n",
              "  <svg xmlns=\"http://www.w3.org/2000/svg\" height=\"24px\"viewBox=\"0 0 24 24\"\n",
              "       width=\"24px\">\n",
              "    <path d=\"M0 0h24v24H0V0z\" fill=\"none\"/>\n",
              "    <path d=\"M18.56 5.44l.94 2.06.94-2.06 2.06-.94-2.06-.94-.94-2.06-.94 2.06-2.06.94zm-11 1L8.5 8.5l.94-2.06 2.06-.94-2.06-.94L8.5 2.5l-.94 2.06-2.06.94zm10 10l.94 2.06.94-2.06 2.06-.94-2.06-.94-.94-2.06-.94 2.06-2.06.94z\"/><path d=\"M17.41 7.96l-1.37-1.37c-.4-.4-.92-.59-1.43-.59-.52 0-1.04.2-1.43.59L10.3 9.45l-7.72 7.72c-.78.78-.78 2.05 0 2.83L4 21.41c.39.39.9.59 1.41.59.51 0 1.02-.2 1.41-.59l7.78-7.78 2.81-2.81c.8-.78.8-2.07 0-2.86zM5.41 20L4 18.59l7.72-7.72 1.47 1.35L5.41 20z\"/>\n",
              "  </svg>\n",
              "      </button>\n",
              "      \n",
              "  <style>\n",
              "    .colab-df-container {\n",
              "      display:flex;\n",
              "      flex-wrap:wrap;\n",
              "      gap: 12px;\n",
              "    }\n",
              "\n",
              "    .colab-df-convert {\n",
              "      background-color: #E8F0FE;\n",
              "      border: none;\n",
              "      border-radius: 50%;\n",
              "      cursor: pointer;\n",
              "      display: none;\n",
              "      fill: #1967D2;\n",
              "      height: 32px;\n",
              "      padding: 0 0 0 0;\n",
              "      width: 32px;\n",
              "    }\n",
              "\n",
              "    .colab-df-convert:hover {\n",
              "      background-color: #E2EBFA;\n",
              "      box-shadow: 0px 1px 2px rgba(60, 64, 67, 0.3), 0px 1px 3px 1px rgba(60, 64, 67, 0.15);\n",
              "      fill: #174EA6;\n",
              "    }\n",
              "\n",
              "    [theme=dark] .colab-df-convert {\n",
              "      background-color: #3B4455;\n",
              "      fill: #D2E3FC;\n",
              "    }\n",
              "\n",
              "    [theme=dark] .colab-df-convert:hover {\n",
              "      background-color: #434B5C;\n",
              "      box-shadow: 0px 1px 3px 1px rgba(0, 0, 0, 0.15);\n",
              "      filter: drop-shadow(0px 1px 2px rgba(0, 0, 0, 0.3));\n",
              "      fill: #FFFFFF;\n",
              "    }\n",
              "  </style>\n",
              "\n",
              "      <script>\n",
              "        const buttonEl =\n",
              "          document.querySelector('#df-a63120e1-18c0-47d7-a537-3a5e2ef92e28 button.colab-df-convert');\n",
              "        buttonEl.style.display =\n",
              "          google.colab.kernel.accessAllowed ? 'block' : 'none';\n",
              "\n",
              "        async function convertToInteractive(key) {\n",
              "          const element = document.querySelector('#df-a63120e1-18c0-47d7-a537-3a5e2ef92e28');\n",
              "          const dataTable =\n",
              "            await google.colab.kernel.invokeFunction('convertToInteractive',\n",
              "                                                     [key], {});\n",
              "          if (!dataTable) return;\n",
              "\n",
              "          const docLinkHtml = 'Like what you see? Visit the ' +\n",
              "            '<a target=\"_blank\" href=https://colab.research.google.com/notebooks/data_table.ipynb>data table notebook</a>'\n",
              "            + ' to learn more about interactive tables.';\n",
              "          element.innerHTML = '';\n",
              "          dataTable['output_type'] = 'display_data';\n",
              "          await google.colab.output.renderOutput(dataTable, element);\n",
              "          const docLink = document.createElement('div');\n",
              "          docLink.innerHTML = docLinkHtml;\n",
              "          element.appendChild(docLink);\n",
              "        }\n",
              "      </script>\n",
              "    </div>\n",
              "  </div>\n",
              "  "
            ]
          },
          "metadata": {},
          "execution_count": 8
        }
      ]
    },
    {
      "cell_type": "markdown",
      "source": [
        "Podemos crear una tabla de frecuencia con todas estas medias muestrales y eso constituiría ***nuestra distribución muestral de la media muestral***. Como vemos, estas medias de muestra están bastante cerca de $\\mu$, pero ninguna es exactamente igual a $\\mu$. Esta variación se debe al hecho de que nuestro tamaño de muestra es más pequeño que el tamaño de la población. Sin embargo, aún podemos obtener una muy buena estimación de $\\mu$ al estudiar la ***distribución muestral de la media muestral.***"
      ],
      "metadata": {
        "id": "bB9qo4zGa00E"
      }
    },
    {
      "cell_type": "markdown",
      "metadata": {
        "tags": [
          "7_min"
        ],
        "id": "-s1gn0BIse2L"
      },
      "source": [
        "#### ***Ejercicio 1.***\n",
        "\n",
        "\n",
        "La función de la celda de abajo muestra la distribución  muestral de la media muestral para diferentes tamaños de muestra $n$ en nuestro conjunto de datos del censo de la reserva. Cambie los valores de los parámetros. Por ejemplo, si establece $n=50$ y el número de muestras en $m=100$, entonces la función tomará 100 muestras de 50 árboles cada una de la población, encontrará la media de cada muestra y trazará la distribución muestral de todas las medias muestrales.\n",
        "\n",
        "A partir de esto, calculamos la media de la distribución muestral y la imprimimos en azul. También damos como referencia la media poblacional (la sabemos del censo) en color rojo.\n",
        "\n",
        "Experimente con diferentes valores de $n$ y de $m$ (número de muestras). ¿Qué observa acerca de la relación entre la media de la distribución muestral y la media de la población?"
      ]
    },
    {
      "cell_type": "code",
      "source": [
        "def plot_media_muestral(df_Serie,n=1,m=1):\n",
        "    '''\n",
        "    Input:  df_serie =  Serie de Pandas con la columna a muestrear.\n",
        "            n = Tamaño de la muestra.\n",
        "            m = número de muestras.\n",
        "    Output: Plot con la media poblacional (recta roja), distribución de muestreo y la media\n",
        "            muestral (recta vertical azul).\n",
        "    '''\n",
        "    mean_population = df_Serie.mean()\n",
        "    info = [df_Serie.sample(n).mean() for i in range(m)]\n",
        "    mean_sample = sum(info)/len(info)\n",
        "    plt.figure(figsize=(15,6))\n",
        "    sns.histplot(x = info, kde = True, color = \"green\",stat = \"density\", bins = 20)\n",
        "    plt.axvline(x = mean_population, color = \"red\")\n",
        "    plt.axvline(x = mean_sample)\n",
        "    plt.text(mean_population+0.5,0.01,\"\\u03BC = {:.2f}\".format(mean_population),\n",
        "             fontsize = 15, color = \"red\")\n",
        "    plt.text(mean_sample-3,0.02,\"media muestral= {:.2f}\".format(mean_sample),\n",
        "             fontsize = 15, color = \"blue\")\n",
        "    plt.title(f'Muestras de tamaño {n}. Total de muestras {m}', fontsize = 22,\n",
        "              fontstyle = \"italic\")\n",
        "    plt.xlim(20,100)\n",
        "    plt.show()\n",
        "    return None"
      ],
      "metadata": {
        "id": "06sGj-bQblI8"
      },
      "execution_count": null,
      "outputs": []
    },
    {
      "cell_type": "code",
      "source": [
        "## 1000 muestras de tamaño n = 5\n",
        "plot_media_muestral(censo['HT'],5,1000)"
      ],
      "metadata": {
        "colab": {
          "base_uri": "https://localhost:8080/",
          "height": 396
        },
        "id": "rULv04W3yV7P",
        "outputId": "ffe7f806-dda1-4ad9-e097-057d82611d87"
      },
      "execution_count": null,
      "outputs": [
        {
          "output_type": "display_data",
          "data": {
            "text/plain": [
              "<Figure size 1080x432 with 1 Axes>"
            ],
            "image/png": "[encoded data removed]"
          },
          "metadata": {}
        }
      ]
    },
    {
      "cell_type": "code",
      "source": [
        "## 500 muestras de tamaño n = 50\n",
        "plot_media_muestral(censo['HT'],50,500)"
      ],
      "metadata": {
        "colab": {
          "base_uri": "https://localhost:8080/",
          "height": 396
        },
        "id": "qwNgW4DrfRyS",
        "outputId": "4a129208-400a-4405-fd77-949f54d002d7"
      },
      "execution_count": null,
      "outputs": [
        {
          "output_type": "display_data",
          "data": {
            "text/plain": [
              "<Figure size 1080x432 with 1 Axes>"
            ],
            "image/png": "[encoded data removed]"
          },
          "metadata": {}
        }
      ]
    },
    {
      "cell_type": "code",
      "source": [
        "## 1000 muestras de tamaño n = 300\n",
        "plot_media_muestral(censo['HT'],300,1000)"
      ],
      "metadata": {
        "colab": {
          "base_uri": "https://localhost:8080/",
          "height": 396
        },
        "id": "0NKeRHG1yxKR",
        "outputId": "2f5dfa27-7bb8-451a-efdd-40e71575dd8e"
      },
      "execution_count": null,
      "outputs": [
        {
          "output_type": "display_data",
          "data": {
            "text/plain": [
              "<Figure size 1080x432 with 1 Axes>"
            ],
            "image/png": "[encoded data removed]"
          },
          "metadata": {}
        }
      ]
    },
    {
      "cell_type": "code",
      "source": [
        "## 1000 muestras de tamaño n = 5\n",
        "plot_media_muestral(censo['HT'],500,1000)"
      ],
      "metadata": {
        "colab": {
          "base_uri": "https://localhost:8080/",
          "height": 396
        },
        "id": "VIOXFgVMq2yz",
        "outputId": "71f4bd0c-cbd9-438c-f6db-2232f75f3fff"
      },
      "execution_count": null,
      "outputs": [
        {
          "output_type": "display_data",
          "data": {
            "text/plain": [
              "<Figure size 1080x432 with 1 Axes>"
            ],
            "image/png": "[encoded data removed]"
          },
          "metadata": {}
        }
      ]
    },
    {
      "cell_type": "markdown",
      "metadata": {
        "tags": [
          "ans_st"
        ],
        "id": "5BaGP2aese2M"
      },
      "source": [
        "***Respuesta.*** Debe haber observado alguno (o todos) de las siguientes comentarios.\n",
        "\n",
        "1. Con muchas muestras, la media de las medias muestrales convergerá a $\\mu$. Esto será cierto incluso si los tamaños de muestra en sí son pequeños. (Ley de los grandes número)\n",
        "\n",
        "2. La dispersión de la distribución depende del tamaño de la muestra. Cuanto menor sea el tamaño de la muestra, más amplia será la distribución. (Pensar en el TLC)\n",
        "\n",
        "3. A medida que aumenta el tamaño de la muestra, suponiendo un gran número de muestras, la distribución muestral de la media muestral comienza a tener forma de campana (Teorema del límite central)."
      ]
    },
    {
      "cell_type": "markdown",
      "metadata": {
        "tags": [
          "2_min"
        ],
        "id": "nLD9yXakse2N"
      },
      "source": [
        "---\n",
        "### ***$p$-valores.*** <font/>\n",
        "---\n",
        "\n",
        "\n",
        "Otro concepto importante que necesitaremos para responder a la pregunta de investigación es el de los **$p$-valores**. Un $p$-valor indica la probabilidad de que obtenga un número determinado o mayor cuando toma una muestra al azar de un distribución dada."
      ]
    },
    {
      "cell_type": "markdown",
      "metadata": {
        "tags": [
          "3_min"
        ],
        "id": "5kMloFVGse2Q"
      },
      "source": [
        "#### ***Ejercicio 2.***\n",
        "\n",
        "#### ***2.1***\n",
        "\n",
        "Supongamos que tenemos dos medias muestrales $A$ y $B$ como se muestra a continuación:"
      ]
    },
    {
      "cell_type": "code",
      "source": [
        "mu, S, df, nc = censo[\"HT\"].mean(), censo[\"HT\"].std(), 199, 0 ## Media, desviación estandar, df.\n",
        "se = S/np.sqrt(200)                                           ## Error estandar.\n",
        "x = np.linspace(nct.ppf(0.0000001, 199, 0, loc=mu, scale=se),\n",
        "                nct.ppf(0.9999999, 199, 0, loc=mu, scale=se), 1000)\n",
        "pdf = nct.pdf(x, 199, 0, loc = mu, scale = se)\n",
        "##\n",
        "plt.figure(figsize = (15,6))\n",
        "sns.lineplot(x = x, y = pdf)\n",
        "plt.axvline(x = censo['HT'].mean(), color = \"red\")\n",
        "plt.axvline(x = 60, color = \"grey\")\n",
        "plt.axvline(x = 62, color = \"cyan\")\n",
        "plt.text(60.2,0.04,\"A\", fontsize = 15, color = \"grey\")\n",
        "plt.text(62.2,0.04,\"B\", fontsize = 15, color = \"cyan\")\n",
        "plt.text(mu+0.1,0.04,\"\\u03BC\", fontsize = 15, color = \"red\")\n",
        "plt.title(\"Distribución de muestreo de la media muestral.\")\n",
        "plt.show()"
      ],
      "metadata": {
        "id": "oM-CvXtFvE5s"
      },
      "execution_count": null,
      "outputs": []
    },
    {
      "cell_type": "markdown",
      "source": [
        "\n",
        "¿Es más probable observar $A$ o un valor mayor, o $B$ o un valor mayor, dada nuestra distribución de muestreo?"
      ],
      "metadata": {
        "id": "z3oR0Jmdp_N-"
      }
    },
    {
      "cell_type": "markdown",
      "metadata": {
        "tags": [
          "ans_st"
        ],
        "id": "hFJrieI6se2Q"
      },
      "source": [
        "***Respuesta.*** $A$ o que sea mayor es más probable. Vea que $A$ tiene una mayor densidad de probabilidad a su alrededor y, además, su $p$-valor es mayor que el de $B$. Podemos decir que la media muestral $B$ es *más extrema* que la media muestral $A$, lo que hace que los valores $x_{i}\\geq B$ sean menos probables de observar bajo la distribución muestral."
      ]
    },
    {
      "cell_type": "markdown",
      "metadata": {
        "tags": [
          "4_min"
        ],
        "id": "kP4os8b7se2Q"
      },
      "source": [
        "#### ***2.2***\n",
        "\n",
        "Ahora compare la media muestral $B$ con una tercera media muestral $C$. ¿Es plausible observar $C$ como media muestral? ¿Puede decir algo sobre la población de la que se tomó la muestra $C$?"
      ]
    },
    {
      "cell_type": "code",
      "source": [
        "plt.figure(figsize = (15,6))\n",
        "sns.lineplot(x = x, y = pdf)\n",
        "plt.axvline(x = mu, color = \"red\")\n",
        "plt.axvline(x = 62, color = \"cyan\")\n",
        "plt.axvline(x = 69, color = \"green\")\n",
        "plt.text(62.2,0.04,\"B\", fontsize = 15, color = \"cyan\")\n",
        "plt.text(69.2,0.04,\"C\", fontsize = 15, color = \"green\")\n",
        "plt.text(mu+0.2,0.04,\"\\u03BC\", fontsize = 15, color = \"red\")\n",
        "plt.title(\"Distribución de muestreo de la media muestral.\")\n",
        "plt.show()"
      ],
      "metadata": {
        "id": "vXt5jLmd5dgI"
      },
      "execution_count": null,
      "outputs": []
    },
    {
      "cell_type": "markdown",
      "metadata": {
        "tags": [
          "ans_st"
        ],
        "id": "WJlu9Rfzse2R"
      },
      "source": [
        "**Respuesta.** La muestra $C$ tiene *alguna* probabilidad de ser de la misma población que la nuestra; sin embargo, esta probabilidad es muy baja. Esto podría interpretarse como una sugerencia de que $C$ en realidad proviene de una población diferente.\n",
        "\n",
        "En otras palabras, cuanto más lejos esté la media de una muestra de $\\mu$, *menos* probable es que la población de la que se tomó tenga una media poblacional de $\\mu$."
      ]
    },
    {
      "cell_type": "markdown",
      "source": [
        "---\n",
        "\n",
        "### ***Pruebas de hipótesis.***\n",
        "\n",
        "---\n",
        "\n",
        "Que dos valores sean estadísticamente iguales es diferente a decir que son aritméticamente iguales. Supongamos que $\\bar{X}=56 \\text{ pies}$, sabemos que $\\mu=57.35 \\text{ ft}$. Claramente, esos dos son números muy diferentes, por lo que no son aritméticamente iguales. Sin embargo, podemos argumentar razonablemente que la muestra a partir de la cual se calculó $\\bar{X}$ *provino de hecho de una población con una media de $\\mu_1=\\mu$*, y que la diferencia de $1,35 \\text{ft}$ se debió al hecho de que solo observamos una muestra, en lugar de toda la población. En otras palabras, el argumento es así:\n",
        "\n",
        "> \"Hay una diferencia entre $\\bar{X}$ y $\\mu$, pero si aumenta el tamaño de su muestra para que sea toda la población, probablemente encontrará que $\\bar{X}= \\mu_1=\\mu=57,35$. Esperamos que la diferencia entre $\\bar{X}$ y $\\mu$ se reduzca a cero a medida que aumentamos el tamaño de la muestra. Por lo tanto, ajustada por la variabilidad normal del muestreo, la diferencia entre $\\bar{\\mu_1}$ (estimado por $\\bar{X}$) y $\\mu$ no es **estadísticamente significativa.**\"\n",
        "\n",
        "Podemos usar **pruebas de hipótesis** para determinar si la diferencia entre $\\mu$ y la media $\\mu_1$ de la población de la que se tomó la media muestral $\\bar{X}$ es estadísticamente significativa. Una **hipótesis** es simplemente una suposición informada que hacen los analistas de datos, y esta suposición puede o no tener evidencia que la respalde. Probamos nuestra conjetura reuniendo evidencia a favor o en contra, y evaluamos la solidez de esa evidencia para determinar la validez de nuestra hipótesis.\n",
        "\n",
        "El primer paso en la prueba de hipótesis es definir la **hipótesis nula** (frecuentemente denotada como $H_0$). Para nosotros, la hipótesis nula siempre corresponderá a la afirmación más conservadora. Muchas veces, esta hipótesis conservadora será $ H_0: \\mu_1=\\mu$."
      ],
      "metadata": {
        "id": "bP493mSL5-rZ"
      }
    },
    {
      "cell_type": "markdown",
      "source": [
        "### ***La hipótesis alternativa.***\n",
        "\n",
        "Realizamos pruebas de hipótesis para desafiar nuestras afirmaciones (hipótesis), usamos métodos conservadores para asegurarnos de no rechazarlas con demasiada facilidad. En ese sentido, la ciencia limita su velocidad de innovación para reducir el riesgo de llegar a resultados demasiado audaces y arriesgados. Una buena analogía es el principio que rige numerosos sistemas judiciales en todo el mundo: _\"[Inocente hasta que se pruebe su culpabilidad](https://en.wikipedia.org/wiki/Presumption_of_innocence)\"_. En otras palabras, mantendremos la hipótesis nula a menos que encontremos pruebas sólidas en su contra.\n",
        "\n",
        "Note que este enfoque, como es el caso con el sistema judicial, no es perfecto. Incluso si no encontramos suficiente evidencia en contra de la hipótesis nula, la hipótesis nula aún puede resultar incorrecta.\n",
        "\n",
        "Para formalizar esto, definimos una **hipótesis alternativa** (a menudo indicada con $H_1$ o $H_a$) que desafía la hipótesis consevadora. Hay tres formas diferentes de definir una hipótesis alternativa:\n",
        "\n",
        "1. $H_a: \\mu_1\\neq \\mu$ (prueba bilateral)\n",
        "\n",
        "2. $H_a: \\mu_1 < \\mu$ (prueba unilateral)\n",
        "\n",
        "3. $H_a: \\mu_1 > \\mu$ (prueba unilateral)\n",
        "\n",
        "Definamos nuestra hipótesis alternativa como $H_a: \\mu_1 > \\mu$ (la tercera opción) por ahora (veremos las otras más adelante). Cuestionamos la suposición de que las medias de las dos poblaciones son estadísticamente iguales y queremos demostrar que la media de la población *desconocida* de la que se tomó nuestra muestra es mayor que la media $\\mu$ de la población *conocida*.\n",
        "\n",
        "***Test de hipótesis***\n",
        "\n",
        "$$ H_0: \\mu_1=57.35$$\n",
        "$$VS.$$\n",
        "$$H_a: \\mu_1 > 57.35$$"
      ],
      "metadata": {
        "id": "lEoNzuF1ObS_"
      }
    },
    {
      "cell_type": "markdown",
      "source": [
        "### ***Contexto***\n",
        "\n",
        "1. Nosotros conocemos que la media poblacional es $\\mu=57.35$.\n",
        "\n",
        "2. ***TLC:*** Sea $X_1,X_2,X_3, \\dots , X_n$ un conjunto de variables aleatorias independientes e identicamente distribuidas, cada una de ellas con función de distribución $F$, y supongamos que $E(X_k)=\\mu$\n",
        "y $Var(X_k)=\\sigma^2$\n",
        "\n",
        "  Si\n",
        "\n",
        "  $$\\bar{X}=\\frac{X_1+X_2+X_3+\\dots X_n}{n}$$\n",
        "\n",
        "  entonces\n",
        "\n",
        "  $$\\bar{X} \\longrightarrow N\\left(\\mu, \\frac{\\sigma^2}{n}\\right)$$\n",
        "\n",
        "3. Al tomar una muestra \"grande\" podemos hacer uso del ***TLC*** para pensar en la distribución muestral de la media muestral. **PROBLEMA:** En las situaciones reales no conocemos $\\mu$ (valor esperado) ni $\\sigma^{2}$ (varianza).\n",
        "\n",
        "4. Al realizar la prueba de hipótesis, suponemos que $H_0$ es verdadera, en cuyo caso ya no desconocemos a $\\mu$, quien sigue siendo desconocido es $\\sigma^{2}$.\n",
        "\n",
        "5. El problema del desconocimiento de $\\sigma^{2}$ se soluciona tomando a:\n",
        "\n",
        "  $$T = \\frac{\\bar{X}-\\mu}{S/\\sqrt{n}} $$\n",
        "\n",
        "  Quien distribuye $T\\sim t_{n-1}$, donde $S$ es la desviación estandar de la muestra."
      ],
      "metadata": {
        "id": "w6KFgg9UA7tj"
      }
    },
    {
      "cell_type": "markdown",
      "metadata": {
        "tags": [
          "4_min"
        ],
        "id": "IuokaShKse2S"
      },
      "source": [
        "#### ***Ejercicio 3.***\n",
        "\n",
        "Repasemos el diagrama del ejercicio anterior:\n",
        "\n"
      ]
    },
    {
      "cell_type": "code",
      "source": [
        "plt.figure(figsize = (15,6))\n",
        "sns.lineplot(x = x, y = pdf)\n",
        "plt.axvline(x = mu, color = \"red\")\n",
        "plt.axvline(x = 62, color = \"cyan\")\n",
        "plt.axvline(x = 69, color = \"green\")\n",
        "plt.text(62.2,0.04,\"B\", fontsize = 15, color = \"cyan\")\n",
        "plt.text(69.2,0.04,\"C\", fontsize = 15, color = \"green\")\n",
        "plt.text(mu+0.2,0.04,\"\\u03BC\", fontsize = 15, color = \"red\")\n",
        "plt.title(\"Distribución de muestreo de la media muestral.\")\n",
        "plt.show()"
      ],
      "metadata": {
        "id": "wURSeh7PPg-1"
      },
      "execution_count": null,
      "outputs": []
    },
    {
      "cell_type": "markdown",
      "source": [
        "Supongamos que cree que la media de la población de la que se extrajo la media muestral $B$ es estadísticamente igual a $57.35$, mientras que la media de la población de la que se extrajo la media muestral $C$ no lo es. Quiere convencer que este es el caso. Piense en un criterio más objetivo para determinar si una media poblacional inferida es estadísticamente diferente de $57.35$ o no."
      ],
      "metadata": {
        "id": "Ct5TCij9PwKC"
      }
    },
    {
      "cell_type": "markdown",
      "metadata": {
        "tags": [
          "ans_st"
        ],
        "id": "F0Fnrvk6se2S"
      },
      "source": [
        "**Respuesta.** Una forma razonable de hacer que el proceso sea menos subjetivo (aunque no lo hace completamente objetivo) es definir un umbral en el eje $x$ más allá del cual los valores se considerarán significativamente diferentes de la media de la población."
      ]
    },
    {
      "cell_type": "markdown",
      "metadata": {
        "tags": [
          "8_min"
        ],
        "id": "EWmBkKuTse2S"
      },
      "source": [
        "---\n",
        "\n",
        "## ***Valores críticos y niveles de significancia.*** <font/>\n",
        "\n",
        "---\n",
        "\n",
        "\n",
        "Podemos definir un punto de corte en nuestra distribución, de modo que siempre que la media de una muestra caiga más allá de ese punto, podemos decir con confianza que su media poblacional inferida es estadísticamente diferente de $\\mu$. Estos puntos de corte se denominan **valores críticos**. Por ejemplo, digamos que nuestro valor crítico es 65 pies:"
      ]
    },
    {
      "cell_type": "code",
      "source": [
        "plt.figure(figsize = (15,6))\n",
        "sns.lineplot(x = x, y = pdf)\n",
        "plt.axvline(x = censo['HT'].mean(), color = \"red\")\n",
        "plt.axvline(x = 62, color = \"cyan\")\n",
        "plt.axvline(x = 69, color = \"green\")\n",
        "plt.text(62+0.1,0.04,\"B\", fontsize = 15, color = \"cyan\")\n",
        "plt.text(69+0.1,0.04,\"C\", fontsize = 15, color = \"green\")\n",
        "plt.text(mu+0.1,0.04,\"\\u03BC\", fontsize = 15, color = \"red\")\n",
        "plt.title(\"Distribución de muestreo de la media muestral\")\n",
        "plt.plot(65,0, marker=\"o\", color=\"red\",markersize = 20)\n",
        "plt.show()"
      ],
      "metadata": {
        "id": "R7bbJxHQQQOw"
      },
      "execution_count": null,
      "outputs": []
    },
    {
      "cell_type": "markdown",
      "source": [
        "Por lo tanto:\n",
        "\n",
        "* Como $B < 65$, decimos que la media poblacional inferida de $B$ *no* es estadísticamente diferente de $\\mu$. No podemos probarlo, pero tampoco podemos refutarlo, y como estamos siendo conservadores, nos atenemos a la hipótesis nula (aunque no podemos decir que sea 100% correcta) y decimos que *no logramos rechazar la nula hipótesis*.\n",
        "\n",
        "* Como $C > 65$, decimos que la media poblacional inferida de $C$ es estadísticamente diferente de $\\mu$. En otras palabras, *rechazamos la hipótesis nula*. (Todavía hay alguna probabilidad de que $C$ no sea estadísticamente diferente de $\\mu$, pero esa probabilidad en este caso es suficientemente pequeña).\n",
        "\n"
      ],
      "metadata": {
        "id": "aXIO3NqGQJRd"
      }
    },
    {
      "cell_type": "markdown",
      "source": [
        "El problema con los valores críticos es que tienen que ser redefinidos en cada situación o prueba de hipótesis. Por ejemplo, si nuestro conjunto de datos tuviera medidas del diámetro del tronco en pulgadas, entonces nuestro punto de corte tendría que ajustarse para que esté en pulgadas y toda la comunidad científica tendría que ponerse de acuerdo sobre qué valor crítico tendría más sentido: ¿4 pulgadas? ¿6 pulgadas? ¿1 pulgada?\n",
        "\n",
        "La forma de resolver este problema es definir nuestros valores críticos indirectamente, usando algo llamado ***niveles de significancia***. Un nivel de significancia es simplemente el $p$-valor que corresponde a un valor crítico dado. Por ejemplo, en nuestra distribución (con $n=200$), el valor $p$ para el valor crítico a 65 pies es 0,003886. Para evitar confusiones entre el $p$-valor de la media de una muestra y el $p$-valor de un valor crítico, usamos la letra griega $\\alpha$ para representar el nivel de significancia.\n",
        "\n",
        "Luego, los científicos pueden ponerse de acuerdo sobre niveles de significancia razonables (que son independientes de la unidad, ya que son probabilidades) y dejar que los valores críticos se ajusten por sí solos en cada contexto individual. En las ciencias sociales, un nivel de significancia común es $\\alpha=0.05$, y en las ciencias naturales, un estándar popular es $\\alpha=0.01$."
      ],
      "metadata": {
        "id": "pAq3_3zW4dlT"
      }
    },
    {
      "cell_type": "markdown",
      "metadata": {
        "tags": [
          "4_min"
        ],
        "id": "ErosxSs9se2S"
      },
      "source": [
        "#### ***Ejercicio 4.***\n",
        "\n",
        "#### ***4.1***\n",
        "\n",
        "Cambie los valores de $\\alpha$ en la función de abajo. ¿Observa algo con la hipótesis a medida que cambia los valores de $\\alpha$?\n",
        "\n",
        "Estas son las 2 hipótesis nulas (una para cada muestra):\n",
        "\n",
        "* $H_0:\\mu_B=57.35$\n",
        "* $H_0: \\mu_C=57.35$\n",
        "\n",
        "Comente."
      ]
    },
    {
      "cell_type": "code",
      "source": [
        "def p_valor_plot(alpha):\n",
        "    plt.figure(figsize = (15,6))\n",
        "    sns.lineplot(x = x, y = pdf)\n",
        "    plt.axvline(x = mu, color = \"red\")\n",
        "    plt.axvline(x = 62, color = \"cyan\")\n",
        "    plt.axvline(x = 69, color = \"green\")\n",
        "    plt.text(61.6,0.15,\"B=62\", fontsize = 12, color = \"cyan\")\n",
        "    plt.text(68.6,0.15,\"C=69\", fontsize = 12, color = \"green\")\n",
        "    plt.text(mu-2.5,0.15,\"Media poblacional: \\u03BC\", fontsize = 12, color = \"red\")\n",
        "    ##\n",
        "    percentil = nct.ppf(1-alpha, 199, 0, loc = mu, scale = se)\n",
        "    x_alpha = np.delete(x, np.where(x < percentil))\n",
        "    plt.fill_between(x_alpha, nct.pdf(x_alpha, df, nc, loc=mu, scale=se), color=\"pink\")\n",
        "    plt.show()\n",
        "    print(f'El valor crítico para \\u03B1={alpha :.2f} es {percentil:.3f} pies' )\n",
        "    if percentil < 62:\n",
        "        print(\"La hipótesis nula para la muestra B: RECHAZADA.\")\n",
        "    else:\n",
        "        print(\"La hipótesis nula para la muestra B: NO RECHAZADA.\")\n",
        "    if percentil < 69:\n",
        "        print(\"La hipótesis nula para la muestra C: RECHAZADA.\")\n",
        "    else:\n",
        "        print(\"La hipótesis nula para la muestra C: NO RECHAZADA.\")\n",
        "    return None\n",
        "\n",
        "p_valor_plot(0.01)"
      ],
      "metadata": {
        "id": "uWgvf9hEsp_J"
      },
      "execution_count": null,
      "outputs": []
    },
    {
      "cell_type": "code",
      "source": [
        "## Celda para probar\n",
        "p_valor_plot(0.04)"
      ],
      "metadata": {
        "id": "VsmXRdxoj5Q8"
      },
      "execution_count": null,
      "outputs": []
    },
    {
      "cell_type": "code",
      "source": [
        "## Celda para probar\n",
        "p_valor_plot(0.05)"
      ],
      "metadata": {
        "id": "iH2q4w-rB3St"
      },
      "execution_count": null,
      "outputs": []
    },
    {
      "cell_type": "code",
      "source": [
        "## Celda para probar\n",
        "p_valor_plot(0.10)"
      ],
      "metadata": {
        "id": "u4VM-iLx9Zig"
      },
      "execution_count": null,
      "outputs": []
    },
    {
      "cell_type": "code",
      "source": [
        "plt.figure(figsize = (15,6))\n",
        "sns.lineplot(x = x, y = pdf)\n",
        "plt.axvline(x = censo['HT'].mean(), color = \"red\")\n",
        "plt.axvline(x = 60, color = \"grey\")\n",
        "plt.axvline(x = 62, color = \"cyan\")\n",
        "plt.text(60.2,0.04,\"A\", fontsize = 15, color = \"grey\")\n",
        "plt.text(62.2,0.04,\"B\", fontsize = 15, color = \"cyan\")\n",
        "plt.text(mu+0.1,0.04,\"\\u03BC\", fontsize = 15, color = \"red\")\n",
        "##\n",
        "x_alpha = np.delete(x, np.where(x < 60))\n",
        "plt.fill_between(\n",
        "    x_alpha, nct.pdf(x_alpha, df, nc, loc=mu, scale=se), color=[(1, 0.27, 0.5, 0.5)])\n",
        "plt.title(\"Distribución de muestreo de la media muestral.\")\n",
        "plt.show()"
      ],
      "metadata": {
        "id": "m1W2N6n0yuiX"
      },
      "execution_count": null,
      "outputs": []
    },
    {
      "cell_type": "markdown",
      "metadata": {
        "tags": [
          "2_min"
        ],
        "id": "LQN_FAPBse2T"
      },
      "source": [
        "#### ***4.2***\n",
        "\n",
        "Complete el espacio en blanco: \"Cuanto ________ el $\\alpha$, más conservadora será su prueba y, por lo tanto, más difícil será rechazar la hipótesis nula\"."
      ]
    },
    {
      "cell_type": "markdown",
      "metadata": {
        "tags": [
          "ans_st"
        ],
        "id": "g8kAUWobse2T"
      },
      "source": [
        "**Respuesta.** Mientras *menor* sea $\\alpha$, más conservadora será la prueba y, por lo tanto, más difícil será rechazar la hipótesis nula.\n",
        "\n",
        "Puede pensarlo de esta manera: cuanto menor sea $\\alpha$, más lejos estará el valor crítico de $57.35$, lo que reduce las posibilidades de que la media de su muestra caiga más allá del valor crítico. Esto efectivamente hace que la prueba sea más estricta."
      ]
    },
    {
      "cell_type": "markdown",
      "metadata": {
        "tags": [
          "5_min"
        ],
        "id": "3mbzW_4ase2T"
      },
      "source": [
        "---\n",
        "\n",
        "## ***Comparar  $\\alpha$ y el $p$-valor.***\n",
        "\n",
        "---\n",
        "\n",
        "\n",
        "\n",
        "Estando ya familiarizado con el significado de los valores $\\alpha$ y $p$, tenemos la siguiente regla que permite interpretar resultados de una prueba de hipótesis.\n",
        "> Si $p$-valor$< \\alpha$, rechazar $H_0$ a favor de $H_a$. De lo contrario, no rechace $H_0$.\n",
        "\n",
        "Para ver gráficamente por qué funciona esta regla, podemos comparar el siguiente gráfico de una prueba $t$ que nos lleva a rechazar el valor nulo:"
      ]
    },
    {
      "cell_type": "code",
      "source": [
        "plt.figure(figsize = (15,6))\n",
        "sns.lineplot(x = x, y = pdf)\n",
        "##\n",
        "x_alpha = np.delete(x, np.where(x < 60))\n",
        "plt.fill_between(x_alpha, nct.pdf(x_alpha, df, nc, loc=mu, scale=se), color=\"magenta\")\n",
        "x_pval = np.delete(x, np.where(x < 62))\n",
        "plt.fill_between(x_pval, nct.pdf(x_pval, df, nc, loc=mu, scale=se), color=\"green\")\n",
        "plt.title(\"Rechazar la hipótesis nula\\nEl valor está más allá del valor crítico,\" +\n",
        "          \"por lo que se considera lo suficientemente extremo.\")\n",
        "plt.annotate(s=\"p-valor\", xy=(62.6, 0.008), size=20)\n",
        "plt.annotate(s=\"α\", xy=(60.6, 0.04), size=20)\n",
        "plt.annotate(s=\"p-valor< α\", xy=(66, 0.08), size=20)\n",
        "plt.show()"
      ],
      "metadata": {
        "id": "aLtuR65YMqOm"
      },
      "execution_count": null,
      "outputs": []
    },
    {
      "cell_type": "markdown",
      "source": [
        "con una prueba que NO nos permite rechazarla:\n",
        "\n"
      ],
      "metadata": {
        "id": "zUgrhq0HShYe"
      }
    },
    {
      "cell_type": "code",
      "source": [
        "plt.figure(figsize = (15,6))\n",
        "sns.lineplot(x = x, y = pdf)\n",
        "##\n",
        "x_alpha = np.delete(x, np.where(x < 62))\n",
        "plt.fill_between(x_alpha, nct.pdf(x_alpha, df, nc, loc=mu, scale=se), color= \"magenta\")\n",
        "x_pval = np.delete(x, np.where(x < 60))\n",
        "plt.fill_between(x_pval, nct.pdf(x_pval, df, nc, loc=mu, scale=se), color=[(1, 1, 0, 0.5)])\n",
        "plt.title(\"No se puede rechazar la hipótesis nula\\nEl valor no es lo suficientemente extremo.\")\n",
        "plt.annotate(s=\"α\", xy=(62.6, 0.008), size=20)\n",
        "plt.annotate(s=\"p-valor\", xy=(60.6, 0.04), size=20)\n",
        "plt.annotate(s=\"p-valor > α\", xy=(66, 0.08), size=20)\n",
        "plt.show()"
      ],
      "metadata": {
        "id": "oSa1hmVDJH_J"
      },
      "execution_count": null,
      "outputs": []
    },
    {
      "cell_type": "markdown",
      "source": [
        "***Por lo tanto, siempre tenga en cuenta que un $p$-valor menor que su nivel de significancia puede rechazar la hipótesis nula.***"
      ],
      "metadata": {
        "id": "2_5Owlm6S0xm"
      }
    },
    {
      "cell_type": "markdown",
      "metadata": {
        "tags": [
          "2_min"
        ],
        "id": "LsXUzZ66se2U"
      },
      "source": [
        "#### ***Pregunta.***\n",
        "\n",
        "Suponga que realizó una prueba $t$ - con un nivel de significancia de $\\alpha=0.01$. El $p$-valor resultante fue 0,02. ¿Rechaza la hipótesis nula o no la rechaza?"
      ]
    },
    {
      "cell_type": "markdown",
      "source": [
        "---\n",
        "\n",
        "## ***Cambiando de frente.*** <font/>\n",
        "\n",
        "---\n",
        "\n",
        "\n",
        "\n",
        "Hasta acá, se ha trabajado en los casos donde la media muestral es mayor que la media poblacional. Vamos a construir una prueba $t$ (prueba para la hipótesis alternativa opuesta) de la forma $H_a: \\mu_1 < 57.35$.\n",
        "\n",
        "El razonamiento es similar que el anterior, cambiando solo que el $p$-valor será definido como la probabilidad de obtener un valor *menor* o igual a $\\bar{X}$. El valor crítico se desplazaría entonces hacia la otra cola de la distribución:"
      ],
      "metadata": {
        "id": "EK_qWdUITfHb"
      }
    },
    {
      "cell_type": "code",
      "source": [
        "plt.figure(figsize = (15,6))\n",
        "sns.lineplot(x = x, y = pdf)\n",
        "##\n",
        "x_pval = np.delete(x, np.where(x > 54))\n",
        "plt.fill_between(x_pval, nct.pdf(x_pval, df, nc, loc=mu, scale=se), color= \"orange\")\n",
        "plt.title(\"Una prueba de cola izquierda\\nCuanto más a la izquierda el valor, más extremo es.\")\n",
        "plt.annotate(s=\"p\", xy=(52.9, 0.02), size=20)\n",
        "plt.show()"
      ],
      "metadata": {
        "id": "fXvp9jrLPqDl"
      },
      "execution_count": null,
      "outputs": []
    },
    {
      "cell_type": "markdown",
      "source": [
        "Finalmente, se puede tener una prueba $t$ a dos colas. En este caso, la hipótesis alternativa sería que $\\mu_1$ es mayor *o* menor que $\\mu$, es decir, $H_a: \\mu_1 \\neq \\mu$ y por lo tanto su $\\alpha$ se dividiría entre las dos colas:"
      ],
      "metadata": {
        "id": "O9jWp5_aTkRj"
      }
    },
    {
      "cell_type": "code",
      "source": [
        "fig, ax = plt.subplots(1,2, figsize = (15,6))\n",
        "ax[0].plot(x, nct.pdf(x, df, nc, loc=mu, scale=se), label=\"nct pdf\", color=\"blue\")\n",
        "ax[0].set_title(\"Prueba de dos colas\\nCuanto más lejos de la media, más extremo\")\n",
        "x_pval_left = np.delete(x, np.where(x > (mu - 3.5)))\n",
        "ax[0].fill_between(x_pval_left, nct.pdf(x_pval_left, df, nc, loc=mu, scale=se), color= \"cyan\")\n",
        "x_pval_right = np.delete(x, np.where(x < (mu + 3.5)))\n",
        "ax[0].fill_between(x_pval_right,nct.pdf(x_pval_right, df, nc, loc=mu, scale=se),color=\"cyan\")\n",
        "ax[0].annotate(s=\"p/2\", xy=(52.1, 0.01), size=20)\n",
        "ax[0].annotate(s=\"p/2\", xy=(60.9, 0.01), size=20)\n",
        "ax[1].plot(x, nct.pdf(x, df, nc, loc=mu, scale=se), label=\"nct pdf\", color=\"blue\")\n",
        "ax[1].set_title(\"Una prueba de dos colas\\nCuanto más lejos de la media, más extremo\")\n",
        "x_alpha_left = np.delete(x, np.where(x > (mu - 3.0)))\n",
        "ax[1].fill_between(x_alpha_left,nct.pdf(x_alpha_left, df, nc, loc=mu, scale=se),color=\"magenta\")\n",
        "x_alpha_right = np.delete(x, np.where(x < (mu + 3.0)))\n",
        "ax[1].fill_between(x_alpha_right,nct.pdf(x_alpha_right, df, nc, loc=mu, scale=se),\n",
        "                   color= \"magenta\")\n",
        "ax[1].annotate(s=\"α/2\", xy=(52.1, 0.01), size=20)\n",
        "ax[1].annotate(s=\"α/2\", xy=(60.9, 0.01), size=20)\n",
        "plt.show()"
      ],
      "metadata": {
        "id": "0W-ueH_oQrBO"
      },
      "execution_count": null,
      "outputs": []
    },
    {
      "cell_type": "markdown",
      "source": [
        "Luego, si una prueba $t$ de una cola tuviera un $\\alpha$ de 0.05, en la versión de dos colas todavía tendría un $\\alpha$ total de 0.05. Si la media de la muestra $\\bar{X}$ cae más allá de *cualquiera* de los dos valores críticos (uno a la izquierda y otro a la derecha), entonces la prueba indicará que se debe rechazar la hipótesis nula."
      ],
      "metadata": {
        "id": "hdsoYcnLT7xS"
      }
    },
    {
      "cell_type": "markdown",
      "source": [
        "---\n",
        "\n",
        "##  ***Encuesta de los árboles en el bosque del problema.*** </font>\n",
        "\n",
        "---\n",
        "\n",
        "\n",
        "\n",
        "Ahora que hemos explorado la situación detrás de las pruebas $t$, seguimos con el problema de negocios inicial. Ahora debe ser mucho más fácil de solucionar.\n",
        "\n",
        "A continuación tenemos una muestra de la encuesta que realizó el equipo en el bosque protegido de California:"
      ],
      "metadata": {
        "id": "2oexqXkoXonU"
      }
    },
    {
      "cell_type": "code",
      "source": [
        "## df:DataFrame donde tenemos la encuesta.\n",
        "df = pd.read_csv(url_base + \"forest_survey.csv\",header = 0,\n",
        "                 names=[\"CN\", \"HT\",\"SITREE\",\"common_name\",\"scientific_name\"],)\n",
        "df.head()"
      ],
      "metadata": {
        "id": "kyNand1vUwvN"
      },
      "execution_count": null,
      "outputs": []
    },
    {
      "cell_type": "code",
      "source": [
        "df.info()"
      ],
      "metadata": {
        "id": "5lBNMpeVOs-W"
      },
      "execution_count": null,
      "outputs": []
    },
    {
      "cell_type": "code",
      "source": [
        "df.describe().T"
      ],
      "metadata": {
        "id": "uhpeJF52N3Xp"
      },
      "execution_count": null,
      "outputs": []
    },
    {
      "cell_type": "code",
      "source": [
        "df['common_name'].unique(), len(df['common_name'].unique())"
      ],
      "metadata": {
        "id": "F2xo4b6XOTDt"
      },
      "execution_count": null,
      "outputs": []
    },
    {
      "cell_type": "markdown",
      "source": [
        "Para este problema usaremos la métrica [*site index*](https://en.wikipedia.org/wiki/Site_index) (`SITREE`), que es la altura del árbol corregida por la edad (entre más antiguo el árbol se tiene mayor altura). Podemos considerar la altura normalizada por edad en pies de una especie determinada en un lugar particular. Por lo general, varía entre ubicaciones según las condiciones del suelo, el clima, el grado de intervención humana, etc. Queremos comparar nuestros índices de sitios forestales con los índices de sitios promedio conocidos en California para 18 especies.\n",
        "\n",
        "Vamos a realizar múltiples pruebas $t$, una prueba por cada especie. Vamos a contrastar las hipótesis:\n",
        "\n",
        "* $H_0 : \\mu_{forest} = \\mu_{california}$\n",
        "* $H_a : \\mu_{forest} \\neq \\mu_{california}$\n",
        "\n",
        "donde $\\mu_{forest}$ es la media poblacional desconocida de los árboles del bosque según se deduce de la media muestral, y $\\mu_{california}$ es la media poblacional conocida de los árboles en todo el estado de California (esta media se calcula utilizando la base de datos de la encuesta Forest Inventory and Analysis). Por supuesto, $\\mu_{california}$ varía según la especie. La idea es que si terminamos rechazando la hipótesis nula, entonces este árbol en particular tiene características ecológicas que son diferentes a las del resto del estado de California, y que estas características pueden estar detrás de las diferencias en el crecimiento de especies particulares."
      ],
      "metadata": {
        "id": "RzTD5XjdX4GT"
      }
    },
    {
      "cell_type": "code",
      "source": [
        "## df_means_population: DataFrame con las medias poblacionales.\n",
        "df_means_population = pd.read_csv(url_base + \"means_california.csv\")\n",
        "df_means_population"
      ],
      "metadata": {
        "id": "e_yT8Dkg-iKI"
      },
      "execution_count": null,
      "outputs": []
    },
    {
      "cell_type": "markdown",
      "source": [
        "Tenemos las medias de la muestra por cada especie."
      ],
      "metadata": {
        "id": "95ip90xFTnjL"
      }
    },
    {
      "cell_type": "code",
      "source": [
        "## df_means_sample: DataFrame con las medias de las especies en la encuesta.\n",
        "df_means_sample = df.groupby([\"scientific_name\"], as_index = False)[\"SITREE\"].mean()\n",
        "df_means_sample"
      ],
      "metadata": {
        "id": "9p_0BOBYYyyN"
      },
      "execution_count": null,
      "outputs": []
    },
    {
      "cell_type": "code",
      "source": [
        "## DataFrame con las medias poblaciones y las de la encuenta.\n",
        "df_means_population.merge(df_means_sample, on = \"scientific_name\",\n",
        "                          suffixes=(\"_population\",\"_sample\"))"
      ],
      "metadata": {
        "id": "JveEn0xc_lJP"
      },
      "execution_count": null,
      "outputs": []
    },
    {
      "cell_type": "markdown",
      "source": [
        "***Realización de una prueba de hipótesis:***\n",
        "\n",
        "El estadístico de prueba es en este caso:\n",
        "\n",
        "$$t=\\frac{\\bar{x}-\\mu_{california}}{s/\\sqrt n}$$\n",
        "\n",
        "Y el correspondiente $p$-valor, es:\n",
        "\n",
        "$$p\\text{ -valor} = 2P(t_{n-1}\\leq t)$$"
      ],
      "metadata": {
        "id": "X8vHzaX8Uwho"
      }
    },
    {
      "cell_type": "code",
      "source": [
        "## datos del árbol \"Abies concolor\" en la encuesta (muestra!!! OJO... PUES...).\n",
        "x = df.loc[df[\"scientific_name\"]== \"Abies concolor\",\"SITREE\"]\n",
        "x"
      ],
      "metadata": {
        "id": "agKDG-6QKmti"
      },
      "execution_count": null,
      "outputs": []
    },
    {
      "cell_type": "code",
      "source": [
        "x_barra, s, n = x.mean(),x.std(), len(x) ## media,desviación y tamaño de muestra\n",
        "                                         ## datos del árbol \"Abies concolor\" en la encuesta.\n",
        "(x_barra,s, n)"
      ],
      "metadata": {
        "id": "0de89SLEPdR5"
      },
      "execution_count": null,
      "outputs": []
    },
    {
      "cell_type": "code",
      "source": [
        "## Suponemos la hipótesis nula verdadera.\n",
        "mu_california = df_means_population['SITREE'][0]\n",
        "mu_california"
      ],
      "metadata": {
        "id": "w8dzN5htV6uy"
      },
      "execution_count": null,
      "outputs": []
    },
    {
      "cell_type": "code",
      "source": [
        "## Estadístico de prueba t.\n",
        "t_value = (x_barra-mu_california)/(s/np.sqrt(n))\n",
        "t_value"
      ],
      "metadata": {
        "id": "2oh_HzhkPYul"
      },
      "execution_count": null,
      "outputs": []
    },
    {
      "cell_type": "code",
      "source": [
        "## p-valor correspondiente\n",
        "p_valor = 2*t.cdf(t_value,n-1)\n",
        "print(\"El p-valor para la prueba es: {:.4f}\".format(p_valor))"
      ],
      "metadata": {
        "id": "_g953mbsZAzE"
      },
      "execution_count": null,
      "outputs": []
    },
    {
      "cell_type": "markdown",
      "source": [
        "Considerando $\\alpha = 0.05$, observamos que ***no encontramos diferencias significativas entre la media de la encuesta y la media poblacional*** para la especie de arból ***Abies concolor***."
      ],
      "metadata": {
        "id": "6L7jKtLZa_oj"
      }
    },
    {
      "cell_type": "code",
      "source": [
        "## Caso t no central\n",
        "p_valor_no_central = 2*nct.cdf(x_barra,n-1, 0, loc = mu_california, scale = s/np.sqrt(100))\n",
        "print(\"El p-valor para la prueba es: {:.4f}\".format(p_valor_no_central))"
      ],
      "metadata": {
        "id": "iCYfeTvKOP6O"
      },
      "execution_count": null,
      "outputs": []
    },
    {
      "cell_type": "markdown",
      "source": [
        "Nuevamente **NO** rechazamos $H_{0}$."
      ],
      "metadata": {
        "id": "Tve_6KUWc2VF"
      }
    },
    {
      "cell_type": "markdown",
      "source": [
        "### Con la ayuda de `Python`.\n",
        "\n",
        "Vamos a hacer uso de [`pingouin.ttest`](https://pingouin-stats.org/generated/pingouin.ttest.html) para realizar la misma prueba anterior"
      ],
      "metadata": {
        "id": "YSfL-rhqTzqD"
      }
    },
    {
      "cell_type": "code",
      "source": [
        "ttest(x,mu_california).iloc[:,0:5]"
      ],
      "metadata": {
        "id": "RX2FHCCfUW0n"
      },
      "execution_count": null,
      "outputs": []
    },
    {
      "cell_type": "markdown",
      "source": [
        "#### ***Ejercicio 5.***\n",
        "\n",
        "Realice todas las pruebas $t$ (una por cada especie). ¿Qué especies muestran una diferencia estadísticamente significativa a un nivel de significancia de 0.05?"
      ],
      "metadata": {
        "id": "FOLEeQB3TVis"
      }
    },
    {
      "cell_type": "code",
      "source": [
        "df_means_sample['scientific_name']"
      ],
      "metadata": {
        "id": "-7N2zwJZsktq"
      },
      "execution_count": null,
      "outputs": []
    },
    {
      "cell_type": "code",
      "source": [
        "df_fin = pd.DataFrame()\n",
        "##\n",
        "for i,tree in enumerate(df_means_sample['scientific_name']):\n",
        "  x = df.loc[df[\"scientific_name\"]== tree,\"SITREE\"]\n",
        "  y = ttest(x,df_means_population[\"SITREE\"][i]).iloc[:,0:5].rename(index={\"T-test\":tree})\n",
        "  df_fin = df_fin.append(y)\n",
        "\n",
        "df_fin"
      ],
      "metadata": {
        "id": "St2bYWT-Avb2"
      },
      "execution_count": null,
      "outputs": []
    },
    {
      "cell_type": "code",
      "source": [
        "df_fin.loc[df_fin[\"p-val\"]<0.05]"
      ],
      "metadata": {
        "id": "XdMdBFpTcsGG"
      },
      "execution_count": null,
      "outputs": []
    },
    {
      "cell_type": "markdown",
      "source": [
        "Si observa detenidamente, el $p$-valor para *Sequoia sempervirens* es pequeño. Sin embargo, la media muestral para esta especie en este bosque es $\\bar{X}=95,49 \\text{ ft}$, mientras que la media en todo California es $\\mu_{california}=101,33 \\text{ ft}$. Esta diferencia es ligeramente mayor de 5 pies, lo que no parece mucho dado que las secuoyas se encuentran entre los árboles más altos del mundo."
      ],
      "metadata": {
        "id": "gCVktQ_deBjo"
      }
    },
    {
      "cell_type": "markdown",
      "metadata": {
        "id": "4Sm485Wg7Xh8",
        "tags": [
          "3_min"
        ]
      },
      "source": [
        "## ***Conclusiones:***\n",
        "---\n",
        "\n",
        "\n",
        "Resumiendo:\n",
        "\n",
        "1. Se explicó el concepto de prueba de hipótesis. Esta herramienta que ayudará con problemas que involucran la detección de diferencias entre poblaciones.\n",
        "\n",
        "2. Comprendió la importancia de reconocer cuándo los cambios en nuestros datos representan una variabilidad normal o no, y cómo la prueba de hipótesis puede ayudarnos con este problema.\n",
        "\n",
        "3. Aprendió a interpretar el resultado de una prueba de hipótesis usando los $p$-valores en el contexto de distribuciones muestrales y sus aproximaciones con la distribución $t$. El concepto de valores $p$ aparece en muchos modelos que se utilizan en la ciencia de datos y también los veremos en varios casos futuros."
      ]
    },
    {
      "cell_type": "markdown",
      "metadata": {
        "id": "sFAFzGxrse2V"
      },
      "source": [
        "## ***Créditos:***\n",
        "---\n",
        "\n",
        "\"Giant sequoias in Sequoia National Park 02 2013\", Sep 15, 2013, Tuxyso (Wikimedia Commons), CC BY-SA 3.0, https://commons.wikimedia.org/wiki/File:Giant_sequoias_in_Sequoia_National_Park_02_2013.jpg\n",
        "\n",
        "\"FIA Datamart\", 2021, U.S. Department of Agriculture, Forest Service, [Public Domain](https://www.usda.gov/policies-and-links), https://apps.fs.usda.gov/fia/datamart/CSV/datamart_csv.html."
      ]
    }
  ],
  "metadata": {
    "c1_recart": "6.10.0-57c20131aabc1dc2a8c675852d80a7da",
    "colab": {
      "provenance": [],
      "include_colab_link": true
    },
    "language_info": {
      "name": "python"
    },
    "kernelspec": {
      "name": "python3",
      "display_name": "Python 3"
    }
  },
  "nbformat": 4,
  "nbformat_minor": 0
}